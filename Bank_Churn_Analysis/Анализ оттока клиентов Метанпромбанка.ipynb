{
 "cells": [
  {
   "cell_type": "markdown",
   "metadata": {},
   "source": [
    "# Анализ оттока клиентов Метанпромбанка"
   ]
  },
  {
   "cell_type": "markdown",
   "metadata": {},
   "source": [
    "# Материалы:\n",
    "\n",
    "* [Презентация](https://disk.yandex.ru/i/RS_q_FpEGB4zcw)"
   ]
  },
  {
   "cell_type": "markdown",
   "metadata": {},
   "source": [
    "- Банк в срочном порядке ищет аналитиков уверенным владением «Python». Главной задачей которых станет анализ оттока клиентов. Анализ покажет, какие клиенты уходят из банка, а так же поможет составить сегменты клиентов, которые склонны уходить из банка."
   ]
  },
  {
   "cell_type": "markdown",
   "metadata": {},
   "source": [
    " **Задачи проекта:**\n",
    " \n",
    "Проанализировать клиентов регионального банка и выделить сегменты клиентов, которые склонны уходить из банка.\n",
    " \n",
    "- Провести исследовательский анализ, включающий исследование корреляций и портретов клиентов;\n",
    "\n",
    "- Сформулировать и проверить статистические гипотезы:\n",
    "\n",
    "  - Проверить гипотезу различия дохода между теми клиентами, которые ушли и теми, которые остались;\n",
    "  \n",
    "  - Самостоятельно сформулировать и проверить как минимум еще одну статистическую гипотезу относительно представленных данных, которая поможет внести ясность в исследование;\n",
    "  \n",
    "- Сделать выводы о том, какие признаки стратегическим образом влияют на отток и какие значения или интервалы этих признаков связаны с оттоком;\n",
    "\n",
    "- Объеденяя признаки отточности, выделить не мелкие, но компактные высокоотточные сегменты, приоритизировать их;\n",
    "\n",
    "- Отобрать из выделенных сегментов лучшие и дать по ним рекомендации;\n",
    "\n",
    "- Подготовить презентацию по всем ключевым моментам."
   ]
  },
  {
   "cell_type": "markdown",
   "metadata": {},
   "source": [
    "**Описание данных:**\n",
    "\n",
    "Датасет содержит данные о клиентах банка «Метанпром». Банк располагается в Ярославле и областных городах: Ростов Великий и Рыбинск. "
   ]
  },
  {
   "cell_type": "markdown",
   "metadata": {},
   "source": [
    "- `USERID` — идентификатор пользователя;\n",
    "\n",
    "- `score` - баллы кредитного скоринга;\n",
    "\n",
    "- `city` - город;\n",
    "\n",
    "- `gender` - пол;\n",
    "\n",
    "- `age` - возраст;\n",
    "\n",
    "- `equity` - количество баллов собственности;\n",
    "\n",
    "- `balance` - баланс на счёте;\n",
    "\n",
    "- `products` - количество продуктов, которыми пользуется клиент;\n",
    "\n",
    "- `credit_card` - есть ли кредитная карта;\n",
    "\n",
    "- `last_activity` - активный клиент;\n",
    "\n",
    "- `EST_SALARY` - оценочный доход клиента;\n",
    "\n",
    "- `сhurn` - признак оттока."
   ]
  },
  {
   "cell_type": "markdown",
   "metadata": {},
   "source": [
    " **План проекта:**\n",
    "\n",
    "1. Загрузка данных. Изучение общей информации.\n",
    "\n",
    "---\n",
    "2. Предобработка данных\n",
    "\n",
    "   2.1 Приведение названия столбцов к стилю snake_case;\n",
    "   \n",
    "   2.2 Обработка пропусков;\n",
    "   \n",
    "   2.3 Преобразование данных к нужным типам;\n",
    "   \n",
    "   2.4 Проверка на дубликаты;\n",
    "   \n",
    "   2.5 Проверка на выбросы.\n",
    "  \n",
    "  \n",
    "---\n",
    "3. Исследовательский анализ данных\n",
    "\n",
    "   3.1 Распределение признаков по оттоку клиентов в разрезе различных параметров;\n",
    "   \n",
    "   3.2 Составление портретов клиентов склонных к оттоку и нет;\n",
    "   \n",
    "   3.3 Корреляционный анализ признака churn с другими признаками. Матрица корреляций.\n",
    "\n",
    " \n",
    "---\n",
    "4. Проверка статистических гипотез\n",
    "\n",
    "   4.1 Гипотеза о равенстве доходов между ушедшими и оставшимися клиентами;\n",
    "   \n",
    "   4.2 Гипотеза о влиянии баллов собственности на отток клиентов;\n",
    "   \n",
    "   4.3 Гипотеза о влиянии количества используемых продуктов на отток клиентов.\n",
    "\n",
    "\n",
    "---\n",
    "5. Промежуточные выводы\n",
    "\n",
    "\n",
    "---\n",
    "6. Сегментация пользователей банка:\n",
    "\n",
    "   6.1 Сегментация пользователей банка по трем признакам;\n",
    "   \n",
    "   6.2 Приоритизация сегментов\n",
    "  \n",
    "---\n",
    "7. Выводы и рекомендации для заказчика по каждому из сегментов.\n"
   ]
  },
  {
   "cell_type": "markdown",
   "metadata": {},
   "source": [
    "# 1. Загрузка данных. Изучение общей информации"
   ]
  },
  {
   "cell_type": "code",
   "execution_count": 1,
   "metadata": {},
   "outputs": [
    {
     "name": "stdout",
     "output_type": "stream",
     "text": [
      "Requirement already satisfied: phik in /opt/conda/lib/python3.9/site-packages (0.12.4)\n",
      "Requirement already satisfied: numpy>=1.18.0 in /opt/conda/lib/python3.9/site-packages (from phik) (1.21.1)\n",
      "Requirement already satisfied: scipy>=1.5.2 in /opt/conda/lib/python3.9/site-packages (from phik) (1.9.1)\n",
      "Requirement already satisfied: matplotlib>=2.2.3 in /opt/conda/lib/python3.9/site-packages (from phik) (3.3.4)\n",
      "Requirement already satisfied: pandas>=0.25.1 in /opt/conda/lib/python3.9/site-packages (from phik) (1.2.4)\n",
      "Requirement already satisfied: joblib>=0.14.1 in /opt/conda/lib/python3.9/site-packages (from phik) (1.1.0)\n",
      "Requirement already satisfied: cycler>=0.10 in /opt/conda/lib/python3.9/site-packages (from matplotlib>=2.2.3->phik) (0.11.0)\n",
      "Requirement already satisfied: pyparsing!=2.0.4,!=2.1.2,!=2.1.6,>=2.0.3 in /opt/conda/lib/python3.9/site-packages (from matplotlib>=2.2.3->phik) (2.4.7)\n",
      "Requirement already satisfied: pillow>=6.2.0 in /opt/conda/lib/python3.9/site-packages (from matplotlib>=2.2.3->phik) (8.4.0)\n",
      "Requirement already satisfied: python-dateutil>=2.1 in /opt/conda/lib/python3.9/site-packages (from matplotlib>=2.2.3->phik) (2.8.1)\n",
      "Requirement already satisfied: kiwisolver>=1.0.1 in /opt/conda/lib/python3.9/site-packages (from matplotlib>=2.2.3->phik) (1.4.4)\n",
      "Requirement already satisfied: pytz>=2017.3 in /opt/conda/lib/python3.9/site-packages (from pandas>=0.25.1->phik) (2021.1)\n",
      "Requirement already satisfied: six>=1.5 in /opt/conda/lib/python3.9/site-packages (from python-dateutil>=2.1->matplotlib>=2.2.3->phik) (1.16.0)\n"
     ]
    }
   ],
   "source": [
    "# Устанавливаем библиотеку phik для расчета корреляции между переменными\n",
    "\n",
    "!pip install phik"
   ]
  },
  {
   "cell_type": "code",
   "execution_count": 2,
   "metadata": {},
   "outputs": [],
   "source": [
    "import pandas as pd\n",
    "from itertools import combinations\n",
    "import matplotlib.pyplot as plt\n",
    "import seaborn as sns\n",
    "sns.set(rc={'figure.figsize':(15, 6)})\n",
    "import phik\n",
    "from phik.report import plot_correlation_matrix\n",
    "import numpy as np\n",
    "import scipy.stats as st"
   ]
  },
  {
   "cell_type": "code",
   "execution_count": 3,
   "metadata": {},
   "outputs": [],
   "source": [
    "# загрузка данных\n",
    "\n",
    "bank_scrooge = pd.read_csv('https://code.s3.yandex.net/datasets/bank_scrooge.csv')"
   ]
  },
  {
   "cell_type": "code",
   "execution_count": 4,
   "metadata": {},
   "outputs": [
    {
     "data": {
      "text/html": [
       "<div>\n",
       "<style scoped>\n",
       "    .dataframe tbody tr th:only-of-type {\n",
       "        vertical-align: middle;\n",
       "    }\n",
       "\n",
       "    .dataframe tbody tr th {\n",
       "        vertical-align: top;\n",
       "    }\n",
       "\n",
       "    .dataframe thead th {\n",
       "        text-align: right;\n",
       "    }\n",
       "</style>\n",
       "<table border=\"1\" class=\"dataframe\">\n",
       "  <thead>\n",
       "    <tr style=\"text-align: right;\">\n",
       "      <th></th>\n",
       "      <th>USERID</th>\n",
       "      <th>score</th>\n",
       "      <th>city</th>\n",
       "      <th>gender</th>\n",
       "      <th>age</th>\n",
       "      <th>equity</th>\n",
       "      <th>balance</th>\n",
       "      <th>products</th>\n",
       "      <th>credit_card</th>\n",
       "      <th>last_activity</th>\n",
       "      <th>EST_SALARY</th>\n",
       "      <th>churn</th>\n",
       "    </tr>\n",
       "  </thead>\n",
       "  <tbody>\n",
       "    <tr>\n",
       "      <th>0</th>\n",
       "      <td>183012</td>\n",
       "      <td>850.0</td>\n",
       "      <td>Рыбинск</td>\n",
       "      <td>Ж</td>\n",
       "      <td>25.0</td>\n",
       "      <td>1</td>\n",
       "      <td>59214.82</td>\n",
       "      <td>2</td>\n",
       "      <td>0</td>\n",
       "      <td>1</td>\n",
       "      <td>75719.14</td>\n",
       "      <td>1</td>\n",
       "    </tr>\n",
       "    <tr>\n",
       "      <th>1</th>\n",
       "      <td>146556</td>\n",
       "      <td>861.0</td>\n",
       "      <td>Рыбинск</td>\n",
       "      <td>Ж</td>\n",
       "      <td>37.0</td>\n",
       "      <td>5</td>\n",
       "      <td>850594.33</td>\n",
       "      <td>3</td>\n",
       "      <td>1</td>\n",
       "      <td>0</td>\n",
       "      <td>86621.77</td>\n",
       "      <td>0</td>\n",
       "    </tr>\n",
       "    <tr>\n",
       "      <th>2</th>\n",
       "      <td>120722</td>\n",
       "      <td>892.0</td>\n",
       "      <td>Рыбинск</td>\n",
       "      <td>Ж</td>\n",
       "      <td>30.0</td>\n",
       "      <td>0</td>\n",
       "      <td>NaN</td>\n",
       "      <td>1</td>\n",
       "      <td>1</td>\n",
       "      <td>1</td>\n",
       "      <td>107683.34</td>\n",
       "      <td>0</td>\n",
       "    </tr>\n",
       "    <tr>\n",
       "      <th>3</th>\n",
       "      <td>225363</td>\n",
       "      <td>866.0</td>\n",
       "      <td>Ярославль</td>\n",
       "      <td>Ж</td>\n",
       "      <td>51.0</td>\n",
       "      <td>5</td>\n",
       "      <td>1524746.26</td>\n",
       "      <td>2</td>\n",
       "      <td>0</td>\n",
       "      <td>1</td>\n",
       "      <td>174423.53</td>\n",
       "      <td>1</td>\n",
       "    </tr>\n",
       "    <tr>\n",
       "      <th>4</th>\n",
       "      <td>157978</td>\n",
       "      <td>730.0</td>\n",
       "      <td>Ярославль</td>\n",
       "      <td>М</td>\n",
       "      <td>34.0</td>\n",
       "      <td>5</td>\n",
       "      <td>174.00</td>\n",
       "      <td>1</td>\n",
       "      <td>1</td>\n",
       "      <td>0</td>\n",
       "      <td>67353.16</td>\n",
       "      <td>1</td>\n",
       "    </tr>\n",
       "  </tbody>\n",
       "</table>\n",
       "</div>"
      ],
      "text/plain": [
       "   USERID  score       city gender   age  equity     balance  products  \\\n",
       "0  183012  850.0    Рыбинск      Ж  25.0       1    59214.82         2   \n",
       "1  146556  861.0    Рыбинск      Ж  37.0       5   850594.33         3   \n",
       "2  120722  892.0    Рыбинск      Ж  30.0       0         NaN         1   \n",
       "3  225363  866.0  Ярославль      Ж  51.0       5  1524746.26         2   \n",
       "4  157978  730.0  Ярославль      М  34.0       5      174.00         1   \n",
       "\n",
       "   credit_card  last_activity  EST_SALARY  churn  \n",
       "0            0              1    75719.14      1  \n",
       "1            1              0    86621.77      0  \n",
       "2            1              1   107683.34      0  \n",
       "3            0              1   174423.53      1  \n",
       "4            1              0    67353.16      1  "
      ]
     },
     "metadata": {},
     "output_type": "display_data"
    },
    {
     "name": "stdout",
     "output_type": "stream",
     "text": [
      "<class 'pandas.core.frame.DataFrame'>\n",
      "RangeIndex: 10000 entries, 0 to 9999\n",
      "Data columns (total 12 columns):\n",
      " #   Column         Non-Null Count  Dtype  \n",
      "---  ------         --------------  -----  \n",
      " 0   USERID         10000 non-null  int64  \n",
      " 1   score          10000 non-null  float64\n",
      " 2   city           10000 non-null  object \n",
      " 3   gender         10000 non-null  object \n",
      " 4   age            9974 non-null   float64\n",
      " 5   equity         10000 non-null  int64  \n",
      " 6   balance        7705 non-null   float64\n",
      " 7   products       10000 non-null  int64  \n",
      " 8   credit_card    10000 non-null  int64  \n",
      " 9   last_activity  10000 non-null  int64  \n",
      " 10  EST_SALARY     10000 non-null  float64\n",
      " 11  churn          10000 non-null  int64  \n",
      "dtypes: float64(4), int64(6), object(2)\n",
      "memory usage: 937.6+ KB\n"
     ]
    },
    {
     "data": {
      "text/plain": [
       "None"
      ]
     },
     "metadata": {},
     "output_type": "display_data"
    },
    {
     "data": {
      "text/plain": [
       "(10000, 12)"
      ]
     },
     "execution_count": 4,
     "metadata": {},
     "output_type": "execute_result"
    }
   ],
   "source": [
    "# просмотр данных:\n",
    "\n",
    "display(bank_scrooge.head())\n",
    "display(bank_scrooge.info())\n",
    "bank_scrooge.shape"
   ]
  },
  {
   "cell_type": "markdown",
   "metadata": {},
   "source": [
    "**Выводы по 1 разделу:**\n",
    "\n",
    "- Всего в данных 10000 строк и 12 столбцов;\n",
    "\n",
    "- Название колонок USERID, EST_SALARY имеют нарушение стиля. Их необходимо привести к виду snake_case;\n",
    "\n",
    "- Есть пропуски в 2 столбцах;\n",
    "\n",
    "- Столбцы score и age нужно привести к int, так как там содержатся целые числа."
   ]
  },
  {
   "cell_type": "markdown",
   "metadata": {},
   "source": [
    "# 2. Предобработка данных"
   ]
  },
  {
   "cell_type": "markdown",
   "metadata": {},
   "source": [
    "# 2.1 Приведение названия столбцов к стилю  snake_case"
   ]
  },
  {
   "cell_type": "code",
   "execution_count": 5,
   "metadata": {},
   "outputs": [
    {
     "data": {
      "text/plain": [
       "Index(['user_id', 'score', 'city', 'gender', 'age', 'equity', 'balance',\n",
       "       'products', 'credit_card', 'last_activity', 'est_salary', 'churn'],\n",
       "      dtype='object')"
      ]
     },
     "execution_count": 5,
     "metadata": {},
     "output_type": "execute_result"
    }
   ],
   "source": [
    "# приведем название столбцов к нижнему регистру\n",
    "\n",
    "bank_scrooge.columns = bank_scrooge.columns.str.lower()\n",
    "\n",
    "# переименуем столбец userid\n",
    "\n",
    "bank_scrooge=bank_scrooge.rename(columns={'userid':'user_id'}) \n",
    "\n",
    "# проверим\n",
    "\n",
    "bank_scrooge.columns"
   ]
  },
  {
   "cell_type": "markdown",
   "metadata": {},
   "source": [
    "# 2.2 Обработка пропусков"
   ]
  },
  {
   "cell_type": "code",
   "execution_count": 6,
   "metadata": {},
   "outputs": [
    {
     "name": "stdout",
     "output_type": "stream",
     "text": [
      "user_id           0.00\n",
      "score             0.00\n",
      "city              0.00\n",
      "gender            0.00\n",
      "age               0.26\n",
      "equity            0.00\n",
      "balance          22.95\n",
      "products          0.00\n",
      "credit_card       0.00\n",
      "last_activity     0.00\n",
      "est_salary        0.00\n",
      "churn             0.00\n",
      "dtype: float64\n"
     ]
    }
   ],
   "source": [
    "# Рассчитаем количество пропусков в процентах\n",
    "\n",
    "percent = bank_scrooge.isna().sum() * 100 / len(bank_scrooge)\n",
    "print(percent.round(2))"
   ]
  },
  {
   "cell_type": "markdown",
   "metadata": {},
   "source": [
    "Так как пропусков в столбце `age` немного: менее 1 процента. Удалим их."
   ]
  },
  {
   "cell_type": "code",
   "execution_count": 7,
   "metadata": {},
   "outputs": [],
   "source": [
    "bank_scrooge = bank_scrooge.dropna(subset=['age'])"
   ]
  },
  {
   "cell_type": "code",
   "execution_count": 8,
   "metadata": {},
   "outputs": [
    {
     "name": "stdout",
     "output_type": "stream",
     "text": [
      "Размер DataFrame после удаления: (9974, 12)\n"
     ]
    }
   ],
   "source": [
    "# проверим сколько строк осталось\n",
    "\n",
    "print(\"Размер DataFrame после удаления:\", bank_scrooge.shape)"
   ]
  },
  {
   "cell_type": "markdown",
   "metadata": {},
   "source": [
    "В столбце `balance` - пропущено данных более 22%. Удалить или заполнить такое количество пропусков невозможно.\n",
    "\n",
    "Оставим пропуски как есть."
   ]
  },
  {
   "cell_type": "markdown",
   "metadata": {},
   "source": [
    "# 2.3 Преобразование данных к нужным типам"
   ]
  },
  {
   "cell_type": "code",
   "execution_count": 9,
   "metadata": {},
   "outputs": [],
   "source": [
    "# преобразуем тип данных в столбце score\n",
    "\n",
    "bank_scrooge['score'] = bank_scrooge['score'].astype('int')"
   ]
  },
  {
   "cell_type": "code",
   "execution_count": 10,
   "metadata": {},
   "outputs": [],
   "source": [
    "# преобразуем тип данных в столбце age\n",
    "\n",
    "bank_scrooge['age'] = bank_scrooge['age'].astype('int')"
   ]
  },
  {
   "cell_type": "code",
   "execution_count": 11,
   "metadata": {},
   "outputs": [
    {
     "data": {
      "text/plain": [
       "user_id            int64\n",
       "score              int64\n",
       "city              object\n",
       "gender            object\n",
       "age                int64\n",
       "equity             int64\n",
       "balance          float64\n",
       "products           int64\n",
       "credit_card        int64\n",
       "last_activity      int64\n",
       "est_salary       float64\n",
       "churn              int64\n",
       "dtype: object"
      ]
     },
     "execution_count": 11,
     "metadata": {},
     "output_type": "execute_result"
    }
   ],
   "source": [
    "# проверим тип данных в столбцах\n",
    "\n",
    "bank_scrooge.dtypes"
   ]
  },
  {
   "cell_type": "markdown",
   "metadata": {},
   "source": [
    "# 2.4 Проверка на дубликаты"
   ]
  },
  {
   "cell_type": "code",
   "execution_count": 12,
   "metadata": {},
   "outputs": [
    {
     "name": "stdout",
     "output_type": "stream",
     "text": [
      "\u001b[1mКоличество дубликатов в таблице:\u001b[0m 0\n"
     ]
    }
   ],
   "source": [
    "# проверка на явные дубликаты\n",
    "\n",
    "print('\\033[1m' + 'Количество дубликатов в таблице:' + '\\033[0m',bank_scrooge.duplicated().sum())"
   ]
  },
  {
   "cell_type": "markdown",
   "metadata": {},
   "source": [
    "Явных дубликатов нет. Проверим на неявные дубликаты."
   ]
  },
  {
   "cell_type": "code",
   "execution_count": 13,
   "metadata": {},
   "outputs": [
    {
     "name": "stdout",
     "output_type": "stream",
     "text": [
      "\u001b[1mКоличество дубликатов в таблице:\u001b[0m 50\n"
     ]
    }
   ],
   "source": [
    "# проверими данные на неявные дубликаты по столбцу user_id\n",
    "\n",
    "print('\\033[1m' + 'Количество дубликатов в таблице:' + '\\033[0m',bank_scrooge.duplicated('user_id').sum())"
   ]
  },
  {
   "cell_type": "code",
   "execution_count": 14,
   "metadata": {},
   "outputs": [
    {
     "data": {
      "text/html": [
       "<div>\n",
       "<style scoped>\n",
       "    .dataframe tbody tr th:only-of-type {\n",
       "        vertical-align: middle;\n",
       "    }\n",
       "\n",
       "    .dataframe tbody tr th {\n",
       "        vertical-align: top;\n",
       "    }\n",
       "\n",
       "    .dataframe thead th {\n",
       "        text-align: right;\n",
       "    }\n",
       "</style>\n",
       "<table border=\"1\" class=\"dataframe\">\n",
       "  <thead>\n",
       "    <tr style=\"text-align: right;\">\n",
       "      <th></th>\n",
       "      <th>user_id</th>\n",
       "      <th>score</th>\n",
       "      <th>city</th>\n",
       "      <th>gender</th>\n",
       "      <th>age</th>\n",
       "      <th>equity</th>\n",
       "      <th>balance</th>\n",
       "      <th>products</th>\n",
       "      <th>credit_card</th>\n",
       "      <th>last_activity</th>\n",
       "      <th>est_salary</th>\n",
       "      <th>churn</th>\n",
       "    </tr>\n",
       "  </thead>\n",
       "  <tbody>\n",
       "    <tr>\n",
       "      <th>1893</th>\n",
       "      <td>116540</td>\n",
       "      <td>883</td>\n",
       "      <td>Рыбинск</td>\n",
       "      <td>Ж</td>\n",
       "      <td>55</td>\n",
       "      <td>1</td>\n",
       "      <td>362756.49</td>\n",
       "      <td>3</td>\n",
       "      <td>0</td>\n",
       "      <td>1</td>\n",
       "      <td>175920.48</td>\n",
       "      <td>1</td>\n",
       "    </tr>\n",
       "    <tr>\n",
       "      <th>7694</th>\n",
       "      <td>116540</td>\n",
       "      <td>887</td>\n",
       "      <td>Ярославль</td>\n",
       "      <td>Ж</td>\n",
       "      <td>38</td>\n",
       "      <td>0</td>\n",
       "      <td>NaN</td>\n",
       "      <td>1</td>\n",
       "      <td>0</td>\n",
       "      <td>1</td>\n",
       "      <td>119247.61</td>\n",
       "      <td>0</td>\n",
       "    </tr>\n",
       "    <tr>\n",
       "      <th>4866</th>\n",
       "      <td>117943</td>\n",
       "      <td>855</td>\n",
       "      <td>Рыбинск</td>\n",
       "      <td>Ж</td>\n",
       "      <td>32</td>\n",
       "      <td>6</td>\n",
       "      <td>1036832.93</td>\n",
       "      <td>4</td>\n",
       "      <td>1</td>\n",
       "      <td>1</td>\n",
       "      <td>107792.71</td>\n",
       "      <td>1</td>\n",
       "    </tr>\n",
       "    <tr>\n",
       "      <th>7542</th>\n",
       "      <td>117943</td>\n",
       "      <td>880</td>\n",
       "      <td>Ярославль</td>\n",
       "      <td>Ж</td>\n",
       "      <td>40</td>\n",
       "      <td>0</td>\n",
       "      <td>NaN</td>\n",
       "      <td>1</td>\n",
       "      <td>1</td>\n",
       "      <td>0</td>\n",
       "      <td>137718.93</td>\n",
       "      <td>0</td>\n",
       "    </tr>\n",
       "    <tr>\n",
       "      <th>5863</th>\n",
       "      <td>120258</td>\n",
       "      <td>908</td>\n",
       "      <td>Рыбинск</td>\n",
       "      <td>Ж</td>\n",
       "      <td>38</td>\n",
       "      <td>4</td>\n",
       "      <td>2213581.63</td>\n",
       "      <td>2</td>\n",
       "      <td>0</td>\n",
       "      <td>1</td>\n",
       "      <td>160327.77</td>\n",
       "      <td>1</td>\n",
       "    </tr>\n",
       "    <tr>\n",
       "      <th>...</th>\n",
       "      <td>...</td>\n",
       "      <td>...</td>\n",
       "      <td>...</td>\n",
       "      <td>...</td>\n",
       "      <td>...</td>\n",
       "      <td>...</td>\n",
       "      <td>...</td>\n",
       "      <td>...</td>\n",
       "      <td>...</td>\n",
       "      <td>...</td>\n",
       "      <td>...</td>\n",
       "      <td>...</td>\n",
       "    </tr>\n",
       "    <tr>\n",
       "      <th>2302</th>\n",
       "      <td>220816</td>\n",
       "      <td>934</td>\n",
       "      <td>Рыбинск</td>\n",
       "      <td>Ж</td>\n",
       "      <td>74</td>\n",
       "      <td>5</td>\n",
       "      <td>1294285.39</td>\n",
       "      <td>3</td>\n",
       "      <td>1</td>\n",
       "      <td>0</td>\n",
       "      <td>95606.80</td>\n",
       "      <td>0</td>\n",
       "    </tr>\n",
       "    <tr>\n",
       "      <th>2597</th>\n",
       "      <td>226719</td>\n",
       "      <td>990</td>\n",
       "      <td>Ярославль</td>\n",
       "      <td>М</td>\n",
       "      <td>37</td>\n",
       "      <td>4</td>\n",
       "      <td>14648692.14</td>\n",
       "      <td>2</td>\n",
       "      <td>0</td>\n",
       "      <td>0</td>\n",
       "      <td>934412.61</td>\n",
       "      <td>1</td>\n",
       "    </tr>\n",
       "    <tr>\n",
       "      <th>4216</th>\n",
       "      <td>226719</td>\n",
       "      <td>903</td>\n",
       "      <td>Рыбинск</td>\n",
       "      <td>Ж</td>\n",
       "      <td>63</td>\n",
       "      <td>0</td>\n",
       "      <td>NaN</td>\n",
       "      <td>1</td>\n",
       "      <td>1</td>\n",
       "      <td>0</td>\n",
       "      <td>138582.58</td>\n",
       "      <td>0</td>\n",
       "    </tr>\n",
       "    <tr>\n",
       "      <th>8205</th>\n",
       "      <td>227795</td>\n",
       "      <td>840</td>\n",
       "      <td>Рыбинск</td>\n",
       "      <td>М</td>\n",
       "      <td>34</td>\n",
       "      <td>2</td>\n",
       "      <td>350768.03</td>\n",
       "      <td>1</td>\n",
       "      <td>1</td>\n",
       "      <td>0</td>\n",
       "      <td>102036.14</td>\n",
       "      <td>1</td>\n",
       "    </tr>\n",
       "    <tr>\n",
       "      <th>8497</th>\n",
       "      <td>227795</td>\n",
       "      <td>839</td>\n",
       "      <td>Ярославль</td>\n",
       "      <td>М</td>\n",
       "      <td>34</td>\n",
       "      <td>2</td>\n",
       "      <td>326593.14</td>\n",
       "      <td>2</td>\n",
       "      <td>1</td>\n",
       "      <td>0</td>\n",
       "      <td>103314.92</td>\n",
       "      <td>0</td>\n",
       "    </tr>\n",
       "  </tbody>\n",
       "</table>\n",
       "<p>100 rows × 12 columns</p>\n",
       "</div>"
      ],
      "text/plain": [
       "      user_id  score       city gender  age  equity      balance  products  \\\n",
       "1893   116540    883    Рыбинск      Ж   55       1    362756.49         3   \n",
       "7694   116540    887  Ярославль      Ж   38       0          NaN         1   \n",
       "4866   117943    855    Рыбинск      Ж   32       6   1036832.93         4   \n",
       "7542   117943    880  Ярославль      Ж   40       0          NaN         1   \n",
       "5863   120258    908    Рыбинск      Ж   38       4   2213581.63         2   \n",
       "...       ...    ...        ...    ...  ...     ...          ...       ...   \n",
       "2302   220816    934    Рыбинск      Ж   74       5   1294285.39         3   \n",
       "2597   226719    990  Ярославль      М   37       4  14648692.14         2   \n",
       "4216   226719    903    Рыбинск      Ж   63       0          NaN         1   \n",
       "8205   227795    840    Рыбинск      М   34       2    350768.03         1   \n",
       "8497   227795    839  Ярославль      М   34       2    326593.14         2   \n",
       "\n",
       "      credit_card  last_activity  est_salary  churn  \n",
       "1893            0              1   175920.48      1  \n",
       "7694            0              1   119247.61      0  \n",
       "4866            1              1   107792.71      1  \n",
       "7542            1              0   137718.93      0  \n",
       "5863            0              1   160327.77      1  \n",
       "...           ...            ...         ...    ...  \n",
       "2302            1              0    95606.80      0  \n",
       "2597            0              0   934412.61      1  \n",
       "4216            1              0   138582.58      0  \n",
       "8205            1              0   102036.14      1  \n",
       "8497            1              0   103314.92      0  \n",
       "\n",
       "[100 rows x 12 columns]"
      ]
     },
     "metadata": {},
     "output_type": "display_data"
    }
   ],
   "source": [
    "# посмотрим на эти дубликаты\n",
    "\n",
    "display(bank_scrooge[bank_scrooge['user_id'].duplicated(keep=False)].sort_values(by='user_id'))"
   ]
  },
  {
   "cell_type": "markdown",
   "metadata": {},
   "source": [
    "Мы видим, что при одинаковых идентификаторах в столбце user_id остальные показатели различаются. Посмотрим эти дубликаты в паре user_id -  city"
   ]
  },
  {
   "cell_type": "code",
   "execution_count": 15,
   "metadata": {},
   "outputs": [
    {
     "name": "stdout",
     "output_type": "stream",
     "text": [
      "\u001b[1mКоличество дубликатов в таблице:\u001b[0m 0\n"
     ]
    }
   ],
   "source": [
    "print('\\033[1m' + 'Количество дубликатов в таблице:' + '\\033[0m',bank_scrooge.duplicated(['user_id', 'city']).sum())"
   ]
  },
  {
   "cell_type": "markdown",
   "metadata": {},
   "source": [
    "# 2.5 Проверка на выбросы"
   ]
  },
  {
   "cell_type": "markdown",
   "metadata": {},
   "source": [
    "Проверим данные на выбросы в столбцах score, age, equity, balance, products, est_salary."
   ]
  },
  {
   "cell_type": "code",
   "execution_count": 16,
   "metadata": {},
   "outputs": [],
   "source": [
    "# список для столбцов\n",
    "\n",
    "columns_to_check = ['score', 'age', 'equity', 'balance', 'products', 'est_salary']    \n",
    "\n",
    "# зададим функцию, которая построит boxplot для каждого столбца из списка \n",
    "\n",
    "def plot_boxplots(df, columns):\n",
    "    \n",
    "    for column in columns:\n",
    "        df.boxplot(column=column)\n",
    "        plt.title(f'Boxplot для столбца {column}') \n",
    "        plt.ylabel(column) \n",
    "        plt.show()"
   ]
  },
  {
   "cell_type": "code",
   "execution_count": 17,
   "metadata": {},
   "outputs": [
    {
     "data": {
      "image/png": "[encoded data removed]",
      "text/plain": [
       "<Figure size 1080x432 with 1 Axes>"
      ]
     },
     "metadata": {},
     "output_type": "display_data"
    },
    {
     "data": {
      "image/png": "[encoded data removed]",
      "text/plain": [
       "<Figure size 1080x432 with 1 Axes>"
      ]
     },
     "metadata": {},
     "output_type": "display_data"
    },
    {
     "data": {
      "image/png": "[encoded data removed]",
      "text/plain": [
       "<Figure size 1080x432 with 1 Axes>"
      ]
     },
     "metadata": {},
     "output_type": "display_data"
    },
    {
     "data": {
      "image/png": "[encoded data removed]",
      "text/plain": [
       "<Figure size 1080x432 with 1 Axes>"
      ]
     },
     "metadata": {},
     "output_type": "display_data"
    },
    {
     "data": {
      "image/png": "[encoded data removed]",
      "text/plain": [
       "<Figure size 1080x432 with 1 Axes>"
      ]
     },
     "metadata": {},
     "output_type": "display_data"
    },
    {
     "data": {
      "image/png": "[encoded data removed]",
      "text/plain": [
       "<Figure size 1080x432 with 1 Axes>"
      ]
     },
     "metadata": {},
     "output_type": "display_data"
    }
   ],
   "source": [
    "# Вызовем функцию\n",
    "\n",
    "plot_boxplots(bank_scrooge, columns_to_check)"
   ]
  },
  {
   "cell_type": "markdown",
   "metadata": {},
   "source": [
    "- В столбце `score` (баллы кредитного скоринга) диапазон данных от 640 до 1000. Основная часть данных не содержит каких-либо аномалий. Однако стоит отметить наличие небольшого числа выбросов ниже 650.\n",
    "\n",
    "---\n",
    "- В столбце `age` (возраст) основная часть данных по возрасту находится в диапазоне от 18 до 80 лет. Есть несколько клиентов, возраст которых выше 80 лет. Эти точки можно рассматривать как выбросы, так как они находятся далеко от основного распределения.Выбросы есть, и они не являются чем-то необычным для данных о возрасте. \n",
    "\n",
    "---\n",
    "- В стобце `equity` (количество баллов собственности) диапазон данных от 0 до 9. Клиенты могут не иметь собственности вообще или иметь баллы собственности равные 9. Выбросов на графике нет. Здесь тоже все в порядке.\n",
    "\n",
    "---\n",
    "- В стобце `balance` (баланс на счёте) диапазон данных от 0 до 120 млн. Есть большое количество выбросов выше верхнего \"уса\" boxplot. Они располагаются в диапазоне от 20 млн до 120 млн. Это значит, что в банке есть клиенты как с очень низкими, так и с очень высокими балансами.\n",
    "\n",
    "---\n",
    "- В стобце `products` (количество продуктов, которыми пользуется клиент) диапазон данных от 0 до 5.Есть несколько выбросов выше верхнего \"уса\" boxplot. Они располагаются на отметках 4 и 5. Это говорит о том, что некоторые клиенты активно пользуются большим количеством продуктов банка. Клиенты с 0 продуктами заслуживают более пристального внимания. Возможно, они являются новыми клиентами, которые еще не успели подключить продукты, или есть какие-то проблемы с данными.\n",
    "\n",
    "---\n",
    "- В стобце `est_salary` (оценочный доход клиента) диапазон данных от 0 до 1 400 000. Есть большое количество выбросов выше верхнего \"уса\" boxplot. Они располагаются в диапазоне от 200 тыс. до 1,4 млн. Широкий диапазон значений говорит о том, что в выборке есть клиенты с как очень низкими, так и очень высокими доходами. "
   ]
  },
  {
   "cell_type": "code",
   "execution_count": 18,
   "metadata": {},
   "outputs": [
    {
     "name": "stdout",
     "output_type": "stream",
     "text": [
      "Клиенты с 0 продуктами:\n"
     ]
    },
    {
     "data": {
      "text/html": [
       "<div>\n",
       "<style scoped>\n",
       "    .dataframe tbody tr th:only-of-type {\n",
       "        vertical-align: middle;\n",
       "    }\n",
       "\n",
       "    .dataframe tbody tr th {\n",
       "        vertical-align: top;\n",
       "    }\n",
       "\n",
       "    .dataframe thead th {\n",
       "        text-align: right;\n",
       "    }\n",
       "</style>\n",
       "<table border=\"1\" class=\"dataframe\">\n",
       "  <thead>\n",
       "    <tr style=\"text-align: right;\">\n",
       "      <th></th>\n",
       "      <th>user_id</th>\n",
       "      <th>score</th>\n",
       "      <th>city</th>\n",
       "      <th>gender</th>\n",
       "      <th>age</th>\n",
       "      <th>equity</th>\n",
       "      <th>balance</th>\n",
       "      <th>products</th>\n",
       "      <th>credit_card</th>\n",
       "      <th>last_activity</th>\n",
       "      <th>est_salary</th>\n",
       "      <th>churn</th>\n",
       "    </tr>\n",
       "  </thead>\n",
       "  <tbody>\n",
       "    <tr>\n",
       "      <th>8957</th>\n",
       "      <td>147837</td>\n",
       "      <td>962</td>\n",
       "      <td>Рыбинск</td>\n",
       "      <td>Ж</td>\n",
       "      <td>79</td>\n",
       "      <td>3</td>\n",
       "      <td>NaN</td>\n",
       "      <td>0</td>\n",
       "      <td>0</td>\n",
       "      <td>0</td>\n",
       "      <td>25063.96</td>\n",
       "      <td>1</td>\n",
       "    </tr>\n",
       "  </tbody>\n",
       "</table>\n",
       "</div>"
      ],
      "text/plain": [
       "      user_id  score     city gender  age  equity  balance  products  \\\n",
       "8957   147837    962  Рыбинск      Ж   79       3      NaN         0   \n",
       "\n",
       "      credit_card  last_activity  est_salary  churn  \n",
       "8957            0              0    25063.96      1  "
      ]
     },
     "metadata": {},
     "output_type": "display_data"
    },
    {
     "name": "stdout",
     "output_type": "stream",
     "text": [
      "Количество клиентов с 0 продуктами: 1\n"
     ]
    }
   ],
   "source": [
    "# Рассмотрим детальнее нулевые значения в столбце products\n",
    "\n",
    "products_clients_0 = bank_scrooge[bank_scrooge['products'] == 0]\n",
    "print(\"Клиенты с 0 продуктами:\")\n",
    "display(products_clients_0)\n",
    "print(f\"Количество клиентов с 0 продуктами: {products_clients_0.shape[0]}\")"
   ]
  },
  {
   "cell_type": "code",
   "execution_count": 19,
   "metadata": {},
   "outputs": [
    {
     "name": "stdout",
     "output_type": "stream",
     "text": [
      "Размер DataFrame после удаления: (9973, 12)\n"
     ]
    }
   ],
   "source": [
    "# удалим эту строку\n",
    "\n",
    "user_id_to_drop = 147837\n",
    "\n",
    "bank_scrooge = bank_scrooge[bank_scrooge['user_id'] != user_id_to_drop]\n",
    "\n",
    "# проверим сколько строк осталось\n",
    "print(\"Размер DataFrame после удаления:\", bank_scrooge.shape)"
   ]
  },
  {
   "cell_type": "markdown",
   "metadata": {},
   "source": [
    "**Выводы по 2 разделу:**\n",
    "\n",
    "- Данные были подготовлены к дальнейшему исследованию:\n",
    "\n",
    "    - Название столбцов `USERID`, `EST_SALARY` были преведены к виду snake_case;\n",
    "    \n",
    "    - Были обнаружены пропуски: пропуски в столбце `age` удалили, так как их всего 0,26 % ; пропусков в столбце `balance` более 22%, было принято решение не удалять и не заполнять их, чтобы не исказить данные;\n",
    "    \n",
    "    - Столбцы `score` и `age`приведены к типу int;\n",
    "    \n",
    "    - Данные были проверены на явные и неявные дубликаты - дубликатов не обнаружено\n",
    "    \n",
    "    - Данные были проанализированы на выбросы. Удалена одна строка с клиентом, количество продуктов банка которого равнялась нулю."
   ]
  },
  {
   "cell_type": "markdown",
   "metadata": {},
   "source": [
    "# 3.  Исследовательский анализ данных"
   ]
  },
  {
   "cell_type": "markdown",
   "metadata": {},
   "source": [
    "# 3.1 Распределение признаков по оттоку клиентов в разрезе различных параметров"
   ]
  },
  {
   "cell_type": "code",
   "execution_count": 20,
   "metadata": {},
   "outputs": [],
   "source": [
    "# зададим фукцию для построения гистограмм для числовых значений параметров\n",
    "\n",
    "def plot_distributions(df, target_column='churn', include_columns=None):\n",
    "   \n",
    "    if include_columns is None:\n",
    "        include_columns = df.columns.tolist() \n",
    "    \n",
    "    for column in include_columns:\n",
    "        if column == target_column: # Пропускаем целевой столбец\n",
    "           continue\n",
    "\n",
    "        sns.histplot(data=df,\n",
    "                     x=column,\n",
    "                     hue=target_column,\n",
    "                     stat=\"density\",\n",
    "                     common_norm=False,\n",
    "                     palette=\"Set2\")\n",
    "        plt.title(f'Распределение признака \"{column}\"')\n",
    "        plt.xlabel(column)\n",
    "        plt.tight_layout()\n",
    "        plt.show()"
   ]
  },
  {
   "cell_type": "code",
   "execution_count": 21,
   "metadata": {},
   "outputs": [
    {
     "data": {
      "image/png": "[encoded data removed]",
      "text/plain": [
       "<Figure size 1080x432 with 1 Axes>"
      ]
     },
     "metadata": {},
     "output_type": "display_data"
    },
    {
     "data": {
      "image/png": "[encoded data removed]",
      "text/plain": [
       "<Figure size 1080x432 with 1 Axes>"
      ]
     },
     "metadata": {},
     "output_type": "display_data"
    },
    {
     "data": {
      "image/png": "[encoded data removed]",
      "text/plain": [
       "<Figure size 1080x432 with 1 Axes>"
      ]
     },
     "metadata": {},
     "output_type": "display_data"
    },
    {
     "data": {
      "image/png": "[encoded data removed]",
      "text/plain": [
       "<Figure size 1080x432 with 1 Axes>"
      ]
     },
     "metadata": {},
     "output_type": "display_data"
    }
   ],
   "source": [
    "# вызовим функцию\n",
    "\n",
    "plot_distributions(bank_scrooge, include_columns=['age', 'score', 'balance', 'est_salary'])"
   ]
  },
  {
   "cell_type": "code",
   "execution_count": 22,
   "metadata": {},
   "outputs": [
    {
     "data": {
      "image/png": "[encoded data removed]",
      "text/plain": [
       "<Figure size 1080x432 with 1 Axes>"
      ]
     },
     "metadata": {},
     "output_type": "display_data"
    }
   ],
   "source": [
    "# для баланса зададим лимит по оси х для более детального рассмотрения\n",
    "\n",
    "sns.histplot(data=bank_scrooge,\n",
    "           hue=\"churn\",\n",
    "           x=\"balance\",\n",
    "           stat=\"density\",\n",
    "           common_norm=False,\n",
    "           palette=\"Set2\"\n",
    ")\n",
    "plt.xlim(0, 5000000)\n",
    "plt.show()"
   ]
  },
  {
   "cell_type": "markdown",
   "metadata": {},
   "source": [
    "***Влияние возраста клиента на его уход:***\n",
    "\n",
    "- Наиболее отточными клиентами являются люди двух возрастных групп: 26-35 лет и от 50 до 59 лет;\n",
    "\n",
    "- Наименее отточными клиентами являются люди 35 - 49 лет и пожилые люди старше 60 лет.\n",
    "\n",
    "---\n",
    "***Влияние баллов кредитного скоринга клиента на его уход:***\n",
    "\n",
    "- Наиболее высокоотточные клиенты со скорингом от 825 до 935 баллов;\n",
    "\n",
    "- Наименне отточные клиенты - от 650 до 825 баллов.\n",
    "\n",
    "---\n",
    "***Влияние баланса на уход клиента:***\n",
    "\n",
    "- Количество отточных клиентов резко возрастает если баланс составляет от 760 000 и выше;\n",
    "\n",
    "- Наименее отточные клиенты - люди с балансом до 700 000.\n",
    "\n",
    "---\n",
    "***Влияние оценочного дохода клиента на его уход:***\n",
    "\n",
    "- Люди, с оценочным доходом от 100 000 до 200 000 являются самыми высокоотточными клиентами;\n",
    "\n",
    "- Наименее отточные клиенты с доходом до 65 000."
   ]
  },
  {
   "cell_type": "code",
   "execution_count": 23,
   "metadata": {},
   "outputs": [],
   "source": [
    "# зададим фукцию для построения гистограмм для категориальных значений параметров\n",
    "\n",
    "def plot_distributions_categories (df, target_column='churn', include_columns=None):\n",
    "   \n",
    "    if include_columns is None:\n",
    "        include_columns = df.columns.tolist() \n",
    "    \n",
    "    for column in include_columns:\n",
    "        if column == target_column: # Пропускаем целевой столбец\n",
    "           continue\n",
    "\n",
    "        sns.histplot(data=df,\n",
    "                     x=column,\n",
    "                     hue=target_column,\n",
    "                     stat=\"density\",\n",
    "                     common_norm=False,\n",
    "                     discrete=True,\n",
    "                     palette=\"Set2\")\n",
    "        plt.title(f'Распределение признака \"{column}\"')\n",
    "        plt.xlabel(column)\n",
    "        plt.tight_layout()\n",
    "        plt.show()"
   ]
  },
  {
   "cell_type": "code",
   "execution_count": 24,
   "metadata": {},
   "outputs": [
    {
     "data": {
      "image/png": "[encoded data removed]",
      "text/plain": [
       "<Figure size 1080x432 with 1 Axes>"
      ]
     },
     "metadata": {},
     "output_type": "display_data"
    },
    {
     "data": {
      "image/png": "[encoded data removed]",
      "text/plain": [
       "<Figure size 1080x432 with 1 Axes>"
      ]
     },
     "metadata": {},
     "output_type": "display_data"
    },
    {
     "data": {
      "image/png": "[encoded data removed]",
      "text/plain": [
       "<Figure size 1080x432 with 1 Axes>"
      ]
     },
     "metadata": {},
     "output_type": "display_data"
    },
    {
     "data": {
      "image/png": "[encoded data removed]",
      "text/plain": [
       "<Figure size 1080x432 with 1 Axes>"
      ]
     },
     "metadata": {},
     "output_type": "display_data"
    },
    {
     "data": {
      "image/png": "[encoded data removed]",
      "text/plain": [
       "<Figure size 1080x432 with 1 Axes>"
      ]
     },
     "metadata": {},
     "output_type": "display_data"
    },
    {
     "data": {
      "image/png": "[encoded data removed]",
      "text/plain": [
       "<Figure size 1080x432 with 1 Axes>"
      ]
     },
     "metadata": {},
     "output_type": "display_data"
    }
   ],
   "source": [
    "# вызовим функцию\n",
    "\n",
    "plot_distributions_categories (bank_scrooge, include_columns=['city', 'gender', 'credit_card', 'last_activity', 'products', 'equity'])"
   ]
  },
  {
   "cell_type": "markdown",
   "metadata": {},
   "source": [
    "***Влияние города клиента на его уход:***\n",
    "\n",
    "- Наиболее отточными клиентами являются люди, проживающие в Ярославле;\n",
    "\n",
    "- Наименее отточные клиенты в Рыбинске;\n",
    "\n",
    "- Поскольку значимых различий по оттоку между тремя городами не обнаружено, эту характеристику можно не учитывать в дальнейшем исследовании.\n",
    "\n",
    "---\n",
    "***Влияние пола клиента на его уход:***\n",
    "\n",
    "- Наиболее отточные клиенты - это клиенты мужского пола.\n",
    "\n",
    "---\n",
    "***Влияние наличия кредитной карты у клиента на его уход:***\n",
    "\n",
    "- Клиенты, не имеющие кредитной карты, покидают банк чаще.\n",
    "\n",
    "---\n",
    "***Влияние признака активности клиента на его уход:***\n",
    "\n",
    "- Наиболее активные клиенты уходят из банка, посравнению с неактивными.\n",
    "\n",
    "---\n",
    "***Влияние количества продуктов банка на уход клиента:***\n",
    "\n",
    "- Наиболее отточными клиентами являются клиенты, имеюшие 4 продукта;\n",
    "\n",
    "- На втором месте по отточности клиенты, имеющие 3, а затем 2 продукта;\n",
    "\n",
    "- Наименне оттточные клиенты - клиенты банка, имеющие только один продукт.\n",
    "\n",
    "---\n",
    "***Влияние количества баллов собственности клиента на его уход:***\n",
    "\n",
    "- При увеличении количества баллов собственности клиента, увеличивается вероятность оттока клиентов;\n",
    "\n",
    "- Клиенты с количеством баллов собственности от 3 до 9 являются отточными."
   ]
  },
  {
   "cell_type": "markdown",
   "metadata": {},
   "source": [
    "# 3.2 Составление портретов клиентов склонных к оттоку и нет"
   ]
  },
  {
   "cell_type": "markdown",
   "metadata": {},
   "source": [
    "**На основании анализа, проведенного в первой части, составим портреты клиентов, склонные к оттоку и не склонные к нему**"
   ]
  },
  {
   "cell_type": "markdown",
   "metadata": {},
   "source": [
    "**Портрет клиента, склонного к оттоку:**\n",
    "\n",
    "  ***Возраст:***\n",
    "  \n",
    "     - В диапазоне 26-35 лет или 50-59 лет.\n",
    "     \n",
    "  ***Кредитный скоринг:***\n",
    "  \n",
    "     - Имеет высокий скоринг (между 825 и 935 баллами).\n",
    "     \n",
    "  ***Количество баллов собственности:***\n",
    "  \n",
    "     - Имеет от 3 до 9 баллов собственности.\n",
    "     \n",
    "  ***Баланс на счете:***\n",
    "   \n",
    "     - Баланс составляет 760 000 или выше.\n",
    "     \n",
    "  ***Количество продуктов банка:***\n",
    "  \n",
    "     - Использует 4 продукта банка (или 3, а затем 2).\n",
    "     \n",
    "   ***Оценочный доход:***\n",
    "   \n",
    "     - Имеет доход от 100 000 до 200 000.\n",
    "     \n",
    "   ***Пол:***\n",
    "   \n",
    "     - Мужской.\n",
    "     \n",
    "   ***Кредитная карта:***\n",
    "   \n",
    "     - Не имеет кредитной карты.\n",
    "     \n",
    "   ***Активность:***\n",
    "   \n",
    "     - Является активным клиентом.\n",
    "\n",
    "---\n",
    "**Резюме портрета:**\n",
    "\n",
    "  - Молодой (26-35) или предпенсионного возраста мужчина, с  доходом (100 000-200 000), высоким кредитным скорингом (825-935), имеющий 3-4 банковских продукта, но не кредитную карту и с балансом более 760 000, демонстрирующий высокую активность."
   ]
  },
  {
   "cell_type": "markdown",
   "metadata": {},
   "source": [
    "**Портрет клиента, склонного к удержанию:**\n",
    "\n",
    "   ***Возраст:***\n",
    "   \n",
    "     - В диапазоне 35-49 лет или старше 60 лет.\n",
    "     \n",
    "   ***Кредитный скоринг:***\n",
    "   \n",
    "     - Имеет скоринг от 650 до 825 баллов.\n",
    "     \n",
    "   ***Количество баллов собственности:***\n",
    "\n",
    "     - Имеет небольшое количество баллов собственности (менее 3).\n",
    "     \n",
    "   ***Баланс на счете:***\n",
    "   \n",
    "     - Баланс ниже 700 000.\n",
    "     \n",
    "   ***Количество продуктов банка:***\n",
    "   \n",
    "     - Использует только 1 продукт банка.\n",
    "     \n",
    "   ***Оценочный доход:***\n",
    "   \n",
    "     - Имеет доход до 65 000.\n",
    "     \n",
    "   ***Пол:***\n",
    "   \n",
    "     - Женский.\n",
    "     \n",
    "   ***Кредитная карта:***\n",
    "   \n",
    "    - Имеет кредитную карту.\n",
    "    \n",
    "   ***Активность:***\n",
    "   \n",
    "    - Не очень активный клиент.\n",
    "\n",
    "---\n",
    "**Резюме портрета:**\n",
    "\n",
    "- Женщина в зрелом возрасте (35-49) или пожилого возраста (60+), с низким доходом (до 65 000), умеренным кредитным скорингом (650-825), имеющая только 1 продукт банка и баланс до 700 000, с кредитной картой и не очень высокой активностью.\n"
   ]
  },
  {
   "cell_type": "markdown",
   "metadata": {},
   "source": [
    "**Для сравнения создадим сводную таблицу со статистиками для отточных и неотточных клиентов**"
   ]
  },
  {
   "cell_type": "code",
   "execution_count": 25,
   "metadata": {},
   "outputs": [
    {
     "data": {
      "text/html": [
       "<div>\n",
       "<style scoped>\n",
       "    .dataframe tbody tr th:only-of-type {\n",
       "        vertical-align: middle;\n",
       "    }\n",
       "\n",
       "    .dataframe tbody tr th {\n",
       "        vertical-align: top;\n",
       "    }\n",
       "\n",
       "    .dataframe thead th {\n",
       "        text-align: right;\n",
       "    }\n",
       "</style>\n",
       "<table border=\"1\" class=\"dataframe\">\n",
       "  <thead>\n",
       "    <tr style=\"text-align: right;\">\n",
       "      <th></th>\n",
       "      <th>Показатели</th>\n",
       "      <th>Отточные</th>\n",
       "      <th>Неотточные</th>\n",
       "    </tr>\n",
       "  </thead>\n",
       "  <tbody>\n",
       "    <tr>\n",
       "      <th>0</th>\n",
       "      <td>Средний балл скоринга</td>\n",
       "      <td>863</td>\n",
       "      <td>845</td>\n",
       "    </tr>\n",
       "    <tr>\n",
       "      <th>1</th>\n",
       "      <td>Пол</td>\n",
       "      <td>М</td>\n",
       "      <td>Ж</td>\n",
       "    </tr>\n",
       "    <tr>\n",
       "      <th>2</th>\n",
       "      <td>Средний возраст</td>\n",
       "      <td>41</td>\n",
       "      <td>43</td>\n",
       "    </tr>\n",
       "    <tr>\n",
       "      <th>3</th>\n",
       "      <td>Медиана баллов собственности</td>\n",
       "      <td>4</td>\n",
       "      <td>3</td>\n",
       "    </tr>\n",
       "    <tr>\n",
       "      <th>4</th>\n",
       "      <td>Медианный баланс на счете</td>\n",
       "      <td>783909</td>\n",
       "      <td>475410</td>\n",
       "    </tr>\n",
       "    <tr>\n",
       "      <th>5</th>\n",
       "      <td>Среднее количество продуктов</td>\n",
       "      <td>2</td>\n",
       "      <td>2</td>\n",
       "    </tr>\n",
       "    <tr>\n",
       "      <th>6</th>\n",
       "      <td>Наличие кредитной карты</td>\n",
       "      <td>1</td>\n",
       "      <td>1</td>\n",
       "    </tr>\n",
       "    <tr>\n",
       "      <th>7</th>\n",
       "      <td>Активность</td>\n",
       "      <td>1</td>\n",
       "      <td>0</td>\n",
       "    </tr>\n",
       "    <tr>\n",
       "      <th>8</th>\n",
       "      <td>Медианная зарплата</td>\n",
       "      <td>125409</td>\n",
       "      <td>118228</td>\n",
       "    </tr>\n",
       "  </tbody>\n",
       "</table>\n",
       "</div>"
      ],
      "text/plain": [
       "                     Показатели Отточные Неотточные\n",
       "0         Средний балл скоринга      863        845\n",
       "1                           Пол        М          Ж\n",
       "2               Средний возраст       41         43\n",
       "3  Медиана баллов собственности        4          3\n",
       "4     Медианный баланс на счете   783909     475410\n",
       "5  Среднее количество продуктов        2          2\n",
       "6       Наличие кредитной карты        1          1\n",
       "7                    Активность        1          0\n",
       "8            Медианная зарплата   125409     118228"
      ]
     },
     "metadata": {},
     "output_type": "display_data"
    }
   ],
   "source": [
    "# создаем функцию\n",
    "\n",
    "def describe_by_churn_custom(df):\n",
    "  \n",
    "   numerical_cols = df.select_dtypes(include=np.number).columns.tolist() \n",
    "   if 'churn' in numerical_cols:\n",
    "        numerical_cols.remove('churn')\n",
    "    \n",
    "   categorical_cols = df.select_dtypes(include='object').columns.tolist()\n",
    "\n",
    "   summary = pd.DataFrame(columns=['Показатели', 'Отточные', 'Неотточные'])\n",
    "\n",
    "   summary.loc[0, 'Показатели'] = 'Средний балл скоринга'\n",
    "   for churn_value in [1,0]:\n",
    "       summary.loc[0, 'Отточные' if churn_value==1 else 'Неотточные'] = df[df['churn'] == churn_value]['score'].mean()\n",
    "\n",
    "\n",
    "   summary.loc[1, 'Показатели'] = 'Пол'\n",
    "   for churn_value in [1,0]:\n",
    "       summary.loc[1, 'Отточные' if churn_value==1 else 'Неотточные'] = df[df['churn'] == churn_value]['gender'].mode()[0]\n",
    "\n",
    "\n",
    "   summary.loc[2, 'Показатели'] = 'Средний возраст'\n",
    "   for churn_value in [1,0]:\n",
    "       summary.loc[2, 'Отточные' if churn_value==1 else 'Неотточные'] = df[df['churn'] == churn_value]['age'].mean()\n",
    "\n",
    "   summary.loc[3, 'Показатели'] = 'Медиана баллов собственности'\n",
    "   for churn_value in [1,0]:\n",
    "       summary.loc[3, 'Отточные' if churn_value==1 else 'Неотточные'] = df[df['churn'] == churn_value]['equity'].median()\n",
    "\n",
    "   summary.loc[4, 'Показатели'] = 'Медианный баланс на счете'\n",
    "   for churn_value in [1,0]:\n",
    "        summary.loc[4, 'Отточные' if churn_value==1 else 'Неотточные'] = df[df['churn'] == churn_value]['balance'].median()\n",
    "\n",
    "   summary.loc[5, 'Показатели'] = 'Среднее количество продуктов'\n",
    "   for churn_value in [1,0]:\n",
    "       summary.loc[5, 'Отточные' if churn_value==1 else 'Неотточные'] = df[df['churn'] == churn_value]['products'].mean()\n",
    "\n",
    "   summary.loc[6, 'Показатели'] = 'Наличие кредитной карты'\n",
    "   for churn_value in [1,0]:\n",
    "       summary.loc[6, 'Отточные' if churn_value==1 else 'Неотточные'] = df[df['churn'] == churn_value]['credit_card'].mode()[0]\n",
    "\n",
    "   summary.loc[7, 'Показатели'] = 'Активность'\n",
    "   for churn_value in [1,0]:\n",
    "        summary.loc[7, 'Отточные' if churn_value==1 else 'Неотточные'] = df[df['churn'] == churn_value]['last_activity'].mode()[0]\n",
    "\n",
    "   summary.loc[8, 'Показатели'] = 'Медианная зарплата'\n",
    "   for churn_value in [1,0]:\n",
    "       summary.loc[8, 'Отточные' if churn_value==1 else 'Неотточные'] = df[df['churn'] == churn_value]['est_salary'].median()\n",
    "   \n",
    "   return summary\n",
    "                   \n",
    "# Вызываем функцию\n",
    "summary_table = describe_by_churn_custom(bank_scrooge)\n",
    "\n",
    "# Округляем все значения до целых чисел\n",
    "summary_table[['Отточные', 'Неотточные']] = summary_table[['Отточные', 'Неотточные']].applymap(\n",
    "    lambda x: int(round(x)) if isinstance(x, (int, float)) else x\n",
    ")\n",
    "\n",
    "\n",
    "# выводим таблицу \n",
    "\n",
    "display(summary_table)"
   ]
  },
  {
   "cell_type": "markdown",
   "metadata": {},
   "source": [
    "***1. Общая картина:***\n",
    "  – В целом, основные показатели, такие как средний скоринговый балл, средний возраст и среднее количество продуктов, не показывают существенных различий между клиентами, которые ушли из банка, и теми, кто остался. Это свидетельствует о том, что отток клиентов зависит не только от очевидных характеристик, но и от более тонких факторов или их сочетаний.\n",
    "\n",
    "---\n",
    "***2. Ключевые различия:***\n",
    "\n",
    "  – **Пол:**\n",
    "       – Мужчины гораздо чаще склонны к оттоку, чем женщины.\n",
    "\n",
    "  – **Баланс на счете:**\n",
    "       – Средний баланс на счете у клиентов, которые ушли из банка, значительно выше (около 784 тысяч рублей), чем у тех, кто остался (около 475 тысяч рублей). Это может указывать на то, что клиенты с большими накоплениями более склонны искать альтернативные финансовые решения в других банках.\n",
    "\n",
    "  – **Активность:**\n",
    "       – Отточные клиенты, как правило, проявляют большую активность в использовании банковских продуктов, чем лояльные клиенты."
   ]
  },
  {
   "cell_type": "markdown",
   "metadata": {},
   "source": [
    "# 3.3 Корреляционный анализ признака churn с другими признаками.  Матрица корреляций."
   ]
  },
  {
   "cell_type": "code",
   "execution_count": 26,
   "metadata": {},
   "outputs": [
    {
     "data": {
      "text/html": [
       "<div>\n",
       "<style scoped>\n",
       "    .dataframe tbody tr th:only-of-type {\n",
       "        vertical-align: middle;\n",
       "    }\n",
       "\n",
       "    .dataframe tbody tr th {\n",
       "        vertical-align: top;\n",
       "    }\n",
       "\n",
       "    .dataframe thead th {\n",
       "        text-align: right;\n",
       "    }\n",
       "</style>\n",
       "<table border=\"1\" class=\"dataframe\">\n",
       "  <thead>\n",
       "    <tr style=\"text-align: right;\">\n",
       "      <th></th>\n",
       "      <th>score</th>\n",
       "      <th>city</th>\n",
       "      <th>gender</th>\n",
       "      <th>age</th>\n",
       "      <th>equity</th>\n",
       "      <th>balance</th>\n",
       "      <th>products</th>\n",
       "      <th>credit_card</th>\n",
       "      <th>last_activity</th>\n",
       "      <th>est_salary</th>\n",
       "      <th>churn</th>\n",
       "    </tr>\n",
       "  </thead>\n",
       "  <tbody>\n",
       "    <tr>\n",
       "      <th>0</th>\n",
       "      <td>850</td>\n",
       "      <td>Рыбинск</td>\n",
       "      <td>Ж</td>\n",
       "      <td>25</td>\n",
       "      <td>1</td>\n",
       "      <td>59214.82</td>\n",
       "      <td>2</td>\n",
       "      <td>0</td>\n",
       "      <td>1</td>\n",
       "      <td>75719.14</td>\n",
       "      <td>1</td>\n",
       "    </tr>\n",
       "    <tr>\n",
       "      <th>1</th>\n",
       "      <td>861</td>\n",
       "      <td>Рыбинск</td>\n",
       "      <td>Ж</td>\n",
       "      <td>37</td>\n",
       "      <td>5</td>\n",
       "      <td>850594.33</td>\n",
       "      <td>3</td>\n",
       "      <td>1</td>\n",
       "      <td>0</td>\n",
       "      <td>86621.77</td>\n",
       "      <td>0</td>\n",
       "    </tr>\n",
       "    <tr>\n",
       "      <th>2</th>\n",
       "      <td>892</td>\n",
       "      <td>Рыбинск</td>\n",
       "      <td>Ж</td>\n",
       "      <td>30</td>\n",
       "      <td>0</td>\n",
       "      <td>NaN</td>\n",
       "      <td>1</td>\n",
       "      <td>1</td>\n",
       "      <td>1</td>\n",
       "      <td>107683.34</td>\n",
       "      <td>0</td>\n",
       "    </tr>\n",
       "    <tr>\n",
       "      <th>3</th>\n",
       "      <td>866</td>\n",
       "      <td>Ярославль</td>\n",
       "      <td>Ж</td>\n",
       "      <td>51</td>\n",
       "      <td>5</td>\n",
       "      <td>1524746.26</td>\n",
       "      <td>2</td>\n",
       "      <td>0</td>\n",
       "      <td>1</td>\n",
       "      <td>174423.53</td>\n",
       "      <td>1</td>\n",
       "    </tr>\n",
       "    <tr>\n",
       "      <th>4</th>\n",
       "      <td>730</td>\n",
       "      <td>Ярославль</td>\n",
       "      <td>М</td>\n",
       "      <td>34</td>\n",
       "      <td>5</td>\n",
       "      <td>174.00</td>\n",
       "      <td>1</td>\n",
       "      <td>1</td>\n",
       "      <td>0</td>\n",
       "      <td>67353.16</td>\n",
       "      <td>1</td>\n",
       "    </tr>\n",
       "  </tbody>\n",
       "</table>\n",
       "</div>"
      ],
      "text/plain": [
       "   score       city gender  age  equity     balance  products  credit_card  \\\n",
       "0    850    Рыбинск      Ж   25       1    59214.82         2            0   \n",
       "1    861    Рыбинск      Ж   37       5   850594.33         3            1   \n",
       "2    892    Рыбинск      Ж   30       0         NaN         1            1   \n",
       "3    866  Ярославль      Ж   51       5  1524746.26         2            0   \n",
       "4    730  Ярославль      М   34       5      174.00         1            1   \n",
       "\n",
       "   last_activity  est_salary  churn  \n",
       "0              1    75719.14      1  \n",
       "1              0    86621.77      0  \n",
       "2              1   107683.34      0  \n",
       "3              1   174423.53      1  \n",
       "4              0    67353.16      1  "
      ]
     },
     "execution_count": 26,
     "metadata": {},
     "output_type": "execute_result"
    }
   ],
   "source": [
    "# удалим из датафрейма столбец user_id \n",
    "\n",
    "bank_scrooge_slice = bank_scrooge.drop(['user_id'], axis=1)\n",
    "bank_scrooge_slice.head()"
   ]
  },
  {
   "cell_type": "code",
   "execution_count": 27,
   "metadata": {},
   "outputs": [
    {
     "name": "stdout",
     "output_type": "stream",
     "text": [
      "interval columns not set, guessing: ['score', 'age', 'equity', 'balance', 'products', 'credit_card', 'last_activity', 'est_salary', 'churn']\n"
     ]
    },
    {
     "data": {
      "text/html": [
       "<div>\n",
       "<style scoped>\n",
       "    .dataframe tbody tr th:only-of-type {\n",
       "        vertical-align: middle;\n",
       "    }\n",
       "\n",
       "    .dataframe tbody tr th {\n",
       "        vertical-align: top;\n",
       "    }\n",
       "\n",
       "    .dataframe thead th {\n",
       "        text-align: right;\n",
       "    }\n",
       "</style>\n",
       "<table border=\"1\" class=\"dataframe\">\n",
       "  <thead>\n",
       "    <tr style=\"text-align: right;\">\n",
       "      <th></th>\n",
       "      <th>score</th>\n",
       "      <th>city</th>\n",
       "      <th>gender</th>\n",
       "      <th>age</th>\n",
       "      <th>equity</th>\n",
       "      <th>balance</th>\n",
       "      <th>products</th>\n",
       "      <th>credit_card</th>\n",
       "      <th>last_activity</th>\n",
       "      <th>est_salary</th>\n",
       "      <th>churn</th>\n",
       "    </tr>\n",
       "  </thead>\n",
       "  <tbody>\n",
       "    <tr>\n",
       "      <th>score</th>\n",
       "      <td>1.00</td>\n",
       "      <td>0.09</td>\n",
       "      <td>0.07</td>\n",
       "      <td>0.03</td>\n",
       "      <td>0.53</td>\n",
       "      <td>0.17</td>\n",
       "      <td>0.42</td>\n",
       "      <td>0.21</td>\n",
       "      <td>0.05</td>\n",
       "      <td>0.40</td>\n",
       "      <td>0.23</td>\n",
       "    </tr>\n",
       "    <tr>\n",
       "      <th>city</th>\n",
       "      <td>0.09</td>\n",
       "      <td>1.00</td>\n",
       "      <td>0.01</td>\n",
       "      <td>0.09</td>\n",
       "      <td>0.06</td>\n",
       "      <td>0.04</td>\n",
       "      <td>0.13</td>\n",
       "      <td>0.07</td>\n",
       "      <td>0.03</td>\n",
       "      <td>0.17</td>\n",
       "      <td>0.02</td>\n",
       "    </tr>\n",
       "    <tr>\n",
       "      <th>gender</th>\n",
       "      <td>0.07</td>\n",
       "      <td>0.01</td>\n",
       "      <td>1.00</td>\n",
       "      <td>0.29</td>\n",
       "      <td>0.06</td>\n",
       "      <td>0.05</td>\n",
       "      <td>0.07</td>\n",
       "      <td>0.20</td>\n",
       "      <td>0.01</td>\n",
       "      <td>0.14</td>\n",
       "      <td>0.22</td>\n",
       "    </tr>\n",
       "    <tr>\n",
       "      <th>age</th>\n",
       "      <td>0.03</td>\n",
       "      <td>0.09</td>\n",
       "      <td>0.29</td>\n",
       "      <td>1.00</td>\n",
       "      <td>0.05</td>\n",
       "      <td>0.02</td>\n",
       "      <td>0.14</td>\n",
       "      <td>0.16</td>\n",
       "      <td>0.09</td>\n",
       "      <td>0.36</td>\n",
       "      <td>0.19</td>\n",
       "    </tr>\n",
       "    <tr>\n",
       "      <th>equity</th>\n",
       "      <td>0.53</td>\n",
       "      <td>0.06</td>\n",
       "      <td>0.06</td>\n",
       "      <td>0.05</td>\n",
       "      <td>1.00</td>\n",
       "      <td>0.00</td>\n",
       "      <td>0.58</td>\n",
       "      <td>0.22</td>\n",
       "      <td>0.05</td>\n",
       "      <td>0.29</td>\n",
       "      <td>0.35</td>\n",
       "    </tr>\n",
       "    <tr>\n",
       "      <th>balance</th>\n",
       "      <td>0.17</td>\n",
       "      <td>0.04</td>\n",
       "      <td>0.05</td>\n",
       "      <td>0.02</td>\n",
       "      <td>0.00</td>\n",
       "      <td>1.00</td>\n",
       "      <td>0.00</td>\n",
       "      <td>0.00</td>\n",
       "      <td>0.00</td>\n",
       "      <td>0.37</td>\n",
       "      <td>0.02</td>\n",
       "    </tr>\n",
       "    <tr>\n",
       "      <th>products</th>\n",
       "      <td>0.42</td>\n",
       "      <td>0.13</td>\n",
       "      <td>0.07</td>\n",
       "      <td>0.14</td>\n",
       "      <td>0.58</td>\n",
       "      <td>0.00</td>\n",
       "      <td>1.00</td>\n",
       "      <td>0.27</td>\n",
       "      <td>0.11</td>\n",
       "      <td>0.22</td>\n",
       "      <td>0.26</td>\n",
       "    </tr>\n",
       "    <tr>\n",
       "      <th>credit_card</th>\n",
       "      <td>0.21</td>\n",
       "      <td>0.07</td>\n",
       "      <td>0.20</td>\n",
       "      <td>0.16</td>\n",
       "      <td>0.22</td>\n",
       "      <td>0.00</td>\n",
       "      <td>0.27</td>\n",
       "      <td>1.00</td>\n",
       "      <td>0.05</td>\n",
       "      <td>0.04</td>\n",
       "      <td>0.20</td>\n",
       "    </tr>\n",
       "    <tr>\n",
       "      <th>last_activity</th>\n",
       "      <td>0.05</td>\n",
       "      <td>0.03</td>\n",
       "      <td>0.01</td>\n",
       "      <td>0.09</td>\n",
       "      <td>0.05</td>\n",
       "      <td>0.00</td>\n",
       "      <td>0.11</td>\n",
       "      <td>0.05</td>\n",
       "      <td>1.00</td>\n",
       "      <td>0.04</td>\n",
       "      <td>0.26</td>\n",
       "    </tr>\n",
       "    <tr>\n",
       "      <th>est_salary</th>\n",
       "      <td>0.40</td>\n",
       "      <td>0.17</td>\n",
       "      <td>0.14</td>\n",
       "      <td>0.36</td>\n",
       "      <td>0.29</td>\n",
       "      <td>0.37</td>\n",
       "      <td>0.22</td>\n",
       "      <td>0.04</td>\n",
       "      <td>0.04</td>\n",
       "      <td>1.00</td>\n",
       "      <td>0.05</td>\n",
       "    </tr>\n",
       "    <tr>\n",
       "      <th>churn</th>\n",
       "      <td>0.23</td>\n",
       "      <td>0.02</td>\n",
       "      <td>0.22</td>\n",
       "      <td>0.19</td>\n",
       "      <td>0.35</td>\n",
       "      <td>0.02</td>\n",
       "      <td>0.26</td>\n",
       "      <td>0.20</td>\n",
       "      <td>0.26</td>\n",
       "      <td>0.05</td>\n",
       "      <td>1.00</td>\n",
       "    </tr>\n",
       "  </tbody>\n",
       "</table>\n",
       "</div>"
      ],
      "text/plain": [
       "               score  city  gender   age  equity  balance  products  \\\n",
       "score           1.00  0.09    0.07  0.03    0.53     0.17      0.42   \n",
       "city            0.09  1.00    0.01  0.09    0.06     0.04      0.13   \n",
       "gender          0.07  0.01    1.00  0.29    0.06     0.05      0.07   \n",
       "age             0.03  0.09    0.29  1.00    0.05     0.02      0.14   \n",
       "equity          0.53  0.06    0.06  0.05    1.00     0.00      0.58   \n",
       "balance         0.17  0.04    0.05  0.02    0.00     1.00      0.00   \n",
       "products        0.42  0.13    0.07  0.14    0.58     0.00      1.00   \n",
       "credit_card     0.21  0.07    0.20  0.16    0.22     0.00      0.27   \n",
       "last_activity   0.05  0.03    0.01  0.09    0.05     0.00      0.11   \n",
       "est_salary      0.40  0.17    0.14  0.36    0.29     0.37      0.22   \n",
       "churn           0.23  0.02    0.22  0.19    0.35     0.02      0.26   \n",
       "\n",
       "               credit_card  last_activity  est_salary  churn  \n",
       "score                 0.21           0.05        0.40   0.23  \n",
       "city                  0.07           0.03        0.17   0.02  \n",
       "gender                0.20           0.01        0.14   0.22  \n",
       "age                   0.16           0.09        0.36   0.19  \n",
       "equity                0.22           0.05        0.29   0.35  \n",
       "balance               0.00           0.00        0.37   0.02  \n",
       "products              0.27           0.11        0.22   0.26  \n",
       "credit_card           1.00           0.05        0.04   0.20  \n",
       "last_activity         0.05           1.00        0.04   0.26  \n",
       "est_salary            0.04           0.04        1.00   0.05  \n",
       "churn                 0.20           0.26        0.05   1.00  "
      ]
     },
     "execution_count": 27,
     "metadata": {},
     "output_type": "execute_result"
    }
   ],
   "source": [
    "# построим корреляционную матрицу\n",
    "\n",
    "phik_overview = bank_scrooge_slice.phik_matrix() \n",
    "phik_overview.round(2)"
   ]
  },
  {
   "cell_type": "code",
   "execution_count": 28,
   "metadata": {},
   "outputs": [
    {
     "data": {
      "image/png": "[encoded data removed]",
      "text/plain": [
       "<Figure size 720x576 with 2 Axes>"
      ]
     },
     "metadata": {},
     "output_type": "display_data"
    }
   ],
   "source": [
    "# Визуализируем корреляционную матрицу с помощью plot_correlation_matrix\n",
    "\n",
    "plot_correlation_matrix(phik_overview.values, \n",
    "                        x_labels=phik_overview.columns, \n",
    "                        y_labels=phik_overview.index, \n",
    "                        vmin=0, vmax=1, color_map=\"Greens\", \n",
    "                        title=r\"correlation $\\phi_K$\", \n",
    "                        fontsize_factor=1.5, \n",
    "                        figsize=(10, 8))\n",
    "plt.tight_layout()"
   ]
  },
  {
   "cell_type": "code",
   "execution_count": 29,
   "metadata": {},
   "outputs": [
    {
     "data": {
      "image/png": "[encoded data removed]",
      "text/plain": [
       "<Figure size 1080x432 with 2 Axes>"
      ]
     },
     "metadata": {},
     "output_type": "display_data"
    }
   ],
   "source": [
    "# Отобразим только один столбец из матрицы\n",
    "# Извлекаем корреляции с churn и сортируем\n",
    "df_corr_churn = phik_overview.loc[:, ['churn']].drop('churn').sort_values('churn')\n",
    "\n",
    "# Строим heatmap\n",
    "sns.heatmap(df_corr_churn, annot=True, fmt=\".0%\", cmap=\"Greens\"\n",
    "            , center=0, linewidths=0.5, linecolor='white')\n",
    "\n",
    "plt.title(\"Корреляция признака churn с другими признаками\") \n",
    "plt.show() "
   ]
  },
  {
   "cell_type": "markdown",
   "metadata": {},
   "source": [
    "**Проанализируем полученную корреляционную матрицу:**\n",
    "\n",
    "***Для интерпретации силы связи используем шкалу Чеддока***\n",
    "\n",
    "- 0 - 0.2 - очень слабая связь;\n",
    "\n",
    "- 0.2 - 0.4 - слабая связь;\n",
    "\n",
    "- 0.4 - 0.7 - средняя связь;\n",
    "\n",
    "- 0.7 - 0.9 - высокая связь;\n",
    "\n",
    "- 0.9 - 1 - очень высокая связь.\n",
    "\n",
    "---\n",
    "- Связь между оттоком (churn) и баллами собственности (equity) составляет около 0.35, что попадает в диапазон слабой связи согласно шкале Чеддока;\n",
    "\n",
    "- связь между оттоком (churn) и количеством используемых продуктов банка (products) равна 0.26, что так же попадает в диапазон слабой связи.\n",
    "\n",
    "- связь между оттоком (churn) и активностью клиента (last_activity) равна 0.26, что так же попадает в диапазон слабой связи.\n",
    "\n",
    "---\n",
    "- остальные связи между оттоком (churn) и другими признаками (оценочной зарплатой, активностью, наличием кредитной карты, балансом на счете, возрастом, полом, скорингом) очень слабые (близки к 0.0-0.2), это говорит о том, что эти характеристики по отдельности не являются основными факторами, влияющими на отток.\n",
    "\n",
    "\n",
    "---\n",
    "- Тот факт, что многие связи слабые, подчеркивает, что отток клиентов, скорее всего, является результатом комплексного взаимодействия нескольких факторов, а не отдельных характеристик. Нужно смотреть на комбинации признаков.\n"
   ]
  },
  {
   "cell_type": "markdown",
   "metadata": {},
   "source": [
    "# 4. Проверка статистических гипотез"
   ]
  },
  {
   "cell_type": "markdown",
   "metadata": {},
   "source": [
    "# 4.1 Гипотеза о равенстве доходов между ушедшими и оставшимися клиентами"
   ]
  },
  {
   "cell_type": "markdown",
   "metadata": {},
   "source": [
    "**Нулевая гипотеза:** доходы между ушедшими и оставшимися клиентами банка равны;\n",
    "\n",
    "\n",
    "**Альтернативная гипотеза:** доходы между ушедшими и оставшимися клиентами банка не равны;\n",
    "\n",
    "**Формулирование гипотез:**\n",
    "\n",
    "  - нулевая гипотеза формулируется через равенство;\n",
    "  - альтернативная через неравенство, в данном случае двусторонее.\n",
    "  \n",
    "**Критерий для проверки гипотез:**\n",
    "\n",
    "- Если, в ходе эксперимента отвергается нулевая гипотеза, принимается альтернативная."
   ]
  },
  {
   "cell_type": "code",
   "execution_count": 30,
   "metadata": {},
   "outputs": [
    {
     "name": "stdout",
     "output_type": "stream",
     "text": [
      "p-значение: 0.8500882387258035\n",
      "Не получилось отвергнуть нулевую гипотезу\n"
     ]
    }
   ],
   "source": [
    "# сделаем срезы ушедших и оставшихся клиентов по оценочному доходу\n",
    "\n",
    "churn_1 = bank_scrooge.query('(churn == 1)')['est_salary']\n",
    "churn_0 = bank_scrooge.query('(churn == 0)')['est_salary']\n",
    "\n",
    "alpha = 0.05 # уровень статистической значимости\n",
    "\n",
    "\n",
    "results = st.ttest_ind(churn_1, churn_0, nan_policy='omit')\n",
    "\n",
    "print('p-значение:', results.pvalue)\n",
    "\n",
    "if results.pvalue < alpha:\n",
    "    print('Отвергаем нулевую гипотезу')\n",
    "else:\n",
    "    print('Не получилось отвергнуть нулевую гипотезу')"
   ]
  },
  {
   "cell_type": "markdown",
   "metadata": {},
   "source": [
    "**Вывод:**\n",
    "\n",
    "- На имеющихся данных, на уровне значимости 5% (уровне доверия 95%) нет оснований отвергнуть нулевую гипотезу в пользу альтернативы.\n",
    "- Доходы между ушедшими и оставшимися клиентами банка равны"
   ]
  },
  {
   "cell_type": "markdown",
   "metadata": {},
   "source": [
    "**При проведении корреляционного анализа была обнаружена слабая связь между оттоком и баллами собственности, между оттоком и количеством используемых продуктов банка, а также между оттоком и активностью клиента. Это наводит на мысль проверить, есть ли статистически значимое влияние этих характеристик на отток клиентов.**\n",
    "\n",
    "***Поэтому сформулируем и проверим еще две гипотезы на основе выборок отточных и неотточных клиентов:*** \n",
    "\n",
    "- Гипотезу о влиянии баллов собственности на отток клиентов;\n",
    "\n",
    "- Гипотезу о влиянии количества используемых продуктов на отток клиентов;"
   ]
  },
  {
   "cell_type": "markdown",
   "metadata": {},
   "source": [
    "# 4.2 Гипотеза о влиянии баллов собственности на отток клиентов"
   ]
  },
  {
   "cell_type": "markdown",
   "metadata": {},
   "source": [
    "**Нулевая гипотеза:** распределения баллов собственности между ушедшими и оставшимися клиентами банка одинаковы ;\n",
    "\n",
    "\n",
    "**Альтернативная гипотеза:** распределения баллов собственности между ушедшими и оставшимися клиентами банка отличаются."
   ]
  },
  {
   "cell_type": "markdown",
   "metadata": {},
   "source": [
    "Так как у нас equity - это не нормальное распределение, мы будем использовать непараметрический U-критерий Манна-Уитни."
   ]
  },
  {
   "cell_type": "code",
   "execution_count": 31,
   "metadata": {},
   "outputs": [
    {
     "name": "stdout",
     "output_type": "stream",
     "text": [
      "p-значение: 2.0457230851173855e-157\n",
      "Отвергаем нулевую гипотезу\n"
     ]
    }
   ],
   "source": [
    "# сделаем срезы ушедших и оставшихся клиентов по количеству баллов собственности\n",
    "\n",
    "churn_1_equity = bank_scrooge.query('(churn == 1)')['equity']\n",
    "churn_0_equity = bank_scrooge.query('(churn == 0)')['equity']\n",
    "\n",
    "\n",
    "alpha = 0.05 # уровень статистической значимости\n",
    "\n",
    "results_equity = st.mannwhitneyu(churn_1_equity, churn_0_equity, nan_policy='omit')\n",
    "\n",
    "print('p-значение:', results_equity.pvalue)\n",
    "\n",
    "if results_equity.pvalue < alpha:\n",
    "    print('Отвергаем нулевую гипотезу')\n",
    "else:\n",
    "    print('Не получилось отвергнуть нулевую гипотезу')"
   ]
  },
  {
   "cell_type": "markdown",
   "metadata": {},
   "source": [
    "**Вывод:**\n",
    "\n",
    "- На имеющихся данных, на уровне значимости 5% (уровне доверия 95%) есть основания отвергнуть нулевую гипотезу в пользу альтернативы.\n",
    "- Распределения баллов собственности между ушедшими и оставшимися клиентами банка отличаются."
   ]
  },
  {
   "cell_type": "markdown",
   "metadata": {},
   "source": [
    "# 4.3 Гипотеза о влиянии количества используемых продуктов на отток клиентов"
   ]
  },
  {
   "cell_type": "markdown",
   "metadata": {},
   "source": [
    "**Нулевая гипотеза:** количество используемых продуктов банка между ушедшими и оставшимися клиентами равны;\n",
    "\n",
    "\n",
    "**Альтернативная гипотеза:** количество используемых продуктов банка между ушедшими и оставшимися клиентами не равны."
   ]
  },
  {
   "cell_type": "markdown",
   "metadata": {},
   "source": [
    "Так как у нас products - это не нормальное распределение, мы будем использовать непараметрический U-критерий Манна-Уитни."
   ]
  },
  {
   "cell_type": "code",
   "execution_count": 32,
   "metadata": {},
   "outputs": [
    {
     "name": "stdout",
     "output_type": "stream",
     "text": [
      "p-значение: 1.1812726611971905e-161\n",
      "Отвергаем нулевую гипотезу\n"
     ]
    }
   ],
   "source": [
    "# сделаем срезы ушедших и оставшихся клиентов по количеству продуктов, которые использует клиент\n",
    "\n",
    "churn_1_products = bank_scrooge.query('(churn == 1)')['products']\n",
    "churn_0_products = bank_scrooge.query('(churn == 0)')['products']\n",
    "\n",
    "alpha = 0.05 # уровень статистической значимости\n",
    "\n",
    "results_products = st.mannwhitneyu(churn_1_products, churn_0_products, nan_policy='omit')\n",
    "\n",
    "print('p-значение:', results_products.pvalue)\n",
    "\n",
    "if results_products.pvalue < alpha:\n",
    "    print('Отвергаем нулевую гипотезу')\n",
    "else:\n",
    "    print('Не получилось отвергнуть нулевую гипотезу')"
   ]
  },
  {
   "cell_type": "markdown",
   "metadata": {},
   "source": [
    "**Вывод:**\n",
    "\n",
    "- На имеющихся данных, на уровне значимости 5% (уровне доверия 95%) есть основания отвергнуть нулевую гипотезу в пользу альтернативы.\n",
    "- Количество используемых продуктов банка между ушедшими и оставшимися клиентами не равны."
   ]
  },
  {
   "cell_type": "markdown",
   "metadata": {},
   "source": [
    "# 5. Промежуточные выводы"
   ]
  },
  {
   "cell_type": "markdown",
   "metadata": {},
   "source": [
    " **Сделаем промежуточные выводы по исследовательскому и статистическому анализу данных, которые помогут нам провести сегментацию пользователей банка по нескольким признакам**\n",
    "\n",
    "---\n",
    "**Исследовательский анализ данных**\n",
    "\n",
    "***В ходе исследовательского анализа данных мы выделили признаки, которые влияют на отток клиентов:***\n",
    "\n",
    " -  Возраст (в диапазоне 26-35 лет или 50-59 лет);\n",
    "     \n",
    " -  Кредитный скоринг (между 825 и 935 баллами);\n",
    "      \n",
    " -  Количество баллов собственности (3 до 9 баллов);\n",
    "     \n",
    " -  Баланс на счете (760 000 или выше);\n",
    "   \n",
    " -  Количество продуктов банка (использует 4,3 продукта банка);\n",
    "     \n",
    " -  Оценочный доход (100 000 до 200 000);\n",
    "      \n",
    " -  Пол (мужской);\n",
    "       \n",
    " -  Кредитная карта (отсутствие)\n",
    "       \n",
    " -  Активность (является активным клиентом).\n",
    "   \n",
    "\n",
    "---\n",
    "**Резюме портрета:**\n",
    "\n",
    "  - Молодой (26-35) или предпенсионного возраста мужчина, с  доходом (100 000-200 000), высоким кредитным скорингом (825-935), имеющий 3-4 банковских продукта, но не кредитную карту и с балансом более 760 000, демонстрирующий высокую активность.\n",
    "  \n",
    " \n",
    " \n",
    "---\n",
    "**Ключевые различия в сводной таблице со статистиками по оттточным и неоточным клиентам:**\n",
    "\n",
    " - Пол (мужчины значительно чаще склонны к оттоку, чем женщины);\n",
    "\n",
    " - Баланс на счете (медианный баланс на счете значительно выше у отточных клиентов (около 784 тыс.) по сравнению с неотточными (около 475 тыс.));\n",
    "\n",
    " - Активность (отточные клиенты, демонстрируют большую активность в использовании банковских продуктов, чем лояльные клиенты).\n",
    "\n",
    "---\n",
    "**Корреляционный анализ данных** \n",
    "\n",
    "- В ходе корреляционного анализа, была обнаружена слабая связь между оттоком (churn) и баллами собственности (equity), оттоком (churn) и количеством используемых продуктов банка (products) и оттоком (churn) и активностью клиентов.\n",
    "\n",
    "---\n",
    "**Проверка статистических гипотез**\n",
    "\n",
    "- Было проверено три статистических гипотезы:\n",
    "\n",
    "  -  Гипотеза о равенстве доходов между ушедшими и оставшимися клиентами;\n",
    "  \n",
    "  -  Гипотеза о влиянии баллов собственности на отток клиентов;\n",
    "  \n",
    "  -  Гипотеза о влиянии количества используемых продуктов на отток клиентов;\n",
    "  \n",
    "  \n",
    "- В результате проверки статистических гипотез удалось выяснить, что, хотя доходы между ушедшими и оставшимися клиентами банка статистически не различаются, то распределение баллов собственности, а также количества продуктов (на основе U-критерия Манна-Уитни) между ушедшими и оставшимися клиентами банка статистически значимо отличаются.\n",
    "\n",
    "- Все гипотезы, кроме равенства доходов между ушедшими и оставшимися клиентами, были отвергнуты в пользу альтернативы.\n",
    "\n",
    "---\n",
    "**Выделим общие признаки, которые влияют на отток клиентов в банке:**\n",
    "\n",
    "- Пол (мужской);\n",
    "\n",
    "- Баланс на счете (760 000 или выше);\n",
    "\n",
    "- Активность (является активным клиентом);\n",
    "\n",
    "- Количество баллов собственности (3 до 9 баллов);\n",
    "\n",
    "- Количество продуктов банка (использует 4,3 продукта банка);\n",
    "\n",
    "- Кредитный скоринг (между 825 и 935 баллами)."
   ]
  },
  {
   "cell_type": "markdown",
   "metadata": {},
   "source": [
    "# 6.Сегментация пользователей банка"
   ]
  },
  {
   "cell_type": "markdown",
   "metadata": {},
   "source": [
    "# 6.1 Сегментация пользователей банка по трем признакам"
   ]
  },
  {
   "cell_type": "markdown",
   "metadata": {},
   "source": [
    "Выделим сегменты с численностью от 500 до 2000 клиентов."
   ]
  },
  {
   "cell_type": "code",
   "execution_count": 33,
   "metadata": {},
   "outputs": [],
   "source": [
    "# создадим фукцию,которая проанализирует сегменты клиентов на основе комбинаций из трех признаков\n",
    "# отфильтруем сегменты по размеру (от min_segment_size до max_segment_size)\n",
    "\n",
    "def combined_segment_analysis(df, features, balance_threshold=760000, products_values=[3, 4], score_low=825, score_high=935, min_segment_size=500, max_segment_size=2000):\n",
    "   \n",
    "\n",
    "    feature_names = list(features.keys())\n",
    "    \n",
    "    for feature_combination in combinations(feature_names, 3):\n",
    "        conditions = []\n",
    "        for feature in feature_combination:\n",
    "            if feature == 'gender':\n",
    "                conditions.append(f'gender == \"{features[feature]}\"')\n",
    "            elif feature == 'balance':\n",
    "                conditions.append(f'balance >= {balance_threshold}')\n",
    "            elif feature == 'last_activity':\n",
    "                conditions.append(f'last_activity == {features[feature]}')\n",
    "            elif feature == 'equity':\n",
    "                conditions.append(f'equity >= {features[feature][0]} and equity <= {features[feature][1]}')\n",
    "            elif feature == 'products':\n",
    "                products_str = \" or \".join([f\"products == {val}\" for val in products_values])\n",
    "                conditions.append(f'({products_str})')\n",
    "            elif feature == 'score':\n",
    "                conditions.append(f'score >= {score_low} and score <= {score_high}')\n",
    "\n",
    "        query_string = \" and \".join(conditions)\n",
    "\n",
    "        try:\n",
    "            segment = df.query(query_string)\n",
    "            \n",
    "            if segment.empty:\n",
    "                print(f\"\\n***Сегмент по признакам: {', '.join(feature_combination)}***\")\n",
    "                print(\"Нет клиентов, удовлетворяющих условию.\")\n",
    "            else:\n",
    "                segment_size = segment.shape[0]\n",
    "                if  min_segment_size <= segment_size <= max_segment_size:\n",
    "                    print(f\"\\n***Сегмент по признакам: {', '.join(feature_combination)}***\")\n",
    "                    display(segment.head())\n",
    "                    churn_count = segment['churn'].sum()\n",
    "                    print('Количество отточных клиентов в сегменте:', churn_count)\n",
    "                    print('Доля отточных клиентов данного сегмента, в %:', round(segment['churn'].mean() * 100))\n",
    "                    print('Количество клиентов в сегменте:', segment_size)\n",
    "                else:\n",
    "                    print(f\"\\n***Сегмент по признакам: {', '.join(feature_combination)}***\")\n",
    "                    print(f\"Размер сегмента {segment_size} не попадает в заданный диапазон от {min_segment_size} до {max_segment_size} клиентов\")\n",
    "        \n",
    "        except Exception as e:\n",
    "                print(f\"Ошибка при обработке комбинации {', '.join(feature_combination)}: {e}\")"
   ]
  },
  {
   "cell_type": "code",
   "execution_count": 34,
   "metadata": {},
   "outputs": [
    {
     "name": "stdout",
     "output_type": "stream",
     "text": [
      "\n",
      "***Сегмент по признакам: gender, balance, last_activity***\n"
     ]
    },
    {
     "data": {
      "text/html": [
       "<div>\n",
       "<style scoped>\n",
       "    .dataframe tbody tr th:only-of-type {\n",
       "        vertical-align: middle;\n",
       "    }\n",
       "\n",
       "    .dataframe tbody tr th {\n",
       "        vertical-align: top;\n",
       "    }\n",
       "\n",
       "    .dataframe thead th {\n",
       "        text-align: right;\n",
       "    }\n",
       "</style>\n",
       "<table border=\"1\" class=\"dataframe\">\n",
       "  <thead>\n",
       "    <tr style=\"text-align: right;\">\n",
       "      <th></th>\n",
       "      <th>user_id</th>\n",
       "      <th>score</th>\n",
       "      <th>city</th>\n",
       "      <th>gender</th>\n",
       "      <th>age</th>\n",
       "      <th>equity</th>\n",
       "      <th>balance</th>\n",
       "      <th>products</th>\n",
       "      <th>credit_card</th>\n",
       "      <th>last_activity</th>\n",
       "      <th>est_salary</th>\n",
       "      <th>churn</th>\n",
       "    </tr>\n",
       "  </thead>\n",
       "  <tbody>\n",
       "    <tr>\n",
       "      <th>35</th>\n",
       "      <td>221927</td>\n",
       "      <td>863</td>\n",
       "      <td>Ростов</td>\n",
       "      <td>М</td>\n",
       "      <td>39</td>\n",
       "      <td>5</td>\n",
       "      <td>1461423.33</td>\n",
       "      <td>1</td>\n",
       "      <td>0</td>\n",
       "      <td>1</td>\n",
       "      <td>221699.52</td>\n",
       "      <td>0</td>\n",
       "    </tr>\n",
       "    <tr>\n",
       "      <th>36</th>\n",
       "      <td>199614</td>\n",
       "      <td>822</td>\n",
       "      <td>Ярославль</td>\n",
       "      <td>М</td>\n",
       "      <td>60</td>\n",
       "      <td>5</td>\n",
       "      <td>1472483.77</td>\n",
       "      <td>1</td>\n",
       "      <td>1</td>\n",
       "      <td>1</td>\n",
       "      <td>89132.67</td>\n",
       "      <td>0</td>\n",
       "    </tr>\n",
       "    <tr>\n",
       "      <th>72</th>\n",
       "      <td>156677</td>\n",
       "      <td>873</td>\n",
       "      <td>Ярославль</td>\n",
       "      <td>М</td>\n",
       "      <td>39</td>\n",
       "      <td>5</td>\n",
       "      <td>915959.85</td>\n",
       "      <td>3</td>\n",
       "      <td>0</td>\n",
       "      <td>1</td>\n",
       "      <td>154034.62</td>\n",
       "      <td>1</td>\n",
       "    </tr>\n",
       "    <tr>\n",
       "      <th>77</th>\n",
       "      <td>191976</td>\n",
       "      <td>937</td>\n",
       "      <td>Ярославль</td>\n",
       "      <td>М</td>\n",
       "      <td>33</td>\n",
       "      <td>5</td>\n",
       "      <td>2061152.96</td>\n",
       "      <td>2</td>\n",
       "      <td>1</td>\n",
       "      <td>1</td>\n",
       "      <td>280670.62</td>\n",
       "      <td>1</td>\n",
       "    </tr>\n",
       "    <tr>\n",
       "      <th>79</th>\n",
       "      <td>191348</td>\n",
       "      <td>768</td>\n",
       "      <td>Ярославль</td>\n",
       "      <td>М</td>\n",
       "      <td>36</td>\n",
       "      <td>4</td>\n",
       "      <td>963460.20</td>\n",
       "      <td>2</td>\n",
       "      <td>1</td>\n",
       "      <td>1</td>\n",
       "      <td>120197.47</td>\n",
       "      <td>0</td>\n",
       "    </tr>\n",
       "  </tbody>\n",
       "</table>\n",
       "</div>"
      ],
      "text/plain": [
       "    user_id  score       city gender  age  equity     balance  products  \\\n",
       "35   221927    863     Ростов      М   39       5  1461423.33         1   \n",
       "36   199614    822  Ярославль      М   60       5  1472483.77         1   \n",
       "72   156677    873  Ярославль      М   39       5   915959.85         3   \n",
       "77   191976    937  Ярославль      М   33       5  2061152.96         2   \n",
       "79   191348    768  Ярославль      М   36       4   963460.20         2   \n",
       "\n",
       "    credit_card  last_activity  est_salary  churn  \n",
       "35            0              1   221699.52      0  \n",
       "36            1              1    89132.67      0  \n",
       "72            0              1   154034.62      1  \n",
       "77            1              1   280670.62      1  \n",
       "79            1              1   120197.47      0  "
      ]
     },
     "metadata": {},
     "output_type": "display_data"
    },
    {
     "name": "stdout",
     "output_type": "stream",
     "text": [
      "Количество отточных клиентов в сегменте: 421\n",
      "Доля отточных клиентов данного сегмента, в %: 60\n",
      "Количество клиентов в сегменте: 704\n",
      "\n",
      "***Сегмент по признакам: gender, balance, equity***\n"
     ]
    },
    {
     "data": {
      "text/html": [
       "<div>\n",
       "<style scoped>\n",
       "    .dataframe tbody tr th:only-of-type {\n",
       "        vertical-align: middle;\n",
       "    }\n",
       "\n",
       "    .dataframe tbody tr th {\n",
       "        vertical-align: top;\n",
       "    }\n",
       "\n",
       "    .dataframe thead th {\n",
       "        text-align: right;\n",
       "    }\n",
       "</style>\n",
       "<table border=\"1\" class=\"dataframe\">\n",
       "  <thead>\n",
       "    <tr style=\"text-align: right;\">\n",
       "      <th></th>\n",
       "      <th>user_id</th>\n",
       "      <th>score</th>\n",
       "      <th>city</th>\n",
       "      <th>gender</th>\n",
       "      <th>age</th>\n",
       "      <th>equity</th>\n",
       "      <th>balance</th>\n",
       "      <th>products</th>\n",
       "      <th>credit_card</th>\n",
       "      <th>last_activity</th>\n",
       "      <th>est_salary</th>\n",
       "      <th>churn</th>\n",
       "    </tr>\n",
       "  </thead>\n",
       "  <tbody>\n",
       "    <tr>\n",
       "      <th>5</th>\n",
       "      <td>202305</td>\n",
       "      <td>856</td>\n",
       "      <td>Рыбинск</td>\n",
       "      <td>М</td>\n",
       "      <td>56</td>\n",
       "      <td>4</td>\n",
       "      <td>863687.24</td>\n",
       "      <td>3</td>\n",
       "      <td>1</td>\n",
       "      <td>0</td>\n",
       "      <td>156619.80</td>\n",
       "      <td>0</td>\n",
       "    </tr>\n",
       "    <tr>\n",
       "      <th>8</th>\n",
       "      <td>211686</td>\n",
       "      <td>923</td>\n",
       "      <td>Ярославль</td>\n",
       "      <td>М</td>\n",
       "      <td>54</td>\n",
       "      <td>5</td>\n",
       "      <td>1206337.87</td>\n",
       "      <td>2</td>\n",
       "      <td>1</td>\n",
       "      <td>0</td>\n",
       "      <td>155371.79</td>\n",
       "      <td>0</td>\n",
       "    </tr>\n",
       "    <tr>\n",
       "      <th>15</th>\n",
       "      <td>120260</td>\n",
       "      <td>731</td>\n",
       "      <td>Рыбинск</td>\n",
       "      <td>М</td>\n",
       "      <td>42</td>\n",
       "      <td>3</td>\n",
       "      <td>1480548.47</td>\n",
       "      <td>3</td>\n",
       "      <td>1</td>\n",
       "      <td>0</td>\n",
       "      <td>160974.43</td>\n",
       "      <td>0</td>\n",
       "    </tr>\n",
       "    <tr>\n",
       "      <th>18</th>\n",
       "      <td>136651</td>\n",
       "      <td>876</td>\n",
       "      <td>Ярославль</td>\n",
       "      <td>М</td>\n",
       "      <td>40</td>\n",
       "      <td>5</td>\n",
       "      <td>2307947.36</td>\n",
       "      <td>2</td>\n",
       "      <td>0</td>\n",
       "      <td>0</td>\n",
       "      <td>287010.61</td>\n",
       "      <td>0</td>\n",
       "    </tr>\n",
       "    <tr>\n",
       "      <th>20</th>\n",
       "      <td>114192</td>\n",
       "      <td>772</td>\n",
       "      <td>Ростов</td>\n",
       "      <td>М</td>\n",
       "      <td>43</td>\n",
       "      <td>3</td>\n",
       "      <td>1315511.65</td>\n",
       "      <td>2</td>\n",
       "      <td>0</td>\n",
       "      <td>0</td>\n",
       "      <td>143935.71</td>\n",
       "      <td>0</td>\n",
       "    </tr>\n",
       "  </tbody>\n",
       "</table>\n",
       "</div>"
      ],
      "text/plain": [
       "    user_id  score       city gender  age  equity     balance  products  \\\n",
       "5    202305    856    Рыбинск      М   56       4   863687.24         3   \n",
       "8    211686    923  Ярославль      М   54       5  1206337.87         2   \n",
       "15   120260    731    Рыбинск      М   42       3  1480548.47         3   \n",
       "18   136651    876  Ярославль      М   40       5  2307947.36         2   \n",
       "20   114192    772     Ростов      М   43       3  1315511.65         2   \n",
       "\n",
       "    credit_card  last_activity  est_salary  churn  \n",
       "5             1              0   156619.80      0  \n",
       "8             1              0   155371.79      0  \n",
       "15            1              0   160974.43      0  \n",
       "18            0              0   287010.61      0  \n",
       "20            0              0   143935.71      0  "
      ]
     },
     "metadata": {},
     "output_type": "display_data"
    },
    {
     "name": "stdout",
     "output_type": "stream",
     "text": [
      "Количество отточных клиентов в сегменте: 580\n",
      "Доля отточных клиентов данного сегмента, в %: 46\n",
      "Количество клиентов в сегменте: 1255\n",
      "\n",
      "***Сегмент по признакам: gender, balance, products***\n",
      "Размер сегмента 357 не попадает в заданный диапазон от 500 до 2000 клиентов\n",
      "\n",
      "***Сегмент по признакам: gender, balance, score***\n"
     ]
    },
    {
     "data": {
      "text/html": [
       "<div>\n",
       "<style scoped>\n",
       "    .dataframe tbody tr th:only-of-type {\n",
       "        vertical-align: middle;\n",
       "    }\n",
       "\n",
       "    .dataframe tbody tr th {\n",
       "        vertical-align: top;\n",
       "    }\n",
       "\n",
       "    .dataframe thead th {\n",
       "        text-align: right;\n",
       "    }\n",
       "</style>\n",
       "<table border=\"1\" class=\"dataframe\">\n",
       "  <thead>\n",
       "    <tr style=\"text-align: right;\">\n",
       "      <th></th>\n",
       "      <th>user_id</th>\n",
       "      <th>score</th>\n",
       "      <th>city</th>\n",
       "      <th>gender</th>\n",
       "      <th>age</th>\n",
       "      <th>equity</th>\n",
       "      <th>balance</th>\n",
       "      <th>products</th>\n",
       "      <th>credit_card</th>\n",
       "      <th>last_activity</th>\n",
       "      <th>est_salary</th>\n",
       "      <th>churn</th>\n",
       "    </tr>\n",
       "  </thead>\n",
       "  <tbody>\n",
       "    <tr>\n",
       "      <th>5</th>\n",
       "      <td>202305</td>\n",
       "      <td>856</td>\n",
       "      <td>Рыбинск</td>\n",
       "      <td>М</td>\n",
       "      <td>56</td>\n",
       "      <td>4</td>\n",
       "      <td>863687.24</td>\n",
       "      <td>3</td>\n",
       "      <td>1</td>\n",
       "      <td>0</td>\n",
       "      <td>156619.80</td>\n",
       "      <td>0</td>\n",
       "    </tr>\n",
       "    <tr>\n",
       "      <th>8</th>\n",
       "      <td>211686</td>\n",
       "      <td>923</td>\n",
       "      <td>Ярославль</td>\n",
       "      <td>М</td>\n",
       "      <td>54</td>\n",
       "      <td>5</td>\n",
       "      <td>1206337.87</td>\n",
       "      <td>2</td>\n",
       "      <td>1</td>\n",
       "      <td>0</td>\n",
       "      <td>155371.79</td>\n",
       "      <td>0</td>\n",
       "    </tr>\n",
       "    <tr>\n",
       "      <th>18</th>\n",
       "      <td>136651</td>\n",
       "      <td>876</td>\n",
       "      <td>Ярославль</td>\n",
       "      <td>М</td>\n",
       "      <td>40</td>\n",
       "      <td>5</td>\n",
       "      <td>2307947.36</td>\n",
       "      <td>2</td>\n",
       "      <td>0</td>\n",
       "      <td>0</td>\n",
       "      <td>287010.61</td>\n",
       "      <td>0</td>\n",
       "    </tr>\n",
       "    <tr>\n",
       "      <th>35</th>\n",
       "      <td>221927</td>\n",
       "      <td>863</td>\n",
       "      <td>Ростов</td>\n",
       "      <td>М</td>\n",
       "      <td>39</td>\n",
       "      <td>5</td>\n",
       "      <td>1461423.33</td>\n",
       "      <td>1</td>\n",
       "      <td>0</td>\n",
       "      <td>1</td>\n",
       "      <td>221699.52</td>\n",
       "      <td>0</td>\n",
       "    </tr>\n",
       "    <tr>\n",
       "      <th>44</th>\n",
       "      <td>210313</td>\n",
       "      <td>935</td>\n",
       "      <td>Ярославль</td>\n",
       "      <td>М</td>\n",
       "      <td>41</td>\n",
       "      <td>5</td>\n",
       "      <td>3781118.22</td>\n",
       "      <td>2</td>\n",
       "      <td>1</td>\n",
       "      <td>0</td>\n",
       "      <td>761349.20</td>\n",
       "      <td>0</td>\n",
       "    </tr>\n",
       "  </tbody>\n",
       "</table>\n",
       "</div>"
      ],
      "text/plain": [
       "    user_id  score       city gender  age  equity     balance  products  \\\n",
       "5    202305    856    Рыбинск      М   56       4   863687.24         3   \n",
       "8    211686    923  Ярославль      М   54       5  1206337.87         2   \n",
       "18   136651    876  Ярославль      М   40       5  2307947.36         2   \n",
       "35   221927    863     Ростов      М   39       5  1461423.33         1   \n",
       "44   210313    935  Ярославль      М   41       5  3781118.22         2   \n",
       "\n",
       "    credit_card  last_activity  est_salary  churn  \n",
       "5             1              0   156619.80      0  \n",
       "8             1              0   155371.79      0  \n",
       "18            0              0   287010.61      0  \n",
       "35            0              1   221699.52      0  \n",
       "44            1              0   761349.20      0  "
      ]
     },
     "metadata": {},
     "output_type": "display_data"
    },
    {
     "name": "stdout",
     "output_type": "stream",
     "text": [
      "Количество отточных клиентов в сегменте: 481\n",
      "Доля отточных клиентов данного сегмента, в %: 52\n",
      "Количество клиентов в сегменте: 920\n",
      "\n",
      "***Сегмент по признакам: gender, last_activity, equity***\n"
     ]
    },
    {
     "data": {
      "text/html": [
       "<div>\n",
       "<style scoped>\n",
       "    .dataframe tbody tr th:only-of-type {\n",
       "        vertical-align: middle;\n",
       "    }\n",
       "\n",
       "    .dataframe tbody tr th {\n",
       "        vertical-align: top;\n",
       "    }\n",
       "\n",
       "    .dataframe thead th {\n",
       "        text-align: right;\n",
       "    }\n",
       "</style>\n",
       "<table border=\"1\" class=\"dataframe\">\n",
       "  <thead>\n",
       "    <tr style=\"text-align: right;\">\n",
       "      <th></th>\n",
       "      <th>user_id</th>\n",
       "      <th>score</th>\n",
       "      <th>city</th>\n",
       "      <th>gender</th>\n",
       "      <th>age</th>\n",
       "      <th>equity</th>\n",
       "      <th>balance</th>\n",
       "      <th>products</th>\n",
       "      <th>credit_card</th>\n",
       "      <th>last_activity</th>\n",
       "      <th>est_salary</th>\n",
       "      <th>churn</th>\n",
       "    </tr>\n",
       "  </thead>\n",
       "  <tbody>\n",
       "    <tr>\n",
       "      <th>14</th>\n",
       "      <td>172138</td>\n",
       "      <td>815</td>\n",
       "      <td>Ярославль</td>\n",
       "      <td>М</td>\n",
       "      <td>35</td>\n",
       "      <td>5</td>\n",
       "      <td>547499.87</td>\n",
       "      <td>2</td>\n",
       "      <td>1</td>\n",
       "      <td>1</td>\n",
       "      <td>105883.26</td>\n",
       "      <td>0</td>\n",
       "    </tr>\n",
       "    <tr>\n",
       "      <th>16</th>\n",
       "      <td>123335</td>\n",
       "      <td>829</td>\n",
       "      <td>Ярославль</td>\n",
       "      <td>М</td>\n",
       "      <td>45</td>\n",
       "      <td>5</td>\n",
       "      <td>507842.84</td>\n",
       "      <td>1</td>\n",
       "      <td>1</td>\n",
       "      <td>1</td>\n",
       "      <td>169330.64</td>\n",
       "      <td>0</td>\n",
       "    </tr>\n",
       "    <tr>\n",
       "      <th>35</th>\n",
       "      <td>221927</td>\n",
       "      <td>863</td>\n",
       "      <td>Ростов</td>\n",
       "      <td>М</td>\n",
       "      <td>39</td>\n",
       "      <td>5</td>\n",
       "      <td>1461423.33</td>\n",
       "      <td>1</td>\n",
       "      <td>0</td>\n",
       "      <td>1</td>\n",
       "      <td>221699.52</td>\n",
       "      <td>0</td>\n",
       "    </tr>\n",
       "    <tr>\n",
       "      <th>36</th>\n",
       "      <td>199614</td>\n",
       "      <td>822</td>\n",
       "      <td>Ярославль</td>\n",
       "      <td>М</td>\n",
       "      <td>60</td>\n",
       "      <td>5</td>\n",
       "      <td>1472483.77</td>\n",
       "      <td>1</td>\n",
       "      <td>1</td>\n",
       "      <td>1</td>\n",
       "      <td>89132.67</td>\n",
       "      <td>0</td>\n",
       "    </tr>\n",
       "    <tr>\n",
       "      <th>45</th>\n",
       "      <td>118849</td>\n",
       "      <td>826</td>\n",
       "      <td>Ярославль</td>\n",
       "      <td>М</td>\n",
       "      <td>31</td>\n",
       "      <td>4</td>\n",
       "      <td>333330.99</td>\n",
       "      <td>1</td>\n",
       "      <td>1</td>\n",
       "      <td>1</td>\n",
       "      <td>46981.53</td>\n",
       "      <td>0</td>\n",
       "    </tr>\n",
       "  </tbody>\n",
       "</table>\n",
       "</div>"
      ],
      "text/plain": [
       "    user_id  score       city gender  age  equity     balance  products  \\\n",
       "14   172138    815  Ярославль      М   35       5   547499.87         2   \n",
       "16   123335    829  Ярославль      М   45       5   507842.84         1   \n",
       "35   221927    863     Ростов      М   39       5  1461423.33         1   \n",
       "36   199614    822  Ярославль      М   60       5  1472483.77         1   \n",
       "45   118849    826  Ярославль      М   31       4   333330.99         1   \n",
       "\n",
       "    credit_card  last_activity  est_salary  churn  \n",
       "14            1              1   105883.26      0  \n",
       "16            1              1   169330.64      0  \n",
       "35            0              1   221699.52      0  \n",
       "36            1              1    89132.67      0  \n",
       "45            1              1    46981.53      0  "
      ]
     },
     "metadata": {},
     "output_type": "display_data"
    },
    {
     "name": "stdout",
     "output_type": "stream",
     "text": [
      "Количество отточных клиентов в сегменте: 650\n",
      "Доля отточных клиентов данного сегмента, в %: 46\n",
      "Количество клиентов в сегменте: 1408\n",
      "\n",
      "***Сегмент по признакам: gender, last_activity, products***\n",
      "Размер сегмента 405 не попадает в заданный диапазон от 500 до 2000 клиентов\n",
      "\n",
      "***Сегмент по признакам: gender, last_activity, score***\n"
     ]
    },
    {
     "data": {
      "text/html": [
       "<div>\n",
       "<style scoped>\n",
       "    .dataframe tbody tr th:only-of-type {\n",
       "        vertical-align: middle;\n",
       "    }\n",
       "\n",
       "    .dataframe tbody tr th {\n",
       "        vertical-align: top;\n",
       "    }\n",
       "\n",
       "    .dataframe thead th {\n",
       "        text-align: right;\n",
       "    }\n",
       "</style>\n",
       "<table border=\"1\" class=\"dataframe\">\n",
       "  <thead>\n",
       "    <tr style=\"text-align: right;\">\n",
       "      <th></th>\n",
       "      <th>user_id</th>\n",
       "      <th>score</th>\n",
       "      <th>city</th>\n",
       "      <th>gender</th>\n",
       "      <th>age</th>\n",
       "      <th>equity</th>\n",
       "      <th>balance</th>\n",
       "      <th>products</th>\n",
       "      <th>credit_card</th>\n",
       "      <th>last_activity</th>\n",
       "      <th>est_salary</th>\n",
       "      <th>churn</th>\n",
       "    </tr>\n",
       "  </thead>\n",
       "  <tbody>\n",
       "    <tr>\n",
       "      <th>10</th>\n",
       "      <td>148929</td>\n",
       "      <td>927</td>\n",
       "      <td>Ростов</td>\n",
       "      <td>М</td>\n",
       "      <td>52</td>\n",
       "      <td>0</td>\n",
       "      <td>NaN</td>\n",
       "      <td>1</td>\n",
       "      <td>1</td>\n",
       "      <td>1</td>\n",
       "      <td>196820.07</td>\n",
       "      <td>0</td>\n",
       "    </tr>\n",
       "    <tr>\n",
       "      <th>11</th>\n",
       "      <td>172184</td>\n",
       "      <td>921</td>\n",
       "      <td>Ростов</td>\n",
       "      <td>М</td>\n",
       "      <td>41</td>\n",
       "      <td>0</td>\n",
       "      <td>NaN</td>\n",
       "      <td>1</td>\n",
       "      <td>1</td>\n",
       "      <td>1</td>\n",
       "      <td>217469.48</td>\n",
       "      <td>0</td>\n",
       "    </tr>\n",
       "    <tr>\n",
       "      <th>16</th>\n",
       "      <td>123335</td>\n",
       "      <td>829</td>\n",
       "      <td>Ярославль</td>\n",
       "      <td>М</td>\n",
       "      <td>45</td>\n",
       "      <td>5</td>\n",
       "      <td>507842.84</td>\n",
       "      <td>1</td>\n",
       "      <td>1</td>\n",
       "      <td>1</td>\n",
       "      <td>169330.64</td>\n",
       "      <td>0</td>\n",
       "    </tr>\n",
       "    <tr>\n",
       "      <th>35</th>\n",
       "      <td>221927</td>\n",
       "      <td>863</td>\n",
       "      <td>Ростов</td>\n",
       "      <td>М</td>\n",
       "      <td>39</td>\n",
       "      <td>5</td>\n",
       "      <td>1461423.33</td>\n",
       "      <td>1</td>\n",
       "      <td>0</td>\n",
       "      <td>1</td>\n",
       "      <td>221699.52</td>\n",
       "      <td>0</td>\n",
       "    </tr>\n",
       "    <tr>\n",
       "      <th>45</th>\n",
       "      <td>118849</td>\n",
       "      <td>826</td>\n",
       "      <td>Ярославль</td>\n",
       "      <td>М</td>\n",
       "      <td>31</td>\n",
       "      <td>4</td>\n",
       "      <td>333330.99</td>\n",
       "      <td>1</td>\n",
       "      <td>1</td>\n",
       "      <td>1</td>\n",
       "      <td>46981.53</td>\n",
       "      <td>0</td>\n",
       "    </tr>\n",
       "  </tbody>\n",
       "</table>\n",
       "</div>"
      ],
      "text/plain": [
       "    user_id  score       city gender  age  equity     balance  products  \\\n",
       "10   148929    927     Ростов      М   52       0         NaN         1   \n",
       "11   172184    921     Ростов      М   41       0         NaN         1   \n",
       "16   123335    829  Ярославль      М   45       5   507842.84         1   \n",
       "35   221927    863     Ростов      М   39       5  1461423.33         1   \n",
       "45   118849    826  Ярославль      М   31       4   333330.99         1   \n",
       "\n",
       "    credit_card  last_activity  est_salary  churn  \n",
       "10            1              1   196820.07      0  \n",
       "11            1              1   217469.48      0  \n",
       "16            1              1   169330.64      0  \n",
       "35            0              1   221699.52      0  \n",
       "45            1              1    46981.53      0  "
      ]
     },
     "metadata": {},
     "output_type": "display_data"
    },
    {
     "name": "stdout",
     "output_type": "stream",
     "text": [
      "Количество отточных клиентов в сегменте: 561\n",
      "Доля отточных клиентов данного сегмента, в %: 41\n",
      "Количество клиентов в сегменте: 1366\n",
      "\n",
      "***Сегмент по признакам: gender, equity, products***\n"
     ]
    },
    {
     "data": {
      "text/html": [
       "<div>\n",
       "<style scoped>\n",
       "    .dataframe tbody tr th:only-of-type {\n",
       "        vertical-align: middle;\n",
       "    }\n",
       "\n",
       "    .dataframe tbody tr th {\n",
       "        vertical-align: top;\n",
       "    }\n",
       "\n",
       "    .dataframe thead th {\n",
       "        text-align: right;\n",
       "    }\n",
       "</style>\n",
       "<table border=\"1\" class=\"dataframe\">\n",
       "  <thead>\n",
       "    <tr style=\"text-align: right;\">\n",
       "      <th></th>\n",
       "      <th>user_id</th>\n",
       "      <th>score</th>\n",
       "      <th>city</th>\n",
       "      <th>gender</th>\n",
       "      <th>age</th>\n",
       "      <th>equity</th>\n",
       "      <th>balance</th>\n",
       "      <th>products</th>\n",
       "      <th>credit_card</th>\n",
       "      <th>last_activity</th>\n",
       "      <th>est_salary</th>\n",
       "      <th>churn</th>\n",
       "    </tr>\n",
       "  </thead>\n",
       "  <tbody>\n",
       "    <tr>\n",
       "      <th>5</th>\n",
       "      <td>202305</td>\n",
       "      <td>856</td>\n",
       "      <td>Рыбинск</td>\n",
       "      <td>М</td>\n",
       "      <td>56</td>\n",
       "      <td>4</td>\n",
       "      <td>863687.24</td>\n",
       "      <td>3</td>\n",
       "      <td>1</td>\n",
       "      <td>0</td>\n",
       "      <td>156619.80</td>\n",
       "      <td>0</td>\n",
       "    </tr>\n",
       "    <tr>\n",
       "      <th>15</th>\n",
       "      <td>120260</td>\n",
       "      <td>731</td>\n",
       "      <td>Рыбинск</td>\n",
       "      <td>М</td>\n",
       "      <td>42</td>\n",
       "      <td>3</td>\n",
       "      <td>1480548.47</td>\n",
       "      <td>3</td>\n",
       "      <td>1</td>\n",
       "      <td>0</td>\n",
       "      <td>160974.43</td>\n",
       "      <td>0</td>\n",
       "    </tr>\n",
       "    <tr>\n",
       "      <th>72</th>\n",
       "      <td>156677</td>\n",
       "      <td>873</td>\n",
       "      <td>Ярославль</td>\n",
       "      <td>М</td>\n",
       "      <td>39</td>\n",
       "      <td>5</td>\n",
       "      <td>915959.85</td>\n",
       "      <td>3</td>\n",
       "      <td>0</td>\n",
       "      <td>1</td>\n",
       "      <td>154034.62</td>\n",
       "      <td>1</td>\n",
       "    </tr>\n",
       "    <tr>\n",
       "      <th>81</th>\n",
       "      <td>223978</td>\n",
       "      <td>850</td>\n",
       "      <td>Рыбинск</td>\n",
       "      <td>М</td>\n",
       "      <td>34</td>\n",
       "      <td>5</td>\n",
       "      <td>351583.16</td>\n",
       "      <td>4</td>\n",
       "      <td>0</td>\n",
       "      <td>1</td>\n",
       "      <td>115354.97</td>\n",
       "      <td>1</td>\n",
       "    </tr>\n",
       "    <tr>\n",
       "      <th>160</th>\n",
       "      <td>171716</td>\n",
       "      <td>908</td>\n",
       "      <td>Рыбинск</td>\n",
       "      <td>М</td>\n",
       "      <td>30</td>\n",
       "      <td>3</td>\n",
       "      <td>245237.57</td>\n",
       "      <td>4</td>\n",
       "      <td>1</td>\n",
       "      <td>1</td>\n",
       "      <td>78324.89</td>\n",
       "      <td>1</td>\n",
       "    </tr>\n",
       "  </tbody>\n",
       "</table>\n",
       "</div>"
      ],
      "text/plain": [
       "     user_id  score       city gender  age  equity     balance  products  \\\n",
       "5     202305    856    Рыбинск      М   56       4   863687.24         3   \n",
       "15    120260    731    Рыбинск      М   42       3  1480548.47         3   \n",
       "72    156677    873  Ярославль      М   39       5   915959.85         3   \n",
       "81    223978    850    Рыбинск      М   34       5   351583.16         4   \n",
       "160   171716    908    Рыбинск      М   30       3   245237.57         4   \n",
       "\n",
       "     credit_card  last_activity  est_salary  churn  \n",
       "5              1              0   156619.80      0  \n",
       "15             1              0   160974.43      0  \n",
       "72             0              1   154034.62      1  \n",
       "81             0              1   115354.97      1  \n",
       "160            1              1    78324.89      1  "
      ]
     },
     "metadata": {},
     "output_type": "display_data"
    },
    {
     "name": "stdout",
     "output_type": "stream",
     "text": [
      "Количество отточных клиентов в сегменте: 327\n",
      "Доля отточных клиентов данного сегмента, в %: 54\n",
      "Количество клиентов в сегменте: 608\n",
      "\n",
      "***Сегмент по признакам: gender, equity, score***\n"
     ]
    },
    {
     "data": {
      "text/html": [
       "<div>\n",
       "<style scoped>\n",
       "    .dataframe tbody tr th:only-of-type {\n",
       "        vertical-align: middle;\n",
       "    }\n",
       "\n",
       "    .dataframe tbody tr th {\n",
       "        vertical-align: top;\n",
       "    }\n",
       "\n",
       "    .dataframe thead th {\n",
       "        text-align: right;\n",
       "    }\n",
       "</style>\n",
       "<table border=\"1\" class=\"dataframe\">\n",
       "  <thead>\n",
       "    <tr style=\"text-align: right;\">\n",
       "      <th></th>\n",
       "      <th>user_id</th>\n",
       "      <th>score</th>\n",
       "      <th>city</th>\n",
       "      <th>gender</th>\n",
       "      <th>age</th>\n",
       "      <th>equity</th>\n",
       "      <th>balance</th>\n",
       "      <th>products</th>\n",
       "      <th>credit_card</th>\n",
       "      <th>last_activity</th>\n",
       "      <th>est_salary</th>\n",
       "      <th>churn</th>\n",
       "    </tr>\n",
       "  </thead>\n",
       "  <tbody>\n",
       "    <tr>\n",
       "      <th>5</th>\n",
       "      <td>202305</td>\n",
       "      <td>856</td>\n",
       "      <td>Рыбинск</td>\n",
       "      <td>М</td>\n",
       "      <td>56</td>\n",
       "      <td>4</td>\n",
       "      <td>863687.24</td>\n",
       "      <td>3</td>\n",
       "      <td>1</td>\n",
       "      <td>0</td>\n",
       "      <td>156619.80</td>\n",
       "      <td>0</td>\n",
       "    </tr>\n",
       "    <tr>\n",
       "      <th>8</th>\n",
       "      <td>211686</td>\n",
       "      <td>923</td>\n",
       "      <td>Ярославль</td>\n",
       "      <td>М</td>\n",
       "      <td>54</td>\n",
       "      <td>5</td>\n",
       "      <td>1206337.87</td>\n",
       "      <td>2</td>\n",
       "      <td>1</td>\n",
       "      <td>0</td>\n",
       "      <td>155371.79</td>\n",
       "      <td>0</td>\n",
       "    </tr>\n",
       "    <tr>\n",
       "      <th>16</th>\n",
       "      <td>123335</td>\n",
       "      <td>829</td>\n",
       "      <td>Ярославль</td>\n",
       "      <td>М</td>\n",
       "      <td>45</td>\n",
       "      <td>5</td>\n",
       "      <td>507842.84</td>\n",
       "      <td>1</td>\n",
       "      <td>1</td>\n",
       "      <td>1</td>\n",
       "      <td>169330.64</td>\n",
       "      <td>0</td>\n",
       "    </tr>\n",
       "    <tr>\n",
       "      <th>18</th>\n",
       "      <td>136651</td>\n",
       "      <td>876</td>\n",
       "      <td>Ярославль</td>\n",
       "      <td>М</td>\n",
       "      <td>40</td>\n",
       "      <td>5</td>\n",
       "      <td>2307947.36</td>\n",
       "      <td>2</td>\n",
       "      <td>0</td>\n",
       "      <td>0</td>\n",
       "      <td>287010.61</td>\n",
       "      <td>0</td>\n",
       "    </tr>\n",
       "    <tr>\n",
       "      <th>22</th>\n",
       "      <td>161656</td>\n",
       "      <td>871</td>\n",
       "      <td>Ярославль</td>\n",
       "      <td>М</td>\n",
       "      <td>51</td>\n",
       "      <td>4</td>\n",
       "      <td>708866.92</td>\n",
       "      <td>1</td>\n",
       "      <td>1</td>\n",
       "      <td>0</td>\n",
       "      <td>106407.26</td>\n",
       "      <td>0</td>\n",
       "    </tr>\n",
       "  </tbody>\n",
       "</table>\n",
       "</div>"
      ],
      "text/plain": [
       "    user_id  score       city gender  age  equity     balance  products  \\\n",
       "5    202305    856    Рыбинск      М   56       4   863687.24         3   \n",
       "8    211686    923  Ярославль      М   54       5  1206337.87         2   \n",
       "16   123335    829  Ярославль      М   45       5   507842.84         1   \n",
       "18   136651    876  Ярославль      М   40       5  2307947.36         2   \n",
       "22   161656    871  Ярославль      М   51       4   708866.92         1   \n",
       "\n",
       "    credit_card  last_activity  est_salary  churn  \n",
       "5             1              0   156619.80      0  \n",
       "8             1              0   155371.79      0  \n",
       "16            1              1   169330.64      0  \n",
       "18            0              0   287010.61      0  \n",
       "22            1              0   106407.26      0  "
      ]
     },
     "metadata": {},
     "output_type": "display_data"
    },
    {
     "name": "stdout",
     "output_type": "stream",
     "text": [
      "Количество отточных клиентов в сегменте: 726\n",
      "Доля отточных клиентов данного сегмента, в %: 44\n",
      "Количество клиентов в сегменте: 1657\n",
      "\n",
      "***Сегмент по признакам: gender, products, score***\n",
      "Размер сегмента 434 не попадает в заданный диапазон от 500 до 2000 клиентов\n",
      "\n",
      "***Сегмент по признакам: balance, last_activity, equity***\n"
     ]
    },
    {
     "data": {
      "text/html": [
       "<div>\n",
       "<style scoped>\n",
       "    .dataframe tbody tr th:only-of-type {\n",
       "        vertical-align: middle;\n",
       "    }\n",
       "\n",
       "    .dataframe tbody tr th {\n",
       "        vertical-align: top;\n",
       "    }\n",
       "\n",
       "    .dataframe thead th {\n",
       "        text-align: right;\n",
       "    }\n",
       "</style>\n",
       "<table border=\"1\" class=\"dataframe\">\n",
       "  <thead>\n",
       "    <tr style=\"text-align: right;\">\n",
       "      <th></th>\n",
       "      <th>user_id</th>\n",
       "      <th>score</th>\n",
       "      <th>city</th>\n",
       "      <th>gender</th>\n",
       "      <th>age</th>\n",
       "      <th>equity</th>\n",
       "      <th>balance</th>\n",
       "      <th>products</th>\n",
       "      <th>credit_card</th>\n",
       "      <th>last_activity</th>\n",
       "      <th>est_salary</th>\n",
       "      <th>churn</th>\n",
       "    </tr>\n",
       "  </thead>\n",
       "  <tbody>\n",
       "    <tr>\n",
       "      <th>3</th>\n",
       "      <td>225363</td>\n",
       "      <td>866</td>\n",
       "      <td>Ярославль</td>\n",
       "      <td>Ж</td>\n",
       "      <td>51</td>\n",
       "      <td>5</td>\n",
       "      <td>1524746.26</td>\n",
       "      <td>2</td>\n",
       "      <td>0</td>\n",
       "      <td>1</td>\n",
       "      <td>174423.53</td>\n",
       "      <td>1</td>\n",
       "    </tr>\n",
       "    <tr>\n",
       "      <th>35</th>\n",
       "      <td>221927</td>\n",
       "      <td>863</td>\n",
       "      <td>Ростов</td>\n",
       "      <td>М</td>\n",
       "      <td>39</td>\n",
       "      <td>5</td>\n",
       "      <td>1461423.33</td>\n",
       "      <td>1</td>\n",
       "      <td>0</td>\n",
       "      <td>1</td>\n",
       "      <td>221699.52</td>\n",
       "      <td>0</td>\n",
       "    </tr>\n",
       "    <tr>\n",
       "      <th>36</th>\n",
       "      <td>199614</td>\n",
       "      <td>822</td>\n",
       "      <td>Ярославль</td>\n",
       "      <td>М</td>\n",
       "      <td>60</td>\n",
       "      <td>5</td>\n",
       "      <td>1472483.77</td>\n",
       "      <td>1</td>\n",
       "      <td>1</td>\n",
       "      <td>1</td>\n",
       "      <td>89132.67</td>\n",
       "      <td>0</td>\n",
       "    </tr>\n",
       "    <tr>\n",
       "      <th>72</th>\n",
       "      <td>156677</td>\n",
       "      <td>873</td>\n",
       "      <td>Ярославль</td>\n",
       "      <td>М</td>\n",
       "      <td>39</td>\n",
       "      <td>5</td>\n",
       "      <td>915959.85</td>\n",
       "      <td>3</td>\n",
       "      <td>0</td>\n",
       "      <td>1</td>\n",
       "      <td>154034.62</td>\n",
       "      <td>1</td>\n",
       "    </tr>\n",
       "    <tr>\n",
       "      <th>74</th>\n",
       "      <td>222208</td>\n",
       "      <td>950</td>\n",
       "      <td>Рыбинск</td>\n",
       "      <td>Ж</td>\n",
       "      <td>43</td>\n",
       "      <td>4</td>\n",
       "      <td>2332677.14</td>\n",
       "      <td>2</td>\n",
       "      <td>1</td>\n",
       "      <td>1</td>\n",
       "      <td>301845.59</td>\n",
       "      <td>0</td>\n",
       "    </tr>\n",
       "  </tbody>\n",
       "</table>\n",
       "</div>"
      ],
      "text/plain": [
       "    user_id  score       city gender  age  equity     balance  products  \\\n",
       "3    225363    866  Ярославль      Ж   51       5  1524746.26         2   \n",
       "35   221927    863     Ростов      М   39       5  1461423.33         1   \n",
       "36   199614    822  Ярославль      М   60       5  1472483.77         1   \n",
       "72   156677    873  Ярославль      М   39       5   915959.85         3   \n",
       "74   222208    950    Рыбинск      Ж   43       4  2332677.14         2   \n",
       "\n",
       "    credit_card  last_activity  est_salary  churn  \n",
       "3             0              1   174423.53      1  \n",
       "35            0              1   221699.52      0  \n",
       "36            1              1    89132.67      0  \n",
       "72            0              1   154034.62      1  \n",
       "74            1              1   301845.59      0  "
      ]
     },
     "metadata": {},
     "output_type": "display_data"
    },
    {
     "name": "stdout",
     "output_type": "stream",
     "text": [
      "Количество отточных клиентов в сегменте: 639\n",
      "Доля отточных клиентов данного сегмента, в %: 50\n",
      "Количество клиентов в сегменте: 1279\n",
      "\n",
      "***Сегмент по признакам: balance, last_activity, products***\n",
      "Размер сегмента 376 не попадает в заданный диапазон от 500 до 2000 клиентов\n",
      "\n",
      "***Сегмент по признакам: balance, last_activity, score***\n"
     ]
    },
    {
     "data": {
      "text/html": [
       "<div>\n",
       "<style scoped>\n",
       "    .dataframe tbody tr th:only-of-type {\n",
       "        vertical-align: middle;\n",
       "    }\n",
       "\n",
       "    .dataframe tbody tr th {\n",
       "        vertical-align: top;\n",
       "    }\n",
       "\n",
       "    .dataframe thead th {\n",
       "        text-align: right;\n",
       "    }\n",
       "</style>\n",
       "<table border=\"1\" class=\"dataframe\">\n",
       "  <thead>\n",
       "    <tr style=\"text-align: right;\">\n",
       "      <th></th>\n",
       "      <th>user_id</th>\n",
       "      <th>score</th>\n",
       "      <th>city</th>\n",
       "      <th>gender</th>\n",
       "      <th>age</th>\n",
       "      <th>equity</th>\n",
       "      <th>balance</th>\n",
       "      <th>products</th>\n",
       "      <th>credit_card</th>\n",
       "      <th>last_activity</th>\n",
       "      <th>est_salary</th>\n",
       "      <th>churn</th>\n",
       "    </tr>\n",
       "  </thead>\n",
       "  <tbody>\n",
       "    <tr>\n",
       "      <th>3</th>\n",
       "      <td>225363</td>\n",
       "      <td>866</td>\n",
       "      <td>Ярославль</td>\n",
       "      <td>Ж</td>\n",
       "      <td>51</td>\n",
       "      <td>5</td>\n",
       "      <td>1524746.26</td>\n",
       "      <td>2</td>\n",
       "      <td>0</td>\n",
       "      <td>1</td>\n",
       "      <td>174423.53</td>\n",
       "      <td>1</td>\n",
       "    </tr>\n",
       "    <tr>\n",
       "      <th>35</th>\n",
       "      <td>221927</td>\n",
       "      <td>863</td>\n",
       "      <td>Ростов</td>\n",
       "      <td>М</td>\n",
       "      <td>39</td>\n",
       "      <td>5</td>\n",
       "      <td>1461423.33</td>\n",
       "      <td>1</td>\n",
       "      <td>0</td>\n",
       "      <td>1</td>\n",
       "      <td>221699.52</td>\n",
       "      <td>0</td>\n",
       "    </tr>\n",
       "    <tr>\n",
       "      <th>72</th>\n",
       "      <td>156677</td>\n",
       "      <td>873</td>\n",
       "      <td>Ярославль</td>\n",
       "      <td>М</td>\n",
       "      <td>39</td>\n",
       "      <td>5</td>\n",
       "      <td>915959.85</td>\n",
       "      <td>3</td>\n",
       "      <td>0</td>\n",
       "      <td>1</td>\n",
       "      <td>154034.62</td>\n",
       "      <td>1</td>\n",
       "    </tr>\n",
       "    <tr>\n",
       "      <th>76</th>\n",
       "      <td>213688</td>\n",
       "      <td>922</td>\n",
       "      <td>Ярославль</td>\n",
       "      <td>Ж</td>\n",
       "      <td>37</td>\n",
       "      <td>5</td>\n",
       "      <td>1214707.38</td>\n",
       "      <td>4</td>\n",
       "      <td>0</td>\n",
       "      <td>1</td>\n",
       "      <td>85121.07</td>\n",
       "      <td>0</td>\n",
       "    </tr>\n",
       "    <tr>\n",
       "      <th>82</th>\n",
       "      <td>155573</td>\n",
       "      <td>893</td>\n",
       "      <td>Рыбинск</td>\n",
       "      <td>Ж</td>\n",
       "      <td>48</td>\n",
       "      <td>5</td>\n",
       "      <td>1156992.03</td>\n",
       "      <td>1</td>\n",
       "      <td>1</td>\n",
       "      <td>1</td>\n",
       "      <td>112279.51</td>\n",
       "      <td>0</td>\n",
       "    </tr>\n",
       "  </tbody>\n",
       "</table>\n",
       "</div>"
      ],
      "text/plain": [
       "    user_id  score       city gender  age  equity     balance  products  \\\n",
       "3    225363    866  Ярославль      Ж   51       5  1524746.26         2   \n",
       "35   221927    863     Ростов      М   39       5  1461423.33         1   \n",
       "72   156677    873  Ярославль      М   39       5   915959.85         3   \n",
       "76   213688    922  Ярославль      Ж   37       5  1214707.38         4   \n",
       "82   155573    893    Рыбинск      Ж   48       5  1156992.03         1   \n",
       "\n",
       "    credit_card  last_activity  est_salary  churn  \n",
       "3             0              1   174423.53      1  \n",
       "35            0              1   221699.52      0  \n",
       "72            0              1   154034.62      1  \n",
       "76            0              1    85121.07      0  \n",
       "82            1              1   112279.51      0  "
      ]
     },
     "metadata": {},
     "output_type": "display_data"
    },
    {
     "name": "stdout",
     "output_type": "stream",
     "text": [
      "Количество отточных клиентов в сегменте: 552\n",
      "Доля отточных клиентов данного сегмента, в %: 59\n",
      "Количество клиентов в сегменте: 931\n",
      "\n",
      "***Сегмент по признакам: balance, equity, products***\n"
     ]
    },
    {
     "data": {
      "text/html": [
       "<div>\n",
       "<style scoped>\n",
       "    .dataframe tbody tr th:only-of-type {\n",
       "        vertical-align: middle;\n",
       "    }\n",
       "\n",
       "    .dataframe tbody tr th {\n",
       "        vertical-align: top;\n",
       "    }\n",
       "\n",
       "    .dataframe thead th {\n",
       "        text-align: right;\n",
       "    }\n",
       "</style>\n",
       "<table border=\"1\" class=\"dataframe\">\n",
       "  <thead>\n",
       "    <tr style=\"text-align: right;\">\n",
       "      <th></th>\n",
       "      <th>user_id</th>\n",
       "      <th>score</th>\n",
       "      <th>city</th>\n",
       "      <th>gender</th>\n",
       "      <th>age</th>\n",
       "      <th>equity</th>\n",
       "      <th>balance</th>\n",
       "      <th>products</th>\n",
       "      <th>credit_card</th>\n",
       "      <th>last_activity</th>\n",
       "      <th>est_salary</th>\n",
       "      <th>churn</th>\n",
       "    </tr>\n",
       "  </thead>\n",
       "  <tbody>\n",
       "    <tr>\n",
       "      <th>1</th>\n",
       "      <td>146556</td>\n",
       "      <td>861</td>\n",
       "      <td>Рыбинск</td>\n",
       "      <td>Ж</td>\n",
       "      <td>37</td>\n",
       "      <td>5</td>\n",
       "      <td>850594.33</td>\n",
       "      <td>3</td>\n",
       "      <td>1</td>\n",
       "      <td>0</td>\n",
       "      <td>86621.77</td>\n",
       "      <td>0</td>\n",
       "    </tr>\n",
       "    <tr>\n",
       "      <th>5</th>\n",
       "      <td>202305</td>\n",
       "      <td>856</td>\n",
       "      <td>Рыбинск</td>\n",
       "      <td>М</td>\n",
       "      <td>56</td>\n",
       "      <td>4</td>\n",
       "      <td>863687.24</td>\n",
       "      <td>3</td>\n",
       "      <td>1</td>\n",
       "      <td>0</td>\n",
       "      <td>156619.80</td>\n",
       "      <td>0</td>\n",
       "    </tr>\n",
       "    <tr>\n",
       "      <th>15</th>\n",
       "      <td>120260</td>\n",
       "      <td>731</td>\n",
       "      <td>Рыбинск</td>\n",
       "      <td>М</td>\n",
       "      <td>42</td>\n",
       "      <td>3</td>\n",
       "      <td>1480548.47</td>\n",
       "      <td>3</td>\n",
       "      <td>1</td>\n",
       "      <td>0</td>\n",
       "      <td>160974.43</td>\n",
       "      <td>0</td>\n",
       "    </tr>\n",
       "    <tr>\n",
       "      <th>72</th>\n",
       "      <td>156677</td>\n",
       "      <td>873</td>\n",
       "      <td>Ярославль</td>\n",
       "      <td>М</td>\n",
       "      <td>39</td>\n",
       "      <td>5</td>\n",
       "      <td>915959.85</td>\n",
       "      <td>3</td>\n",
       "      <td>0</td>\n",
       "      <td>1</td>\n",
       "      <td>154034.62</td>\n",
       "      <td>1</td>\n",
       "    </tr>\n",
       "    <tr>\n",
       "      <th>76</th>\n",
       "      <td>213688</td>\n",
       "      <td>922</td>\n",
       "      <td>Ярославль</td>\n",
       "      <td>Ж</td>\n",
       "      <td>37</td>\n",
       "      <td>5</td>\n",
       "      <td>1214707.38</td>\n",
       "      <td>4</td>\n",
       "      <td>0</td>\n",
       "      <td>1</td>\n",
       "      <td>85121.07</td>\n",
       "      <td>0</td>\n",
       "    </tr>\n",
       "  </tbody>\n",
       "</table>\n",
       "</div>"
      ],
      "text/plain": [
       "    user_id  score       city gender  age  equity     balance  products  \\\n",
       "1    146556    861    Рыбинск      Ж   37       5   850594.33         3   \n",
       "5    202305    856    Рыбинск      М   56       4   863687.24         3   \n",
       "15   120260    731    Рыбинск      М   42       3  1480548.47         3   \n",
       "72   156677    873  Ярославль      М   39       5   915959.85         3   \n",
       "76   213688    922  Ярославль      Ж   37       5  1214707.38         4   \n",
       "\n",
       "    credit_card  last_activity  est_salary  churn  \n",
       "1             1              0    86621.77      0  \n",
       "5             1              0   156619.80      0  \n",
       "15            1              0   160974.43      0  \n",
       "72            0              1   154034.62      1  \n",
       "76            0              1    85121.07      0  "
      ]
     },
     "metadata": {},
     "output_type": "display_data"
    },
    {
     "name": "stdout",
     "output_type": "stream",
     "text": [
      "Количество отточных клиентов в сегменте: 353\n",
      "Доля отточных клиентов данного сегмента, в %: 54\n",
      "Количество клиентов в сегменте: 658\n",
      "\n",
      "***Сегмент по признакам: balance, equity, score***\n"
     ]
    },
    {
     "data": {
      "text/html": [
       "<div>\n",
       "<style scoped>\n",
       "    .dataframe tbody tr th:only-of-type {\n",
       "        vertical-align: middle;\n",
       "    }\n",
       "\n",
       "    .dataframe tbody tr th {\n",
       "        vertical-align: top;\n",
       "    }\n",
       "\n",
       "    .dataframe thead th {\n",
       "        text-align: right;\n",
       "    }\n",
       "</style>\n",
       "<table border=\"1\" class=\"dataframe\">\n",
       "  <thead>\n",
       "    <tr style=\"text-align: right;\">\n",
       "      <th></th>\n",
       "      <th>user_id</th>\n",
       "      <th>score</th>\n",
       "      <th>city</th>\n",
       "      <th>gender</th>\n",
       "      <th>age</th>\n",
       "      <th>equity</th>\n",
       "      <th>balance</th>\n",
       "      <th>products</th>\n",
       "      <th>credit_card</th>\n",
       "      <th>last_activity</th>\n",
       "      <th>est_salary</th>\n",
       "      <th>churn</th>\n",
       "    </tr>\n",
       "  </thead>\n",
       "  <tbody>\n",
       "    <tr>\n",
       "      <th>1</th>\n",
       "      <td>146556</td>\n",
       "      <td>861</td>\n",
       "      <td>Рыбинск</td>\n",
       "      <td>Ж</td>\n",
       "      <td>37</td>\n",
       "      <td>5</td>\n",
       "      <td>850594.33</td>\n",
       "      <td>3</td>\n",
       "      <td>1</td>\n",
       "      <td>0</td>\n",
       "      <td>86621.77</td>\n",
       "      <td>0</td>\n",
       "    </tr>\n",
       "    <tr>\n",
       "      <th>3</th>\n",
       "      <td>225363</td>\n",
       "      <td>866</td>\n",
       "      <td>Ярославль</td>\n",
       "      <td>Ж</td>\n",
       "      <td>51</td>\n",
       "      <td>5</td>\n",
       "      <td>1524746.26</td>\n",
       "      <td>2</td>\n",
       "      <td>0</td>\n",
       "      <td>1</td>\n",
       "      <td>174423.53</td>\n",
       "      <td>1</td>\n",
       "    </tr>\n",
       "    <tr>\n",
       "      <th>5</th>\n",
       "      <td>202305</td>\n",
       "      <td>856</td>\n",
       "      <td>Рыбинск</td>\n",
       "      <td>М</td>\n",
       "      <td>56</td>\n",
       "      <td>4</td>\n",
       "      <td>863687.24</td>\n",
       "      <td>3</td>\n",
       "      <td>1</td>\n",
       "      <td>0</td>\n",
       "      <td>156619.80</td>\n",
       "      <td>0</td>\n",
       "    </tr>\n",
       "    <tr>\n",
       "      <th>8</th>\n",
       "      <td>211686</td>\n",
       "      <td>923</td>\n",
       "      <td>Ярославль</td>\n",
       "      <td>М</td>\n",
       "      <td>54</td>\n",
       "      <td>5</td>\n",
       "      <td>1206337.87</td>\n",
       "      <td>2</td>\n",
       "      <td>1</td>\n",
       "      <td>0</td>\n",
       "      <td>155371.79</td>\n",
       "      <td>0</td>\n",
       "    </tr>\n",
       "    <tr>\n",
       "      <th>18</th>\n",
       "      <td>136651</td>\n",
       "      <td>876</td>\n",
       "      <td>Ярославль</td>\n",
       "      <td>М</td>\n",
       "      <td>40</td>\n",
       "      <td>5</td>\n",
       "      <td>2307947.36</td>\n",
       "      <td>2</td>\n",
       "      <td>0</td>\n",
       "      <td>0</td>\n",
       "      <td>287010.61</td>\n",
       "      <td>0</td>\n",
       "    </tr>\n",
       "  </tbody>\n",
       "</table>\n",
       "</div>"
      ],
      "text/plain": [
       "    user_id  score       city gender  age  equity     balance  products  \\\n",
       "1    146556    861    Рыбинск      Ж   37       5   850594.33         3   \n",
       "3    225363    866  Ярославль      Ж   51       5  1524746.26         2   \n",
       "5    202305    856    Рыбинск      М   56       4   863687.24         3   \n",
       "8    211686    923  Ярославль      М   54       5  1206337.87         2   \n",
       "18   136651    876  Ярославль      М   40       5  2307947.36         2   \n",
       "\n",
       "    credit_card  last_activity  est_salary  churn  \n",
       "1             1              0    86621.77      0  \n",
       "3             0              1   174423.53      1  \n",
       "5             1              0   156619.80      0  \n",
       "8             1              0   155371.79      0  \n",
       "18            0              0   287010.61      0  "
      ]
     },
     "metadata": {},
     "output_type": "display_data"
    },
    {
     "name": "stdout",
     "output_type": "stream",
     "text": [
      "Количество отточных клиентов в сегменте: 695\n",
      "Доля отточных клиентов данного сегмента, в %: 42\n",
      "Количество клиентов в сегменте: 1666\n",
      "\n",
      "***Сегмент по признакам: balance, products, score***\n",
      "Размер сегмента 458 не попадает в заданный диапазон от 500 до 2000 клиентов\n",
      "\n",
      "***Сегмент по признакам: last_activity, equity, products***\n"
     ]
    },
    {
     "data": {
      "text/html": [
       "<div>\n",
       "<style scoped>\n",
       "    .dataframe tbody tr th:only-of-type {\n",
       "        vertical-align: middle;\n",
       "    }\n",
       "\n",
       "    .dataframe tbody tr th {\n",
       "        vertical-align: top;\n",
       "    }\n",
       "\n",
       "    .dataframe thead th {\n",
       "        text-align: right;\n",
       "    }\n",
       "</style>\n",
       "<table border=\"1\" class=\"dataframe\">\n",
       "  <thead>\n",
       "    <tr style=\"text-align: right;\">\n",
       "      <th></th>\n",
       "      <th>user_id</th>\n",
       "      <th>score</th>\n",
       "      <th>city</th>\n",
       "      <th>gender</th>\n",
       "      <th>age</th>\n",
       "      <th>equity</th>\n",
       "      <th>balance</th>\n",
       "      <th>products</th>\n",
       "      <th>credit_card</th>\n",
       "      <th>last_activity</th>\n",
       "      <th>est_salary</th>\n",
       "      <th>churn</th>\n",
       "    </tr>\n",
       "  </thead>\n",
       "  <tbody>\n",
       "    <tr>\n",
       "      <th>6</th>\n",
       "      <td>177259</td>\n",
       "      <td>807</td>\n",
       "      <td>Ярославль</td>\n",
       "      <td>Ж</td>\n",
       "      <td>39</td>\n",
       "      <td>3</td>\n",
       "      <td>405042.44</td>\n",
       "      <td>3</td>\n",
       "      <td>0</td>\n",
       "      <td>1</td>\n",
       "      <td>103838.32</td>\n",
       "      <td>0</td>\n",
       "    </tr>\n",
       "    <tr>\n",
       "      <th>26</th>\n",
       "      <td>174396</td>\n",
       "      <td>898</td>\n",
       "      <td>Ярославль</td>\n",
       "      <td>Ж</td>\n",
       "      <td>62</td>\n",
       "      <td>3</td>\n",
       "      <td>364049.27</td>\n",
       "      <td>3</td>\n",
       "      <td>0</td>\n",
       "      <td>1</td>\n",
       "      <td>50661.84</td>\n",
       "      <td>0</td>\n",
       "    </tr>\n",
       "    <tr>\n",
       "      <th>33</th>\n",
       "      <td>125478</td>\n",
       "      <td>786</td>\n",
       "      <td>Ростов</td>\n",
       "      <td>Ж</td>\n",
       "      <td>27</td>\n",
       "      <td>3</td>\n",
       "      <td>448062.52</td>\n",
       "      <td>3</td>\n",
       "      <td>1</td>\n",
       "      <td>1</td>\n",
       "      <td>37607.67</td>\n",
       "      <td>0</td>\n",
       "    </tr>\n",
       "    <tr>\n",
       "      <th>72</th>\n",
       "      <td>156677</td>\n",
       "      <td>873</td>\n",
       "      <td>Ярославль</td>\n",
       "      <td>М</td>\n",
       "      <td>39</td>\n",
       "      <td>5</td>\n",
       "      <td>915959.85</td>\n",
       "      <td>3</td>\n",
       "      <td>0</td>\n",
       "      <td>1</td>\n",
       "      <td>154034.62</td>\n",
       "      <td>1</td>\n",
       "    </tr>\n",
       "    <tr>\n",
       "      <th>76</th>\n",
       "      <td>213688</td>\n",
       "      <td>922</td>\n",
       "      <td>Ярославль</td>\n",
       "      <td>Ж</td>\n",
       "      <td>37</td>\n",
       "      <td>5</td>\n",
       "      <td>1214707.38</td>\n",
       "      <td>4</td>\n",
       "      <td>0</td>\n",
       "      <td>1</td>\n",
       "      <td>85121.07</td>\n",
       "      <td>0</td>\n",
       "    </tr>\n",
       "  </tbody>\n",
       "</table>\n",
       "</div>"
      ],
      "text/plain": [
       "    user_id  score       city gender  age  equity     balance  products  \\\n",
       "6    177259    807  Ярославль      Ж   39       3   405042.44         3   \n",
       "26   174396    898  Ярославль      Ж   62       3   364049.27         3   \n",
       "33   125478    786     Ростов      Ж   27       3   448062.52         3   \n",
       "72   156677    873  Ярославль      М   39       5   915959.85         3   \n",
       "76   213688    922  Ярославль      Ж   37       5  1214707.38         4   \n",
       "\n",
       "    credit_card  last_activity  est_salary  churn  \n",
       "6             0              1   103838.32      0  \n",
       "26            0              1    50661.84      0  \n",
       "33            1              1    37607.67      0  \n",
       "72            0              1   154034.62      1  \n",
       "76            0              1    85121.07      0  "
      ]
     },
     "metadata": {},
     "output_type": "display_data"
    },
    {
     "name": "stdout",
     "output_type": "stream",
     "text": [
      "Количество отточных клиентов в сегменте: 337\n",
      "Доля отточных клиентов данного сегмента, в %: 51\n",
      "Количество клиентов в сегменте: 663\n",
      "\n",
      "***Сегмент по признакам: last_activity, equity, score***\n"
     ]
    },
    {
     "data": {
      "text/html": [
       "<div>\n",
       "<style scoped>\n",
       "    .dataframe tbody tr th:only-of-type {\n",
       "        vertical-align: middle;\n",
       "    }\n",
       "\n",
       "    .dataframe tbody tr th {\n",
       "        vertical-align: top;\n",
       "    }\n",
       "\n",
       "    .dataframe thead th {\n",
       "        text-align: right;\n",
       "    }\n",
       "</style>\n",
       "<table border=\"1\" class=\"dataframe\">\n",
       "  <thead>\n",
       "    <tr style=\"text-align: right;\">\n",
       "      <th></th>\n",
       "      <th>user_id</th>\n",
       "      <th>score</th>\n",
       "      <th>city</th>\n",
       "      <th>gender</th>\n",
       "      <th>age</th>\n",
       "      <th>equity</th>\n",
       "      <th>balance</th>\n",
       "      <th>products</th>\n",
       "      <th>credit_card</th>\n",
       "      <th>last_activity</th>\n",
       "      <th>est_salary</th>\n",
       "      <th>churn</th>\n",
       "    </tr>\n",
       "  </thead>\n",
       "  <tbody>\n",
       "    <tr>\n",
       "      <th>3</th>\n",
       "      <td>225363</td>\n",
       "      <td>866</td>\n",
       "      <td>Ярославль</td>\n",
       "      <td>Ж</td>\n",
       "      <td>51</td>\n",
       "      <td>5</td>\n",
       "      <td>1524746.26</td>\n",
       "      <td>2</td>\n",
       "      <td>0</td>\n",
       "      <td>1</td>\n",
       "      <td>174423.53</td>\n",
       "      <td>1</td>\n",
       "    </tr>\n",
       "    <tr>\n",
       "      <th>7</th>\n",
       "      <td>218868</td>\n",
       "      <td>825</td>\n",
       "      <td>Ярославль</td>\n",
       "      <td>Ж</td>\n",
       "      <td>38</td>\n",
       "      <td>4</td>\n",
       "      <td>458145.40</td>\n",
       "      <td>2</td>\n",
       "      <td>1</td>\n",
       "      <td>1</td>\n",
       "      <td>68085.48</td>\n",
       "      <td>0</td>\n",
       "    </tr>\n",
       "    <tr>\n",
       "      <th>12</th>\n",
       "      <td>132970</td>\n",
       "      <td>845</td>\n",
       "      <td>Ярославль</td>\n",
       "      <td>Ж</td>\n",
       "      <td>31</td>\n",
       "      <td>3</td>\n",
       "      <td>591928.52</td>\n",
       "      <td>2</td>\n",
       "      <td>1</td>\n",
       "      <td>1</td>\n",
       "      <td>112697.16</td>\n",
       "      <td>1</td>\n",
       "    </tr>\n",
       "    <tr>\n",
       "      <th>13</th>\n",
       "      <td>166357</td>\n",
       "      <td>837</td>\n",
       "      <td>Рыбинск</td>\n",
       "      <td>Ж</td>\n",
       "      <td>28</td>\n",
       "      <td>4</td>\n",
       "      <td>302249.22</td>\n",
       "      <td>2</td>\n",
       "      <td>0</td>\n",
       "      <td>1</td>\n",
       "      <td>30950.94</td>\n",
       "      <td>0</td>\n",
       "    </tr>\n",
       "    <tr>\n",
       "      <th>16</th>\n",
       "      <td>123335</td>\n",
       "      <td>829</td>\n",
       "      <td>Ярославль</td>\n",
       "      <td>М</td>\n",
       "      <td>45</td>\n",
       "      <td>5</td>\n",
       "      <td>507842.84</td>\n",
       "      <td>1</td>\n",
       "      <td>1</td>\n",
       "      <td>1</td>\n",
       "      <td>169330.64</td>\n",
       "      <td>0</td>\n",
       "    </tr>\n",
       "  </tbody>\n",
       "</table>\n",
       "</div>"
      ],
      "text/plain": [
       "    user_id  score       city gender  age  equity     balance  products  \\\n",
       "3    225363    866  Ярославль      Ж   51       5  1524746.26         2   \n",
       "7    218868    825  Ярославль      Ж   38       4   458145.40         2   \n",
       "12   132970    845  Ярославль      Ж   31       3   591928.52         2   \n",
       "13   166357    837    Рыбинск      Ж   28       4   302249.22         2   \n",
       "16   123335    829  Ярославль      М   45       5   507842.84         1   \n",
       "\n",
       "    credit_card  last_activity  est_salary  churn  \n",
       "3             0              1   174423.53      1  \n",
       "7             1              1    68085.48      0  \n",
       "12            1              1   112697.16      1  \n",
       "13            0              1    30950.94      0  \n",
       "16            1              1   169330.64      0  "
      ]
     },
     "metadata": {},
     "output_type": "display_data"
    },
    {
     "name": "stdout",
     "output_type": "stream",
     "text": [
      "Количество отточных клиентов в сегменте: 869\n",
      "Доля отточных клиентов данного сегмента, в %: 49\n",
      "Количество клиентов в сегменте: 1757\n",
      "\n",
      "***Сегмент по признакам: last_activity, products, score***\n"
     ]
    },
    {
     "data": {
      "text/html": [
       "<div>\n",
       "<style scoped>\n",
       "    .dataframe tbody tr th:only-of-type {\n",
       "        vertical-align: middle;\n",
       "    }\n",
       "\n",
       "    .dataframe tbody tr th {\n",
       "        vertical-align: top;\n",
       "    }\n",
       "\n",
       "    .dataframe thead th {\n",
       "        text-align: right;\n",
       "    }\n",
       "</style>\n",
       "<table border=\"1\" class=\"dataframe\">\n",
       "  <thead>\n",
       "    <tr style=\"text-align: right;\">\n",
       "      <th></th>\n",
       "      <th>user_id</th>\n",
       "      <th>score</th>\n",
       "      <th>city</th>\n",
       "      <th>gender</th>\n",
       "      <th>age</th>\n",
       "      <th>equity</th>\n",
       "      <th>balance</th>\n",
       "      <th>products</th>\n",
       "      <th>credit_card</th>\n",
       "      <th>last_activity</th>\n",
       "      <th>est_salary</th>\n",
       "      <th>churn</th>\n",
       "    </tr>\n",
       "  </thead>\n",
       "  <tbody>\n",
       "    <tr>\n",
       "      <th>26</th>\n",
       "      <td>174396</td>\n",
       "      <td>898</td>\n",
       "      <td>Ярославль</td>\n",
       "      <td>Ж</td>\n",
       "      <td>62</td>\n",
       "      <td>3</td>\n",
       "      <td>364049.27</td>\n",
       "      <td>3</td>\n",
       "      <td>0</td>\n",
       "      <td>1</td>\n",
       "      <td>50661.84</td>\n",
       "      <td>0</td>\n",
       "    </tr>\n",
       "    <tr>\n",
       "      <th>72</th>\n",
       "      <td>156677</td>\n",
       "      <td>873</td>\n",
       "      <td>Ярославль</td>\n",
       "      <td>М</td>\n",
       "      <td>39</td>\n",
       "      <td>5</td>\n",
       "      <td>915959.85</td>\n",
       "      <td>3</td>\n",
       "      <td>0</td>\n",
       "      <td>1</td>\n",
       "      <td>154034.62</td>\n",
       "      <td>1</td>\n",
       "    </tr>\n",
       "    <tr>\n",
       "      <th>76</th>\n",
       "      <td>213688</td>\n",
       "      <td>922</td>\n",
       "      <td>Ярославль</td>\n",
       "      <td>Ж</td>\n",
       "      <td>37</td>\n",
       "      <td>5</td>\n",
       "      <td>1214707.38</td>\n",
       "      <td>4</td>\n",
       "      <td>0</td>\n",
       "      <td>1</td>\n",
       "      <td>85121.07</td>\n",
       "      <td>0</td>\n",
       "    </tr>\n",
       "    <tr>\n",
       "      <th>81</th>\n",
       "      <td>223978</td>\n",
       "      <td>850</td>\n",
       "      <td>Рыбинск</td>\n",
       "      <td>М</td>\n",
       "      <td>34</td>\n",
       "      <td>5</td>\n",
       "      <td>351583.16</td>\n",
       "      <td>4</td>\n",
       "      <td>0</td>\n",
       "      <td>1</td>\n",
       "      <td>115354.97</td>\n",
       "      <td>1</td>\n",
       "    </tr>\n",
       "    <tr>\n",
       "      <th>103</th>\n",
       "      <td>128618</td>\n",
       "      <td>841</td>\n",
       "      <td>Ростов</td>\n",
       "      <td>М</td>\n",
       "      <td>29</td>\n",
       "      <td>1</td>\n",
       "      <td>175505.11</td>\n",
       "      <td>4</td>\n",
       "      <td>1</td>\n",
       "      <td>1</td>\n",
       "      <td>48188.69</td>\n",
       "      <td>0</td>\n",
       "    </tr>\n",
       "  </tbody>\n",
       "</table>\n",
       "</div>"
      ],
      "text/plain": [
       "     user_id  score       city gender  age  equity     balance  products  \\\n",
       "26    174396    898  Ярославль      Ж   62       3   364049.27         3   \n",
       "72    156677    873  Ярославль      М   39       5   915959.85         3   \n",
       "76    213688    922  Ярославль      Ж   37       5  1214707.38         4   \n",
       "81    223978    850    Рыбинск      М   34       5   351583.16         4   \n",
       "103   128618    841     Ростов      М   29       1   175505.11         4   \n",
       "\n",
       "     credit_card  last_activity  est_salary  churn  \n",
       "26             0              1    50661.84      0  \n",
       "72             0              1   154034.62      1  \n",
       "76             0              1    85121.07      0  \n",
       "81             0              1   115354.97      1  \n",
       "103            1              1    48188.69      0  "
      ]
     },
     "metadata": {},
     "output_type": "display_data"
    },
    {
     "name": "stdout",
     "output_type": "stream",
     "text": [
      "Количество отточных клиентов в сегменте: 281\n",
      "Доля отточных клиентов данного сегмента, в %: 56\n",
      "Количество клиентов в сегменте: 503\n",
      "\n",
      "***Сегмент по признакам: equity, products, score***\n"
     ]
    },
    {
     "data": {
      "text/html": [
       "<div>\n",
       "<style scoped>\n",
       "    .dataframe tbody tr th:only-of-type {\n",
       "        vertical-align: middle;\n",
       "    }\n",
       "\n",
       "    .dataframe tbody tr th {\n",
       "        vertical-align: top;\n",
       "    }\n",
       "\n",
       "    .dataframe thead th {\n",
       "        text-align: right;\n",
       "    }\n",
       "</style>\n",
       "<table border=\"1\" class=\"dataframe\">\n",
       "  <thead>\n",
       "    <tr style=\"text-align: right;\">\n",
       "      <th></th>\n",
       "      <th>user_id</th>\n",
       "      <th>score</th>\n",
       "      <th>city</th>\n",
       "      <th>gender</th>\n",
       "      <th>age</th>\n",
       "      <th>equity</th>\n",
       "      <th>balance</th>\n",
       "      <th>products</th>\n",
       "      <th>credit_card</th>\n",
       "      <th>last_activity</th>\n",
       "      <th>est_salary</th>\n",
       "      <th>churn</th>\n",
       "    </tr>\n",
       "  </thead>\n",
       "  <tbody>\n",
       "    <tr>\n",
       "      <th>1</th>\n",
       "      <td>146556</td>\n",
       "      <td>861</td>\n",
       "      <td>Рыбинск</td>\n",
       "      <td>Ж</td>\n",
       "      <td>37</td>\n",
       "      <td>5</td>\n",
       "      <td>850594.33</td>\n",
       "      <td>3</td>\n",
       "      <td>1</td>\n",
       "      <td>0</td>\n",
       "      <td>86621.77</td>\n",
       "      <td>0</td>\n",
       "    </tr>\n",
       "    <tr>\n",
       "      <th>5</th>\n",
       "      <td>202305</td>\n",
       "      <td>856</td>\n",
       "      <td>Рыбинск</td>\n",
       "      <td>М</td>\n",
       "      <td>56</td>\n",
       "      <td>4</td>\n",
       "      <td>863687.24</td>\n",
       "      <td>3</td>\n",
       "      <td>1</td>\n",
       "      <td>0</td>\n",
       "      <td>156619.80</td>\n",
       "      <td>0</td>\n",
       "    </tr>\n",
       "    <tr>\n",
       "      <th>26</th>\n",
       "      <td>174396</td>\n",
       "      <td>898</td>\n",
       "      <td>Ярославль</td>\n",
       "      <td>Ж</td>\n",
       "      <td>62</td>\n",
       "      <td>3</td>\n",
       "      <td>364049.27</td>\n",
       "      <td>3</td>\n",
       "      <td>0</td>\n",
       "      <td>1</td>\n",
       "      <td>50661.84</td>\n",
       "      <td>0</td>\n",
       "    </tr>\n",
       "    <tr>\n",
       "      <th>72</th>\n",
       "      <td>156677</td>\n",
       "      <td>873</td>\n",
       "      <td>Ярославль</td>\n",
       "      <td>М</td>\n",
       "      <td>39</td>\n",
       "      <td>5</td>\n",
       "      <td>915959.85</td>\n",
       "      <td>3</td>\n",
       "      <td>0</td>\n",
       "      <td>1</td>\n",
       "      <td>154034.62</td>\n",
       "      <td>1</td>\n",
       "    </tr>\n",
       "    <tr>\n",
       "      <th>76</th>\n",
       "      <td>213688</td>\n",
       "      <td>922</td>\n",
       "      <td>Ярославль</td>\n",
       "      <td>Ж</td>\n",
       "      <td>37</td>\n",
       "      <td>5</td>\n",
       "      <td>1214707.38</td>\n",
       "      <td>4</td>\n",
       "      <td>0</td>\n",
       "      <td>1</td>\n",
       "      <td>85121.07</td>\n",
       "      <td>0</td>\n",
       "    </tr>\n",
       "  </tbody>\n",
       "</table>\n",
       "</div>"
      ],
      "text/plain": [
       "    user_id  score       city gender  age  equity     balance  products  \\\n",
       "1    146556    861    Рыбинск      Ж   37       5   850594.33         3   \n",
       "5    202305    856    Рыбинск      М   56       4   863687.24         3   \n",
       "26   174396    898  Ярославль      Ж   62       3   364049.27         3   \n",
       "72   156677    873  Ярославль      М   39       5   915959.85         3   \n",
       "76   213688    922  Ярославль      Ж   37       5  1214707.38         4   \n",
       "\n",
       "    credit_card  last_activity  est_salary  churn  \n",
       "1             1              0    86621.77      0  \n",
       "5             1              0   156619.80      0  \n",
       "26            0              1    50661.84      0  \n",
       "72            0              1   154034.62      1  \n",
       "76            0              1    85121.07      0  "
      ]
     },
     "metadata": {},
     "output_type": "display_data"
    },
    {
     "name": "stdout",
     "output_type": "stream",
     "text": [
      "Количество отточных клиентов в сегменте: 377\n",
      "Доля отточных клиентов данного сегмента, в %: 50\n",
      "Количество клиентов в сегменте: 748\n"
     ]
    }
   ],
   "source": [
    "# Словарь, содержащий параметры для анализа сегментов\n",
    "features = {\n",
    "    'gender': 'М',\n",
    "    'balance': None,\n",
    "    'last_activity': 1,\n",
    "    'equity': [3, 9],\n",
    "    'products': None,\n",
    "    'score': None\n",
    "}\n",
    "\n",
    "# вызовем функцию\n",
    "\n",
    "combined_segment_analysis(bank_scrooge, features)"
   ]
  },
  {
   "cell_type": "markdown",
   "metadata": {},
   "source": [
    "# 6.2 Приоритизация сегментов"
   ]
  },
  {
   "cell_type": "markdown",
   "metadata": {},
   "source": [
    "- Пункте 6.1 сформированы сегменты на основе комбинации трех признаков, численностью сегментов от 500 до 2000 клиентов. \n",
    "- Далее выберем сегменты с количеством клиентов от 1000 до 2000 и проанализируем их долю оттока. \n",
    "- Приоритизацию проведем по убыванию процента оттока."
   ]
  },
  {
   "cell_type": "markdown",
   "metadata": {},
   "source": [
    "**1. Сегмент с признаками balance, last_activity, equity**\n",
    "\n",
    "***Количество клиентов в сегменте: 1279***\n",
    "\n",
    "***Количество отточных клиентов в сегменте: 639***\n",
    "\n",
    "***Доля отточных клиентов данного сегмента, в %: 50***\n",
    "\n",
    "\n",
    "- Баланс на счете 760 000 или выше;\n",
    "\n",
    "- Является активным клиентом;\n",
    "\n",
    "- Количество баллов собственности от 3 до 9 баллов.\n",
    "\n",
    "---\n",
    "**2. Сегмент с признаками last_activity, equity, score**\n",
    "\n",
    "***Количество клиентов в сегменте: 1757***\n",
    "\n",
    "***Количество отточных клиентов в сегменте: 869***\n",
    "\n",
    "***Доля отточных клиентов данного сегмента, в %: 49***\n",
    "\n",
    "- Является активным клиентом;\n",
    "\n",
    "- Количество баллов собственности от 3 до 9 баллов;\n",
    "\n",
    "- Баллы кредитного скоринга от 825 до 935 баллов.\n",
    "\n",
    "---\n",
    "**3. Сегмент с признаками gender, last_activity, equity**\n",
    "\n",
    "***Количество клиентов в сегменте: 1408***\n",
    "\n",
    "***Количество отточных клиентов в сегменте: 650***\n",
    "\n",
    "***Доля отточных клиентов данного сегмента, в %: 46***\n",
    "\n",
    "- Пол мужской;\n",
    "\n",
    "- Является активным клиентом;\n",
    "\n",
    "- Количество баллов собственности от 3 до 9 баллов.\n",
    "\n",
    "---\n",
    "**4. Сегмент с признаками gender, balance, equity**\n",
    "\n",
    "\n",
    "***Количество клиентов в сегменте: 1255***\n",
    "\n",
    "***Количество отточных клиентов в сегменте: 580***\n",
    "\n",
    "***Доля отточных клиентов данного сегмента, в %: 46***\n",
    "\n",
    "- Пол мужской;\n",
    "\n",
    "- Баланс на счете 760 000 или выше;\n",
    "\n",
    "- Количество баллов собственности от 3 до 9 баллов."
   ]
  },
  {
   "cell_type": "markdown",
   "metadata": {},
   "source": [
    "**Выводы по 6 разделу:**\n",
    "\n",
    "- Сформированы 15 сегментов клиентов на основе комбинации трех признаков, с размерами сегмента от 500 до 2000 клиентов;\n",
    "\n",
    "- Выбраны сегменты с количеством клиентов от 1000 до 2000 и проанализированы по проценту оттока;\n",
    "\n",
    "- Выполнена приоритезация сегментов по проценту оттока;\n",
    "\n",
    "- Наиболее приоритетным сегментом является \"balance, last_activity, equity\", так как он имеет наибольшую долю оттока (50%);\n",
    "\n",
    "- Все сегменты включают признак equity, last_activity, что говорит о важности этих признаков при формировании сегмента с высоким оттоком.\n",
    "\n",
    "- Приоритизация была основана только на анализе этих признаков, и другие факторы также могут влиять на отток."
   ]
  },
  {
   "cell_type": "markdown",
   "metadata": {},
   "source": [
    "# 7. Выводы и рекомендации для заказчика по каждому из сегментов"
   ]
  },
  {
   "cell_type": "markdown",
   "metadata": {},
   "source": [
    "**В ходе исследования оттока клиентов Метанпромбанк были выполнены следующие этапы и сделаны выводы:**\n",
    "\n",
    "--- \n",
    "**Общая информация:**\n",
    "\n",
    "- Были проанализированны данные о клиентах банка «Метанпром».\n",
    "\n",
    "  - Всего в данных 10000 строк и 12 столбцов;\n",
    "\n",
    "  - Название колонок USERID, EST_SALARY имеют нарушение стиля. Их необходимо привести к виду snake_case;\n",
    "\n",
    "  - Есть пропуски в 2 столбцах;\n",
    "\n",
    "  - Столбцы score и age нужно привести к int, так как там содержатся целые числа.\n",
    "  \n",
    "---\n",
    "**Предобработка данных:**\n",
    "\n",
    "- Данные были подготовлены к дальнейшему исследованию:\n",
    "\n",
    "  - Название столбцов USERID, EST_SALARY были преведены к виду snake_case;\n",
    "\n",
    "  - Были обнаружены пропуски: пропуски в столбце age удалили, так как их всего 0,26 % ; пропусков в столбце balance более 22%, было принято решение не удалять и не заполнять их, чтобы не исказить данные;\n",
    "\n",
    "  - Столбцы score и ageприведены к типу int;\n",
    "\n",
    "  - Данные были проверены на явные и неявные дубликаты - дубликатов не обнаружено\n",
    "\n",
    "  - Данные были проанализированы на выбросы. Удалена одна строка с клиентом, количество продуктов банка которого равнялась нулю.\n",
    "  \n",
    "---\n",
    "**Исследовательский анализ данных:** \n",
    "\n",
    "***В ходе исследовательского анализа данных мы выделили признаки, которые влияют на отток клиентов:***\n",
    "\n",
    " -  Возраст (в диапазоне 26-35 лет или 50-59 лет);\n",
    "     \n",
    " -  Кредитный скоринг (между 825 и 935 баллами);\n",
    "      \n",
    " -  Количество баллов собственности (3 до 9 баллов);\n",
    "     \n",
    " -  Баланс на счете (760 000 или выше);\n",
    "   \n",
    " -  Количество продуктов банка (использует 4,3 продукта банка);\n",
    "     \n",
    " -  Оценочный доход (100 000 до 200 000);\n",
    "      \n",
    " -  Пол (мужской);\n",
    "       \n",
    " -  Кредитная карта (отсутствие)\n",
    "       \n",
    " -  Активность (является активным клиентом).\n",
    "   \n",
    "\n",
    "---\n",
    "***Резюме портрета:***\n",
    "\n",
    "  - Молодой (26-35) или предпенсионного возраста мужчина, с  доходом (100 000-200 000), высоким кредитным скорингом (825-935), имеющий 3-4 банковских продукта, но не кредитную карту и с балансом более 760 000, демонстрирующий высокую активность.\n",
    "  \n",
    " \n",
    " \n",
    "---\n",
    "***Ключевые различия в сводной таблице со статистиками по оттточным и неоточным клиентам:***\n",
    "\n",
    " - Пол (мужчины значительно чаще склонны к оттоку, чем женщины);\n",
    "\n",
    " - Баланс на счете (медианный баланс на счете значительно выше у отточных клиентов (около 784 тыс.) по сравнению с неотточными (около 475 тыс.));\n",
    "\n",
    " - Активность (отточные клиенты, демонстрируют большую активность в использовании банковских продуктов, чем лояльные клиенты).\n",
    "\n",
    "---\n",
    "***Корреляционный анализ данных*** \n",
    "\n",
    "- В ходе корреляционного анализа, была обнаружена слабая связь между оттоком (churn) и баллами собственности (equity), оттоком (churn) и количеством используемых продуктов банка (products) и оттоком (churn) и активностью клиентов.\n",
    "\n",
    "---\n",
    "**Проверка гипотез:** \n",
    "\n",
    "- Было проверено три статистических гипотезы:\n",
    "\n",
    "  -  Гипотеза о равенстве доходов между ушедшими и оставшимися клиентами;\n",
    "  \n",
    "  -  Гипотеза о влиянии баллов собственности на отток клиентов;\n",
    "  \n",
    "  -  Гипотеза о влиянии количества используемых продуктов на отток клиентов;\n",
    "  \n",
    "  \n",
    "- В результате проверки статистических гипотез удалось выяснить, что, хотя доходы между ушедшими и оставшимися клиентами банка статистически не различаются, то распределение баллов собственности, а также количества продуктов (на основе U-критерия Манна-Уитни) между ушедшими и оставшимися клиентами банка статистически значимо отличаются.\n",
    "\n",
    "- Все гипотезы, кроме равенства доходов между ушедшими и оставшимися клиентами, были отвергнуты в пользу альтернативы.\n",
    "\n",
    "---\n",
    "**Выделили общие признаки, которые влияют на отток клиентов в банке:**\n",
    "\n",
    "- Пол (мужской);\n",
    "\n",
    "- Баланс на счете (760 000 или выше);\n",
    "\n",
    "- Активность (является активным клиентом);\n",
    "\n",
    "- Количество баллов собственности (3 до 9 баллов);\n",
    "\n",
    "- Количество продуктов банка (использует 4,3 продукта банка);\n",
    "\n",
    "- Кредитный скоринг (между 825 и 935 баллами).\n",
    "\n",
    "---\n",
    "**Провели сегментацию пользователей банка по трем признакам:**\n",
    "\n",
    "- Сформированы 15 сегментов клиентов на основе комбинации трех признаков, с размерами сегмента от 500 до 2000 клиентов;\n",
    "\n",
    "- Выбраны сегменты с количеством клиентов от 1000 до 2000 и проанализированы по проценту оттока;\n",
    "\n",
    "- Выполнена приоритезация сегментов по проценту оттока;\n",
    "\n",
    "- Наиболее приоритетным сегментом является \"balance, last_activity, equity\", так как он имеет наибольшую долю оттока (50%);\n",
    "\n",
    "- Все сегменты включают признак equity, last_activity, что говорит о важности этих признаков при формировании сегмента с высоким оттоком.\n",
    "\n",
    "- Приоритизация была основана только на анализе этих признаков, и другие факторы также могут влиять на отток.\n",
    "\n",
    "\n",
    "---\n",
    "**Рекомендации по каждому сегменту**\n",
    "\n",
    "***Сегмент 1: balance, last_activity, equity (Баланс, Активность, Собственность)***\n",
    "\n",
    "***Рекомендации:***\n",
    "\n",
    "- `Персонализированное обслуживание:` Эти клиенты обладают значительными средствами и активностью, что делает их ценными. Им необходимо персональное обслуживание (например, персональный менеджер), чтобы укрепить связь с банком.\n",
    "\n",
    "- `Программы лояльности:` Предложить клиентам повышенные бонусы, кэшбек, или другие привилегии за использование продуктов банка.\n",
    "\n",
    "- `Индивидуальные предложения:` Предложить индивидуальные условия по депозитам или другим финансовым продуктам, учитывая их баланс на счете.\n",
    "\n",
    "---\n",
    "***Сегмент 2: last_activity, equity, score (Активность, Собственность, Скоринг)***\n",
    "\n",
    "***Рекомендации:***\n",
    "\n",
    "- `Повышение осведомленности:` Информировать о новых продуктах и услугах, которые могут быть им интересны.\n",
    "\n",
    "- `Привилегированные условия:` Предложить специальные условия кредитования или других продуктов, учитывая их хороший кредитный скоринг.\n",
    "\n",
    "---\n",
    "***Сегмент 3: gender, last_activity, equity (Пол, Активность, Собственность)***\n",
    "\n",
    "***Рекомендации:***\n",
    "\n",
    "- `Специальные предложения:` Разработать специальные предложения, ориентированные на мужскую аудиторию (например, продукты для инвестиций, цифровые сервисы для управления финансами, или другие возможности).\n",
    "\n",
    "- `Опросы:` Проводить опросы для выявления потребностей и мотиваций именно этой группы клиентов.\n",
    "\n",
    "---\n",
    "***Сегмент 4:  gender, balance, equity (Пол, Баланс, Собственность)***\n",
    "\n",
    "***Рекомендации:***\n",
    "\n",
    "- `Стимулирование лояльности:` Разработать программы лояльности, которые будут учитывать их высокий баланс на счете.\n",
    "\n",
    "- `Индивидуальные предложения:` Предложить индивидуальные условия по обслуживанию, учитывая их финансовое положение.\n",
    "\n",
    "- `Персонализированный маркетинг:` Использовать персонализированный маркетинг, чтобы продвигать продукты, которые будут им интересны."
   ]
  }
 ],
 "metadata": {
  "ExecuteTimeLog": [
   {
    "duration": 1320,
    "start_time": "2025-01-14T10:00:31.718Z"
   },
   {
    "duration": 296,
    "start_time": "2025-01-14T10:02:02.640Z"
   },
   {
    "duration": 24,
    "start_time": "2025-01-14T10:03:19.735Z"
   },
   {
    "duration": 20,
    "start_time": "2025-01-14T10:17:12.759Z"
   },
   {
    "duration": 20,
    "start_time": "2025-01-14T10:17:32.900Z"
   },
   {
    "duration": 19,
    "start_time": "2025-01-14T10:18:00.991Z"
   },
   {
    "duration": 24,
    "start_time": "2025-01-14T10:23:38.039Z"
   },
   {
    "duration": 6,
    "start_time": "2025-01-14T10:40:19.286Z"
   },
   {
    "duration": 3,
    "start_time": "2025-01-14T10:42:22.687Z"
   },
   {
    "duration": 106,
    "start_time": "2025-01-14T10:43:21.486Z"
   },
   {
    "duration": 5,
    "start_time": "2025-01-14T10:53:03.969Z"
   },
   {
    "duration": 5,
    "start_time": "2025-01-14T10:55:06.955Z"
   },
   {
    "duration": 8,
    "start_time": "2025-01-14T10:55:59.775Z"
   },
   {
    "duration": 3,
    "start_time": "2025-01-14T10:56:36.319Z"
   },
   {
    "duration": 5,
    "start_time": "2025-01-14T10:57:16.427Z"
   },
   {
    "duration": 6,
    "start_time": "2025-01-14T11:01:25.795Z"
   },
   {
    "duration": 7,
    "start_time": "2025-01-14T11:01:32.012Z"
   },
   {
    "duration": 1104,
    "start_time": "2025-01-14T11:01:41.133Z"
   },
   {
    "duration": 95,
    "start_time": "2025-01-14T11:01:42.239Z"
   },
   {
    "duration": 29,
    "start_time": "2025-01-14T11:01:42.335Z"
   },
   {
    "duration": 32,
    "start_time": "2025-01-14T11:01:42.366Z"
   },
   {
    "duration": 37,
    "start_time": "2025-01-14T11:01:42.400Z"
   },
   {
    "duration": 6,
    "start_time": "2025-01-14T11:01:42.438Z"
   },
   {
    "duration": 19,
    "start_time": "2025-01-14T11:01:42.446Z"
   },
   {
    "duration": 26,
    "start_time": "2025-01-14T11:01:42.466Z"
   },
   {
    "duration": 24,
    "start_time": "2025-01-14T11:01:42.493Z"
   },
   {
    "duration": 24,
    "start_time": "2025-01-14T11:01:42.519Z"
   },
   {
    "duration": 6,
    "start_time": "2025-01-14T11:11:34.957Z"
   },
   {
    "duration": 1086,
    "start_time": "2025-01-14T11:25:35.540Z"
   },
   {
    "duration": 179,
    "start_time": "2025-01-14T11:25:36.628Z"
   },
   {
    "duration": 28,
    "start_time": "2025-01-14T11:25:36.809Z"
   },
   {
    "duration": 5,
    "start_time": "2025-01-14T11:25:36.838Z"
   },
   {
    "duration": 13,
    "start_time": "2025-01-14T11:25:36.845Z"
   },
   {
    "duration": 19,
    "start_time": "2025-01-14T11:25:36.859Z"
   },
   {
    "duration": 10,
    "start_time": "2025-01-14T11:25:36.879Z"
   },
   {
    "duration": 28,
    "start_time": "2025-01-14T11:25:36.891Z"
   },
   {
    "duration": 10,
    "start_time": "2025-01-14T11:25:36.921Z"
   },
   {
    "duration": 20,
    "start_time": "2025-01-14T11:26:06.773Z"
   },
   {
    "duration": 1049,
    "start_time": "2025-01-14T11:26:21.582Z"
   },
   {
    "duration": 93,
    "start_time": "2025-01-14T11:26:22.633Z"
   },
   {
    "duration": 26,
    "start_time": "2025-01-14T11:26:22.727Z"
   },
   {
    "duration": 5,
    "start_time": "2025-01-14T11:26:22.755Z"
   },
   {
    "duration": 7,
    "start_time": "2025-01-14T11:26:22.762Z"
   },
   {
    "duration": 4,
    "start_time": "2025-01-14T11:26:22.771Z"
   },
   {
    "duration": 15,
    "start_time": "2025-01-14T11:26:22.777Z"
   },
   {
    "duration": 8,
    "start_time": "2025-01-14T11:26:22.793Z"
   },
   {
    "duration": 6,
    "start_time": "2025-01-14T11:26:22.803Z"
   },
   {
    "duration": 9,
    "start_time": "2025-01-14T11:28:00.255Z"
   },
   {
    "duration": 6,
    "start_time": "2025-01-14T12:00:54.797Z"
   },
   {
    "duration": 16,
    "start_time": "2025-01-14T12:03:54.896Z"
   },
   {
    "duration": 20,
    "start_time": "2025-01-14T12:04:58.321Z"
   },
   {
    "duration": 6,
    "start_time": "2025-01-14T12:13:10.641Z"
   },
   {
    "duration": 4,
    "start_time": "2025-01-14T12:14:17.040Z"
   },
   {
    "duration": 1049,
    "start_time": "2025-01-14T12:14:30.484Z"
   },
   {
    "duration": 120,
    "start_time": "2025-01-14T12:14:31.535Z"
   },
   {
    "duration": 23,
    "start_time": "2025-01-14T12:14:31.656Z"
   },
   {
    "duration": 12,
    "start_time": "2025-01-14T12:14:31.681Z"
   },
   {
    "duration": 26,
    "start_time": "2025-01-14T12:14:31.695Z"
   },
   {
    "duration": 5,
    "start_time": "2025-01-14T12:14:31.722Z"
   },
   {
    "duration": 11,
    "start_time": "2025-01-14T12:14:31.728Z"
   },
   {
    "duration": 29,
    "start_time": "2025-01-14T12:14:31.740Z"
   },
   {
    "duration": 33,
    "start_time": "2025-01-14T12:14:31.770Z"
   },
   {
    "duration": 13,
    "start_time": "2025-01-14T12:14:31.805Z"
   },
   {
    "duration": 4,
    "start_time": "2025-01-14T12:14:31.820Z"
   },
   {
    "duration": 28,
    "start_time": "2025-01-14T12:14:31.825Z"
   },
   {
    "duration": 12,
    "start_time": "2025-01-14T12:14:31.854Z"
   },
   {
    "duration": 3,
    "start_time": "2025-01-14T12:40:48.438Z"
   },
   {
    "duration": 6,
    "start_time": "2025-01-14T12:43:36.565Z"
   },
   {
    "duration": 1020,
    "start_time": "2025-01-14T12:43:45.099Z"
   },
   {
    "duration": 122,
    "start_time": "2025-01-14T12:43:46.120Z"
   },
   {
    "duration": 28,
    "start_time": "2025-01-14T12:43:46.243Z"
   },
   {
    "duration": 7,
    "start_time": "2025-01-14T12:43:46.273Z"
   },
   {
    "duration": 7,
    "start_time": "2025-01-14T12:43:46.282Z"
   },
   {
    "duration": 6,
    "start_time": "2025-01-14T12:43:46.290Z"
   },
   {
    "duration": 4,
    "start_time": "2025-01-14T12:43:46.297Z"
   },
   {
    "duration": 4,
    "start_time": "2025-01-14T12:43:46.302Z"
   },
   {
    "duration": 5,
    "start_time": "2025-01-14T12:43:46.307Z"
   },
   {
    "duration": 10,
    "start_time": "2025-01-14T12:43:46.353Z"
   },
   {
    "duration": 5,
    "start_time": "2025-01-14T12:43:46.365Z"
   },
   {
    "duration": 17,
    "start_time": "2025-01-14T12:43:46.372Z"
   },
   {
    "duration": 6,
    "start_time": "2025-01-14T12:43:46.390Z"
   },
   {
    "duration": 1354,
    "start_time": "2025-01-15T09:52:51.988Z"
   },
   {
    "duration": 164,
    "start_time": "2025-01-15T09:52:53.344Z"
   },
   {
    "duration": 28,
    "start_time": "2025-01-15T09:52:53.510Z"
   },
   {
    "duration": 6,
    "start_time": "2025-01-15T09:52:53.541Z"
   },
   {
    "duration": 8,
    "start_time": "2025-01-15T09:52:53.549Z"
   },
   {
    "duration": 27,
    "start_time": "2025-01-15T09:52:53.559Z"
   },
   {
    "duration": 6,
    "start_time": "2025-01-15T09:52:53.588Z"
   },
   {
    "duration": 4,
    "start_time": "2025-01-15T09:52:53.595Z"
   },
   {
    "duration": 5,
    "start_time": "2025-01-15T09:52:53.601Z"
   },
   {
    "duration": 32,
    "start_time": "2025-01-15T09:52:53.609Z"
   },
   {
    "duration": 9,
    "start_time": "2025-01-15T09:52:53.643Z"
   },
   {
    "duration": 21,
    "start_time": "2025-01-15T09:52:53.653Z"
   },
   {
    "duration": 11,
    "start_time": "2025-01-15T09:52:53.676Z"
   },
   {
    "duration": 108,
    "start_time": "2025-01-15T09:52:53.689Z"
   },
   {
    "duration": 316,
    "start_time": "2025-01-15T09:55:14.472Z"
   },
   {
    "duration": 315,
    "start_time": "2025-01-15T09:56:39.932Z"
   },
   {
    "duration": 9,
    "start_time": "2025-01-15T10:01:22.136Z"
   },
   {
    "duration": 298,
    "start_time": "2025-01-15T10:01:31.951Z"
   },
   {
    "duration": 385,
    "start_time": "2025-01-15T10:02:09.397Z"
   },
   {
    "duration": 297,
    "start_time": "2025-01-15T10:02:30.887Z"
   },
   {
    "duration": 294,
    "start_time": "2025-01-15T10:02:50.703Z"
   },
   {
    "duration": 292,
    "start_time": "2025-01-15T10:03:13.739Z"
   },
   {
    "duration": 299,
    "start_time": "2025-01-15T10:03:37.599Z"
   },
   {
    "duration": 300,
    "start_time": "2025-01-15T10:04:34.373Z"
   },
   {
    "duration": 82,
    "start_time": "2025-01-15T10:12:02.373Z"
   },
   {
    "duration": 9897,
    "start_time": "2025-01-15T10:12:20.675Z"
   },
   {
    "duration": 6,
    "start_time": "2025-01-15T10:14:56.348Z"
   },
   {
    "duration": 10089,
    "start_time": "2025-01-15T10:15:04.760Z"
   },
   {
    "duration": 6,
    "start_time": "2025-01-15T10:18:08.911Z"
   },
   {
    "duration": 10387,
    "start_time": "2025-01-15T10:18:14.769Z"
   },
   {
    "duration": 8,
    "start_time": "2025-01-15T10:22:56.340Z"
   },
   {
    "duration": 9,
    "start_time": "2025-01-15T10:24:16.703Z"
   },
   {
    "duration": 1116,
    "start_time": "2025-01-15T10:24:36.364Z"
   },
   {
    "duration": 81,
    "start_time": "2025-01-15T10:24:37.482Z"
   },
   {
    "duration": 25,
    "start_time": "2025-01-15T10:24:37.564Z"
   },
   {
    "duration": 5,
    "start_time": "2025-01-15T10:24:37.590Z"
   },
   {
    "duration": 9,
    "start_time": "2025-01-15T10:24:37.596Z"
   },
   {
    "duration": 5,
    "start_time": "2025-01-15T10:24:37.606Z"
   },
   {
    "duration": 9,
    "start_time": "2025-01-15T10:24:37.612Z"
   },
   {
    "duration": 3,
    "start_time": "2025-01-15T10:24:37.623Z"
   },
   {
    "duration": 5,
    "start_time": "2025-01-15T10:24:37.627Z"
   },
   {
    "duration": 17,
    "start_time": "2025-01-15T10:24:37.634Z"
   },
   {
    "duration": 5,
    "start_time": "2025-01-15T10:24:37.652Z"
   },
   {
    "duration": 42,
    "start_time": "2025-01-15T10:24:37.658Z"
   },
   {
    "duration": 5,
    "start_time": "2025-01-15T10:24:37.701Z"
   },
   {
    "duration": 322,
    "start_time": "2025-01-15T10:24:37.708Z"
   },
   {
    "duration": 9,
    "start_time": "2025-01-15T10:24:38.033Z"
   },
   {
    "duration": 7999,
    "start_time": "2025-01-15T10:24:38.043Z"
   },
   {
    "duration": 7,
    "start_time": "2025-01-15T10:26:24.096Z"
   },
   {
    "duration": 8217,
    "start_time": "2025-01-15T10:26:28.146Z"
   },
   {
    "duration": 6,
    "start_time": "2025-01-15T10:27:38.728Z"
   },
   {
    "duration": 8449,
    "start_time": "2025-01-15T10:27:42.021Z"
   },
   {
    "duration": 86,
    "start_time": "2025-01-15T10:30:31.778Z"
   },
   {
    "duration": 7,
    "start_time": "2025-01-15T10:30:43.122Z"
   },
   {
    "duration": 8175,
    "start_time": "2025-01-15T10:30:46.588Z"
   },
   {
    "duration": 1667,
    "start_time": "2025-01-15T10:37:06.053Z"
   },
   {
    "duration": 5,
    "start_time": "2025-01-15T10:44:13.891Z"
   },
   {
    "duration": 579,
    "start_time": "2025-01-15T10:45:08.665Z"
   },
   {
    "duration": 5,
    "start_time": "2025-01-15T10:47:30.677Z"
   },
   {
    "duration": 463,
    "start_time": "2025-01-15T10:47:34.239Z"
   },
   {
    "duration": 5,
    "start_time": "2025-01-15T11:34:06.098Z"
   },
   {
    "duration": 5,
    "start_time": "2025-01-15T11:36:04.591Z"
   },
   {
    "duration": 1116,
    "start_time": "2025-01-15T11:36:21.084Z"
   },
   {
    "duration": 108,
    "start_time": "2025-01-15T11:36:22.202Z"
   },
   {
    "duration": 25,
    "start_time": "2025-01-15T11:36:22.311Z"
   },
   {
    "duration": 5,
    "start_time": "2025-01-15T11:36:22.338Z"
   },
   {
    "duration": 12,
    "start_time": "2025-01-15T11:36:22.345Z"
   },
   {
    "duration": 5,
    "start_time": "2025-01-15T11:36:22.359Z"
   },
   {
    "duration": 22,
    "start_time": "2025-01-15T11:36:22.365Z"
   },
   {
    "duration": 3,
    "start_time": "2025-01-15T11:36:22.389Z"
   },
   {
    "duration": 5,
    "start_time": "2025-01-15T11:36:22.393Z"
   },
   {
    "duration": 9,
    "start_time": "2025-01-15T11:36:22.400Z"
   },
   {
    "duration": 4,
    "start_time": "2025-01-15T11:36:22.411Z"
   },
   {
    "duration": 16,
    "start_time": "2025-01-15T11:36:22.416Z"
   },
   {
    "duration": 5,
    "start_time": "2025-01-15T11:36:22.434Z"
   },
   {
    "duration": 348,
    "start_time": "2025-01-15T11:36:22.440Z"
   },
   {
    "duration": 5,
    "start_time": "2025-01-15T11:36:22.790Z"
   },
   {
    "duration": 109,
    "start_time": "2025-01-15T11:36:22.797Z"
   },
   {
    "duration": 325,
    "start_time": "2025-01-15T11:36:40.161Z"
   },
   {
    "duration": 5,
    "start_time": "2025-01-15T11:37:30.149Z"
   },
   {
    "duration": 8078,
    "start_time": "2025-01-15T11:37:32.882Z"
   },
   {
    "duration": 1086,
    "start_time": "2025-01-15T11:39:07.121Z"
   },
   {
    "duration": 77,
    "start_time": "2025-01-15T11:39:08.209Z"
   },
   {
    "duration": 27,
    "start_time": "2025-01-15T11:39:08.287Z"
   },
   {
    "duration": 5,
    "start_time": "2025-01-15T11:39:08.316Z"
   },
   {
    "duration": 7,
    "start_time": "2025-01-15T11:39:08.323Z"
   },
   {
    "duration": 5,
    "start_time": "2025-01-15T11:39:08.332Z"
   },
   {
    "duration": 6,
    "start_time": "2025-01-15T11:39:08.339Z"
   },
   {
    "duration": 4,
    "start_time": "2025-01-15T11:39:08.346Z"
   },
   {
    "duration": 37,
    "start_time": "2025-01-15T11:39:08.351Z"
   },
   {
    "duration": 19,
    "start_time": "2025-01-15T11:39:08.391Z"
   },
   {
    "duration": 5,
    "start_time": "2025-01-15T11:39:08.411Z"
   },
   {
    "duration": 18,
    "start_time": "2025-01-15T11:39:08.417Z"
   },
   {
    "duration": 5,
    "start_time": "2025-01-15T11:39:08.436Z"
   },
   {
    "duration": 324,
    "start_time": "2025-01-15T11:39:08.443Z"
   },
   {
    "duration": 5,
    "start_time": "2025-01-15T11:39:08.768Z"
   },
   {
    "duration": 8193,
    "start_time": "2025-01-15T11:39:08.775Z"
   },
   {
    "duration": 4,
    "start_time": "2025-01-15T11:42:52.027Z"
   },
   {
    "duration": 8456,
    "start_time": "2025-01-15T11:42:56.434Z"
   },
   {
    "duration": 310,
    "start_time": "2025-01-15T11:43:18.704Z"
   },
   {
    "duration": 248,
    "start_time": "2025-01-15T11:43:35.245Z"
   },
   {
    "duration": 1122,
    "start_time": "2025-01-15T11:59:41.051Z"
   },
   {
    "duration": 59,
    "start_time": "2025-01-15T11:59:42.175Z"
   },
   {
    "duration": 26,
    "start_time": "2025-01-15T11:59:42.235Z"
   },
   {
    "duration": 7,
    "start_time": "2025-01-15T11:59:42.262Z"
   },
   {
    "duration": 8,
    "start_time": "2025-01-15T11:59:42.277Z"
   },
   {
    "duration": 5,
    "start_time": "2025-01-15T11:59:42.287Z"
   },
   {
    "duration": 4,
    "start_time": "2025-01-15T11:59:42.293Z"
   },
   {
    "duration": 3,
    "start_time": "2025-01-15T11:59:42.299Z"
   },
   {
    "duration": 9,
    "start_time": "2025-01-15T11:59:42.304Z"
   },
   {
    "duration": 8,
    "start_time": "2025-01-15T11:59:42.315Z"
   },
   {
    "duration": 3,
    "start_time": "2025-01-15T11:59:42.325Z"
   },
   {
    "duration": 16,
    "start_time": "2025-01-15T11:59:42.330Z"
   },
   {
    "duration": 39,
    "start_time": "2025-01-15T11:59:42.347Z"
   },
   {
    "duration": 263,
    "start_time": "2025-01-15T11:59:42.388Z"
   },
   {
    "duration": 5,
    "start_time": "2025-01-15T11:59:42.652Z"
   },
   {
    "duration": 8210,
    "start_time": "2025-01-15T11:59:42.658Z"
   },
   {
    "duration": 5,
    "start_time": "2025-01-15T12:01:07.800Z"
   },
   {
    "duration": 8577,
    "start_time": "2025-01-15T12:01:11.228Z"
   },
   {
    "duration": 78,
    "start_time": "2025-01-15T12:10:05.888Z"
   },
   {
    "duration": 84,
    "start_time": "2025-01-15T12:10:13.146Z"
   },
   {
    "duration": 90,
    "start_time": "2025-01-15T12:10:55.162Z"
   },
   {
    "duration": 5030,
    "start_time": "2025-01-15T12:12:34.418Z"
   },
   {
    "duration": 267,
    "start_time": "2025-01-15T12:21:18.059Z"
   },
   {
    "duration": 5,
    "start_time": "2025-01-15T12:21:18.327Z"
   },
   {
    "duration": 73,
    "start_time": "2025-01-15T12:53:11.234Z"
   },
   {
    "duration": 5,
    "start_time": "2025-01-15T12:53:19.281Z"
   },
   {
    "duration": 1610,
    "start_time": "2025-01-15T12:56:25.272Z"
   },
   {
    "duration": 4,
    "start_time": "2025-01-15T12:57:50.751Z"
   },
   {
    "duration": 1346,
    "start_time": "2025-01-15T12:57:53.261Z"
   },
   {
    "duration": 5,
    "start_time": "2025-01-15T12:58:25.686Z"
   },
   {
    "duration": 1377,
    "start_time": "2025-01-15T12:58:28.872Z"
   },
   {
    "duration": 1113,
    "start_time": "2025-01-15T13:09:04.073Z"
   },
   {
    "duration": 120,
    "start_time": "2025-01-15T13:09:05.188Z"
   },
   {
    "duration": 28,
    "start_time": "2025-01-15T13:09:05.310Z"
   },
   {
    "duration": 6,
    "start_time": "2025-01-15T13:09:05.339Z"
   },
   {
    "duration": 19,
    "start_time": "2025-01-15T13:09:05.347Z"
   },
   {
    "duration": 24,
    "start_time": "2025-01-15T13:09:05.367Z"
   },
   {
    "duration": 29,
    "start_time": "2025-01-15T13:09:05.392Z"
   },
   {
    "duration": 16,
    "start_time": "2025-01-15T13:09:05.422Z"
   },
   {
    "duration": 16,
    "start_time": "2025-01-15T13:09:05.440Z"
   },
   {
    "duration": 19,
    "start_time": "2025-01-15T13:09:05.457Z"
   },
   {
    "duration": 23,
    "start_time": "2025-01-15T13:09:05.478Z"
   },
   {
    "duration": 66,
    "start_time": "2025-01-15T13:09:05.502Z"
   },
   {
    "duration": 6,
    "start_time": "2025-01-15T13:09:05.570Z"
   },
   {
    "duration": 82,
    "start_time": "2025-01-15T13:09:05.580Z"
   },
   {
    "duration": 8194,
    "start_time": "2025-01-15T13:09:05.663Z"
   },
   {
    "duration": 4719,
    "start_time": "2025-01-15T13:09:13.858Z"
   },
   {
    "duration": 8,
    "start_time": "2025-01-15T13:09:18.579Z"
   },
   {
    "duration": 1614,
    "start_time": "2025-01-15T13:09:18.589Z"
   },
   {
    "duration": 1130,
    "start_time": "2025-01-15T13:41:27.937Z"
   },
   {
    "duration": 80,
    "start_time": "2025-01-15T13:41:29.069Z"
   },
   {
    "duration": 25,
    "start_time": "2025-01-15T13:41:29.150Z"
   },
   {
    "duration": 5,
    "start_time": "2025-01-15T13:41:29.177Z"
   },
   {
    "duration": 10,
    "start_time": "2025-01-15T13:41:29.184Z"
   },
   {
    "duration": 6,
    "start_time": "2025-01-15T13:41:29.195Z"
   },
   {
    "duration": 7,
    "start_time": "2025-01-15T13:41:29.202Z"
   },
   {
    "duration": 6,
    "start_time": "2025-01-15T13:41:29.210Z"
   },
   {
    "duration": 4,
    "start_time": "2025-01-15T13:41:29.218Z"
   },
   {
    "duration": 8,
    "start_time": "2025-01-15T13:41:29.224Z"
   },
   {
    "duration": 9,
    "start_time": "2025-01-15T13:41:29.234Z"
   },
   {
    "duration": 33,
    "start_time": "2025-01-15T13:41:29.244Z"
   },
   {
    "duration": 10,
    "start_time": "2025-01-15T13:41:29.278Z"
   },
   {
    "duration": 4,
    "start_time": "2025-01-15T13:41:29.290Z"
   },
   {
    "duration": 8261,
    "start_time": "2025-01-15T13:41:29.295Z"
   },
   {
    "duration": 4801,
    "start_time": "2025-01-15T13:41:37.558Z"
   },
   {
    "duration": 4,
    "start_time": "2025-01-15T13:41:42.361Z"
   },
   {
    "duration": 1535,
    "start_time": "2025-01-15T13:41:42.366Z"
   },
   {
    "duration": 100,
    "start_time": "2025-01-15T13:53:25.826Z"
   },
   {
    "duration": 1073,
    "start_time": "2025-01-15T13:53:32.499Z"
   },
   {
    "duration": 110,
    "start_time": "2025-01-15T13:53:33.574Z"
   },
   {
    "duration": 24,
    "start_time": "2025-01-15T13:53:33.686Z"
   },
   {
    "duration": 19,
    "start_time": "2025-01-15T13:53:33.712Z"
   },
   {
    "duration": 12,
    "start_time": "2025-01-15T13:53:33.733Z"
   },
   {
    "duration": 12,
    "start_time": "2025-01-15T13:53:33.746Z"
   },
   {
    "duration": 7,
    "start_time": "2025-01-15T13:53:33.759Z"
   },
   {
    "duration": 11,
    "start_time": "2025-01-15T13:53:33.767Z"
   },
   {
    "duration": 13,
    "start_time": "2025-01-15T13:53:33.780Z"
   },
   {
    "duration": 63,
    "start_time": "2025-01-15T13:53:33.795Z"
   },
   {
    "duration": 29,
    "start_time": "2025-01-15T13:53:33.860Z"
   },
   {
    "duration": 21,
    "start_time": "2025-01-15T13:53:33.891Z"
   },
   {
    "duration": 6,
    "start_time": "2025-01-15T13:53:33.914Z"
   },
   {
    "duration": 4,
    "start_time": "2025-01-15T13:53:33.921Z"
   },
   {
    "duration": 8214,
    "start_time": "2025-01-15T13:53:33.927Z"
   },
   {
    "duration": 4754,
    "start_time": "2025-01-15T13:53:42.142Z"
   },
   {
    "duration": 4,
    "start_time": "2025-01-15T13:53:46.898Z"
   },
   {
    "duration": 1632,
    "start_time": "2025-01-15T13:53:46.903Z"
   },
   {
    "duration": 108,
    "start_time": "2025-01-15T13:53:48.536Z"
   },
   {
    "duration": 9,
    "start_time": "2025-01-15T13:56:24.756Z"
   },
   {
    "duration": 71,
    "start_time": "2025-01-15T13:58:52.815Z"
   },
   {
    "duration": 86,
    "start_time": "2025-01-15T13:59:20.989Z"
   },
   {
    "duration": 9,
    "start_time": "2025-01-15T13:59:30.163Z"
   },
   {
    "duration": 3935,
    "start_time": "2025-01-15T14:11:01.320Z"
   },
   {
    "duration": 91,
    "start_time": "2025-01-15T14:11:21.773Z"
   },
   {
    "duration": 487,
    "start_time": "2025-01-15T14:12:41.634Z"
   },
   {
    "duration": 1482,
    "start_time": "2025-01-15T14:13:42.737Z"
   },
   {
    "duration": 1206,
    "start_time": "2025-01-15T14:14:53.378Z"
   },
   {
    "duration": 94,
    "start_time": "2025-01-15T14:14:54.586Z"
   },
   {
    "duration": 32,
    "start_time": "2025-01-15T14:14:54.681Z"
   },
   {
    "duration": 6,
    "start_time": "2025-01-15T14:14:54.715Z"
   },
   {
    "duration": 9,
    "start_time": "2025-01-15T14:14:54.724Z"
   },
   {
    "duration": 8,
    "start_time": "2025-01-15T14:14:54.735Z"
   },
   {
    "duration": 7,
    "start_time": "2025-01-15T14:14:54.744Z"
   },
   {
    "duration": 6,
    "start_time": "2025-01-15T14:14:54.752Z"
   },
   {
    "duration": 28,
    "start_time": "2025-01-15T14:14:54.759Z"
   },
   {
    "duration": 15,
    "start_time": "2025-01-15T14:14:54.788Z"
   },
   {
    "duration": 10,
    "start_time": "2025-01-15T14:14:54.804Z"
   },
   {
    "duration": 38,
    "start_time": "2025-01-15T14:14:54.816Z"
   },
   {
    "duration": 23,
    "start_time": "2025-01-15T14:14:54.855Z"
   },
   {
    "duration": 12,
    "start_time": "2025-01-15T14:14:54.881Z"
   },
   {
    "duration": 8615,
    "start_time": "2025-01-15T14:14:54.899Z"
   },
   {
    "duration": 5011,
    "start_time": "2025-01-15T14:15:03.516Z"
   },
   {
    "duration": 4,
    "start_time": "2025-01-15T14:15:08.529Z"
   },
   {
    "duration": 1682,
    "start_time": "2025-01-15T14:15:08.535Z"
   },
   {
    "duration": 2837,
    "start_time": "2025-01-15T14:15:10.218Z"
   },
   {
    "duration": 67,
    "start_time": "2025-01-15T14:15:13.057Z"
   },
   {
    "duration": 527,
    "start_time": "2025-01-15T14:15:13.126Z"
   },
   {
    "duration": 1572,
    "start_time": "2025-01-15T14:15:13.655Z"
   },
   {
    "duration": 1532,
    "start_time": "2025-01-16T09:14:27.640Z"
   },
   {
    "duration": 80,
    "start_time": "2025-01-16T09:14:29.175Z"
   },
   {
    "duration": 34,
    "start_time": "2025-01-16T09:14:29.257Z"
   },
   {
    "duration": 8,
    "start_time": "2025-01-16T09:14:29.293Z"
   },
   {
    "duration": 10,
    "start_time": "2025-01-16T09:14:29.302Z"
   },
   {
    "duration": 7,
    "start_time": "2025-01-16T09:14:29.314Z"
   },
   {
    "duration": 7,
    "start_time": "2025-01-16T09:14:29.323Z"
   },
   {
    "duration": 29,
    "start_time": "2025-01-16T09:14:29.332Z"
   },
   {
    "duration": 5,
    "start_time": "2025-01-16T09:14:29.363Z"
   },
   {
    "duration": 13,
    "start_time": "2025-01-16T09:14:29.371Z"
   },
   {
    "duration": 6,
    "start_time": "2025-01-16T09:14:29.385Z"
   },
   {
    "duration": 23,
    "start_time": "2025-01-16T09:14:29.393Z"
   },
   {
    "duration": 43,
    "start_time": "2025-01-16T09:14:29.417Z"
   },
   {
    "duration": 4,
    "start_time": "2025-01-16T09:14:29.462Z"
   },
   {
    "duration": 10572,
    "start_time": "2025-01-16T09:14:29.468Z"
   },
   {
    "duration": 6204,
    "start_time": "2025-01-16T09:14:40.042Z"
   },
   {
    "duration": 12,
    "start_time": "2025-01-16T09:14:46.248Z"
   },
   {
    "duration": 1979,
    "start_time": "2025-01-16T09:14:46.262Z"
   },
   {
    "duration": 154,
    "start_time": "2025-01-16T09:14:48.243Z"
   },
   {
    "duration": 0,
    "start_time": "2025-01-16T09:14:48.399Z"
   },
   {
    "duration": 0,
    "start_time": "2025-01-16T09:14:48.400Z"
   },
   {
    "duration": 0,
    "start_time": "2025-01-16T09:14:48.401Z"
   },
   {
    "duration": 0,
    "start_time": "2025-01-16T09:14:48.402Z"
   },
   {
    "duration": 16,
    "start_time": "2025-01-16T09:15:52.142Z"
   },
   {
    "duration": 15,
    "start_time": "2025-01-16T09:18:04.981Z"
   },
   {
    "duration": 81,
    "start_time": "2025-01-16T09:22:45.614Z"
   },
   {
    "duration": 18,
    "start_time": "2025-01-16T09:24:11.083Z"
   },
   {
    "duration": 15,
    "start_time": "2025-01-16T09:26:01.084Z"
   },
   {
    "duration": 15,
    "start_time": "2025-01-16T09:37:08.315Z"
   },
   {
    "duration": 15,
    "start_time": "2025-01-16T09:39:37.766Z"
   },
   {
    "duration": 28,
    "start_time": "2025-01-16T09:49:06.140Z"
   },
   {
    "duration": 5,
    "start_time": "2025-01-16T09:49:55.402Z"
   },
   {
    "duration": 21,
    "start_time": "2025-01-16T09:50:12.860Z"
   },
   {
    "duration": 23,
    "start_time": "2025-01-16T09:51:00.844Z"
   },
   {
    "duration": 52,
    "start_time": "2025-01-16T09:56:08.501Z"
   },
   {
    "duration": 53,
    "start_time": "2025-01-16T09:57:00.791Z"
   },
   {
    "duration": 239,
    "start_time": "2025-01-16T10:35:36.303Z"
   },
   {
    "duration": 50,
    "start_time": "2025-01-16T10:37:30.014Z"
   },
   {
    "duration": 56,
    "start_time": "2025-01-16T10:42:16.136Z"
   },
   {
    "duration": 56,
    "start_time": "2025-01-16T10:43:35.629Z"
   },
   {
    "duration": 55,
    "start_time": "2025-01-16T10:44:39.241Z"
   },
   {
    "duration": 53,
    "start_time": "2025-01-16T10:45:00.820Z"
   },
   {
    "duration": 55,
    "start_time": "2025-01-16T10:52:44.655Z"
   },
   {
    "duration": 3740,
    "start_time": "2025-01-16T11:06:46.954Z"
   },
   {
    "duration": 144,
    "start_time": "2025-01-16T11:06:52.159Z"
   },
   {
    "duration": 607,
    "start_time": "2025-01-16T11:06:53.925Z"
   },
   {
    "duration": 1819,
    "start_time": "2025-01-16T11:06:57.492Z"
   },
   {
    "duration": 29,
    "start_time": "2025-01-16T11:18:53.315Z"
   },
   {
    "duration": 14,
    "start_time": "2025-01-16T11:19:14.930Z"
   },
   {
    "duration": 2671,
    "start_time": "2025-01-16T11:19:21.872Z"
   },
   {
    "duration": 3,
    "start_time": "2025-01-16T11:19:27.018Z"
   },
   {
    "duration": 608,
    "start_time": "2025-01-16T11:19:29.110Z"
   },
   {
    "duration": 437,
    "start_time": "2025-01-16T11:19:52.505Z"
   },
   {
    "duration": 1287,
    "start_time": "2025-01-16T11:19:59.282Z"
   },
   {
    "duration": 2661,
    "start_time": "2025-01-16T11:24:49.789Z"
   },
   {
    "duration": 2661,
    "start_time": "2025-01-16T11:26:13.238Z"
   },
   {
    "duration": 1267,
    "start_time": "2025-01-16T11:26:15.902Z"
   },
   {
    "duration": 68,
    "start_time": "2025-01-16T11:26:17.171Z"
   },
   {
    "duration": 31,
    "start_time": "2025-01-16T11:26:17.242Z"
   },
   {
    "duration": 7,
    "start_time": "2025-01-16T11:26:17.275Z"
   },
   {
    "duration": 28,
    "start_time": "2025-01-16T11:26:17.283Z"
   },
   {
    "duration": 7,
    "start_time": "2025-01-16T11:26:17.313Z"
   },
   {
    "duration": 4,
    "start_time": "2025-01-16T11:26:17.322Z"
   },
   {
    "duration": 7,
    "start_time": "2025-01-16T11:26:17.328Z"
   },
   {
    "duration": 24,
    "start_time": "2025-01-16T11:26:17.337Z"
   },
   {
    "duration": 57,
    "start_time": "2025-01-16T11:26:17.363Z"
   },
   {
    "duration": 6,
    "start_time": "2025-01-16T11:26:17.422Z"
   },
   {
    "duration": 19,
    "start_time": "2025-01-16T11:26:17.430Z"
   },
   {
    "duration": 7,
    "start_time": "2025-01-16T11:26:17.451Z"
   },
   {
    "duration": 5,
    "start_time": "2025-01-16T11:26:17.459Z"
   },
   {
    "duration": 10335,
    "start_time": "2025-01-16T11:26:17.466Z"
   },
   {
    "duration": 6791,
    "start_time": "2025-01-16T11:26:27.803Z"
   },
   {
    "duration": 5,
    "start_time": "2025-01-16T11:26:34.596Z"
   },
   {
    "duration": 1514,
    "start_time": "2025-01-16T11:26:34.602Z"
   },
   {
    "duration": 63,
    "start_time": "2025-01-16T11:26:36.118Z"
   },
   {
    "duration": 13,
    "start_time": "2025-01-16T11:26:36.183Z"
   },
   {
    "duration": 457,
    "start_time": "2025-01-16T11:26:36.197Z"
   },
   {
    "duration": 1795,
    "start_time": "2025-01-16T11:26:36.659Z"
   },
   {
    "duration": 395,
    "start_time": "2025-01-16T11:34:23.452Z"
   },
   {
    "duration": 1279,
    "start_time": "2025-01-16T11:34:37.853Z"
   },
   {
    "duration": 1354,
    "start_time": "2025-01-16T11:36:51.195Z"
   },
   {
    "duration": 56,
    "start_time": "2025-01-16T12:50:59.755Z"
   },
   {
    "duration": 2837,
    "start_time": "2025-01-16T12:57:35.331Z"
   },
   {
    "duration": 1551,
    "start_time": "2025-01-16T12:57:38.170Z"
   },
   {
    "duration": 71,
    "start_time": "2025-01-16T12:57:39.723Z"
   },
   {
    "duration": 32,
    "start_time": "2025-01-16T12:57:39.795Z"
   },
   {
    "duration": 7,
    "start_time": "2025-01-16T12:57:39.830Z"
   },
   {
    "duration": 25,
    "start_time": "2025-01-16T12:57:39.838Z"
   },
   {
    "duration": 7,
    "start_time": "2025-01-16T12:57:39.865Z"
   },
   {
    "duration": 4,
    "start_time": "2025-01-16T12:57:39.874Z"
   },
   {
    "duration": 4,
    "start_time": "2025-01-16T12:57:39.880Z"
   },
   {
    "duration": 11,
    "start_time": "2025-01-16T12:57:39.885Z"
   },
   {
    "duration": 18,
    "start_time": "2025-01-16T12:57:39.898Z"
   },
   {
    "duration": 6,
    "start_time": "2025-01-16T12:57:39.917Z"
   },
   {
    "duration": 54,
    "start_time": "2025-01-16T12:57:39.925Z"
   },
   {
    "duration": 8,
    "start_time": "2025-01-16T12:57:39.984Z"
   },
   {
    "duration": 7,
    "start_time": "2025-01-16T12:57:39.994Z"
   },
   {
    "duration": 11308,
    "start_time": "2025-01-16T12:57:40.003Z"
   },
   {
    "duration": 6994,
    "start_time": "2025-01-16T12:57:51.314Z"
   },
   {
    "duration": 5,
    "start_time": "2025-01-16T12:57:58.310Z"
   },
   {
    "duration": 1609,
    "start_time": "2025-01-16T12:57:58.317Z"
   },
   {
    "duration": 69,
    "start_time": "2025-01-16T12:57:59.928Z"
   },
   {
    "duration": 15,
    "start_time": "2025-01-16T12:57:59.999Z"
   },
   {
    "duration": 467,
    "start_time": "2025-01-16T12:58:00.016Z"
   },
   {
    "duration": 1929,
    "start_time": "2025-01-16T12:58:00.485Z"
   },
   {
    "duration": 3983,
    "start_time": "2025-01-17T08:57:02.624Z"
   },
   {
    "duration": 1334,
    "start_time": "2025-01-17T08:57:06.609Z"
   },
   {
    "duration": 405,
    "start_time": "2025-01-17T08:57:07.944Z"
   },
   {
    "duration": 32,
    "start_time": "2025-01-17T08:57:08.351Z"
   },
   {
    "duration": 5,
    "start_time": "2025-01-17T08:57:08.385Z"
   },
   {
    "duration": 13,
    "start_time": "2025-01-17T08:57:08.391Z"
   },
   {
    "duration": 11,
    "start_time": "2025-01-17T08:57:08.406Z"
   },
   {
    "duration": 7,
    "start_time": "2025-01-17T08:57:08.419Z"
   },
   {
    "duration": 4,
    "start_time": "2025-01-17T08:57:08.427Z"
   },
   {
    "duration": 14,
    "start_time": "2025-01-17T08:57:08.452Z"
   },
   {
    "duration": 15,
    "start_time": "2025-01-17T08:57:08.468Z"
   },
   {
    "duration": 12,
    "start_time": "2025-01-17T08:57:08.485Z"
   },
   {
    "duration": 16,
    "start_time": "2025-01-17T08:57:08.498Z"
   },
   {
    "duration": 6,
    "start_time": "2025-01-17T08:57:08.515Z"
   },
   {
    "duration": 4,
    "start_time": "2025-01-17T08:57:08.522Z"
   },
   {
    "duration": 8441,
    "start_time": "2025-01-17T08:57:08.527Z"
   },
   {
    "duration": 5076,
    "start_time": "2025-01-17T08:57:16.969Z"
   },
   {
    "duration": 13,
    "start_time": "2025-01-17T08:57:22.052Z"
   },
   {
    "duration": 1423,
    "start_time": "2025-01-17T08:57:22.066Z"
   },
   {
    "duration": 46,
    "start_time": "2025-01-17T08:57:23.490Z"
   },
   {
    "duration": 29,
    "start_time": "2025-01-17T08:57:23.537Z"
   },
   {
    "duration": 345,
    "start_time": "2025-01-17T08:57:23.568Z"
   },
   {
    "duration": 1484,
    "start_time": "2025-01-17T08:57:23.917Z"
   },
   {
    "duration": 121,
    "start_time": "2025-01-17T08:57:25.403Z"
   },
   {
    "duration": 10,
    "start_time": "2025-01-17T08:59:33.623Z"
   },
   {
    "duration": 10,
    "start_time": "2025-01-17T09:03:58.087Z"
   },
   {
    "duration": 14,
    "start_time": "2025-01-17T09:29:40.098Z"
   },
   {
    "duration": 15,
    "start_time": "2025-01-17T09:30:09.785Z"
   },
   {
    "duration": 88,
    "start_time": "2025-01-17T09:39:07.645Z"
   },
   {
    "duration": 17,
    "start_time": "2025-01-17T09:40:54.145Z"
   },
   {
    "duration": 2757,
    "start_time": "2025-01-17T11:35:27.610Z"
   },
   {
    "duration": 1181,
    "start_time": "2025-01-17T11:35:30.369Z"
   },
   {
    "duration": 231,
    "start_time": "2025-01-17T11:35:31.551Z"
   },
   {
    "duration": 25,
    "start_time": "2025-01-17T11:35:31.784Z"
   },
   {
    "duration": 5,
    "start_time": "2025-01-17T11:35:31.812Z"
   },
   {
    "duration": 18,
    "start_time": "2025-01-17T11:35:31.818Z"
   },
   {
    "duration": 16,
    "start_time": "2025-01-17T11:35:31.837Z"
   },
   {
    "duration": 13,
    "start_time": "2025-01-17T11:35:31.856Z"
   },
   {
    "duration": 37,
    "start_time": "2025-01-17T11:35:31.870Z"
   },
   {
    "duration": 22,
    "start_time": "2025-01-17T11:35:31.909Z"
   },
   {
    "duration": 52,
    "start_time": "2025-01-17T11:35:31.932Z"
   },
   {
    "duration": 11,
    "start_time": "2025-01-17T11:35:31.986Z"
   },
   {
    "duration": 19,
    "start_time": "2025-01-17T11:35:31.999Z"
   },
   {
    "duration": 4,
    "start_time": "2025-01-17T11:35:32.021Z"
   },
   {
    "duration": 12,
    "start_time": "2025-01-17T11:35:32.027Z"
   },
   {
    "duration": 8632,
    "start_time": "2025-01-17T11:35:32.040Z"
   },
   {
    "duration": 5228,
    "start_time": "2025-01-17T11:35:40.674Z"
   },
   {
    "duration": 4,
    "start_time": "2025-01-17T11:35:45.904Z"
   },
   {
    "duration": 1394,
    "start_time": "2025-01-17T11:35:45.909Z"
   },
   {
    "duration": 54,
    "start_time": "2025-01-17T11:35:47.305Z"
   },
   {
    "duration": 12,
    "start_time": "2025-01-17T11:35:47.362Z"
   },
   {
    "duration": 331,
    "start_time": "2025-01-17T11:35:47.376Z"
   },
   {
    "duration": 1484,
    "start_time": "2025-01-17T11:35:47.709Z"
   },
   {
    "duration": 12,
    "start_time": "2025-01-17T11:35:49.195Z"
   },
   {
    "duration": 13,
    "start_time": "2025-01-17T11:35:49.209Z"
   },
   {
    "duration": 8,
    "start_time": "2025-01-17T11:35:49.224Z"
   },
   {
    "duration": 2760,
    "start_time": "2025-01-17T11:51:08.774Z"
   },
   {
    "duration": 1168,
    "start_time": "2025-01-17T11:51:11.536Z"
   },
   {
    "duration": 97,
    "start_time": "2025-01-17T11:51:12.706Z"
   },
   {
    "duration": 23,
    "start_time": "2025-01-17T11:51:12.805Z"
   },
   {
    "duration": 5,
    "start_time": "2025-01-17T11:51:12.829Z"
   },
   {
    "duration": 40,
    "start_time": "2025-01-17T11:51:12.835Z"
   },
   {
    "duration": 7,
    "start_time": "2025-01-17T11:51:12.876Z"
   },
   {
    "duration": 9,
    "start_time": "2025-01-17T11:51:12.884Z"
   },
   {
    "duration": 9,
    "start_time": "2025-01-17T11:51:12.894Z"
   },
   {
    "duration": 5,
    "start_time": "2025-01-17T11:51:12.905Z"
   },
   {
    "duration": 18,
    "start_time": "2025-01-17T11:51:12.911Z"
   },
   {
    "duration": 4,
    "start_time": "2025-01-17T11:51:12.931Z"
   },
   {
    "duration": 34,
    "start_time": "2025-01-17T11:51:12.936Z"
   },
   {
    "duration": 6,
    "start_time": "2025-01-17T11:51:12.972Z"
   },
   {
    "duration": 20,
    "start_time": "2025-01-17T11:51:12.979Z"
   },
   {
    "duration": 8460,
    "start_time": "2025-01-17T11:51:13.000Z"
   },
   {
    "duration": 5223,
    "start_time": "2025-01-17T11:51:21.462Z"
   },
   {
    "duration": 5,
    "start_time": "2025-01-17T11:51:26.686Z"
   },
   {
    "duration": 1384,
    "start_time": "2025-01-17T11:51:26.692Z"
   },
   {
    "duration": 43,
    "start_time": "2025-01-17T11:51:28.078Z"
   },
   {
    "duration": 11,
    "start_time": "2025-01-17T11:51:28.122Z"
   },
   {
    "duration": 339,
    "start_time": "2025-01-17T11:51:28.134Z"
   },
   {
    "duration": 1442,
    "start_time": "2025-01-17T11:51:28.475Z"
   },
   {
    "duration": 11,
    "start_time": "2025-01-17T11:51:29.919Z"
   },
   {
    "duration": 13,
    "start_time": "2025-01-17T11:51:29.932Z"
   },
   {
    "duration": 19,
    "start_time": "2025-01-17T11:51:29.947Z"
   },
   {
    "duration": 3494,
    "start_time": "2025-01-18T09:27:15.189Z"
   },
   {
    "duration": 1327,
    "start_time": "2025-01-18T09:27:18.685Z"
   },
   {
    "duration": 252,
    "start_time": "2025-01-18T09:27:20.013Z"
   },
   {
    "duration": 26,
    "start_time": "2025-01-18T09:27:20.272Z"
   },
   {
    "duration": 5,
    "start_time": "2025-01-18T09:27:20.299Z"
   },
   {
    "duration": 8,
    "start_time": "2025-01-18T09:27:20.306Z"
   },
   {
    "duration": 7,
    "start_time": "2025-01-18T09:27:20.315Z"
   },
   {
    "duration": 21,
    "start_time": "2025-01-18T09:27:20.324Z"
   },
   {
    "duration": 14,
    "start_time": "2025-01-18T09:27:20.347Z"
   },
   {
    "duration": 11,
    "start_time": "2025-01-18T09:27:20.364Z"
   },
   {
    "duration": 22,
    "start_time": "2025-01-18T09:27:20.376Z"
   },
   {
    "duration": 12,
    "start_time": "2025-01-18T09:27:20.400Z"
   },
   {
    "duration": 60,
    "start_time": "2025-01-18T09:27:20.413Z"
   },
   {
    "duration": 7,
    "start_time": "2025-01-18T09:27:20.475Z"
   },
   {
    "duration": 6,
    "start_time": "2025-01-18T09:27:20.484Z"
   },
   {
    "duration": 9749,
    "start_time": "2025-01-18T09:27:20.492Z"
   },
   {
    "duration": 6192,
    "start_time": "2025-01-18T09:27:30.243Z"
   },
   {
    "duration": 6,
    "start_time": "2025-01-18T09:27:36.437Z"
   },
   {
    "duration": 1462,
    "start_time": "2025-01-18T09:27:36.445Z"
   },
   {
    "duration": 78,
    "start_time": "2025-01-18T09:27:37.909Z"
   },
   {
    "duration": 11,
    "start_time": "2025-01-18T09:27:37.988Z"
   },
   {
    "duration": 381,
    "start_time": "2025-01-18T09:27:38.000Z"
   },
   {
    "duration": 1616,
    "start_time": "2025-01-18T09:27:38.383Z"
   },
   {
    "duration": 15,
    "start_time": "2025-01-18T09:27:40.024Z"
   },
   {
    "duration": 35,
    "start_time": "2025-01-18T09:27:40.042Z"
   },
   {
    "duration": 15,
    "start_time": "2025-01-18T09:27:40.079Z"
   },
   {
    "duration": 55,
    "start_time": "2025-01-18T09:27:40.096Z"
   },
   {
    "duration": 16,
    "start_time": "2025-01-18T09:30:37.778Z"
   },
   {
    "duration": 6,
    "start_time": "2025-01-18T09:39:42.013Z"
   },
   {
    "duration": 114,
    "start_time": "2025-01-18T09:40:00.341Z"
   },
   {
    "duration": 14,
    "start_time": "2025-01-18T09:44:25.253Z"
   },
   {
    "duration": 71,
    "start_time": "2025-01-18T09:44:38.352Z"
   },
   {
    "duration": 7,
    "start_time": "2025-01-18T09:44:49.341Z"
   },
   {
    "duration": 575,
    "start_time": "2025-01-18T09:45:08.533Z"
   },
   {
    "duration": 7,
    "start_time": "2025-01-18T10:08:35.243Z"
   },
   {
    "duration": 319,
    "start_time": "2025-01-18T10:08:57.407Z"
   },
   {
    "duration": 327,
    "start_time": "2025-01-18T10:17:32.179Z"
   },
   {
    "duration": 9,
    "start_time": "2025-01-18T10:17:40.364Z"
   },
   {
    "duration": 296,
    "start_time": "2025-01-18T10:17:45.786Z"
   },
   {
    "duration": 118,
    "start_time": "2025-01-18T10:31:12.594Z"
   },
   {
    "duration": 21,
    "start_time": "2025-01-18T10:32:50.087Z"
   },
   {
    "duration": 15,
    "start_time": "2025-01-18T10:39:11.093Z"
   },
   {
    "duration": 17,
    "start_time": "2025-01-18T10:42:21.995Z"
   },
   {
    "duration": 30,
    "start_time": "2025-01-18T10:43:22.185Z"
   },
   {
    "duration": 17,
    "start_time": "2025-01-18T10:43:56.287Z"
   },
   {
    "duration": 16,
    "start_time": "2025-01-18T10:45:16.448Z"
   },
   {
    "duration": 8,
    "start_time": "2025-01-18T10:55:06.281Z"
   },
   {
    "duration": 280,
    "start_time": "2025-01-18T10:55:40.701Z"
   },
   {
    "duration": 6,
    "start_time": "2025-01-18T10:59:19.847Z"
   },
   {
    "duration": 290,
    "start_time": "2025-01-18T10:59:21.980Z"
   },
   {
    "duration": 2689,
    "start_time": "2025-01-18T12:34:11.130Z"
   },
   {
    "duration": 1258,
    "start_time": "2025-01-18T12:34:13.822Z"
   },
   {
    "duration": 127,
    "start_time": "2025-01-18T12:34:15.089Z"
   },
   {
    "duration": 26,
    "start_time": "2025-01-18T12:34:15.218Z"
   },
   {
    "duration": 6,
    "start_time": "2025-01-18T12:34:15.246Z"
   },
   {
    "duration": 44,
    "start_time": "2025-01-18T12:34:15.255Z"
   },
   {
    "duration": 20,
    "start_time": "2025-01-18T12:34:15.300Z"
   },
   {
    "duration": 17,
    "start_time": "2025-01-18T12:34:15.322Z"
   },
   {
    "duration": 19,
    "start_time": "2025-01-18T12:34:15.341Z"
   },
   {
    "duration": 33,
    "start_time": "2025-01-18T12:34:15.362Z"
   },
   {
    "duration": 12,
    "start_time": "2025-01-18T12:34:15.397Z"
   },
   {
    "duration": 6,
    "start_time": "2025-01-18T12:34:15.410Z"
   },
   {
    "duration": 20,
    "start_time": "2025-01-18T12:34:15.417Z"
   },
   {
    "duration": 6,
    "start_time": "2025-01-18T12:34:15.438Z"
   },
   {
    "duration": 48,
    "start_time": "2025-01-18T12:34:15.445Z"
   },
   {
    "duration": 10376,
    "start_time": "2025-01-18T12:34:15.499Z"
   },
   {
    "duration": 6723,
    "start_time": "2025-01-18T12:34:25.880Z"
   },
   {
    "duration": 5,
    "start_time": "2025-01-18T12:34:32.605Z"
   },
   {
    "duration": 1507,
    "start_time": "2025-01-18T12:34:32.612Z"
   },
   {
    "duration": 59,
    "start_time": "2025-01-18T12:34:34.123Z"
   },
   {
    "duration": 14,
    "start_time": "2025-01-18T12:34:34.187Z"
   },
   {
    "duration": 504,
    "start_time": "2025-01-18T12:34:34.203Z"
   },
   {
    "duration": 1837,
    "start_time": "2025-01-18T12:34:34.713Z"
   },
   {
    "duration": 27,
    "start_time": "2025-01-18T12:34:36.552Z"
   },
   {
    "duration": 32,
    "start_time": "2025-01-18T12:34:36.581Z"
   },
   {
    "duration": 9,
    "start_time": "2025-01-18T12:34:36.615Z"
   },
   {
    "duration": 22,
    "start_time": "2025-01-18T12:34:36.625Z"
   },
   {
    "duration": 426,
    "start_time": "2025-01-18T12:34:36.651Z"
   },
   {
    "duration": 142,
    "start_time": "2025-01-18T12:44:27.060Z"
   },
   {
    "duration": 3,
    "start_time": "2025-01-18T12:48:51.985Z"
   },
   {
    "duration": 736,
    "start_time": "2025-01-18T12:49:21.682Z"
   },
   {
    "duration": 9,
    "start_time": "2025-01-18T12:50:54.066Z"
   },
   {
    "duration": 938,
    "start_time": "2025-01-18T12:50:57.093Z"
   },
   {
    "duration": 4,
    "start_time": "2025-01-18T12:55:29.718Z"
   },
   {
    "duration": 866,
    "start_time": "2025-01-18T12:55:32.730Z"
   },
   {
    "duration": 23,
    "start_time": "2025-01-18T13:42:15.362Z"
   },
   {
    "duration": 104,
    "start_time": "2025-01-18T13:46:59.817Z"
   },
   {
    "duration": 7,
    "start_time": "2025-01-18T13:49:13.346Z"
   },
   {
    "duration": 5,
    "start_time": "2025-01-18T13:49:41.355Z"
   },
   {
    "duration": 4,
    "start_time": "2025-01-18T13:50:41.944Z"
   },
   {
    "duration": 2341,
    "start_time": "2025-01-18T13:50:51.885Z"
   },
   {
    "duration": 1265,
    "start_time": "2025-01-18T13:50:54.230Z"
   },
   {
    "duration": 146,
    "start_time": "2025-01-18T13:50:55.498Z"
   },
   {
    "duration": 31,
    "start_time": "2025-01-18T13:50:55.646Z"
   },
   {
    "duration": 9,
    "start_time": "2025-01-18T13:50:55.682Z"
   },
   {
    "duration": 12,
    "start_time": "2025-01-18T13:50:55.694Z"
   },
   {
    "duration": 8,
    "start_time": "2025-01-18T13:50:55.708Z"
   },
   {
    "duration": 40,
    "start_time": "2025-01-18T13:50:55.718Z"
   },
   {
    "duration": 59,
    "start_time": "2025-01-18T13:50:55.760Z"
   },
   {
    "duration": 6,
    "start_time": "2025-01-18T13:50:55.821Z"
   },
   {
    "duration": 10,
    "start_time": "2025-01-18T13:50:55.828Z"
   },
   {
    "duration": 17,
    "start_time": "2025-01-18T13:50:55.839Z"
   },
   {
    "duration": 4,
    "start_time": "2025-01-18T13:50:55.858Z"
   },
   {
    "duration": 19,
    "start_time": "2025-01-18T13:50:55.865Z"
   },
   {
    "duration": 10,
    "start_time": "2025-01-18T13:50:55.887Z"
   },
   {
    "duration": 5,
    "start_time": "2025-01-18T13:50:55.900Z"
   },
   {
    "duration": 853,
    "start_time": "2025-01-18T13:50:55.908Z"
   },
   {
    "duration": 12,
    "start_time": "2025-01-18T13:50:56.763Z"
   },
   {
    "duration": 5,
    "start_time": "2025-01-18T13:50:56.777Z"
   },
   {
    "duration": 5,
    "start_time": "2025-01-18T13:50:56.784Z"
   },
   {
    "duration": 9585,
    "start_time": "2025-01-18T13:50:56.791Z"
   },
   {
    "duration": 5588,
    "start_time": "2025-01-18T13:51:06.378Z"
   },
   {
    "duration": 5,
    "start_time": "2025-01-18T13:51:11.967Z"
   },
   {
    "duration": 1501,
    "start_time": "2025-01-18T13:51:11.974Z"
   },
   {
    "duration": 48,
    "start_time": "2025-01-18T13:51:13.477Z"
   },
   {
    "duration": 32,
    "start_time": "2025-01-18T13:51:13.526Z"
   },
   {
    "duration": 358,
    "start_time": "2025-01-18T13:51:13.559Z"
   },
   {
    "duration": 1287,
    "start_time": "2025-01-18T13:51:13.919Z"
   },
   {
    "duration": 11,
    "start_time": "2025-01-18T13:51:15.208Z"
   },
   {
    "duration": 84,
    "start_time": "2025-01-18T13:51:15.221Z"
   },
   {
    "duration": 421,
    "start_time": "2025-01-18T13:51:15.307Z"
   },
   {
    "duration": 75,
    "start_time": "2025-01-18T13:51:15.731Z"
   },
   {
    "duration": 423,
    "start_time": "2025-01-18T13:51:15.808Z"
   },
   {
    "duration": 1869,
    "start_time": "2025-01-18T13:54:28.536Z"
   },
   {
    "duration": 9513,
    "start_time": "2025-01-18T13:55:12.493Z"
   },
   {
    "duration": 120,
    "start_time": "2025-01-18T14:01:28.078Z"
   },
   {
    "duration": 390,
    "start_time": "2025-01-18T14:01:38.544Z"
   },
   {
    "duration": 18,
    "start_time": "2025-01-18T14:27:49.732Z"
   },
   {
    "duration": 15,
    "start_time": "2025-01-18T14:36:41.399Z"
   },
   {
    "duration": 364,
    "start_time": "2025-01-18T15:30:18.277Z"
   },
   {
    "duration": 790,
    "start_time": "2025-01-18T15:32:33.628Z"
   },
   {
    "duration": 2494,
    "start_time": "2025-01-18T15:36:17.692Z"
   },
   {
    "duration": 1256,
    "start_time": "2025-01-18T15:36:20.189Z"
   },
   {
    "duration": 145,
    "start_time": "2025-01-18T15:36:21.447Z"
   },
   {
    "duration": 38,
    "start_time": "2025-01-18T15:36:21.594Z"
   },
   {
    "duration": 6,
    "start_time": "2025-01-18T15:36:21.633Z"
   },
   {
    "duration": 44,
    "start_time": "2025-01-18T15:36:21.640Z"
   },
   {
    "duration": 9,
    "start_time": "2025-01-18T15:36:21.686Z"
   },
   {
    "duration": 6,
    "start_time": "2025-01-18T15:36:21.696Z"
   },
   {
    "duration": 7,
    "start_time": "2025-01-18T15:36:21.704Z"
   },
   {
    "duration": 10,
    "start_time": "2025-01-18T15:36:21.715Z"
   },
   {
    "duration": 12,
    "start_time": "2025-01-18T15:36:21.727Z"
   },
   {
    "duration": 35,
    "start_time": "2025-01-18T15:36:21.740Z"
   },
   {
    "duration": 6,
    "start_time": "2025-01-18T15:36:21.777Z"
   },
   {
    "duration": 22,
    "start_time": "2025-01-18T15:36:21.785Z"
   },
   {
    "duration": 6,
    "start_time": "2025-01-18T15:36:21.808Z"
   },
   {
    "duration": 3,
    "start_time": "2025-01-18T15:36:21.816Z"
   },
   {
    "duration": 910,
    "start_time": "2025-01-18T15:36:21.821Z"
   },
   {
    "duration": 11,
    "start_time": "2025-01-18T15:36:22.733Z"
   },
   {
    "duration": 23,
    "start_time": "2025-01-18T15:36:22.754Z"
   },
   {
    "duration": 16,
    "start_time": "2025-01-18T15:36:22.780Z"
   },
   {
    "duration": 9938,
    "start_time": "2025-01-18T15:36:22.797Z"
   },
   {
    "duration": 6473,
    "start_time": "2025-01-18T15:36:32.738Z"
   },
   {
    "duration": 5,
    "start_time": "2025-01-18T15:36:39.213Z"
   },
   {
    "duration": 1879,
    "start_time": "2025-01-18T15:36:39.219Z"
   },
   {
    "duration": 68,
    "start_time": "2025-01-18T15:36:41.100Z"
   },
   {
    "duration": 15,
    "start_time": "2025-01-18T15:36:41.178Z"
   },
   {
    "duration": 411,
    "start_time": "2025-01-18T15:36:41.195Z"
   },
   {
    "duration": 1419,
    "start_time": "2025-01-18T15:36:41.609Z"
   },
   {
    "duration": 446,
    "start_time": "2025-01-18T15:36:43.030Z"
   },
   {
    "duration": 11,
    "start_time": "2025-01-18T15:36:43.478Z"
   },
   {
    "duration": 15,
    "start_time": "2025-01-18T15:36:43.491Z"
   },
   {
    "duration": 20,
    "start_time": "2025-01-18T15:36:43.508Z"
   },
   {
    "duration": 38,
    "start_time": "2025-01-18T15:36:43.529Z"
   },
   {
    "duration": 463,
    "start_time": "2025-01-18T15:36:43.570Z"
   },
   {
    "duration": 380,
    "start_time": "2025-01-18T15:38:48.836Z"
   },
   {
    "duration": 377,
    "start_time": "2025-01-18T15:39:33.839Z"
   },
   {
    "duration": 398,
    "start_time": "2025-01-18T15:41:04.439Z"
   },
   {
    "duration": 330,
    "start_time": "2025-01-18T15:42:33.778Z"
   },
   {
    "duration": 377,
    "start_time": "2025-01-18T15:43:03.607Z"
   },
   {
    "duration": 345,
    "start_time": "2025-01-18T15:43:20.766Z"
   },
   {
    "duration": 379,
    "start_time": "2025-01-18T15:43:52.207Z"
   },
   {
    "duration": 404,
    "start_time": "2025-01-18T15:47:31.617Z"
   },
   {
    "duration": 316,
    "start_time": "2025-01-18T15:48:04.900Z"
   },
   {
    "duration": 368,
    "start_time": "2025-01-18T15:48:39.820Z"
   },
   {
    "duration": 361,
    "start_time": "2025-01-18T15:49:14.445Z"
   },
   {
    "duration": 715,
    "start_time": "2025-01-18T15:49:46.196Z"
   },
   {
    "duration": 331,
    "start_time": "2025-01-18T15:49:52.175Z"
   },
   {
    "duration": 347,
    "start_time": "2025-01-18T15:50:11.796Z"
   },
   {
    "duration": 330,
    "start_time": "2025-01-18T15:50:25.976Z"
   },
   {
    "duration": 376,
    "start_time": "2025-01-18T15:51:03.107Z"
   },
   {
    "duration": 313,
    "start_time": "2025-01-18T15:51:21.181Z"
   },
   {
    "duration": 2196,
    "start_time": "2025-01-18T16:03:50.173Z"
   },
   {
    "duration": 8319,
    "start_time": "2025-01-18T16:05:53.991Z"
   },
   {
    "duration": 16,
    "start_time": "2025-01-18T16:12:33.275Z"
   },
   {
    "duration": 2380,
    "start_time": "2025-01-18T16:30:32.301Z"
   },
   {
    "duration": 1206,
    "start_time": "2025-01-18T16:30:34.683Z"
   },
   {
    "duration": 105,
    "start_time": "2025-01-18T16:30:35.891Z"
   },
   {
    "duration": 26,
    "start_time": "2025-01-18T16:30:35.999Z"
   },
   {
    "duration": 25,
    "start_time": "2025-01-18T16:30:36.026Z"
   },
   {
    "duration": 28,
    "start_time": "2025-01-18T16:30:36.053Z"
   },
   {
    "duration": 51,
    "start_time": "2025-01-18T16:30:36.082Z"
   },
   {
    "duration": 34,
    "start_time": "2025-01-18T16:30:36.135Z"
   },
   {
    "duration": 16,
    "start_time": "2025-01-18T16:30:36.170Z"
   },
   {
    "duration": 38,
    "start_time": "2025-01-18T16:30:36.188Z"
   },
   {
    "duration": 40,
    "start_time": "2025-01-18T16:30:36.228Z"
   },
   {
    "duration": 17,
    "start_time": "2025-01-18T16:30:36.269Z"
   },
   {
    "duration": 5,
    "start_time": "2025-01-18T16:30:36.287Z"
   },
   {
    "duration": 70,
    "start_time": "2025-01-18T16:30:36.294Z"
   },
   {
    "duration": 6,
    "start_time": "2025-01-18T16:30:36.370Z"
   },
   {
    "duration": 23,
    "start_time": "2025-01-18T16:30:36.378Z"
   },
   {
    "duration": 871,
    "start_time": "2025-01-18T16:30:36.402Z"
   },
   {
    "duration": 11,
    "start_time": "2025-01-18T16:30:37.275Z"
   },
   {
    "duration": 13,
    "start_time": "2025-01-18T16:30:37.287Z"
   },
   {
    "duration": 14,
    "start_time": "2025-01-18T16:30:37.301Z"
   },
   {
    "duration": 8602,
    "start_time": "2025-01-18T16:30:37.316Z"
   },
   {
    "duration": 6000,
    "start_time": "2025-01-18T16:30:45.920Z"
   },
   {
    "duration": 4,
    "start_time": "2025-01-18T16:30:51.922Z"
   },
   {
    "duration": 2591,
    "start_time": "2025-01-18T16:30:51.928Z"
   },
   {
    "duration": 61,
    "start_time": "2025-01-18T16:30:54.522Z"
   },
   {
    "duration": 10,
    "start_time": "2025-01-18T16:30:54.586Z"
   },
   {
    "duration": 389,
    "start_time": "2025-01-18T16:30:54.597Z"
   },
   {
    "duration": 1276,
    "start_time": "2025-01-18T16:30:54.989Z"
   },
   {
    "duration": 345,
    "start_time": "2025-01-18T16:30:56.266Z"
   },
   {
    "duration": 11,
    "start_time": "2025-01-18T16:30:56.613Z"
   },
   {
    "duration": 36,
    "start_time": "2025-01-18T16:30:56.625Z"
   },
   {
    "duration": 17,
    "start_time": "2025-01-18T16:30:56.662Z"
   },
   {
    "duration": 8,
    "start_time": "2025-01-18T16:30:56.680Z"
   },
   {
    "duration": 372,
    "start_time": "2025-01-18T16:30:56.689Z"
   },
   {
    "duration": 2381,
    "start_time": "2025-01-18T16:45:34.201Z"
   },
   {
    "duration": 1197,
    "start_time": "2025-01-18T16:45:36.586Z"
   },
   {
    "duration": 118,
    "start_time": "2025-01-18T16:45:37.786Z"
   },
   {
    "duration": 26,
    "start_time": "2025-01-18T16:45:37.906Z"
   },
   {
    "duration": 5,
    "start_time": "2025-01-18T16:45:37.934Z"
   },
   {
    "duration": 15,
    "start_time": "2025-01-18T16:45:37.940Z"
   },
   {
    "duration": 7,
    "start_time": "2025-01-18T16:45:37.957Z"
   },
   {
    "duration": 4,
    "start_time": "2025-01-18T16:45:37.966Z"
   },
   {
    "duration": 6,
    "start_time": "2025-01-18T16:45:37.971Z"
   },
   {
    "duration": 4,
    "start_time": "2025-01-18T16:45:37.978Z"
   },
   {
    "duration": 7,
    "start_time": "2025-01-18T16:45:37.983Z"
   },
   {
    "duration": 10,
    "start_time": "2025-01-18T16:45:37.992Z"
   },
   {
    "duration": 5,
    "start_time": "2025-01-18T16:45:38.003Z"
   },
   {
    "duration": 49,
    "start_time": "2025-01-18T16:45:38.011Z"
   },
   {
    "duration": 5,
    "start_time": "2025-01-18T16:45:38.063Z"
   },
   {
    "duration": 4,
    "start_time": "2025-01-18T16:45:38.070Z"
   },
   {
    "duration": 819,
    "start_time": "2025-01-18T16:45:38.075Z"
   },
   {
    "duration": 12,
    "start_time": "2025-01-18T16:45:38.895Z"
   },
   {
    "duration": 6,
    "start_time": "2025-01-18T16:45:38.909Z"
   },
   {
    "duration": 4,
    "start_time": "2025-01-18T16:45:38.917Z"
   },
   {
    "duration": 8182,
    "start_time": "2025-01-18T16:45:38.923Z"
   },
   {
    "duration": 6572,
    "start_time": "2025-01-18T16:45:47.106Z"
   },
   {
    "duration": 5,
    "start_time": "2025-01-18T16:45:53.679Z"
   },
   {
    "duration": 2602,
    "start_time": "2025-01-18T16:45:53.685Z"
   },
   {
    "duration": 74,
    "start_time": "2025-01-18T16:45:56.289Z"
   },
   {
    "duration": 11,
    "start_time": "2025-01-18T16:45:56.365Z"
   },
   {
    "duration": 403,
    "start_time": "2025-01-18T16:45:56.378Z"
   },
   {
    "duration": 1260,
    "start_time": "2025-01-18T16:45:56.783Z"
   },
   {
    "duration": 372,
    "start_time": "2025-01-18T16:45:58.045Z"
   },
   {
    "duration": 12,
    "start_time": "2025-01-18T16:45:58.419Z"
   },
   {
    "duration": 30,
    "start_time": "2025-01-18T16:45:58.433Z"
   },
   {
    "duration": 18,
    "start_time": "2025-01-18T16:45:58.464Z"
   },
   {
    "duration": 11,
    "start_time": "2025-01-18T16:45:58.483Z"
   },
   {
    "duration": 381,
    "start_time": "2025-01-18T16:45:58.496Z"
   },
   {
    "duration": 3867,
    "start_time": "2025-01-19T07:11:18.532Z"
   },
   {
    "duration": 1335,
    "start_time": "2025-01-19T07:11:22.401Z"
   },
   {
    "duration": 107,
    "start_time": "2025-01-19T07:11:23.738Z"
   },
   {
    "duration": 26,
    "start_time": "2025-01-19T07:11:23.846Z"
   },
   {
    "duration": 6,
    "start_time": "2025-01-19T07:11:23.873Z"
   },
   {
    "duration": 7,
    "start_time": "2025-01-19T07:11:23.880Z"
   },
   {
    "duration": 5,
    "start_time": "2025-01-19T07:11:23.888Z"
   },
   {
    "duration": 3,
    "start_time": "2025-01-19T07:11:23.894Z"
   },
   {
    "duration": 3,
    "start_time": "2025-01-19T07:11:23.899Z"
   },
   {
    "duration": 9,
    "start_time": "2025-01-19T07:11:23.904Z"
   },
   {
    "duration": 7,
    "start_time": "2025-01-19T07:11:23.915Z"
   },
   {
    "duration": 10,
    "start_time": "2025-01-19T07:11:23.923Z"
   },
   {
    "duration": 4,
    "start_time": "2025-01-19T07:11:23.934Z"
   },
   {
    "duration": 20,
    "start_time": "2025-01-19T07:11:23.940Z"
   },
   {
    "duration": 28,
    "start_time": "2025-01-19T07:11:23.962Z"
   },
   {
    "duration": 10,
    "start_time": "2025-01-19T07:11:23.991Z"
   },
   {
    "duration": 787,
    "start_time": "2025-01-19T07:11:24.003Z"
   },
   {
    "duration": 11,
    "start_time": "2025-01-19T07:11:24.791Z"
   },
   {
    "duration": 4,
    "start_time": "2025-01-19T07:11:24.804Z"
   },
   {
    "duration": 4,
    "start_time": "2025-01-19T07:11:24.809Z"
   },
   {
    "duration": 7594,
    "start_time": "2025-01-19T07:11:24.814Z"
   },
   {
    "duration": 4852,
    "start_time": "2025-01-19T07:11:32.410Z"
   },
   {
    "duration": 5,
    "start_time": "2025-01-19T07:11:37.264Z"
   },
   {
    "duration": 2031,
    "start_time": "2025-01-19T07:11:37.271Z"
   },
   {
    "duration": 47,
    "start_time": "2025-01-19T07:11:39.304Z"
   },
   {
    "duration": 11,
    "start_time": "2025-01-19T07:11:39.353Z"
   },
   {
    "duration": 379,
    "start_time": "2025-01-19T07:11:39.365Z"
   },
   {
    "duration": 1165,
    "start_time": "2025-01-19T07:11:39.746Z"
   },
   {
    "duration": 301,
    "start_time": "2025-01-19T07:11:40.913Z"
   },
   {
    "duration": 11,
    "start_time": "2025-01-19T07:11:41.216Z"
   },
   {
    "duration": 20,
    "start_time": "2025-01-19T07:11:41.229Z"
   },
   {
    "duration": 15,
    "start_time": "2025-01-19T07:11:41.251Z"
   },
   {
    "duration": 6,
    "start_time": "2025-01-19T07:11:41.286Z"
   },
   {
    "duration": 326,
    "start_time": "2025-01-19T07:11:41.294Z"
   },
   {
    "duration": 2705,
    "start_time": "2025-01-19T07:34:27.056Z"
   },
   {
    "duration": 1155,
    "start_time": "2025-01-19T07:34:29.763Z"
   },
   {
    "duration": 66,
    "start_time": "2025-01-19T07:34:30.920Z"
   },
   {
    "duration": 24,
    "start_time": "2025-01-19T07:34:30.988Z"
   },
   {
    "duration": 18,
    "start_time": "2025-01-19T07:34:31.014Z"
   },
   {
    "duration": 16,
    "start_time": "2025-01-19T07:34:31.034Z"
   },
   {
    "duration": 10,
    "start_time": "2025-01-19T07:34:31.051Z"
   },
   {
    "duration": 3,
    "start_time": "2025-01-19T07:34:31.063Z"
   },
   {
    "duration": 22,
    "start_time": "2025-01-19T07:34:31.067Z"
   },
   {
    "duration": 38,
    "start_time": "2025-01-19T07:34:31.090Z"
   },
   {
    "duration": 15,
    "start_time": "2025-01-19T07:34:31.129Z"
   },
   {
    "duration": 33,
    "start_time": "2025-01-19T07:34:31.145Z"
   },
   {
    "duration": 35,
    "start_time": "2025-01-19T07:34:31.180Z"
   },
   {
    "duration": 30,
    "start_time": "2025-01-19T07:34:31.219Z"
   },
   {
    "duration": 8,
    "start_time": "2025-01-19T07:34:31.251Z"
   },
   {
    "duration": 11,
    "start_time": "2025-01-19T07:34:31.260Z"
   },
   {
    "duration": 818,
    "start_time": "2025-01-19T07:34:31.273Z"
   },
   {
    "duration": 12,
    "start_time": "2025-01-19T07:34:32.093Z"
   },
   {
    "duration": 5,
    "start_time": "2025-01-19T07:34:32.106Z"
   },
   {
    "duration": 3,
    "start_time": "2025-01-19T07:34:32.113Z"
   },
   {
    "duration": 7471,
    "start_time": "2025-01-19T07:34:32.118Z"
   },
   {
    "duration": 5082,
    "start_time": "2025-01-19T07:34:39.591Z"
   },
   {
    "duration": 11,
    "start_time": "2025-01-19T07:34:44.675Z"
   },
   {
    "duration": 2339,
    "start_time": "2025-01-19T07:34:44.688Z"
   },
   {
    "duration": 46,
    "start_time": "2025-01-19T07:34:47.029Z"
   },
   {
    "duration": 40,
    "start_time": "2025-01-19T07:34:47.086Z"
   },
   {
    "duration": 348,
    "start_time": "2025-01-19T07:34:47.127Z"
   },
   {
    "duration": 1138,
    "start_time": "2025-01-19T07:34:47.477Z"
   },
   {
    "duration": 310,
    "start_time": "2025-01-19T07:34:48.616Z"
   },
   {
    "duration": 10,
    "start_time": "2025-01-19T07:34:48.927Z"
   },
   {
    "duration": 20,
    "start_time": "2025-01-19T07:34:48.938Z"
   },
   {
    "duration": 27,
    "start_time": "2025-01-19T07:34:48.959Z"
   },
   {
    "duration": 7,
    "start_time": "2025-01-19T07:34:48.988Z"
   },
   {
    "duration": 325,
    "start_time": "2025-01-19T07:34:48.996Z"
   },
   {
    "duration": 2637,
    "start_time": "2025-01-19T07:37:09.805Z"
   },
   {
    "duration": 1089,
    "start_time": "2025-01-19T07:37:12.444Z"
   },
   {
    "duration": 57,
    "start_time": "2025-01-19T07:37:13.535Z"
   },
   {
    "duration": 25,
    "start_time": "2025-01-19T07:37:13.593Z"
   },
   {
    "duration": 5,
    "start_time": "2025-01-19T07:37:13.620Z"
   },
   {
    "duration": 8,
    "start_time": "2025-01-19T07:37:13.626Z"
   },
   {
    "duration": 5,
    "start_time": "2025-01-19T07:37:13.636Z"
   },
   {
    "duration": 3,
    "start_time": "2025-01-19T07:37:13.643Z"
   },
   {
    "duration": 41,
    "start_time": "2025-01-19T07:37:13.647Z"
   },
   {
    "duration": 9,
    "start_time": "2025-01-19T07:37:13.689Z"
   },
   {
    "duration": 5,
    "start_time": "2025-01-19T07:37:13.700Z"
   },
   {
    "duration": 10,
    "start_time": "2025-01-19T07:37:13.707Z"
   },
   {
    "duration": 7,
    "start_time": "2025-01-19T07:37:13.718Z"
   },
   {
    "duration": 17,
    "start_time": "2025-01-19T07:37:13.727Z"
   },
   {
    "duration": 5,
    "start_time": "2025-01-19T07:37:13.745Z"
   },
   {
    "duration": 3,
    "start_time": "2025-01-19T07:37:13.752Z"
   },
   {
    "duration": 794,
    "start_time": "2025-01-19T07:37:13.757Z"
   },
   {
    "duration": 12,
    "start_time": "2025-01-19T07:37:14.552Z"
   },
   {
    "duration": 21,
    "start_time": "2025-01-19T07:37:14.565Z"
   },
   {
    "duration": 4,
    "start_time": "2025-01-19T07:37:14.587Z"
   },
   {
    "duration": 7179,
    "start_time": "2025-01-19T07:37:14.593Z"
   },
   {
    "duration": 4958,
    "start_time": "2025-01-19T07:37:21.773Z"
   },
   {
    "duration": 4,
    "start_time": "2025-01-19T07:37:26.732Z"
   },
   {
    "duration": 2338,
    "start_time": "2025-01-19T07:37:26.737Z"
   },
   {
    "duration": 49,
    "start_time": "2025-01-19T07:37:29.077Z"
   },
   {
    "duration": 10,
    "start_time": "2025-01-19T07:37:29.128Z"
   },
   {
    "duration": 363,
    "start_time": "2025-01-19T07:37:29.140Z"
   },
   {
    "duration": 1142,
    "start_time": "2025-01-19T07:37:29.505Z"
   },
   {
    "duration": 348,
    "start_time": "2025-01-19T07:37:30.648Z"
   },
   {
    "duration": 10,
    "start_time": "2025-01-19T07:37:30.997Z"
   },
   {
    "duration": 18,
    "start_time": "2025-01-19T07:37:31.008Z"
   },
   {
    "duration": 14,
    "start_time": "2025-01-19T07:37:31.027Z"
   },
   {
    "duration": 14,
    "start_time": "2025-01-19T07:37:31.043Z"
   },
   {
    "duration": 300,
    "start_time": "2025-01-19T07:37:31.058Z"
   },
   {
    "duration": 2761,
    "start_time": "2025-01-19T23:26:35.029Z"
   },
   {
    "duration": 1170,
    "start_time": "2025-01-19T23:26:37.793Z"
   },
   {
    "duration": 105,
    "start_time": "2025-01-19T23:26:38.964Z"
   },
   {
    "duration": 26,
    "start_time": "2025-01-19T23:26:39.071Z"
   },
   {
    "duration": 6,
    "start_time": "2025-01-19T23:26:39.098Z"
   },
   {
    "duration": 7,
    "start_time": "2025-01-19T23:26:39.105Z"
   },
   {
    "duration": 5,
    "start_time": "2025-01-19T23:26:39.114Z"
   },
   {
    "duration": 14,
    "start_time": "2025-01-19T23:26:39.120Z"
   },
   {
    "duration": 5,
    "start_time": "2025-01-19T23:26:39.135Z"
   },
   {
    "duration": 3,
    "start_time": "2025-01-19T23:26:39.142Z"
   },
   {
    "duration": 26,
    "start_time": "2025-01-19T23:26:39.147Z"
   },
   {
    "duration": 20,
    "start_time": "2025-01-19T23:26:39.174Z"
   },
   {
    "duration": 5,
    "start_time": "2025-01-19T23:26:39.195Z"
   },
   {
    "duration": 18,
    "start_time": "2025-01-19T23:26:39.201Z"
   },
   {
    "duration": 5,
    "start_time": "2025-01-19T23:26:39.220Z"
   },
   {
    "duration": 26,
    "start_time": "2025-01-19T23:26:39.227Z"
   },
   {
    "duration": 817,
    "start_time": "2025-01-19T23:26:39.254Z"
   },
   {
    "duration": 15,
    "start_time": "2025-01-19T23:26:40.072Z"
   },
   {
    "duration": 5,
    "start_time": "2025-01-19T23:26:40.089Z"
   },
   {
    "duration": 4,
    "start_time": "2025-01-19T23:26:40.095Z"
   },
   {
    "duration": 7178,
    "start_time": "2025-01-19T23:26:40.100Z"
   },
   {
    "duration": 4907,
    "start_time": "2025-01-19T23:26:47.279Z"
   },
   {
    "duration": 4,
    "start_time": "2025-01-19T23:26:52.188Z"
   },
   {
    "duration": 2262,
    "start_time": "2025-01-19T23:26:52.194Z"
   },
   {
    "duration": 53,
    "start_time": "2025-01-19T23:26:54.458Z"
   },
   {
    "duration": 10,
    "start_time": "2025-01-19T23:26:54.512Z"
   },
   {
    "duration": 333,
    "start_time": "2025-01-19T23:26:54.524Z"
   },
   {
    "duration": 1137,
    "start_time": "2025-01-19T23:26:54.860Z"
   },
   {
    "duration": 315,
    "start_time": "2025-01-19T23:26:55.999Z"
   },
   {
    "duration": 9,
    "start_time": "2025-01-19T23:26:56.316Z"
   },
   {
    "duration": 14,
    "start_time": "2025-01-19T23:26:56.326Z"
   },
   {
    "duration": 13,
    "start_time": "2025-01-19T23:26:56.341Z"
   },
   {
    "duration": 30,
    "start_time": "2025-01-19T23:26:56.356Z"
   },
   {
    "duration": 307,
    "start_time": "2025-01-19T23:26:56.387Z"
   },
   {
    "duration": 3739,
    "start_time": "2025-01-20T05:27:49.624Z"
   },
   {
    "duration": 1339,
    "start_time": "2025-01-20T05:27:53.365Z"
   },
   {
    "duration": 67,
    "start_time": "2025-01-20T05:27:54.705Z"
   },
   {
    "duration": 33,
    "start_time": "2025-01-20T05:27:54.774Z"
   },
   {
    "duration": 7,
    "start_time": "2025-01-20T05:27:54.809Z"
   },
   {
    "duration": 14,
    "start_time": "2025-01-20T05:27:54.817Z"
   },
   {
    "duration": 26,
    "start_time": "2025-01-20T05:27:54.833Z"
   },
   {
    "duration": 21,
    "start_time": "2025-01-20T05:27:54.860Z"
   },
   {
    "duration": 5,
    "start_time": "2025-01-20T05:27:54.883Z"
   },
   {
    "duration": 12,
    "start_time": "2025-01-20T05:27:54.890Z"
   },
   {
    "duration": 10,
    "start_time": "2025-01-20T05:27:54.904Z"
   },
   {
    "duration": 12,
    "start_time": "2025-01-20T05:27:54.915Z"
   },
   {
    "duration": 6,
    "start_time": "2025-01-20T05:27:54.928Z"
   },
   {
    "duration": 26,
    "start_time": "2025-01-20T05:27:54.935Z"
   },
   {
    "duration": 6,
    "start_time": "2025-01-20T05:27:54.963Z"
   },
   {
    "duration": 18,
    "start_time": "2025-01-20T05:27:54.971Z"
   },
   {
    "duration": 867,
    "start_time": "2025-01-20T05:27:54.993Z"
   },
   {
    "duration": 13,
    "start_time": "2025-01-20T05:27:55.862Z"
   },
   {
    "duration": 14,
    "start_time": "2025-01-20T05:27:55.876Z"
   },
   {
    "duration": 8,
    "start_time": "2025-01-20T05:27:55.893Z"
   },
   {
    "duration": 8919,
    "start_time": "2025-01-20T05:27:55.915Z"
   },
   {
    "duration": 5789,
    "start_time": "2025-01-20T05:28:04.836Z"
   },
   {
    "duration": 5,
    "start_time": "2025-01-20T05:28:10.627Z"
   },
   {
    "duration": 2167,
    "start_time": "2025-01-20T05:28:10.635Z"
   },
   {
    "duration": 54,
    "start_time": "2025-01-20T05:28:12.803Z"
   },
   {
    "duration": 12,
    "start_time": "2025-01-20T05:28:12.858Z"
   },
   {
    "duration": 413,
    "start_time": "2025-01-20T05:28:12.871Z"
   },
   {
    "duration": 1237,
    "start_time": "2025-01-20T05:28:13.287Z"
   },
   {
    "duration": 337,
    "start_time": "2025-01-20T05:28:14.525Z"
   },
   {
    "duration": 11,
    "start_time": "2025-01-20T05:28:14.864Z"
   },
   {
    "duration": 22,
    "start_time": "2025-01-20T05:28:14.876Z"
   },
   {
    "duration": 30,
    "start_time": "2025-01-20T05:28:14.900Z"
   },
   {
    "duration": 7,
    "start_time": "2025-01-20T05:28:14.932Z"
   },
   {
    "duration": 399,
    "start_time": "2025-01-20T05:28:14.940Z"
   },
   {
    "duration": 9,
    "start_time": "2025-01-20T05:28:15.340Z"
   },
   {
    "duration": 303,
    "start_time": "2025-01-20T05:28:15.350Z"
   },
   {
    "duration": 8,
    "start_time": "2025-01-20T05:30:21.008Z"
   },
   {
    "duration": 319,
    "start_time": "2025-01-20T05:30:23.659Z"
   },
   {
    "duration": 5,
    "start_time": "2025-01-20T05:41:19.130Z"
   },
   {
    "duration": 6,
    "start_time": "2025-01-20T05:44:52.946Z"
   },
   {
    "duration": 8,
    "start_time": "2025-01-20T05:45:03.711Z"
   },
   {
    "duration": 268,
    "start_time": "2025-01-20T05:45:07.467Z"
   },
   {
    "duration": 13,
    "start_time": "2025-01-20T05:56:33.034Z"
   },
   {
    "duration": 457,
    "start_time": "2025-01-20T05:56:47.851Z"
   },
   {
    "duration": 3645,
    "start_time": "2025-01-20T11:33:53.202Z"
   },
   {
    "duration": 1390,
    "start_time": "2025-01-20T11:33:56.849Z"
   },
   {
    "duration": 171,
    "start_time": "2025-01-20T11:33:58.240Z"
   },
   {
    "duration": 26,
    "start_time": "2025-01-20T11:33:58.413Z"
   },
   {
    "duration": 5,
    "start_time": "2025-01-20T11:33:58.440Z"
   },
   {
    "duration": 16,
    "start_time": "2025-01-20T11:33:58.446Z"
   },
   {
    "duration": 5,
    "start_time": "2025-01-20T11:33:58.464Z"
   },
   {
    "duration": 2,
    "start_time": "2025-01-20T11:33:58.470Z"
   },
   {
    "duration": 3,
    "start_time": "2025-01-20T11:33:58.486Z"
   },
   {
    "duration": 5,
    "start_time": "2025-01-20T11:33:58.491Z"
   },
   {
    "duration": 12,
    "start_time": "2025-01-20T11:33:58.497Z"
   },
   {
    "duration": 9,
    "start_time": "2025-01-20T11:33:58.510Z"
   },
   {
    "duration": 4,
    "start_time": "2025-01-20T11:33:58.521Z"
   },
   {
    "duration": 22,
    "start_time": "2025-01-20T11:33:58.526Z"
   },
   {
    "duration": 6,
    "start_time": "2025-01-20T11:33:58.549Z"
   },
   {
    "duration": 7,
    "start_time": "2025-01-20T11:33:58.556Z"
   },
   {
    "duration": 821,
    "start_time": "2025-01-20T11:33:58.565Z"
   },
   {
    "duration": 11,
    "start_time": "2025-01-20T11:33:59.388Z"
   },
   {
    "duration": 14,
    "start_time": "2025-01-20T11:33:59.400Z"
   },
   {
    "duration": 17,
    "start_time": "2025-01-20T11:33:59.415Z"
   },
   {
    "duration": 7344,
    "start_time": "2025-01-20T11:33:59.434Z"
   },
   {
    "duration": 4987,
    "start_time": "2025-01-20T11:34:06.780Z"
   },
   {
    "duration": 3,
    "start_time": "2025-01-20T11:34:11.769Z"
   },
   {
    "duration": 2320,
    "start_time": "2025-01-20T11:34:11.774Z"
   },
   {
    "duration": 45,
    "start_time": "2025-01-20T11:34:14.095Z"
   },
   {
    "duration": 10,
    "start_time": "2025-01-20T11:34:14.142Z"
   },
   {
    "duration": 25,
    "start_time": "2025-01-20T11:34:14.153Z"
   },
   {
    "duration": 394,
    "start_time": "2025-01-20T11:34:14.186Z"
   },
   {
    "duration": 399,
    "start_time": "2025-01-20T11:34:14.582Z"
   },
   {
    "duration": 1345,
    "start_time": "2025-01-20T11:34:14.982Z"
   },
   {
    "duration": 340,
    "start_time": "2025-01-20T11:34:16.329Z"
   },
   {
    "duration": 18,
    "start_time": "2025-01-20T11:34:16.670Z"
   },
   {
    "duration": 15,
    "start_time": "2025-01-20T11:34:16.690Z"
   },
   {
    "duration": 28,
    "start_time": "2025-01-20T11:34:16.707Z"
   },
   {
    "duration": 18,
    "start_time": "2025-01-20T11:34:16.737Z"
   },
   {
    "duration": 256,
    "start_time": "2025-01-20T11:34:16.757Z"
   },
   {
    "duration": 13,
    "start_time": "2025-01-20T11:34:36.217Z"
   },
   {
    "duration": 409,
    "start_time": "2025-01-20T11:35:04.913Z"
   },
   {
    "duration": 343,
    "start_time": "2025-01-20T11:35:09.986Z"
   },
   {
    "duration": 2723,
    "start_time": "2025-01-20T11:46:42.570Z"
   },
   {
    "duration": 1198,
    "start_time": "2025-01-20T11:46:45.296Z"
   },
   {
    "duration": 78,
    "start_time": "2025-01-20T11:46:46.495Z"
   },
   {
    "duration": 28,
    "start_time": "2025-01-20T11:46:46.574Z"
   },
   {
    "duration": 6,
    "start_time": "2025-01-20T11:46:46.604Z"
   },
   {
    "duration": 8,
    "start_time": "2025-01-20T11:46:46.612Z"
   },
   {
    "duration": 5,
    "start_time": "2025-01-20T11:46:46.621Z"
   },
   {
    "duration": 6,
    "start_time": "2025-01-20T11:46:46.627Z"
   },
   {
    "duration": 6,
    "start_time": "2025-01-20T11:46:46.634Z"
   },
   {
    "duration": 7,
    "start_time": "2025-01-20T11:46:46.641Z"
   },
   {
    "duration": 38,
    "start_time": "2025-01-20T11:46:46.649Z"
   },
   {
    "duration": 19,
    "start_time": "2025-01-20T11:46:46.689Z"
   },
   {
    "duration": 4,
    "start_time": "2025-01-20T11:46:46.709Z"
   },
   {
    "duration": 16,
    "start_time": "2025-01-20T11:46:46.716Z"
   },
   {
    "duration": 6,
    "start_time": "2025-01-20T11:46:46.733Z"
   },
   {
    "duration": 4,
    "start_time": "2025-01-20T11:46:46.740Z"
   },
   {
    "duration": 826,
    "start_time": "2025-01-20T11:46:46.745Z"
   },
   {
    "duration": 17,
    "start_time": "2025-01-20T11:46:47.572Z"
   },
   {
    "duration": 8,
    "start_time": "2025-01-20T11:46:47.590Z"
   },
   {
    "duration": 4,
    "start_time": "2025-01-20T11:46:47.600Z"
   },
   {
    "duration": 7372,
    "start_time": "2025-01-20T11:46:47.605Z"
   },
   {
    "duration": 5056,
    "start_time": "2025-01-20T11:46:54.978Z"
   },
   {
    "duration": 5,
    "start_time": "2025-01-20T11:47:00.036Z"
   },
   {
    "duration": 2463,
    "start_time": "2025-01-20T11:47:00.042Z"
   },
   {
    "duration": 45,
    "start_time": "2025-01-20T11:47:02.507Z"
   },
   {
    "duration": 11,
    "start_time": "2025-01-20T11:47:02.554Z"
   },
   {
    "duration": 420,
    "start_time": "2025-01-20T11:47:02.566Z"
   },
   {
    "duration": 1284,
    "start_time": "2025-01-20T11:47:02.987Z"
   },
   {
    "duration": 350,
    "start_time": "2025-01-20T11:47:04.273Z"
   },
   {
    "duration": 10,
    "start_time": "2025-01-20T11:47:04.625Z"
   },
   {
    "duration": 63,
    "start_time": "2025-01-20T11:47:04.636Z"
   },
   {
    "duration": 28,
    "start_time": "2025-01-20T11:47:04.701Z"
   },
   {
    "duration": 46,
    "start_time": "2025-01-20T11:47:04.731Z"
   },
   {
    "duration": 237,
    "start_time": "2025-01-20T11:47:04.779Z"
   },
   {
    "duration": 2694,
    "start_time": "2025-01-20T15:02:06.940Z"
   },
   {
    "duration": 1189,
    "start_time": "2025-01-20T15:02:09.636Z"
   },
   {
    "duration": 99,
    "start_time": "2025-01-20T15:02:10.827Z"
   },
   {
    "duration": 28,
    "start_time": "2025-01-20T15:02:10.929Z"
   },
   {
    "duration": 7,
    "start_time": "2025-01-20T15:02:10.959Z"
   },
   {
    "duration": 9,
    "start_time": "2025-01-20T15:02:10.967Z"
   },
   {
    "duration": 12,
    "start_time": "2025-01-20T15:02:10.978Z"
   },
   {
    "duration": 15,
    "start_time": "2025-01-20T15:02:10.991Z"
   },
   {
    "duration": 9,
    "start_time": "2025-01-20T15:02:11.008Z"
   },
   {
    "duration": 18,
    "start_time": "2025-01-20T15:02:11.020Z"
   },
   {
    "duration": 15,
    "start_time": "2025-01-20T15:02:11.039Z"
   },
   {
    "duration": 92,
    "start_time": "2025-01-20T15:02:11.055Z"
   },
   {
    "duration": 26,
    "start_time": "2025-01-20T15:02:11.148Z"
   },
   {
    "duration": 16,
    "start_time": "2025-01-20T15:02:11.176Z"
   },
   {
    "duration": 5,
    "start_time": "2025-01-20T15:02:11.194Z"
   },
   {
    "duration": 5,
    "start_time": "2025-01-20T15:02:11.201Z"
   },
   {
    "duration": 799,
    "start_time": "2025-01-20T15:02:11.208Z"
   },
   {
    "duration": 11,
    "start_time": "2025-01-20T15:02:12.009Z"
   },
   {
    "duration": 35,
    "start_time": "2025-01-20T15:02:12.021Z"
   },
   {
    "duration": 4,
    "start_time": "2025-01-20T15:02:12.058Z"
   },
   {
    "duration": 7203,
    "start_time": "2025-01-20T15:02:12.064Z"
   },
   {
    "duration": 5039,
    "start_time": "2025-01-20T15:02:19.269Z"
   },
   {
    "duration": 4,
    "start_time": "2025-01-20T15:02:24.310Z"
   },
   {
    "duration": 2297,
    "start_time": "2025-01-20T15:02:24.315Z"
   },
   {
    "duration": 46,
    "start_time": "2025-01-20T15:02:26.614Z"
   },
   {
    "duration": 11,
    "start_time": "2025-01-20T15:02:26.661Z"
   },
   {
    "duration": 414,
    "start_time": "2025-01-20T15:02:26.673Z"
   },
   {
    "duration": 1287,
    "start_time": "2025-01-20T15:02:27.090Z"
   },
   {
    "duration": 343,
    "start_time": "2025-01-20T15:02:28.379Z"
   },
   {
    "duration": 10,
    "start_time": "2025-01-20T15:02:28.724Z"
   },
   {
    "duration": 14,
    "start_time": "2025-01-20T15:02:28.737Z"
   },
   {
    "duration": 13,
    "start_time": "2025-01-20T15:02:28.752Z"
   },
   {
    "duration": 8,
    "start_time": "2025-01-20T15:02:28.786Z"
   },
   {
    "duration": 248,
    "start_time": "2025-01-20T15:02:28.796Z"
   },
   {
    "duration": 2737,
    "start_time": "2025-01-20T15:08:04.526Z"
   },
   {
    "duration": 1209,
    "start_time": "2025-01-20T15:08:07.266Z"
   },
   {
    "duration": 68,
    "start_time": "2025-01-20T15:08:08.477Z"
   },
   {
    "duration": 26,
    "start_time": "2025-01-20T15:08:08.547Z"
   },
   {
    "duration": 6,
    "start_time": "2025-01-20T15:08:08.575Z"
   },
   {
    "duration": 9,
    "start_time": "2025-01-20T15:08:08.582Z"
   },
   {
    "duration": 6,
    "start_time": "2025-01-20T15:08:08.592Z"
   },
   {
    "duration": 9,
    "start_time": "2025-01-20T15:08:08.599Z"
   },
   {
    "duration": 6,
    "start_time": "2025-01-20T15:08:08.609Z"
   },
   {
    "duration": 4,
    "start_time": "2025-01-20T15:08:08.616Z"
   },
   {
    "duration": 16,
    "start_time": "2025-01-20T15:08:08.621Z"
   },
   {
    "duration": 11,
    "start_time": "2025-01-20T15:08:08.638Z"
   },
   {
    "duration": 5,
    "start_time": "2025-01-20T15:08:08.650Z"
   },
   {
    "duration": 36,
    "start_time": "2025-01-20T15:08:08.657Z"
   },
   {
    "duration": 5,
    "start_time": "2025-01-20T15:08:08.695Z"
   },
   {
    "duration": 6,
    "start_time": "2025-01-20T15:08:08.702Z"
   },
   {
    "duration": 849,
    "start_time": "2025-01-20T15:08:08.709Z"
   },
   {
    "duration": 13,
    "start_time": "2025-01-20T15:08:09.560Z"
   },
   {
    "duration": 22,
    "start_time": "2025-01-20T15:08:09.586Z"
   },
   {
    "duration": 5,
    "start_time": "2025-01-20T15:08:09.609Z"
   },
   {
    "duration": 7461,
    "start_time": "2025-01-20T15:08:09.616Z"
   },
   {
    "duration": 5135,
    "start_time": "2025-01-20T15:08:17.078Z"
   },
   {
    "duration": 5,
    "start_time": "2025-01-20T15:08:22.215Z"
   },
   {
    "duration": 2282,
    "start_time": "2025-01-20T15:08:22.222Z"
   },
   {
    "duration": 45,
    "start_time": "2025-01-20T15:08:24.505Z"
   },
   {
    "duration": 12,
    "start_time": "2025-01-20T15:08:24.551Z"
   },
   {
    "duration": 407,
    "start_time": "2025-01-20T15:08:24.564Z"
   },
   {
    "duration": 1287,
    "start_time": "2025-01-20T15:08:24.972Z"
   },
   {
    "duration": 358,
    "start_time": "2025-01-20T15:08:26.260Z"
   },
   {
    "duration": 10,
    "start_time": "2025-01-20T15:08:26.620Z"
   },
   {
    "duration": 14,
    "start_time": "2025-01-20T15:08:26.632Z"
   },
   {
    "duration": 14,
    "start_time": "2025-01-20T15:08:26.647Z"
   },
   {
    "duration": 27,
    "start_time": "2025-01-20T15:08:26.663Z"
   },
   {
    "duration": 244,
    "start_time": "2025-01-20T15:08:26.692Z"
   },
   {
    "duration": 3632,
    "start_time": "2025-02-07T08:35:48.955Z"
   },
   {
    "duration": 1401,
    "start_time": "2025-02-07T08:35:52.589Z"
   },
   {
    "duration": 122,
    "start_time": "2025-02-07T08:35:53.991Z"
   },
   {
    "duration": 30,
    "start_time": "2025-02-07T08:35:54.115Z"
   },
   {
    "duration": 7,
    "start_time": "2025-02-07T08:35:54.148Z"
   },
   {
    "duration": 18,
    "start_time": "2025-02-07T08:35:54.156Z"
   },
   {
    "duration": 28,
    "start_time": "2025-02-07T08:35:54.177Z"
   },
   {
    "duration": 12,
    "start_time": "2025-02-07T08:35:54.207Z"
   },
   {
    "duration": 10,
    "start_time": "2025-02-07T08:35:54.220Z"
   },
   {
    "duration": 9,
    "start_time": "2025-02-07T08:35:54.231Z"
   },
   {
    "duration": 6,
    "start_time": "2025-02-07T08:35:54.241Z"
   },
   {
    "duration": 21,
    "start_time": "2025-02-07T08:35:54.248Z"
   },
   {
    "duration": 4,
    "start_time": "2025-02-07T08:35:54.271Z"
   },
   {
    "duration": 25,
    "start_time": "2025-02-07T08:35:54.278Z"
   },
   {
    "duration": 7,
    "start_time": "2025-02-07T08:35:54.305Z"
   },
   {
    "duration": 5,
    "start_time": "2025-02-07T08:35:54.314Z"
   },
   {
    "duration": 912,
    "start_time": "2025-02-07T08:35:54.321Z"
   },
   {
    "duration": 12,
    "start_time": "2025-02-07T08:35:55.235Z"
   },
   {
    "duration": 13,
    "start_time": "2025-02-07T08:35:55.248Z"
   },
   {
    "duration": 5,
    "start_time": "2025-02-07T08:35:55.262Z"
   },
   {
    "duration": 9034,
    "start_time": "2025-02-07T08:35:55.268Z"
   },
   {
    "duration": 5988,
    "start_time": "2025-02-07T08:36:04.303Z"
   },
   {
    "duration": 10,
    "start_time": "2025-02-07T08:36:10.292Z"
   },
   {
    "duration": 2220,
    "start_time": "2025-02-07T08:36:10.304Z"
   },
   {
    "duration": 49,
    "start_time": "2025-02-07T08:36:12.526Z"
   },
   {
    "duration": 49,
    "start_time": "2025-02-07T08:36:12.576Z"
   },
   {
    "duration": 466,
    "start_time": "2025-02-07T08:36:12.627Z"
   },
   {
    "duration": 1518,
    "start_time": "2025-02-07T08:36:13.101Z"
   },
   {
    "duration": 338,
    "start_time": "2025-02-07T08:36:14.621Z"
   },
   {
    "duration": 12,
    "start_time": "2025-02-07T08:36:14.961Z"
   },
   {
    "duration": 35,
    "start_time": "2025-02-07T08:36:14.975Z"
   },
   {
    "duration": 18,
    "start_time": "2025-02-07T08:36:15.012Z"
   },
   {
    "duration": 49,
    "start_time": "2025-02-07T08:36:15.031Z"
   },
   {
    "duration": 278,
    "start_time": "2025-02-07T08:36:15.082Z"
   },
   {
    "duration": 2458,
    "start_time": "2025-02-07T08:51:52.464Z"
   },
   {
    "duration": 1273,
    "start_time": "2025-02-07T08:51:54.924Z"
   },
   {
    "duration": 73,
    "start_time": "2025-02-07T08:51:56.199Z"
   },
   {
    "duration": 26,
    "start_time": "2025-02-07T08:51:56.274Z"
   },
   {
    "duration": 6,
    "start_time": "2025-02-07T08:51:56.302Z"
   },
   {
    "duration": 16,
    "start_time": "2025-02-07T08:51:56.309Z"
   },
   {
    "duration": 6,
    "start_time": "2025-02-07T08:51:56.327Z"
   },
   {
    "duration": 6,
    "start_time": "2025-02-07T08:51:56.335Z"
   },
   {
    "duration": 20,
    "start_time": "2025-02-07T08:51:56.343Z"
   },
   {
    "duration": 6,
    "start_time": "2025-02-07T08:51:56.365Z"
   },
   {
    "duration": 22,
    "start_time": "2025-02-07T08:51:56.372Z"
   },
   {
    "duration": 29,
    "start_time": "2025-02-07T08:51:56.395Z"
   },
   {
    "duration": 5,
    "start_time": "2025-02-07T08:51:56.426Z"
   },
   {
    "duration": 23,
    "start_time": "2025-02-07T08:51:56.434Z"
   },
   {
    "duration": 7,
    "start_time": "2025-02-07T08:51:56.460Z"
   },
   {
    "duration": 5,
    "start_time": "2025-02-07T08:51:56.469Z"
   },
   {
    "duration": 863,
    "start_time": "2025-02-07T08:51:56.475Z"
   },
   {
    "duration": 14,
    "start_time": "2025-02-07T08:51:57.340Z"
   },
   {
    "duration": 6,
    "start_time": "2025-02-07T08:51:57.356Z"
   },
   {
    "duration": 10,
    "start_time": "2025-02-07T08:51:57.364Z"
   },
   {
    "duration": 8667,
    "start_time": "2025-02-07T08:51:57.401Z"
   },
   {
    "duration": 6194,
    "start_time": "2025-02-07T08:52:06.070Z"
   },
   {
    "duration": 4,
    "start_time": "2025-02-07T08:52:12.266Z"
   },
   {
    "duration": 2569,
    "start_time": "2025-02-07T08:52:12.271Z"
   },
   {
    "duration": 48,
    "start_time": "2025-02-07T08:52:14.842Z"
   },
   {
    "duration": 13,
    "start_time": "2025-02-07T08:52:14.901Z"
   },
   {
    "duration": 475,
    "start_time": "2025-02-07T08:52:14.916Z"
   },
   {
    "duration": 1579,
    "start_time": "2025-02-07T08:52:15.392Z"
   },
   {
    "duration": 403,
    "start_time": "2025-02-07T08:52:16.972Z"
   },
   {
    "duration": 11,
    "start_time": "2025-02-07T08:52:17.377Z"
   },
   {
    "duration": 25,
    "start_time": "2025-02-07T08:52:17.389Z"
   },
   {
    "duration": 18,
    "start_time": "2025-02-07T08:52:17.416Z"
   },
   {
    "duration": 9,
    "start_time": "2025-02-07T08:52:17.436Z"
   },
   {
    "duration": 458,
    "start_time": "2025-02-07T08:52:17.447Z"
   }
  ],
  "kernelspec": {
   "display_name": "Python [conda env:base] *",
   "language": "python",
   "name": "conda-base-py"
  },
  "language_info": {
   "codemirror_mode": {
    "name": "ipython",
    "version": 3
   },
   "file_extension": ".py",
   "mimetype": "text/x-python",
   "name": "python",
   "nbconvert_exporter": "python",
   "pygments_lexer": "ipython3",
   "version": "3.11.7"
  },
  "toc": {
   "base_numbering": 1,
   "nav_menu": {},
   "number_sections": true,
   "sideBar": true,
   "skip_h1_title": true,
   "title_cell": "Table of Contents",
   "title_sidebar": "Contents",
   "toc_cell": false,
   "toc_position": {
    "height": "calc(100% - 180px)",
    "left": "10px",
    "top": "150px",
    "width": "165px"
   },
   "toc_section_display": true,
   "toc_window_display": false
  }
 },
 "nbformat": 4,
 "nbformat_minor": 4
}
