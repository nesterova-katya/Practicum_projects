{
 "cells": [
  {
   "cell_type": "markdown",
   "metadata": {},
   "source": [
    "`<div class=\"alert alert-info\"> \n",
    "<b>Комментарий студента:</b> \n",
    "\n",
    "Привет, Эльвира!👋\n",
    "\n",
    "Большое спасибо за коментарии!\n",
    "\n",
    "Ко мне можно обращаться на «ты».😊\n",
    "</div>`"
   ]
  },
  {
   "cell_type": "markdown",
   "metadata": {},
   "source": [
    "# Анализ А-В теста и приоритизация гипотез. Проверка гипотез для увеличения выручки интернет-магазина"
   ]
  },
  {
   "cell_type": "markdown",
   "metadata": {},
   "source": [
    "- Я — аналитик крупного интернет-магазина. Вместе с отделом маркетинга мы подготовили список гипотез для увеличения выручки. Необходимо приоритизировать гипотезы, запустить A/B-тест и проанализировать результаты.\n",
    "\n",
    "--- \n",
    "\n",
    "- В ходе исследования необходимо:\n",
    "  - Выделить приоритетные гипотезы для A/B-тестирований на этот год.\n",
    "  - Проанализировать A/B-тест за август 2019 года и описать результаты."
   ]
  },
  {
   "cell_type": "markdown",
   "metadata": {},
   "source": [
    "**Описание данных:**"
   ]
  },
  {
   "cell_type": "markdown",
   "metadata": {},
   "source": [
    "В нашем распоряжении три датасета. \n",
    "\n",
    "- В первом **/datasets/hypothesis.csv** 9 гипотез по увеличению выручки интернет-магазина с указанными параметрами Reach, Impact, Confidence, Effort.\n",
    "\n",
    "- Во втором **/datasets/orders.csv** данные по заказам по группам.\n",
    "\n",
    "- В третьем **/datasets/visitors.csv** данные по посетителям по группам.\n",
    "\n",
    "---\n",
    "\n",
    "Структура ***datasets/hypothesis.csv:***\n",
    "\n",
    "- Hypothesis — краткое описание гипотезы;\n",
    "- Reach — охват пользователей по 10-балльной шкале;\n",
    "- Impact — влияние на пользователей по 10-балльной шкале;\n",
    "- Confidence — уверенность в гипотезе по 10-балльной шкале;\n",
    "- Efforts — затраты ресурсов на проверку гипотезы по 10-балльной шкале. Чем больше значение Efforts, тем дороже проверка гипотезы.\n",
    "\n",
    "---\n",
    "\n",
    "Структура ***datasets/orders.csv:***\n",
    "\n",
    "- transactionId — идентификатор заказа;\n",
    "- тvisitorId — идентификатор пользователя, совершившего заказ;\n",
    "- date — дата, когда был совершён заказ;\n",
    "- revenue — выручка заказа;\n",
    "- group — группа A/B-теста, в которую попал заказ.\n",
    "\n",
    "---\n",
    "\n",
    "Структура ***datasets/visitors.csv:***\n",
    "\n",
    "- date — дата;\n",
    "- group — группа A/B-теста;\n",
    "- visitors — количество пользователей в указанную дату в указанной группе A/B-теста"
   ]
  },
  {
   "cell_type": "markdown",
   "metadata": {},
   "source": [
    " **План работы:**\n",
    "\n",
    "1. Загрузить данные о гипотезах, заказах и посетителях из CSV-файлов в переменные. Выполнить обзор данных и предобработку данных.\n",
    "\n",
    "2. Приоритизация гипотез.\n",
    "\n",
    "3. Анализ A/B-теста.\n",
    "\n",
    "4. Написать общий вывод."
   ]
  },
  {
   "cell_type": "markdown",
   "metadata": {},
   "source": [
    "# 1. Загрузка данных и подготовка их к анализу"
   ]
  },
  {
   "cell_type": "markdown",
   "metadata": {},
   "source": [
    "# Обзор данных"
   ]
  },
  {
   "cell_type": "code",
   "execution_count": 1,
   "metadata": {},
   "outputs": [],
   "source": [
    "# импорт библиотек\n",
    "\n",
    "import pandas as pd\n",
    "import numpy as np\n",
    "import datetime as dt\n",
    "from matplotlib import pyplot as plt\n",
    "import scipy.stats as stats"
   ]
  },
  {
   "cell_type": "code",
   "execution_count": 2,
   "metadata": {},
   "outputs": [],
   "source": [
    "# загрузка данных\n",
    "\n",
    "hypothesis = pd.read_csv('/datasets/hypothesis.csv')\n",
    "orders = pd.read_csv('/datasets/orders.csv')\n",
    "visitors = pd.read_csv('/datasets/visitors.csv')"
   ]
  },
  {
   "cell_type": "code",
   "execution_count": 3,
   "metadata": {},
   "outputs": [
    {
     "data": {
      "text/html": [
       "<div>\n",
       "<style scoped>\n",
       "    .dataframe tbody tr th:only-of-type {\n",
       "        vertical-align: middle;\n",
       "    }\n",
       "\n",
       "    .dataframe tbody tr th {\n",
       "        vertical-align: top;\n",
       "    }\n",
       "\n",
       "    .dataframe thead th {\n",
       "        text-align: right;\n",
       "    }\n",
       "</style>\n",
       "<table border=\"1\" class=\"dataframe\">\n",
       "  <thead>\n",
       "    <tr style=\"text-align: right;\">\n",
       "      <th></th>\n",
       "      <th>Hypothesis</th>\n",
       "      <th>Reach</th>\n",
       "      <th>Impact</th>\n",
       "      <th>Confidence</th>\n",
       "      <th>Efforts</th>\n",
       "    </tr>\n",
       "  </thead>\n",
       "  <tbody>\n",
       "    <tr>\n",
       "      <th>0</th>\n",
       "      <td>Добавить два новых канала привлечения трафика,...</td>\n",
       "      <td>3</td>\n",
       "      <td>10</td>\n",
       "      <td>8</td>\n",
       "      <td>6</td>\n",
       "    </tr>\n",
       "    <tr>\n",
       "      <th>1</th>\n",
       "      <td>Запустить собственную службу доставки, что сок...</td>\n",
       "      <td>2</td>\n",
       "      <td>5</td>\n",
       "      <td>4</td>\n",
       "      <td>10</td>\n",
       "    </tr>\n",
       "    <tr>\n",
       "      <th>2</th>\n",
       "      <td>Добавить блоки рекомендаций товаров на сайт ин...</td>\n",
       "      <td>8</td>\n",
       "      <td>3</td>\n",
       "      <td>7</td>\n",
       "      <td>3</td>\n",
       "    </tr>\n",
       "    <tr>\n",
       "      <th>3</th>\n",
       "      <td>Изменить структура категорий, что увеличит кон...</td>\n",
       "      <td>8</td>\n",
       "      <td>3</td>\n",
       "      <td>3</td>\n",
       "      <td>8</td>\n",
       "    </tr>\n",
       "    <tr>\n",
       "      <th>4</th>\n",
       "      <td>Изменить цвет фона главной страницы, чтобы уве...</td>\n",
       "      <td>3</td>\n",
       "      <td>1</td>\n",
       "      <td>1</td>\n",
       "      <td>1</td>\n",
       "    </tr>\n",
       "  </tbody>\n",
       "</table>\n",
       "</div>"
      ],
      "text/plain": [
       "                                          Hypothesis  Reach  Impact  \\\n",
       "0  Добавить два новых канала привлечения трафика,...      3      10   \n",
       "1  Запустить собственную службу доставки, что сок...      2       5   \n",
       "2  Добавить блоки рекомендаций товаров на сайт ин...      8       3   \n",
       "3  Изменить структура категорий, что увеличит кон...      8       3   \n",
       "4  Изменить цвет фона главной страницы, чтобы уве...      3       1   \n",
       "\n",
       "   Confidence  Efforts  \n",
       "0           8        6  \n",
       "1           4       10  \n",
       "2           7        3  \n",
       "3           3        8  \n",
       "4           1        1  "
      ]
     },
     "metadata": {},
     "output_type": "display_data"
    },
    {
     "name": "stdout",
     "output_type": "stream",
     "text": [
      "<class 'pandas.core.frame.DataFrame'>\n",
      "RangeIndex: 9 entries, 0 to 8\n",
      "Data columns (total 5 columns):\n",
      " #   Column      Non-Null Count  Dtype \n",
      "---  ------      --------------  ----- \n",
      " 0   Hypothesis  9 non-null      object\n",
      " 1   Reach       9 non-null      int64 \n",
      " 2   Impact      9 non-null      int64 \n",
      " 3   Confidence  9 non-null      int64 \n",
      " 4   Efforts     9 non-null      int64 \n",
      "dtypes: int64(4), object(1)\n",
      "memory usage: 488.0+ bytes\n"
     ]
    },
    {
     "data": {
      "text/plain": [
       "None"
      ]
     },
     "metadata": {},
     "output_type": "display_data"
    },
    {
     "data": {
      "text/html": [
       "<div>\n",
       "<style scoped>\n",
       "    .dataframe tbody tr th:only-of-type {\n",
       "        vertical-align: middle;\n",
       "    }\n",
       "\n",
       "    .dataframe tbody tr th {\n",
       "        vertical-align: top;\n",
       "    }\n",
       "\n",
       "    .dataframe thead th {\n",
       "        text-align: right;\n",
       "    }\n",
       "</style>\n",
       "<table border=\"1\" class=\"dataframe\">\n",
       "  <thead>\n",
       "    <tr style=\"text-align: right;\">\n",
       "      <th></th>\n",
       "      <th>transactionId</th>\n",
       "      <th>visitorId</th>\n",
       "      <th>date</th>\n",
       "      <th>revenue</th>\n",
       "      <th>group</th>\n",
       "    </tr>\n",
       "  </thead>\n",
       "  <tbody>\n",
       "    <tr>\n",
       "      <th>0</th>\n",
       "      <td>3667963787</td>\n",
       "      <td>3312258926</td>\n",
       "      <td>2019-08-15</td>\n",
       "      <td>1650</td>\n",
       "      <td>B</td>\n",
       "    </tr>\n",
       "    <tr>\n",
       "      <th>1</th>\n",
       "      <td>2804400009</td>\n",
       "      <td>3642806036</td>\n",
       "      <td>2019-08-15</td>\n",
       "      <td>730</td>\n",
       "      <td>B</td>\n",
       "    </tr>\n",
       "    <tr>\n",
       "      <th>2</th>\n",
       "      <td>2961555356</td>\n",
       "      <td>4069496402</td>\n",
       "      <td>2019-08-15</td>\n",
       "      <td>400</td>\n",
       "      <td>A</td>\n",
       "    </tr>\n",
       "    <tr>\n",
       "      <th>3</th>\n",
       "      <td>3797467345</td>\n",
       "      <td>1196621759</td>\n",
       "      <td>2019-08-15</td>\n",
       "      <td>9759</td>\n",
       "      <td>B</td>\n",
       "    </tr>\n",
       "    <tr>\n",
       "      <th>4</th>\n",
       "      <td>2282983706</td>\n",
       "      <td>2322279887</td>\n",
       "      <td>2019-08-15</td>\n",
       "      <td>2308</td>\n",
       "      <td>B</td>\n",
       "    </tr>\n",
       "  </tbody>\n",
       "</table>\n",
       "</div>"
      ],
      "text/plain": [
       "   transactionId   visitorId        date  revenue group\n",
       "0     3667963787  3312258926  2019-08-15     1650     B\n",
       "1     2804400009  3642806036  2019-08-15      730     B\n",
       "2     2961555356  4069496402  2019-08-15      400     A\n",
       "3     3797467345  1196621759  2019-08-15     9759     B\n",
       "4     2282983706  2322279887  2019-08-15     2308     B"
      ]
     },
     "metadata": {},
     "output_type": "display_data"
    },
    {
     "name": "stdout",
     "output_type": "stream",
     "text": [
      "<class 'pandas.core.frame.DataFrame'>\n",
      "RangeIndex: 1197 entries, 0 to 1196\n",
      "Data columns (total 5 columns):\n",
      " #   Column         Non-Null Count  Dtype \n",
      "---  ------         --------------  ----- \n",
      " 0   transactionId  1197 non-null   int64 \n",
      " 1   visitorId      1197 non-null   int64 \n",
      " 2   date           1197 non-null   object\n",
      " 3   revenue        1197 non-null   int64 \n",
      " 4   group          1197 non-null   object\n",
      "dtypes: int64(3), object(2)\n",
      "memory usage: 46.9+ KB\n"
     ]
    },
    {
     "data": {
      "text/plain": [
       "None"
      ]
     },
     "metadata": {},
     "output_type": "display_data"
    },
    {
     "data": {
      "text/html": [
       "<div>\n",
       "<style scoped>\n",
       "    .dataframe tbody tr th:only-of-type {\n",
       "        vertical-align: middle;\n",
       "    }\n",
       "\n",
       "    .dataframe tbody tr th {\n",
       "        vertical-align: top;\n",
       "    }\n",
       "\n",
       "    .dataframe thead th {\n",
       "        text-align: right;\n",
       "    }\n",
       "</style>\n",
       "<table border=\"1\" class=\"dataframe\">\n",
       "  <thead>\n",
       "    <tr style=\"text-align: right;\">\n",
       "      <th></th>\n",
       "      <th>date</th>\n",
       "      <th>group</th>\n",
       "      <th>visitors</th>\n",
       "    </tr>\n",
       "  </thead>\n",
       "  <tbody>\n",
       "    <tr>\n",
       "      <th>0</th>\n",
       "      <td>2019-08-01</td>\n",
       "      <td>A</td>\n",
       "      <td>719</td>\n",
       "    </tr>\n",
       "    <tr>\n",
       "      <th>1</th>\n",
       "      <td>2019-08-02</td>\n",
       "      <td>A</td>\n",
       "      <td>619</td>\n",
       "    </tr>\n",
       "    <tr>\n",
       "      <th>2</th>\n",
       "      <td>2019-08-03</td>\n",
       "      <td>A</td>\n",
       "      <td>507</td>\n",
       "    </tr>\n",
       "    <tr>\n",
       "      <th>3</th>\n",
       "      <td>2019-08-04</td>\n",
       "      <td>A</td>\n",
       "      <td>717</td>\n",
       "    </tr>\n",
       "    <tr>\n",
       "      <th>4</th>\n",
       "      <td>2019-08-05</td>\n",
       "      <td>A</td>\n",
       "      <td>756</td>\n",
       "    </tr>\n",
       "  </tbody>\n",
       "</table>\n",
       "</div>"
      ],
      "text/plain": [
       "         date group  visitors\n",
       "0  2019-08-01     A       719\n",
       "1  2019-08-02     A       619\n",
       "2  2019-08-03     A       507\n",
       "3  2019-08-04     A       717\n",
       "4  2019-08-05     A       756"
      ]
     },
     "metadata": {},
     "output_type": "display_data"
    },
    {
     "name": "stdout",
     "output_type": "stream",
     "text": [
      "<class 'pandas.core.frame.DataFrame'>\n",
      "RangeIndex: 62 entries, 0 to 61\n",
      "Data columns (total 3 columns):\n",
      " #   Column    Non-Null Count  Dtype \n",
      "---  ------    --------------  ----- \n",
      " 0   date      62 non-null     object\n",
      " 1   group     62 non-null     object\n",
      " 2   visitors  62 non-null     int64 \n",
      "dtypes: int64(1), object(2)\n",
      "memory usage: 1.6+ KB\n"
     ]
    },
    {
     "data": {
      "text/plain": [
       "None"
      ]
     },
     "metadata": {},
     "output_type": "display_data"
    }
   ],
   "source": [
    "# просмотр данных\n",
    "\n",
    "for i in (hypothesis, orders, visitors):\n",
    "    display(i.head())\n",
    "    display(i.info())"
   ]
  },
  {
   "cell_type": "markdown",
   "metadata": {},
   "source": [
    "**Вывод:**\n",
    "\n",
    "1. Необходимо изменить тип данных колоннок с датами на соответствующий datetime;\n",
    "\n",
    "2. Названия столбцов привести к \"snake_case\"."
   ]
  },
  {
   "cell_type": "markdown",
   "metadata": {},
   "source": [
    "# Предобработка данных"
   ]
  },
  {
   "cell_type": "code",
   "execution_count": 4,
   "metadata": {},
   "outputs": [],
   "source": [
    " # преобразование данных о времени\n",
    "   \n",
    "orders['date'] = pd.to_datetime(orders['date'])    \n",
    "visitors['date'] = pd.to_datetime(visitors['date'])"
   ]
  },
  {
   "cell_type": "code",
   "execution_count": 5,
   "metadata": {},
   "outputs": [
    {
     "data": {
      "text/plain": [
       "hypothesis    0\n",
       "reach         0\n",
       "impact        0\n",
       "confidence    0\n",
       "efforts       0\n",
       "dtype: int64"
      ]
     },
     "metadata": {},
     "output_type": "display_data"
    },
    {
     "name": "stdout",
     "output_type": "stream",
     "text": [
      "\u001b[1mКоличество дубликатов в таблице:\u001b[0m 0\n",
      "<class 'pandas.core.frame.DataFrame'>\n",
      "RangeIndex: 9 entries, 0 to 8\n",
      "Data columns (total 5 columns):\n",
      " #   Column      Non-Null Count  Dtype \n",
      "---  ------      --------------  ----- \n",
      " 0   hypothesis  9 non-null      object\n",
      " 1   reach       9 non-null      int64 \n",
      " 2   impact      9 non-null      int64 \n",
      " 3   confidence  9 non-null      int64 \n",
      " 4   efforts     9 non-null      int64 \n",
      "dtypes: int64(4), object(1)\n",
      "memory usage: 488.0+ bytes\n"
     ]
    },
    {
     "data": {
      "text/plain": [
       "None"
      ]
     },
     "metadata": {},
     "output_type": "display_data"
    },
    {
     "data": {
      "text/plain": [
       "transaction_id    0\n",
       "visitor_id        0\n",
       "date              0\n",
       "revenue           0\n",
       "group             0\n",
       "dtype: int64"
      ]
     },
     "metadata": {},
     "output_type": "display_data"
    },
    {
     "name": "stdout",
     "output_type": "stream",
     "text": [
      "\u001b[1mКоличество дубликатов в таблице:\u001b[0m 0\n",
      "<class 'pandas.core.frame.DataFrame'>\n",
      "RangeIndex: 1197 entries, 0 to 1196\n",
      "Data columns (total 5 columns):\n",
      " #   Column          Non-Null Count  Dtype         \n",
      "---  ------          --------------  -----         \n",
      " 0   transaction_id  1197 non-null   int64         \n",
      " 1   visitor_id      1197 non-null   int64         \n",
      " 2   date            1197 non-null   datetime64[ns]\n",
      " 3   revenue         1197 non-null   int64         \n",
      " 4   group           1197 non-null   object        \n",
      "dtypes: datetime64[ns](1), int64(3), object(1)\n",
      "memory usage: 46.9+ KB\n"
     ]
    },
    {
     "data": {
      "text/plain": [
       "None"
      ]
     },
     "metadata": {},
     "output_type": "display_data"
    },
    {
     "data": {
      "text/plain": [
       "date        0\n",
       "group       0\n",
       "visitors    0\n",
       "dtype: int64"
      ]
     },
     "metadata": {},
     "output_type": "display_data"
    },
    {
     "name": "stdout",
     "output_type": "stream",
     "text": [
      "\u001b[1mКоличество дубликатов в таблице:\u001b[0m 0\n",
      "<class 'pandas.core.frame.DataFrame'>\n",
      "RangeIndex: 62 entries, 0 to 61\n",
      "Data columns (total 3 columns):\n",
      " #   Column    Non-Null Count  Dtype         \n",
      "---  ------    --------------  -----         \n",
      " 0   date      62 non-null     datetime64[ns]\n",
      " 1   group     62 non-null     object        \n",
      " 2   visitors  62 non-null     int64         \n",
      "dtypes: datetime64[ns](1), int64(1), object(1)\n",
      "memory usage: 1.6+ KB\n"
     ]
    },
    {
     "data": {
      "text/plain": [
       "None"
      ]
     },
     "metadata": {},
     "output_type": "display_data"
    }
   ],
   "source": [
    "for i in (hypothesis, orders, visitors):\n",
    "    \n",
    "    i.columns = i.columns.str.replace('Id', '_id') # приведение название столбцов к \"snake_case\"\n",
    "    \n",
    "    i.columns = [x.lower() for x in i.columns]\n",
    "\n",
    "    display(i.isna().sum()) # проверка на пропуски\n",
    "  \n",
    "    print('\\033[1m' + 'Количество дубликатов в таблице:' + '\\033[0m',i.duplicated().sum()) # проверка на явные дубликаты\n",
    "  \n",
    "    display(i.info()) # проверка результата"
   ]
  },
  {
   "cell_type": "code",
   "execution_count": 6,
   "metadata": {},
   "outputs": [
    {
     "name": "stdout",
     "output_type": "stream",
     "text": [
      "Дата начала теста: 2019-08-01 00:00:00\n",
      "Дата окончания теста: 2019-08-31 00:00:00\n"
     ]
    }
   ],
   "source": [
    "# выведем даты начала и окончания теста\n",
    "\n",
    "print('Дата начала теста:', orders['date'].min())\n",
    "print('Дата окончания теста:', orders['date'].max()) "
   ]
  },
  {
   "cell_type": "markdown",
   "metadata": {},
   "source": [
    "В качестве дополнительного этапа подготовки данных, в связи с проведением A/B-теста, необходимо проверить данные на корректность их разбиения по группам. \n",
    "\n",
    "В группе А и группе Б не должно быть одних и тех же пользователей."
   ]
  },
  {
   "cell_type": "code",
   "execution_count": 7,
   "metadata": {},
   "outputs": [
    {
     "name": "stdout",
     "output_type": "stream",
     "text": [
      "Количество уникальных пользователей в группе А =  503\n",
      "Количество уникальных пользователей в группе В =  586\n",
      "Количество общих пользователей для двух групп =  58\n"
     ]
    }
   ],
   "source": [
    "# получим список уникальных пользователей из группы А и В в orders\n",
    "\n",
    "a_visitor_id = list(orders.loc[orders['group'] == 'A', 'visitor_id'].unique())\n",
    "\n",
    "b_visitor_id = list(orders.loc[orders['group'] == 'B', 'visitor_id'].unique())\n",
    "\n",
    "# найдем пересечение списков и сохраним его в отедельный список\n",
    "a_b_id = list(set(a_visitor_id) & set(b_visitor_id))\n",
    "\n",
    "# проверка сколько элементов списка получилось \n",
    "\n",
    "print('Количество уникальных пользователей в группе А = ', len(set(a_visitor_id))) \n",
    "print('Количество уникальных пользователей в группе В = ', len(set(b_visitor_id))) \n",
    "print('Количество общих пользователей для двух групп = ', len(set(a_b_id))) "
   ]
  },
  {
   "cell_type": "code",
   "execution_count": 8,
   "metadata": {},
   "outputs": [],
   "source": [
    "# удалим дубликаты из orders\n",
    "\n",
    "duplicate = orders.groupby('visitor_id').agg({'group': 'nunique'}).query('group>1').reset_index()\n",
    "orders = orders[~orders['visitor_id'].isin(duplicate['visitor_id'])]"
   ]
  },
  {
   "cell_type": "code",
   "execution_count": 9,
   "metadata": {},
   "outputs": [
    {
     "name": "stdout",
     "output_type": "stream",
     "text": [
      "Количество общих пользователей для двух групп =  0\n"
     ]
    }
   ],
   "source": [
    "# проверили, что дубликаты отсутсвуют\n",
    "\n",
    "a_visitor_id = list(orders.loc[orders['group'] == 'A', 'visitor_id'].unique())\n",
    "\n",
    "b_visitor_id = list(orders.loc[orders['group'] == 'B', 'visitor_id'].unique())\n",
    "\n",
    "a_b_id = list(set(a_visitor_id) & set(b_visitor_id))\n",
    "\n",
    "print('Количество общих пользователей для двух групп = ', len(set(a_b_id))) "
   ]
  },
  {
   "cell_type": "markdown",
   "metadata": {},
   "source": [
    "**Выводы по 1 разделу:**\n",
    "\n",
    "Данные были изучены и подготовлены к дальнейшему исследованию:\n",
    "\n",
    "- Была проведена проверка на пропуски, пропуски отсутствуют;\n",
    "\n",
    "- Название столбцов приведено к \"snake_case\".\n",
    "\n",
    "- Изменили тип данных колоннок с датами на соответствующий;\n",
    "\n",
    "- Провели проверку на явные дубликаты - явных дубликатов не обнаружено;\n",
    "\n",
    "- Из датасета orders удалили id покупателей, которые попали в обе группы теста."
   ]
  },
  {
   "cell_type": "markdown",
   "metadata": {},
   "source": [
    "# 2. Приоритизация гипотез"
   ]
  },
  {
   "cell_type": "markdown",
   "metadata": {},
   "source": [
    "# Фреймворк ICE"
   ]
  },
  {
   "cell_type": "markdown",
   "metadata": {},
   "source": [
    "ICE (от англ. impact, confidence, effort / ease «влияние, уверенность, усилия / простота»)\n",
    "\n",
    "Формула для расчета: ***impact * confidence / efforts***"
   ]
  },
  {
   "cell_type": "code",
   "execution_count": 10,
   "metadata": {},
   "outputs": [
    {
     "data": {
      "text/html": [
       "<div>\n",
       "<style scoped>\n",
       "    .dataframe tbody tr th:only-of-type {\n",
       "        vertical-align: middle;\n",
       "    }\n",
       "\n",
       "    .dataframe tbody tr th {\n",
       "        vertical-align: top;\n",
       "    }\n",
       "\n",
       "    .dataframe thead th {\n",
       "        text-align: right;\n",
       "    }\n",
       "</style>\n",
       "<table border=\"1\" class=\"dataframe\">\n",
       "  <thead>\n",
       "    <tr style=\"text-align: right;\">\n",
       "      <th></th>\n",
       "      <th>hypothesis</th>\n",
       "      <th>ICE</th>\n",
       "    </tr>\n",
       "  </thead>\n",
       "  <tbody>\n",
       "    <tr>\n",
       "      <th>8</th>\n",
       "      <td>Запустить акцию, дающую скидку на товар в день рождения</td>\n",
       "      <td>16.20</td>\n",
       "    </tr>\n",
       "    <tr>\n",
       "      <th>0</th>\n",
       "      <td>Добавить два новых канала привлечения трафика, что позволит привлекать на 30% больше пользователей</td>\n",
       "      <td>13.33</td>\n",
       "    </tr>\n",
       "    <tr>\n",
       "      <th>7</th>\n",
       "      <td>Добавить форму подписки на все основные страницы, чтобы собрать базу клиентов для email-рассылок</td>\n",
       "      <td>11.20</td>\n",
       "    </tr>\n",
       "    <tr>\n",
       "      <th>6</th>\n",
       "      <td>Показать на главной странице баннеры с актуальными акциями и распродажами, чтобы увеличить конверсию</td>\n",
       "      <td>8.00</td>\n",
       "    </tr>\n",
       "    <tr>\n",
       "      <th>2</th>\n",
       "      <td>Добавить блоки рекомендаций товаров на сайт интернет магазина, чтобы повысить конверсию и средний чек заказа</td>\n",
       "      <td>7.00</td>\n",
       "    </tr>\n",
       "    <tr>\n",
       "      <th>1</th>\n",
       "      <td>Запустить собственную службу доставки, что сократит срок доставки заказов</td>\n",
       "      <td>2.00</td>\n",
       "    </tr>\n",
       "    <tr>\n",
       "      <th>5</th>\n",
       "      <td>Добавить страницу отзывов клиентов о магазине, что позволит увеличить количество заказов</td>\n",
       "      <td>1.33</td>\n",
       "    </tr>\n",
       "    <tr>\n",
       "      <th>3</th>\n",
       "      <td>Изменить структура категорий, что увеличит конверсию, т.к. пользователи быстрее найдут нужный товар</td>\n",
       "      <td>1.12</td>\n",
       "    </tr>\n",
       "    <tr>\n",
       "      <th>4</th>\n",
       "      <td>Изменить цвет фона главной страницы, чтобы увеличить вовлеченность пользователей</td>\n",
       "      <td>1.00</td>\n",
       "    </tr>\n",
       "  </tbody>\n",
       "</table>\n",
       "</div>"
      ],
      "text/plain": [
       "                                                                                                     hypothesis  \\\n",
       "8                                                       Запустить акцию, дающую скидку на товар в день рождения   \n",
       "0            Добавить два новых канала привлечения трафика, что позволит привлекать на 30% больше пользователей   \n",
       "7              Добавить форму подписки на все основные страницы, чтобы собрать базу клиентов для email-рассылок   \n",
       "6          Показать на главной странице баннеры с актуальными акциями и распродажами, чтобы увеличить конверсию   \n",
       "2  Добавить блоки рекомендаций товаров на сайт интернет магазина, чтобы повысить конверсию и средний чек заказа   \n",
       "1                                     Запустить собственную службу доставки, что сократит срок доставки заказов   \n",
       "5                      Добавить страницу отзывов клиентов о магазине, что позволит увеличить количество заказов   \n",
       "3           Изменить структура категорий, что увеличит конверсию, т.к. пользователи быстрее найдут нужный товар   \n",
       "4                              Изменить цвет фона главной страницы, чтобы увеличить вовлеченность пользователей   \n",
       "\n",
       "     ICE  \n",
       "8  16.20  \n",
       "0  13.33  \n",
       "7  11.20  \n",
       "6   8.00  \n",
       "2   7.00  \n",
       "1   2.00  \n",
       "5   1.33  \n",
       "3   1.12  \n",
       "4   1.00  "
      ]
     },
     "metadata": {},
     "output_type": "display_data"
    }
   ],
   "source": [
    "pd.options.display.max_colwidth = 180\n",
    "\n",
    "hypothesis['ICE'] = (hypothesis['impact'] * hypothesis['confidence'] / hypothesis['efforts']).round(2)\n",
    "\n",
    "display(hypothesis[['hypothesis', 'ICE']].sort_values(by='ICE', ascending=False))\n"
   ]
  },
  {
   "cell_type": "markdown",
   "metadata": {},
   "source": [
    "**Вывод:**\n",
    "\n",
    "Применив фреймворк ICE мы получили три наиболее перспективные для изучения гипотезы:\n",
    "\n",
    "  - Запустить акцию, дающую скидку на товар в день рождения;\n",
    "  - Добавить два новых канала привлечения трафика, что позволит привлекать на 30% больше пользователей;\n",
    "  - Добавить форму подписки на все основные страницы, чтобы собрать базу клиентов для email-рассылок."
   ]
  },
  {
   "cell_type": "markdown",
   "metadata": {},
   "source": [
    "# Фреймворк RICE"
   ]
  },
  {
   "cell_type": "markdown",
   "metadata": {},
   "source": [
    "RICE (R от англ. reach, «охват»)\n",
    "Формула для расчета: ***reach * impact * confidence / efforts***"
   ]
  },
  {
   "cell_type": "code",
   "execution_count": 11,
   "metadata": {},
   "outputs": [
    {
     "data": {
      "text/html": [
       "<div>\n",
       "<style scoped>\n",
       "    .dataframe tbody tr th:only-of-type {\n",
       "        vertical-align: middle;\n",
       "    }\n",
       "\n",
       "    .dataframe tbody tr th {\n",
       "        vertical-align: top;\n",
       "    }\n",
       "\n",
       "    .dataframe thead th {\n",
       "        text-align: right;\n",
       "    }\n",
       "</style>\n",
       "<table border=\"1\" class=\"dataframe\">\n",
       "  <thead>\n",
       "    <tr style=\"text-align: right;\">\n",
       "      <th></th>\n",
       "      <th>hypothesis</th>\n",
       "      <th>RICE</th>\n",
       "    </tr>\n",
       "  </thead>\n",
       "  <tbody>\n",
       "    <tr>\n",
       "      <th>7</th>\n",
       "      <td>Добавить форму подписки на все основные страницы, чтобы собрать базу клиентов для email-рассылок</td>\n",
       "      <td>112.0</td>\n",
       "    </tr>\n",
       "    <tr>\n",
       "      <th>2</th>\n",
       "      <td>Добавить блоки рекомендаций товаров на сайт интернет магазина, чтобы повысить конверсию и средний чек заказа</td>\n",
       "      <td>56.0</td>\n",
       "    </tr>\n",
       "    <tr>\n",
       "      <th>0</th>\n",
       "      <td>Добавить два новых канала привлечения трафика, что позволит привлекать на 30% больше пользователей</td>\n",
       "      <td>40.0</td>\n",
       "    </tr>\n",
       "    <tr>\n",
       "      <th>6</th>\n",
       "      <td>Показать на главной странице баннеры с актуальными акциями и распродажами, чтобы увеличить конверсию</td>\n",
       "      <td>40.0</td>\n",
       "    </tr>\n",
       "    <tr>\n",
       "      <th>8</th>\n",
       "      <td>Запустить акцию, дающую скидку на товар в день рождения</td>\n",
       "      <td>16.2</td>\n",
       "    </tr>\n",
       "    <tr>\n",
       "      <th>3</th>\n",
       "      <td>Изменить структура категорий, что увеличит конверсию, т.к. пользователи быстрее найдут нужный товар</td>\n",
       "      <td>9.0</td>\n",
       "    </tr>\n",
       "    <tr>\n",
       "      <th>1</th>\n",
       "      <td>Запустить собственную службу доставки, что сократит срок доставки заказов</td>\n",
       "      <td>4.0</td>\n",
       "    </tr>\n",
       "    <tr>\n",
       "      <th>5</th>\n",
       "      <td>Добавить страницу отзывов клиентов о магазине, что позволит увеличить количество заказов</td>\n",
       "      <td>4.0</td>\n",
       "    </tr>\n",
       "    <tr>\n",
       "      <th>4</th>\n",
       "      <td>Изменить цвет фона главной страницы, чтобы увеличить вовлеченность пользователей</td>\n",
       "      <td>3.0</td>\n",
       "    </tr>\n",
       "  </tbody>\n",
       "</table>\n",
       "</div>"
      ],
      "text/plain": [
       "                                                                                                     hypothesis  \\\n",
       "7              Добавить форму подписки на все основные страницы, чтобы собрать базу клиентов для email-рассылок   \n",
       "2  Добавить блоки рекомендаций товаров на сайт интернет магазина, чтобы повысить конверсию и средний чек заказа   \n",
       "0            Добавить два новых канала привлечения трафика, что позволит привлекать на 30% больше пользователей   \n",
       "6          Показать на главной странице баннеры с актуальными акциями и распродажами, чтобы увеличить конверсию   \n",
       "8                                                       Запустить акцию, дающую скидку на товар в день рождения   \n",
       "3           Изменить структура категорий, что увеличит конверсию, т.к. пользователи быстрее найдут нужный товар   \n",
       "1                                     Запустить собственную службу доставки, что сократит срок доставки заказов   \n",
       "5                      Добавить страницу отзывов клиентов о магазине, что позволит увеличить количество заказов   \n",
       "4                              Изменить цвет фона главной страницы, чтобы увеличить вовлеченность пользователей   \n",
       "\n",
       "    RICE  \n",
       "7  112.0  \n",
       "2   56.0  \n",
       "0   40.0  \n",
       "6   40.0  \n",
       "8   16.2  \n",
       "3    9.0  \n",
       "1    4.0  \n",
       "5    4.0  \n",
       "4    3.0  "
      ]
     },
     "metadata": {},
     "output_type": "display_data"
    }
   ],
   "source": [
    "hypothesis['RICE'] = (hypothesis.reach * hypothesis.impact * hypothesis.confidence / hypothesis.efforts).round(2)\n",
    "\n",
    "display(hypothesis[['hypothesis', 'RICE']].sort_values(by='RICE', ascending=False))"
   ]
  },
  {
   "cell_type": "markdown",
   "metadata": {},
   "source": [
    "**Вывод:**\n",
    "\n",
    "Применив фреймворк RICE мы получили три наиболее перспективные для изучения гипотезы:\n",
    "\n",
    "  - Добавить форму подписки на все основные страницы, чтобы собрать базу клиентов для email-рассылок;\n",
    "  - Добавить блоки рекомендаций товаров на сайт интернет магазина, чтобы повысить конверсию и средний чек заказа;\n",
    "  - Добавить два новых канала привлечения трафика, что позволит привлекать на 30% больше пользователей."
   ]
  },
  {
   "cell_type": "markdown",
   "metadata": {},
   "source": [
    "# Отличия результатов приоритизации гипотез при применении RICE вместо ICE"
   ]
  },
  {
   "cell_type": "code",
   "execution_count": 12,
   "metadata": {},
   "outputs": [
    {
     "data": {
      "text/html": [
       "<div>\n",
       "<style scoped>\n",
       "    .dataframe tbody tr th:only-of-type {\n",
       "        vertical-align: middle;\n",
       "    }\n",
       "\n",
       "    .dataframe tbody tr th {\n",
       "        vertical-align: top;\n",
       "    }\n",
       "\n",
       "    .dataframe thead th {\n",
       "        text-align: right;\n",
       "    }\n",
       "</style>\n",
       "<table border=\"1\" class=\"dataframe\">\n",
       "  <thead>\n",
       "    <tr style=\"text-align: right;\">\n",
       "      <th></th>\n",
       "      <th>hypothesis</th>\n",
       "      <th>reach</th>\n",
       "      <th>impact</th>\n",
       "      <th>confidence</th>\n",
       "      <th>efforts</th>\n",
       "      <th>ICE</th>\n",
       "      <th>RICE</th>\n",
       "    </tr>\n",
       "  </thead>\n",
       "  <tbody>\n",
       "    <tr>\n",
       "      <th>0</th>\n",
       "      <td>Добавить два новых канала привлечения трафика, что позволит привлекать на 30% больше пользователей</td>\n",
       "      <td>3</td>\n",
       "      <td>10</td>\n",
       "      <td>8</td>\n",
       "      <td>6</td>\n",
       "      <td>13.33</td>\n",
       "      <td>40.0</td>\n",
       "    </tr>\n",
       "    <tr>\n",
       "      <th>1</th>\n",
       "      <td>Запустить собственную службу доставки, что сократит срок доставки заказов</td>\n",
       "      <td>2</td>\n",
       "      <td>5</td>\n",
       "      <td>4</td>\n",
       "      <td>10</td>\n",
       "      <td>2.00</td>\n",
       "      <td>4.0</td>\n",
       "    </tr>\n",
       "    <tr>\n",
       "      <th>2</th>\n",
       "      <td>Добавить блоки рекомендаций товаров на сайт интернет магазина, чтобы повысить конверсию и средний чек заказа</td>\n",
       "      <td>8</td>\n",
       "      <td>3</td>\n",
       "      <td>7</td>\n",
       "      <td>3</td>\n",
       "      <td>7.00</td>\n",
       "      <td>56.0</td>\n",
       "    </tr>\n",
       "    <tr>\n",
       "      <th>3</th>\n",
       "      <td>Изменить структура категорий, что увеличит конверсию, т.к. пользователи быстрее найдут нужный товар</td>\n",
       "      <td>8</td>\n",
       "      <td>3</td>\n",
       "      <td>3</td>\n",
       "      <td>8</td>\n",
       "      <td>1.12</td>\n",
       "      <td>9.0</td>\n",
       "    </tr>\n",
       "    <tr>\n",
       "      <th>4</th>\n",
       "      <td>Изменить цвет фона главной страницы, чтобы увеличить вовлеченность пользователей</td>\n",
       "      <td>3</td>\n",
       "      <td>1</td>\n",
       "      <td>1</td>\n",
       "      <td>1</td>\n",
       "      <td>1.00</td>\n",
       "      <td>3.0</td>\n",
       "    </tr>\n",
       "    <tr>\n",
       "      <th>5</th>\n",
       "      <td>Добавить страницу отзывов клиентов о магазине, что позволит увеличить количество заказов</td>\n",
       "      <td>3</td>\n",
       "      <td>2</td>\n",
       "      <td>2</td>\n",
       "      <td>3</td>\n",
       "      <td>1.33</td>\n",
       "      <td>4.0</td>\n",
       "    </tr>\n",
       "    <tr>\n",
       "      <th>6</th>\n",
       "      <td>Показать на главной странице баннеры с актуальными акциями и распродажами, чтобы увеличить конверсию</td>\n",
       "      <td>5</td>\n",
       "      <td>3</td>\n",
       "      <td>8</td>\n",
       "      <td>3</td>\n",
       "      <td>8.00</td>\n",
       "      <td>40.0</td>\n",
       "    </tr>\n",
       "    <tr>\n",
       "      <th>7</th>\n",
       "      <td>Добавить форму подписки на все основные страницы, чтобы собрать базу клиентов для email-рассылок</td>\n",
       "      <td>10</td>\n",
       "      <td>7</td>\n",
       "      <td>8</td>\n",
       "      <td>5</td>\n",
       "      <td>11.20</td>\n",
       "      <td>112.0</td>\n",
       "    </tr>\n",
       "    <tr>\n",
       "      <th>8</th>\n",
       "      <td>Запустить акцию, дающую скидку на товар в день рождения</td>\n",
       "      <td>1</td>\n",
       "      <td>9</td>\n",
       "      <td>9</td>\n",
       "      <td>5</td>\n",
       "      <td>16.20</td>\n",
       "      <td>16.2</td>\n",
       "    </tr>\n",
       "  </tbody>\n",
       "</table>\n",
       "</div>"
      ],
      "text/plain": [
       "                                                                                                     hypothesis  \\\n",
       "0            Добавить два новых канала привлечения трафика, что позволит привлекать на 30% больше пользователей   \n",
       "1                                     Запустить собственную службу доставки, что сократит срок доставки заказов   \n",
       "2  Добавить блоки рекомендаций товаров на сайт интернет магазина, чтобы повысить конверсию и средний чек заказа   \n",
       "3           Изменить структура категорий, что увеличит конверсию, т.к. пользователи быстрее найдут нужный товар   \n",
       "4                              Изменить цвет фона главной страницы, чтобы увеличить вовлеченность пользователей   \n",
       "5                      Добавить страницу отзывов клиентов о магазине, что позволит увеличить количество заказов   \n",
       "6          Показать на главной странице баннеры с актуальными акциями и распродажами, чтобы увеличить конверсию   \n",
       "7              Добавить форму подписки на все основные страницы, чтобы собрать базу клиентов для email-рассылок   \n",
       "8                                                       Запустить акцию, дающую скидку на товар в день рождения   \n",
       "\n",
       "   reach  impact  confidence  efforts    ICE   RICE  \n",
       "0      3      10           8        6  13.33   40.0  \n",
       "1      2       5           4       10   2.00    4.0  \n",
       "2      8       3           7        3   7.00   56.0  \n",
       "3      8       3           3        8   1.12    9.0  \n",
       "4      3       1           1        1   1.00    3.0  \n",
       "5      3       2           2        3   1.33    4.0  \n",
       "6      5       3           8        3   8.00   40.0  \n",
       "7     10       7           8        5  11.20  112.0  \n",
       "8      1       9           9        5  16.20   16.2  "
      ]
     },
     "metadata": {},
     "output_type": "display_data"
    }
   ],
   "source": [
    "# посмотрим сводную таблицу\n",
    "\n",
    "display(hypothesis)"
   ]
  },
  {
   "cell_type": "markdown",
   "metadata": {},
   "source": [
    "**Вывод:**\n",
    "\n",
    "- приоритизация гипотез с использованием RICE вместо ICE поменяла порядок гипотез;  \n",
    "- фактор, который повлиял на изменения приоритизации - Reach. Он измеряется количеством людей/событий за определенный период времени;\n",
    "- соответственно более приоритетными стали гипотезы, изменения по которым затрагивают большее число пользователей."
   ]
  },
  {
   "cell_type": "markdown",
   "metadata": {},
   "source": [
    "**Выводы по 2 разделу:**\n",
    "\n",
    "Применив фреймворк ICE мы получили три наиболее перспективные для изучения гипотезы:\n",
    "\n",
    "  - Запустить акцию, дающую скидку на товар в день рождения;\n",
    "  - Добавить два новых канала привлечения трафика, что позволит привлекать на 30% больше пользователей;\n",
    "  - Добавить форму подписки на все основные страницы, чтобы собрать базу клиентов для email-рассылок.\n",
    "  \n",
    "---\n",
    "\n",
    "Применив фреймворк RICE мы получили три наиболее перспективные для изучения гипотезы:\n",
    "\n",
    "  - Добавить форму подписки на все основные страницы, чтобы собрать базу клиентов для email-рассылок;\n",
    "  - Добавить блоки рекомендаций товаров на сайт интернет магазина, чтобы повысить конверсию и средний чек заказа;\n",
    "  - Добавить два новых канала привлечения трафика, что позволит привлекать на 30% больше пользователей.\n",
    "  \n",
    "---\n",
    "\n",
    "- приоритизация гипотез с использованием RICE вместо ICE поменяла порядок гипотез;  \n",
    "- фактор, который повлиял на изменения приоритизации - Reach. Он измеряется количеством людей/событий за определенный период времени;\n",
    "- соответственно более приоритетными стали гипотезы, изменения по которым затрагивают большее число пользователей.\n",
    "\n",
    "---\n",
    "\n",
    "Гипотезы, вошедшие первую тройку при применении как одного, так и другого фреймворка, являются:\n",
    "\n",
    " - добавить два новых канала привлечения трафика, что позволит привлекать на 30% больше пользователей;\n",
    "\n",
    "- добавить форму подписки на все основные страницы, чтобы собрать базу клиентов для email-рассылок."
   ]
  },
  {
   "cell_type": "markdown",
   "metadata": {},
   "source": [
    "# 3. Анализ A/B-теста"
   ]
  },
  {
   "cell_type": "markdown",
   "metadata": {},
   "source": [
    "# График кумулятивной выручки по группам"
   ]
  },
  {
   "cell_type": "code",
   "execution_count": 13,
   "metadata": {},
   "outputs": [],
   "source": [
    "# создаем массив уникальных пар значений дат и групп теста\n",
    "\n",
    "datesGroups = orders[['date','group']].drop_duplicates()"
   ]
  },
  {
   "cell_type": "code",
   "execution_count": 14,
   "metadata": {},
   "outputs": [],
   "source": [
    "# получаем агрегированные кумулятивные по дням данные о заказах \n",
    "\n",
    "ordersAggregated = (\n",
    "    datesGroups.apply(lambda x: orders[np.logical_and(orders['date'] <= x['date'], \\\n",
    "                                            orders['group'] == x['group'])]\n",
    "     .agg({'date' : 'max', 'group' : 'max', 'transaction_id' : 'nunique', 'visitor_id' : 'nunique', 'revenue' : 'sum'}), axis=1)\n",
    "     .sort_values(by=['date','group'])\n",
    ")"
   ]
  },
  {
   "cell_type": "code",
   "execution_count": 15,
   "metadata": {},
   "outputs": [],
   "source": [
    "# получаем агрегированные кумулятивные по дням данные о посетителях\n",
    "\n",
    "visitorsAggregated = (\n",
    "    datesGroups.apply(lambda x: visitors[np.logical_and(visitors['date'] <= x['date'], \\\n",
    "                                             visitors['group'] == x['group'])]\n",
    "     .agg({'date' : 'max', 'group' : 'max', 'visitors' : 'sum'}), axis=1)\n",
    "     .sort_values(by=['date','group'])\n",
    ")\n"
   ]
  },
  {
   "cell_type": "code",
   "execution_count": 16,
   "metadata": {},
   "outputs": [
    {
     "data": {
      "text/html": [
       "<div>\n",
       "<style scoped>\n",
       "    .dataframe tbody tr th:only-of-type {\n",
       "        vertical-align: middle;\n",
       "    }\n",
       "\n",
       "    .dataframe tbody tr th {\n",
       "        vertical-align: top;\n",
       "    }\n",
       "\n",
       "    .dataframe thead th {\n",
       "        text-align: right;\n",
       "    }\n",
       "</style>\n",
       "<table border=\"1\" class=\"dataframe\">\n",
       "  <thead>\n",
       "    <tr style=\"text-align: right;\">\n",
       "      <th></th>\n",
       "      <th>date</th>\n",
       "      <th>group</th>\n",
       "      <th>orders</th>\n",
       "      <th>buyers</th>\n",
       "      <th>revenue</th>\n",
       "      <th>visitors</th>\n",
       "    </tr>\n",
       "  </thead>\n",
       "  <tbody>\n",
       "    <tr>\n",
       "      <th>0</th>\n",
       "      <td>2019-08-01</td>\n",
       "      <td>A</td>\n",
       "      <td>23</td>\n",
       "      <td>19</td>\n",
       "      <td>142779</td>\n",
       "      <td>719</td>\n",
       "    </tr>\n",
       "    <tr>\n",
       "      <th>1</th>\n",
       "      <td>2019-08-01</td>\n",
       "      <td>B</td>\n",
       "      <td>17</td>\n",
       "      <td>17</td>\n",
       "      <td>59758</td>\n",
       "      <td>713</td>\n",
       "    </tr>\n",
       "    <tr>\n",
       "      <th>2</th>\n",
       "      <td>2019-08-02</td>\n",
       "      <td>A</td>\n",
       "      <td>42</td>\n",
       "      <td>36</td>\n",
       "      <td>234381</td>\n",
       "      <td>1338</td>\n",
       "    </tr>\n",
       "    <tr>\n",
       "      <th>3</th>\n",
       "      <td>2019-08-02</td>\n",
       "      <td>B</td>\n",
       "      <td>40</td>\n",
       "      <td>39</td>\n",
       "      <td>221801</td>\n",
       "      <td>1294</td>\n",
       "    </tr>\n",
       "    <tr>\n",
       "      <th>4</th>\n",
       "      <td>2019-08-03</td>\n",
       "      <td>A</td>\n",
       "      <td>66</td>\n",
       "      <td>60</td>\n",
       "      <td>346854</td>\n",
       "      <td>1845</td>\n",
       "    </tr>\n",
       "  </tbody>\n",
       "</table>\n",
       "</div>"
      ],
      "text/plain": [
       "        date group  orders  buyers  revenue  visitors\n",
       "0 2019-08-01     A      23      19   142779       719\n",
       "1 2019-08-01     B      17      17    59758       713\n",
       "2 2019-08-02     A      42      36   234381      1338\n",
       "3 2019-08-02     B      40      39   221801      1294\n",
       "4 2019-08-03     A      66      60   346854      1845"
      ]
     },
     "metadata": {},
     "output_type": "display_data"
    }
   ],
   "source": [
    "# объединяем кумулятивные данные в одной таблице и присваиваем ее столбцам понятные названия\n",
    "\n",
    "cumulativeData = ordersAggregated.merge(visitorsAggregated, left_on=['date', 'group'], right_on=['date', 'group'])\n",
    "cumulativeData.columns = ['date', 'group', 'orders', 'buyers', 'revenue', 'visitors']\n",
    "\n",
    "display(cumulativeData.head())"
   ]
  },
  {
   "cell_type": "code",
   "execution_count": 17,
   "metadata": {},
   "outputs": [
    {
     "name": "stdout",
     "output_type": "stream",
     "text": [
      "Дата начала теста: 2019-08-01 00:00:00\n",
      "Дата окончания теста: 2019-08-31 00:00:00\n"
     ]
    }
   ],
   "source": [
    "# проверка корректности создания датафрейма cumulativeData\n",
    "\n",
    "print('Дата начала теста:', cumulativeData['date'].min())\n",
    "print('Дата окончания теста:', cumulativeData['date'].max()) "
   ]
  },
  {
   "cell_type": "markdown",
   "metadata": {},
   "source": [
    "- Дата начала и окончания теста совпадает с исходными данными, следовательно датафрейм cumulativeData создан корректно."
   ]
  },
  {
   "cell_type": "markdown",
   "metadata": {},
   "source": [
    "***Построим графики кумулятивной выручки по дням и группам A/B-тестирования***"
   ]
  },
  {
   "cell_type": "code",
   "execution_count": 18,
   "metadata": {},
   "outputs": [
    {
     "data": {
      "image/png": "[encoded data removed]",
      "text/plain": [
       "<Figure size 1080x720 with 1 Axes>"
      ]
     },
     "metadata": {
      "needs_background": "light"
     },
     "output_type": "display_data"
    }
   ],
   "source": [
    "# датафрейм с кумулятивным количеством заказов и кумулятивной выручкой по дням в группе А\n",
    "cumulativeRevenueA = cumulativeData[cumulativeData['group']=='A'][['date','revenue', 'orders']]\n",
    "\n",
    "# датафрейм с кумулятивным количеством заказов и кумулятивной выручкой по дням в группе B\n",
    "cumulativeRevenueB = cumulativeData[cumulativeData['group']=='B'][['date','revenue', 'orders']]\n",
    "\n",
    "plt.figure(figsize=(15, 10))\n",
    "\n",
    "# Строим график выручки группы А\n",
    "plt.plot(cumulativeRevenueA['date'], cumulativeRevenueA['revenue'], label='A')\n",
    "\n",
    "# Строим график выручки группы B\n",
    "plt.plot(cumulativeRevenueB['date'], cumulativeRevenueB['revenue'], label='B')\n",
    "\n",
    "plt.grid()\n",
    "plt.xlabel('Дни')\n",
    "plt.ylabel('Кумулятивная выручка')\n",
    "plt.legend(title='Группа')\n",
    "plt.title('Кумулятивная выручка по дням и группам A/B-тестирования') \n",
    "\n",
    "plt.show()"
   ]
  },
  {
   "cell_type": "markdown",
   "metadata": {},
   "source": [
    "**Вывод:**\n",
    "\n",
    "- группа В лидирует на протяжении всего теста;\n",
    "\n",
    "- 18-19 августа в группе В произошел резкий скачек. На это может быть две причины: либо в данные попал аномально дорогой заказ, либо в эти дни было много заказов. "
   ]
  },
  {
   "cell_type": "markdown",
   "metadata": {},
   "source": [
    "# График кумулятивного среднего чека по группам"
   ]
  },
  {
   "cell_type": "code",
   "execution_count": 19,
   "metadata": {},
   "outputs": [
    {
     "data": {
      "image/png": "[encoded data removed]",
      "text/plain": [
       "<Figure size 1080x720 with 1 Axes>"
      ]
     },
     "metadata": {
      "needs_background": "light"
     },
     "output_type": "display_data"
    }
   ],
   "source": [
    "plt.figure(figsize=(15, 10))\n",
    "\n",
    "plt.plot(cumulativeRevenueA['date'], cumulativeRevenueA['revenue']/cumulativeRevenueA['orders'], label='A')\n",
    "plt.plot(cumulativeRevenueB['date'], cumulativeRevenueB['revenue']/cumulativeRevenueB['orders'], label='B')\n",
    "\n",
    "plt.grid()\n",
    "plt.xlabel('Дни')\n",
    "plt.ylabel('Кумулятивный средний чек')\n",
    "plt.legend(title='Группа')\n",
    "plt.title('Кумулятивный средний чек по группам A/B-тестирования') \n",
    "\n",
    "plt.show()"
   ]
  },
  {
   "cell_type": "markdown",
   "metadata": {},
   "source": [
    "**Вывод:**\n",
    "\n",
    "- в первой половине теста графики ведут себя нестабильно;\n",
    "\n",
    "- средний чек для группы B после 18 августа резко пошёл вверх. Для группы A такого резкого взлёта не было. Резкий взлет для B мог быть связан с крупными заказами;\n",
    "\n",
    "- к концу тестирования у группы А есть тенденция к росту, а у группы В к снижению."
   ]
  },
  {
   "cell_type": "markdown",
   "metadata": {},
   "source": [
    "# График относительного изменения кумулятивного среднего чека группы B к группе A"
   ]
  },
  {
   "cell_type": "code",
   "execution_count": 20,
   "metadata": {},
   "outputs": [
    {
     "data": {
      "image/png": "[encoded data removed]",
      "text/plain": [
       "<Figure size 1080x720 with 1 Axes>"
      ]
     },
     "metadata": {
      "needs_background": "light"
     },
     "output_type": "display_data"
    }
   ],
   "source": [
    "# собираем данные в одном датафрейме\n",
    "mergedCumulativeRevenue = cumulativeRevenueA.merge(cumulativeRevenueB, left_on='date', right_on='date', how='left', suffixes=['A', 'B'])\n",
    "\n",
    "\n",
    "# cтроим отношение средних чеков\n",
    "plt.figure(figsize=(15, 10))\n",
    "plt.grid()\n",
    "plt.plot(mergedCumulativeRevenue['date'], (mergedCumulativeRevenue['revenueB']/mergedCumulativeRevenue['ordersB'])/(mergedCumulativeRevenue['revenueA']/mergedCumulativeRevenue['ordersA'])-1)\n",
    "plt.xlabel('Дни')\n",
    "plt.title('Относительное изменения кумулятивного среднего чека группы B к группе A')  \n",
    "\n",
    "# добавляем ось X\n",
    "plt.axhline(y=0, color='black', linestyle='--')\n",
    "plt.show()"
   ]
  },
  {
   "cell_type": "markdown",
   "metadata": {},
   "source": [
    "**Вывод:**\n",
    "\n",
    "- Резкий скачок после 18 августа для группы В сохранился, значит действительно имеет место аномально крупный заказ."
   ]
  },
  {
   "cell_type": "markdown",
   "metadata": {},
   "source": [
    "# График кумулятивного среднего количества заказов на посетителя по группам"
   ]
  },
  {
   "cell_type": "code",
   "execution_count": 21,
   "metadata": {},
   "outputs": [
    {
     "data": {
      "image/png": "[encoded data removed]",
      "text/plain": [
       "<Figure size 1080x720 with 1 Axes>"
      ]
     },
     "metadata": {
      "needs_background": "light"
     },
     "output_type": "display_data"
    }
   ],
   "source": [
    "# считаем кумулятивную конверсию\n",
    "cumulativeData['conversion'] = cumulativeData['orders']/cumulativeData['visitors']\n",
    "\n",
    "# отделяем данные по группе A\n",
    "cumulativeDataA = cumulativeData[cumulativeData['group']=='A']\n",
    "\n",
    "# отделяем данные по группе B\n",
    "cumulativeDataB = cumulativeData[cumulativeData['group']=='B']\n",
    "\n",
    "# строим график\n",
    "plt.figure(figsize=(15, 10))\n",
    "plt.plot(cumulativeDataA['date'], cumulativeDataA['conversion'], label='A')\n",
    "plt.plot(cumulativeDataB['date'], cumulativeDataB['conversion'], label='B')\n",
    "\n",
    "plt.grid()\n",
    "plt.legend(title='Группа')\n",
    "plt.title('Кумулятивное среднее количество заказов на посетителя для групп A и B')  \n",
    "plt.xlabel('Дни')\n",
    "plt.ylabel('Конверсия')\n",
    "\n",
    "plt.show()"
   ]
  },
  {
   "cell_type": "markdown",
   "metadata": {},
   "source": [
    "**Вывод:**\n",
    "\n",
    "- В первые дни наблюдается колебание конверсии, и группа А лидирует по сравнению с группой В;\n",
    "\n",
    "- В последующие дни группа В вырывается вперед и стабилизируется, группа А просела и так же стабилизировалась."
   ]
  },
  {
   "cell_type": "markdown",
   "metadata": {},
   "source": [
    "# График относительного изменения кумулятивного среднего количества заказов на посетителя группы B к группе A."
   ]
  },
  {
   "cell_type": "code",
   "execution_count": 22,
   "metadata": {},
   "outputs": [
    {
     "data": {
      "image/png": "[encoded data removed]",
      "text/plain": [
       "<Figure size 1080x720 with 1 Axes>"
      ]
     },
     "metadata": {
      "needs_background": "light"
     },
     "output_type": "display_data"
    }
   ],
   "source": [
    "\n",
    "mergedCumulativeConversions = cumulativeDataA[['date','conversion']].merge(cumulativeDataB[['date','conversion']], left_on='date', right_on='date', how='left', suffixes=['A', 'B'])\n",
    "\n",
    "# строим график\n",
    "plt.figure(figsize=(15, 10))\n",
    "plt.grid()\n",
    "plt.plot(mergedCumulativeConversions['date'], mergedCumulativeConversions['conversionB']/mergedCumulativeConversions['conversionA']-1, label=\"Относительный прирост конверсии группы B относительно группы A\")\n",
    "plt.legend()\n",
    "\n",
    "plt.axhline(y=0, color='black', linestyle='--')\n",
    "plt.axhline(y=0.2, color='grey', linestyle='--')\n",
    "plt.show()"
   ]
  },
  {
   "cell_type": "markdown",
   "metadata": {},
   "source": [
    "**Вывод:**\n",
    "\n",
    "- В первые дни конверсия группы В была нестабильной и проигрывала группе А;\n",
    "\n",
    "- Начиная с 6 дня теста группа В вырывается вперед: прирост по сравнению с группой А превышает 20 %, затем немного снижается и к концу теста стабилизируется в районе 15 %."
   ]
  },
  {
   "cell_type": "markdown",
   "metadata": {},
   "source": [
    "# Точечный график количества заказов по пользователям"
   ]
  },
  {
   "cell_type": "code",
   "execution_count": 23,
   "metadata": {},
   "outputs": [
    {
     "data": {
      "text/html": [
       "<div>\n",
       "<style scoped>\n",
       "    .dataframe tbody tr th:only-of-type {\n",
       "        vertical-align: middle;\n",
       "    }\n",
       "\n",
       "    .dataframe tbody tr th {\n",
       "        vertical-align: top;\n",
       "    }\n",
       "\n",
       "    .dataframe thead th {\n",
       "        text-align: right;\n",
       "    }\n",
       "</style>\n",
       "<table border=\"1\" class=\"dataframe\">\n",
       "  <thead>\n",
       "    <tr style=\"text-align: right;\">\n",
       "      <th></th>\n",
       "      <th>visitor_id</th>\n",
       "      <th>orders</th>\n",
       "    </tr>\n",
       "  </thead>\n",
       "  <tbody>\n",
       "    <tr>\n",
       "      <th>908</th>\n",
       "      <td>3967698036</td>\n",
       "      <td>3</td>\n",
       "    </tr>\n",
       "    <tr>\n",
       "      <th>55</th>\n",
       "      <td>249864742</td>\n",
       "      <td>3</td>\n",
       "    </tr>\n",
       "    <tr>\n",
       "      <th>478</th>\n",
       "      <td>2108163459</td>\n",
       "      <td>3</td>\n",
       "    </tr>\n",
       "    <tr>\n",
       "      <th>687</th>\n",
       "      <td>2988190573</td>\n",
       "      <td>3</td>\n",
       "    </tr>\n",
       "    <tr>\n",
       "      <th>890</th>\n",
       "      <td>3908431265</td>\n",
       "      <td>3</td>\n",
       "    </tr>\n",
       "    <tr>\n",
       "      <th>138</th>\n",
       "      <td>611059232</td>\n",
       "      <td>3</td>\n",
       "    </tr>\n",
       "    <tr>\n",
       "      <th>632</th>\n",
       "      <td>2742574263</td>\n",
       "      <td>3</td>\n",
       "    </tr>\n",
       "    <tr>\n",
       "      <th>157</th>\n",
       "      <td>678354126</td>\n",
       "      <td>2</td>\n",
       "    </tr>\n",
       "    <tr>\n",
       "      <th>323</th>\n",
       "      <td>1404560065</td>\n",
       "      <td>2</td>\n",
       "    </tr>\n",
       "    <tr>\n",
       "      <th>452</th>\n",
       "      <td>1985475298</td>\n",
       "      <td>2</td>\n",
       "    </tr>\n",
       "  </tbody>\n",
       "</table>\n",
       "</div>"
      ],
      "text/plain": [
       "     visitor_id  orders\n",
       "908  3967698036       3\n",
       "55    249864742       3\n",
       "478  2108163459       3\n",
       "687  2988190573       3\n",
       "890  3908431265       3\n",
       "138   611059232       3\n",
       "632  2742574263       3\n",
       "157   678354126       2\n",
       "323  1404560065       2\n",
       "452  1985475298       2"
      ]
     },
     "metadata": {},
     "output_type": "display_data"
    }
   ],
   "source": [
    "# подсчитаем количество заказов по пользователям \n",
    "\n",
    "ordersByUsers = (\n",
    "     orders.groupby('visitor_id', as_index=False)\n",
    "    .agg({'transaction_id': 'nunique'})\n",
    ")\n",
    "\n",
    "ordersByUsers.columns = ['visitor_id', 'orders']\n",
    "\n",
    "display(ordersByUsers.sort_values(by='orders', ascending=False).head(10)) "
   ]
  },
  {
   "cell_type": "code",
   "execution_count": 24,
   "metadata": {},
   "outputs": [
    {
     "data": {
      "image/png": "[encoded data removed]",
      "text/plain": [
       "<Figure size 720x504 with 1 Axes>"
      ]
     },
     "metadata": {
      "needs_background": "light"
     },
     "output_type": "display_data"
    }
   ],
   "source": [
    "# Построим точечную диаграмму числа заказов на одного пользователя\n",
    "\n",
    "x_values = pd.Series(range(0,len(ordersByUsers)))\n",
    "\n",
    "plt.figure(figsize=(10, 7))\n",
    "plt.scatter(x_values, ordersByUsers['orders'])\n",
    "plt.xlabel('Количество пользователей')\n",
    "plt.ylabel('Количество заказов')\n",
    "\n",
    "plt.title('Количество заказов по пользователям')  \n",
    "plt.show()"
   ]
  },
  {
   "cell_type": "markdown",
   "metadata": {},
   "source": [
    "**Вывод:**\n",
    "\n",
    "- Большее количество пользователей сделали 1 заказ;\n",
    "\n",
    "- Два заказа сделали намного меньше пользователей;\n",
    "\n",
    "- Три заказа - всего семь пользователей. Необходимо убедится, что это не выбросы."
   ]
  },
  {
   "cell_type": "markdown",
   "metadata": {},
   "source": [
    "# 95-й и 99-й перцентили количества заказов на пользователя."
   ]
  },
  {
   "cell_type": "code",
   "execution_count": 25,
   "metadata": {},
   "outputs": [
    {
     "data": {
      "text/plain": [
       "array([1., 2.])"
      ]
     },
     "execution_count": 25,
     "metadata": {},
     "output_type": "execute_result"
    }
   ],
   "source": [
    "# посчитаем выборочные перцентили количества заказов на одного пользователя\n",
    "\n",
    "np.percentile(ordersByUsers['orders'], [95, 99])"
   ]
  },
  {
   "cell_type": "markdown",
   "metadata": {},
   "source": [
    "**Вывод:**\n",
    "\n",
    "- не более 5 % пользователей сделали заказ более 1 раза;\n",
    "\n",
    "- и не более 1 % пользователей сделали заказ более 2 раз;\n",
    "\n",
    "- значит заказы, совершенные более 2 раз на пользователя, будем считать выбросами."
   ]
  },
  {
   "cell_type": "markdown",
   "metadata": {},
   "source": [
    "# Точечный график стоимостей заказов"
   ]
  },
  {
   "cell_type": "code",
   "execution_count": 26,
   "metadata": {},
   "outputs": [
    {
     "data": {
      "image/png": "[encoded data removed]",
      "text/plain": [
       "<Figure size 720x504 with 1 Axes>"
      ]
     },
     "metadata": {
      "needs_background": "light"
     },
     "output_type": "display_data"
    }
   ],
   "source": [
    "x_values = pd.Series(range(0,len(orders['revenue'])))\n",
    "\n",
    "plt.figure(figsize=(10, 7))\n",
    "plt.scatter(x_values, orders['revenue']) \n",
    "plt.xlabel('Количество пользователей')\n",
    "plt.ylabel('Стоимость заказов')\n",
    "plt.ticklabel_format(style='plain')\n",
    "\n",
    "plt.title('Распределение стоимости заказов')  \n",
    "plt.show()"
   ]
  },
  {
   "cell_type": "code",
   "execution_count": 27,
   "metadata": {},
   "outputs": [
    {
     "data": {
      "image/png": "[encoded data removed]",
      "text/plain": [
       "<Figure size 720x504 with 1 Axes>"
      ]
     },
     "metadata": {
      "needs_background": "light"
     },
     "output_type": "display_data"
    }
   ],
   "source": [
    "# построим график с ограничением стоимости заказа до 150 000\n",
    "\n",
    "plt.figure(figsize=(10, 7))\n",
    "plt.scatter(x_values, orders['revenue']) \n",
    "plt.xlabel('Количество пользователей')\n",
    "plt.ylabel('Стоимость заказов')\n",
    "\n",
    "plt.ticklabel_format(style='plain')\n",
    "plt.ylim(0, 150000) \n",
    "plt.title('Распределение стоимости заказов')  \n",
    "plt.show()"
   ]
  },
  {
   "cell_type": "markdown",
   "metadata": {},
   "source": [
    "**Вывод:**\n",
    "\n",
    "- на первом графике есть выбросы: заказ стоимостью 200 000 и 1 200 000;\n",
    "\n",
    "- на втором графике видно, что основная масса заказов находится в диапазоне до 20 000."
   ]
  },
  {
   "cell_type": "markdown",
   "metadata": {},
   "source": [
    "# 95-й и 99-й перцентили стоимости заказов. Выбор границы для определения аномальных заказов"
   ]
  },
  {
   "cell_type": "code",
   "execution_count": 28,
   "metadata": {},
   "outputs": [
    {
     "data": {
      "text/plain": [
       "array([26785., 53904.])"
      ]
     },
     "execution_count": 28,
     "metadata": {},
     "output_type": "execute_result"
    }
   ],
   "source": [
    "# посчитаем выборочные перцентили стоимости заказов\n",
    "\n",
    "np.percentile(orders['revenue'], [95, 99])"
   ]
  },
  {
   "cell_type": "markdown",
   "metadata": {},
   "source": [
    "**Вывод:**\n",
    "\n",
    "- не более 5 % пользователей сделали заказ на сумму более 26785;\n",
    "\n",
    "- и не более 1 % пользователей сделали заказ на сумму более 53904;\n",
    "\n",
    "- примем значение аномальных заказов стоимостью выше 53904."
   ]
  },
  {
   "cell_type": "markdown",
   "metadata": {},
   "source": [
    "# Подсчет статистической значимости различий в среднем количестве заказов на посетителя между группами по «сырым» данным"
   ]
  },
  {
   "cell_type": "code",
   "execution_count": 29,
   "metadata": {},
   "outputs": [
    {
     "name": "stdout",
     "output_type": "stream",
     "text": [
      "Значение P-value: 0.011\n",
      "Разница между группами В и А: 0.160\n"
     ]
    }
   ],
   "source": [
    "# Посчитаем статистическую значимость различия в среднем количестве заказов между группами\n",
    "\n",
    "ordersByUsersA = (\n",
    "    orders[orders['group'] == 'A']\n",
    "    .groupby('visitor_id', as_index=False)\n",
    "    .agg({'transaction_id': pd.Series.nunique})\n",
    ")\n",
    "ordersByUsersA.columns = ['visitor_id', 'orders']\n",
    "\n",
    "ordersByUsersB = (\n",
    "    orders[orders['group'] == 'B']\n",
    "    .groupby('visitor_id', as_index=False)\n",
    "    .agg({'transaction_id': pd.Series.nunique})\n",
    ")\n",
    "ordersByUsersB.columns = ['visitor_id', 'orders'] \n",
    "\n",
    "\n",
    "\n",
    "sampleA = pd.concat([ordersByUsersA['orders'],pd.Series(0, index=np.arange(visitors[visitors['group'] == 'A']['visitors'].sum() - len(ordersByUsersA['orders'])), name='orders')],axis=0)\n",
    "\n",
    "sampleB = pd.concat([ordersByUsersB['orders'],pd.Series(0, index=np.arange(visitors[visitors['group'] == 'B']['visitors'].sum() - len(ordersByUsersB['orders'])), name='orders')],axis=0)\n",
    "\n",
    "\n",
    "\n",
    "print('Значение P-value:', \"{0:.3f}\".format(stats.mannwhitneyu(sampleA, sampleB)[1]))\n",
    "\n",
    "\n",
    "print('Разница между группами В и А:',\"{0:.3f}\".format((sampleB.mean()/sampleA.mean()-1)))\n",
    "\n",
    "\n",
    "                                 "
   ]
  },
  {
   "cell_type": "markdown",
   "metadata": {},
   "source": [
    "**Вывод:**\n",
    "\n",
    "- На имеющихся данных, на уровне значимости 5% (уровне доверия 95%) есть основания отвергнуть нулевую гипотезу в пользу альтернативы.\n",
    "\n",
    "- Различия в среднем количестве заказов на посетителя между группами есть;\n",
    "\n",
    "- Среднее количество заказов на посетителя в группе В выше на 16 %."
   ]
  },
  {
   "cell_type": "markdown",
   "metadata": {},
   "source": [
    "# Подсчет статистической значимоси различий в среднем чеке заказа между группами по «сырым» данным"
   ]
  },
  {
   "cell_type": "markdown",
   "metadata": {},
   "source": [
    "Сформулируем гипотезы. \n",
    "\n",
    "- **Нулевая гипотеза:** : различий в среднем чеке заказа между группами нет. \n",
    "\n",
    "- **Альтернативная гипотеза:** различия в среднем чеке заказа между группами есть."
   ]
  },
  {
   "cell_type": "code",
   "execution_count": 30,
   "metadata": {},
   "outputs": [
    {
     "name": "stdout",
     "output_type": "stream",
     "text": [
      "Значение P-value: 0.829\n",
      "Разница между группами В и А: 0.287\n"
     ]
    }
   ],
   "source": [
    "print('Значение P-value:', '{0:.3f}'.format(stats.mannwhitneyu(orders[orders['group']=='A']['revenue'], orders[orders['group']=='B']['revenue'])[1]))\n",
    "\n",
    "print('Разница между группами В и А:','{0:.3f}'.format(orders[orders['group']=='B']['revenue'].mean()/orders[orders['group']=='A']['revenue'].mean()-1))"
   ]
  },
  {
   "cell_type": "markdown",
   "metadata": {},
   "source": [
    "**Вывод:**\n",
    "\n",
    "- На имеющихся данных, на уровне значимости 5% (уровне доверия 95%) нет оснований отвергнуть нулевую гипотезу в пользу альтернативы.\n",
    "\n",
    "- Различий в среднем чеке заказа между группами нет;\n",
    "\n",
    "- Однако разница среднего чека группы В к А равна 28,7 %."
   ]
  },
  {
   "cell_type": "markdown",
   "metadata": {},
   "source": [
    "# Подсчет статистической значимости различий в среднем количестве заказов на посетителя между группами по «очищенным» данным"
   ]
  },
  {
   "cell_type": "markdown",
   "metadata": {},
   "source": [
    "- Примем значение аномальных заказов стоимостью выше 53904 и покупками более 2 раз;\n",
    "\n",
    "- Узнаем сколько всего аномальных пользователей."
   ]
  },
  {
   "cell_type": "code",
   "execution_count": 31,
   "metadata": {},
   "outputs": [
    {
     "data": {
      "text/html": [
       "<div>\n",
       "<style scoped>\n",
       "    .dataframe tbody tr th:only-of-type {\n",
       "        vertical-align: middle;\n",
       "    }\n",
       "\n",
       "    .dataframe tbody tr th {\n",
       "        vertical-align: top;\n",
       "    }\n",
       "\n",
       "    .dataframe thead th {\n",
       "        text-align: right;\n",
       "    }\n",
       "</style>\n",
       "<table border=\"1\" class=\"dataframe\">\n",
       "  <thead>\n",
       "    <tr style=\"text-align: right;\">\n",
       "      <th></th>\n",
       "      <th>visitor_id</th>\n",
       "      <th>orders</th>\n",
       "      <th>transaction_id</th>\n",
       "      <th>date</th>\n",
       "      <th>revenue</th>\n",
       "      <th>group</th>\n",
       "    </tr>\n",
       "  </thead>\n",
       "  <tbody>\n",
       "    <tr>\n",
       "      <th>1099</th>\n",
       "      <td>148427295</td>\n",
       "      <td>NaN</td>\n",
       "      <td>3.169240e+08</td>\n",
       "      <td>2019-08-12</td>\n",
       "      <td>65710.0</td>\n",
       "      <td>A</td>\n",
       "    </tr>\n",
       "    <tr>\n",
       "      <th>33</th>\n",
       "      <td>249864742</td>\n",
       "      <td>3.0</td>\n",
       "      <td>NaN</td>\n",
       "      <td>NaT</td>\n",
       "      <td>NaN</td>\n",
       "      <td>NaN</td>\n",
       "    </tr>\n",
       "    <tr>\n",
       "      <th>58</th>\n",
       "      <td>611059232</td>\n",
       "      <td>3.0</td>\n",
       "      <td>NaN</td>\n",
       "      <td>NaT</td>\n",
       "      <td>NaN</td>\n",
       "      <td>NaN</td>\n",
       "    </tr>\n",
       "    <tr>\n",
       "      <th>949</th>\n",
       "      <td>887908475</td>\n",
       "      <td>NaN</td>\n",
       "      <td>1.347999e+09</td>\n",
       "      <td>2019-08-21</td>\n",
       "      <td>60450.0</td>\n",
       "      <td>A</td>\n",
       "    </tr>\n",
       "    <tr>\n",
       "      <th>744</th>\n",
       "      <td>888512513</td>\n",
       "      <td>NaN</td>\n",
       "      <td>3.668308e+09</td>\n",
       "      <td>2019-08-27</td>\n",
       "      <td>86620.0</td>\n",
       "      <td>B</td>\n",
       "    </tr>\n",
       "  </tbody>\n",
       "</table>\n",
       "</div>"
      ],
      "text/plain": [
       "      visitor_id  orders  transaction_id       date  revenue group\n",
       "1099   148427295     NaN    3.169240e+08 2019-08-12  65710.0     A\n",
       "33     249864742     3.0             NaN        NaT      NaN   NaN\n",
       "58     611059232     3.0             NaN        NaT      NaN   NaN\n",
       "949    887908475     NaN    1.347999e+09 2019-08-21  60450.0     A\n",
       "744    888512513     NaN    3.668308e+09 2019-08-27  86620.0     B"
      ]
     },
     "metadata": {},
     "output_type": "display_data"
    },
    {
     "name": "stdout",
     "output_type": "stream",
     "text": [
      "\n",
      "Количество аномальных пользователей: 16\n"
     ]
    }
   ],
   "source": [
    "# Определение 99-го перцентиля по количеству заказов\n",
    "orders_percentile = np.percentile(ordersByUsers['orders'], 99)\n",
    "\n",
    "# Выбор пользователей с количеством заказов выше 99-го перцентиля\n",
    "usersWithManyOrders = pd.concat([\n",
    "  ordersByUsersA[ordersByUsersA['orders'] > orders_percentile],\n",
    "  ordersByUsersB[ordersByUsersB['orders'] > orders_percentile]\n",
    "], axis=0)\n",
    "\n",
    "# Определение 99-го перцентиля по выручке\n",
    "revenue_percentile = np.percentile(orders['revenue'], 99)\n",
    "\n",
    "# Выбор пользователей с дорогой покупкой\n",
    "usersWithExpensiveOrders = orders[orders['revenue'] > revenue_percentile]\n",
    "\n",
    "# Объединение и удаление дубликатов\n",
    "abnormalUsers = (\n",
    "  pd.concat([usersWithManyOrders, usersWithExpensiveOrders], axis=0)\n",
    "  .drop_duplicates()\n",
    "  .sort_values(by='visitor_id')\n",
    ")\n",
    "\n",
    "display(abnormalUsers.head())\n",
    "print()\n",
    "print('Количество аномальных пользователей:',abnormalUsers.shape[0])"
   ]
  },
  {
   "cell_type": "markdown",
   "metadata": {},
   "source": [
    "- Всего 16 пользователей, совершивших покупку дороже 53904 и более 2 раз."
   ]
  },
  {
   "cell_type": "code",
   "execution_count": 32,
   "metadata": {},
   "outputs": [
    {
     "name": "stdout",
     "output_type": "stream",
     "text": [
      "Значение P-value: 0.011\n",
      "Разница между группами В и А: 0.160\n"
     ]
    }
   ],
   "source": [
    "# отфильтруем данные по аномальным пользователям\n",
    "\n",
    "sampleAFiltered = pd.concat(\n",
    "    [\n",
    "        ordersByUsersA[\n",
    "            np.logical_not(ordersByUsersA['visitor_id'].isin(abnormalUsers))\n",
    "        ]['orders'],\n",
    "        pd.Series(\n",
    "            0,\n",
    "            index=np.arange(\n",
    "                visitors[visitors['group'] == 'A']['visitors'].sum() - len(ordersByUsersA['orders'])\n",
    "            ),\n",
    "            name='orders',\n",
    "        ),\n",
    "    ],\n",
    "    axis=0,\n",
    ")\n",
    "\n",
    "sampleBFiltered = pd.concat(\n",
    "    [\n",
    "        ordersByUsersB[\n",
    "            np.logical_not(ordersByUsersB['visitor_id'].isin(abnormalUsers))\n",
    "        ]['orders'],\n",
    "        pd.Series(\n",
    "            0,\n",
    "            index=np.arange(\n",
    "                visitors[visitors['group'] == 'B']['visitors'].sum() - len(ordersByUsersB['orders'])\n",
    "            ),\n",
    "            name='orders',\n",
    "        ),\n",
    "    ],\n",
    "    axis=0,\n",
    ")\n",
    "\n",
    "# посчитаем по чистым данным\n",
    "\n",
    "print('Значение P-value:', '{0:.3f}'.format(stats.mannwhitneyu(sampleAFiltered, sampleBFiltered)[1]))\n",
    "print('Разница между группами В и А:','{0:.3f}'.format(sampleBFiltered.mean()/sampleAFiltered.mean()-1))"
   ]
  },
  {
   "cell_type": "markdown",
   "metadata": {},
   "source": [
    "**Вывод:**\n",
    "\n",
    "- На имеющихся данных, на уровне значимости 5% (уровне доверия 95%) есть основания отвергнуть нулевую гипотезу в пользу альтернативы.\n",
    "\n",
    "- Различия в среднем количестве заказов на посетителя между группами есть;\n",
    "\n",
    "- Среднее количество заказов на посетителя в группе В выше на 16,0 %."
   ]
  },
  {
   "cell_type": "markdown",
   "metadata": {},
   "source": [
    "# Подсчет статистической значимости различий в среднем чеке заказа между группами по «очищенным» данным"
   ]
  },
  {
   "cell_type": "code",
   "execution_count": 33,
   "metadata": {},
   "outputs": [
    {
     "name": "stdout",
     "output_type": "stream",
     "text": [
      "Значение P-value: 0.829\n",
      "Разница между группами B и А: 0.287\n"
     ]
    }
   ],
   "source": [
    "print('Значение P-value:',\n",
    "    '{0:.3f}'.format(\n",
    "        stats.mannwhitneyu(\n",
    "            orders[\n",
    "                np.logical_and(\n",
    "                    orders['group'] == 'A',\n",
    "                    np.logical_not(orders['visitor_id'].isin(abnormalUsers)),\n",
    "                )\n",
    "            ]['revenue'],\n",
    "            orders[\n",
    "                np.logical_and(\n",
    "                    orders['group'] == 'B',\n",
    "                    np.logical_not(orders['visitor_id'].isin(abnormalUsers)),\n",
    "                )\n",
    "            ]['revenue'],\n",
    "        )[1]\n",
    "    )\n",
    ")\n",
    "\n",
    "print('Разница между группами B и А:',\n",
    "    \"{0:.3f}\".format(\n",
    "        orders[\n",
    "            np.logical_and(\n",
    "                orders['group'] == 'B',\n",
    "                np.logical_not(orders['visitor_id'].isin(abnormalUsers)),\n",
    "            )\n",
    "        ]['revenue'].mean()\n",
    "        / orders[\n",
    "            np.logical_and(\n",
    "                orders['group'] == 'A',\n",
    "                np.logical_not(orders['visitor_id'].isin(abnormalUsers)),\n",
    "            )\n",
    "        ]['revenue'].mean()\n",
    "        - 1\n",
    "    )\n",
    ")"
   ]
  },
  {
   "cell_type": "markdown",
   "metadata": {},
   "source": [
    "**Вывод:**\n",
    "\n",
    "- На имеющихся данных, на уровне значимости 5% (уровне доверия 95%) нет оснований отвергнуть нулевую гипотезу в пользу альтернативы.\n",
    "\n",
    "- Различий в среднем чеке заказа между группами нет;\n",
    "\n",
    "- Разница среднего чека группы В больше среднего чека группы А на 28,7 %."
   ]
  },
  {
   "cell_type": "markdown",
   "metadata": {},
   "source": [
    "# Решение по результатам теста"
   ]
  },
  {
   "cell_type": "markdown",
   "metadata": {},
   "source": [
    "***По результатам теста можно принять одно из вариантов решений:***\n",
    "\n",
    "- остановить тест, зафиксировать победу одной из групп;\n",
    "\n",
    "- остановить тест, зафиксировать отсутствие различий между группами;\n",
    "\n",
    "- продолжить тест.\n",
    "\n",
    "---\n",
    "\n",
    "***Результаты тестирования***\n",
    "\n",
    "1. Среднее количество заказов на посетителя между группами:\n",
    "\n",
    "   - есть статистически значимые различия в среднем количестве заказов на посетителя между группами по «сырым» и отфильтрованным данным;\n",
    "   - группа В лидирует в обоих случаях.\n",
    "   \n",
    "   \n",
    "2. Различие в среднем чеке заказа между группами:\n",
    "\n",
    "    - нет статистически значимого различия в среднем чеке заказа между группами по «сырым» и отфильтрованным данным.\n",
    "    \n",
    "    \n",
    "---\n",
    "\n",
    "***Решение по результатам теста***\n",
    "\n",
    "**Остановить тест, зафиксировать победу группы В.**\n",
    "\n",
    "- Хотя тест не выявил статистически значимых различий в среднем чеке, увеличение количества заказов, даже с сохранением текущего среднего чека, потенциально приведет к значительному росту выручки. \n"
   ]
  },
  {
   "cell_type": "markdown",
   "metadata": {},
   "source": [
    "**Выводы по 3 разделу:**\n",
    "\n",
    "- Построен график кумулятивной выручки по группам:\n",
    "  \n",
    "   - группа В лидирует на протяжении всего теста;\n",
    "\n",
    "    - 18-19 августа в группе В произошел резкий скачек. На это может быть две причины: либо в данные попал аномально дорогой заказ, либо в эти дни было много заказов.\n",
    "    \n",
    "---\n",
    "- Построен график кумулятивного среднего чека по группам:\n",
    "\n",
    "    - в первой половине теста графики ведут себя нестабильно;\n",
    "\n",
    "    - средний чек для группы B после 18 августа резко пошёл вверх. Для группы A такого резкого взлёта не было. Резкий взлет для B мог быть связан с крупными заказами;\n",
    "\n",
    "    - к концу тестирования у группы А есть тенденция к росту, а у группы В к снижению.\n",
    "    \n",
    "---\n",
    "- Построен график относительного изменения кумулятивного среднего чека группы B к группе A:\n",
    "\n",
    "    - Резкий скачок после 18 августа для группы В сохранился, значит действительно имеет место аномально крупный заказ.\n",
    "    \n",
    "---\n",
    "- Построен график кумулятивного среднего количества заказов на посетителя по группам:\n",
    "\n",
    "   - В первые дни наблюдается колебание конверсии, и группа А лидирует по сравнению с группой В;\n",
    "\n",
    "    - В последующие дни группа В вырывается вперед и стабилизируется, группа А просела и так же стабилизировалась.\n",
    "    \n",
    "---\n",
    "- Построен график относительного изменения кумулятивного среднего количества заказов на посетителя группы B к группе A:\n",
    "\n",
    "    - В первые дни конверсия группы В была нестабильной и проигрывала группе А;\n",
    "\n",
    "    - Начиная с 6 дня теста группа В вырывается вперед: прирост по сравнению с группой А превышает 20 %, затем немного снижается и к концу теста стабилизируется в районе 15 %.\n",
    "    \n",
    "--- \n",
    "- Построен точечный график количества заказов по пользователям:\n",
    "\n",
    "    - Большее количество пользователей сделали 1 заказ;\n",
    "\n",
    "    - Два заказа сделали намного меньше пользователей;\n",
    "\n",
    "    - Три заказа - всего семь пользователей. \n",
    "    \n",
    "---\n",
    "- Расчитан 95-й и 99-й перцентили количества заказов на пользователя:\n",
    "\n",
    "    - не более 5 % пользователей сделали заказ более 1 раза;\n",
    "\n",
    "    - и не более 1 % пользователей сделали заказ более 2 раз;\n",
    "\n",
    "    - значит заказы, совершенные более 2 раз на пользователя, будем считать выбросами.\n",
    "    \n",
    "---\n",
    "- Построен точечный график стоимостей заказов:\n",
    "\n",
    "    - на первом графике есть выбросы: заказ стоимостью 200 000 и 1 200 000;\n",
    "\n",
    "    - на втором графике видно, что основная масса заказов находится в диапазоне до 20 000.\n",
    "    \n",
    "---\n",
    "- Расчитан 95-й и 99-й перцентили стоимости заказов. Выбрана граница для определения аномальных заказов:\n",
    "\n",
    "    - не более 5 % пользователей сделали заказ на сумму более 26785;\n",
    "\n",
    "    - и не более 1 % пользователей сделали заказ на сумму более 53904;\n",
    "\n",
    "    - примем значение аномальных заказов стоимостью выше 53904.\n",
    "    \n",
    "---\n",
    "- Посчитана статистическая значимость различий в среднем количестве заказов на посетителя между группами по «сырым» данным:\n",
    "\n",
    "   - На имеющихся данных, на уровне значимости 5% (уровне доверия 95%) есть основания отвергнуть нулевую гипотезу в пользу альтернативы.\n",
    "\n",
    "    - Различия в среднем количестве заказов на посетителя между группами есть;\n",
    "\n",
    "    - Среднее количество заказов на посетителя в группе В выше на 16 %.\n",
    "    \n",
    "---\n",
    "- Посчитана статистическая значимость различий в среднем чеке заказа между группами по «сырым» данным:\n",
    "\n",
    "    - На имеющихся данных, на уровне значимости 5% (уровне доверия 95%) нет оснований отвергнуть нулевую гипотезу в пользу альтернативы.\n",
    "\n",
    "    - Различий в среднем чеке заказа между группами нет;\n",
    "\n",
    "    - Однако разница среднего чека группы В к А равна 28,7 %.\n",
    "    \n",
    "---\n",
    "- Посчитана статистическая значимость различий в среднем количестве заказов на посетителя между группами по «очищенным» данным:\n",
    "\n",
    "    - На имеющихся данных, на уровне значимости 5% (уровне доверия 95%) есть основания отвергнуть нулевую гипотезу в пользу альтернативы.\n",
    "\n",
    "    - Различия в среднем количестве заказов на посетителя между группами есть;\n",
    "\n",
    "    - Среднее количество заказов на посетителя в группе В выше на 16,0 %.\n",
    "    \n",
    "---\n",
    "- Посчитана статистическая значимость различий в среднем чеке заказа между группами по «очищенным» данным:\n",
    "\n",
    "    - На имеющихся данных, на уровне значимости 5% (уровне доверия 95%) нет оснований отвергнуть нулевую гипотезу в пользу альтернативы.\n",
    "\n",
    "    - Различий в среднем чеке заказа между группами нет;\n",
    "\n",
    "    - Разница среднего чека группы В больше среднего чека группы А на 28,7 %.\n",
    "    \n",
    "---\n",
    "- Принято решение по результатам теста:\n",
    "\n",
    "    - Остановить тест, зафиксировать победу группы В.\n",
    "\n",
    "    - Хотя тест не выявил статистически значимых различий в среднем чеке, увеличение количества заказов, даже с сохранением текущего среднего чека, потенциально приведет к значительному росту выручки."
   ]
  },
  {
   "cell_type": "markdown",
   "metadata": {},
   "source": [
    "# Общий вывод"
   ]
  },
  {
   "cell_type": "markdown",
   "metadata": {},
   "source": [
    "**В ходе анализ А-В теста и приоритизации гипотез для увеличения выручки интернет-магазина были выполнены следующие этапы и сделаны выводы:**\n",
    "\n",
    "--- \n",
    "**Загрузка данных и подготовка их к анализу:**\n",
    "\n",
    "- Данные были изучены и подготовлены к дальнейшему исследованию:\n",
    "\n",
    "- Была проведена проверка на пропуски, пропуски отсутствуют;\n",
    "\n",
    "- Название столбцов приведено к \"snake_case\".\n",
    "\n",
    "- Изменили тип данных колоннок с датами на соответствующий;\n",
    "\n",
    "- Провели проверку на явные дубликаты - явных дубликатов не обнаружено;\n",
    "\n",
    "- Из датасета orders удалили id покупателей, которые попали в обе группы теста.\n",
    "\n",
    "---\n",
    "**Приоритизация гипотез:**\n",
    "\n",
    "Топ-гипотез для последующих экспериментов:\n",
    "\n",
    "- добавить два новых канала привлечения трафика, что позволит привлекать на 30% больше пользователей;\n",
    "- добавить форму подписки на все основные страницы, чтобы собрать базу клиентов для email-рассылок.\n",
    "\n",
    "---\n",
    "\n",
    "**Анализ результатов A/B-теста:**\n",
    "\n",
    "- По среднему количеству заказов группа В теста показала лучший результат, чем группа А. \n",
    "\n",
    "- Тест можно признать успешным. "
   ]
  }
 ],
 "metadata": {
  "ExecuteTimeLog": [
   {
    "duration": 778,
    "start_time": "2024-11-03T13:49:28.562Z"
   },
   {
    "duration": 3,
    "start_time": "2024-11-03T13:53:55.692Z"
   },
   {
    "duration": 299,
    "start_time": "2024-11-03T13:54:44.127Z"
   },
   {
    "duration": 46,
    "start_time": "2024-11-03T13:55:25.889Z"
   },
   {
    "duration": 7,
    "start_time": "2024-11-03T14:03:47.410Z"
   },
   {
    "duration": 27,
    "start_time": "2024-11-03T14:05:26.327Z"
   },
   {
    "duration": 4,
    "start_time": "2024-11-03T14:10:29.561Z"
   },
   {
    "duration": 40,
    "start_time": "2024-11-03T14:10:53.261Z"
   },
   {
    "duration": 3,
    "start_time": "2024-11-03T14:11:17.094Z"
   },
   {
    "duration": 656,
    "start_time": "2024-11-03T14:11:29.894Z"
   },
   {
    "duration": 78,
    "start_time": "2024-11-03T14:11:30.552Z"
   },
   {
    "duration": 42,
    "start_time": "2024-11-03T14:11:30.632Z"
   },
   {
    "duration": 6,
    "start_time": "2024-11-03T14:11:30.676Z"
   },
   {
    "duration": 34,
    "start_time": "2024-11-03T14:11:30.683Z"
   },
   {
    "duration": 60,
    "start_time": "2024-11-03T14:11:30.718Z"
   },
   {
    "duration": 4,
    "start_time": "2024-11-03T14:12:28.634Z"
   },
   {
    "duration": 4,
    "start_time": "2024-11-03T14:12:57.561Z"
   },
   {
    "duration": 39,
    "start_time": "2024-11-03T14:13:02.400Z"
   },
   {
    "duration": 39,
    "start_time": "2024-11-03T14:14:28.507Z"
   },
   {
    "duration": 8,
    "start_time": "2024-11-03T14:20:29.049Z"
   },
   {
    "duration": 70,
    "start_time": "2024-11-03T14:29:20.875Z"
   },
   {
    "duration": 10,
    "start_time": "2024-11-03T14:30:39.289Z"
   },
   {
    "duration": 8,
    "start_time": "2024-11-03T14:31:27.853Z"
   },
   {
    "duration": 4,
    "start_time": "2024-11-03T14:34:50.111Z"
   },
   {
    "duration": 9,
    "start_time": "2024-11-03T14:37:13.669Z"
   },
   {
    "duration": 8,
    "start_time": "2024-11-03T14:37:22.498Z"
   },
   {
    "duration": 7,
    "start_time": "2024-11-03T14:38:34.643Z"
   },
   {
    "duration": 721,
    "start_time": "2024-11-03T14:38:50.994Z"
   },
   {
    "duration": 79,
    "start_time": "2024-11-03T14:38:51.717Z"
   },
   {
    "duration": 42,
    "start_time": "2024-11-03T14:38:51.798Z"
   },
   {
    "duration": 6,
    "start_time": "2024-11-03T14:38:51.841Z"
   },
   {
    "duration": 73,
    "start_time": "2024-11-03T14:38:51.849Z"
   },
   {
    "duration": 1110,
    "start_time": "2024-11-03T14:38:51.923Z"
   },
   {
    "duration": 0,
    "start_time": "2024-11-03T14:38:53.034Z"
   },
   {
    "duration": 0,
    "start_time": "2024-11-03T14:38:53.035Z"
   },
   {
    "duration": 40,
    "start_time": "2024-11-03T14:39:57.699Z"
   },
   {
    "duration": 41,
    "start_time": "2024-11-03T14:46:51.818Z"
   },
   {
    "duration": 39,
    "start_time": "2024-11-03T14:48:43.598Z"
   },
   {
    "duration": 40,
    "start_time": "2024-11-03T14:49:38.996Z"
   },
   {
    "duration": 37,
    "start_time": "2024-11-03T14:53:25.706Z"
   },
   {
    "duration": 590,
    "start_time": "2024-11-03T14:53:54.035Z"
   },
   {
    "duration": 79,
    "start_time": "2024-11-03T14:53:54.627Z"
   },
   {
    "duration": 42,
    "start_time": "2024-11-03T14:53:54.708Z"
   },
   {
    "duration": 6,
    "start_time": "2024-11-03T14:53:54.751Z"
   },
   {
    "duration": 62,
    "start_time": "2024-11-03T14:53:54.758Z"
   },
   {
    "duration": 6,
    "start_time": "2024-11-03T14:53:54.822Z"
   },
   {
    "duration": 11,
    "start_time": "2024-11-03T14:53:54.830Z"
   },
   {
    "duration": 8,
    "start_time": "2024-11-03T14:53:54.842Z"
   },
   {
    "duration": 634,
    "start_time": "2024-11-03T15:10:37.920Z"
   },
   {
    "duration": 78,
    "start_time": "2024-11-03T15:10:38.556Z"
   },
   {
    "duration": 50,
    "start_time": "2024-11-03T15:10:38.636Z"
   },
   {
    "duration": 6,
    "start_time": "2024-11-03T15:10:38.688Z"
   },
   {
    "duration": 43,
    "start_time": "2024-11-03T15:10:38.695Z"
   },
   {
    "duration": 7,
    "start_time": "2024-11-03T15:10:38.740Z"
   },
   {
    "duration": 30,
    "start_time": "2024-11-03T15:10:38.748Z"
   },
   {
    "duration": 9,
    "start_time": "2024-11-03T15:10:38.779Z"
   },
   {
    "duration": 602,
    "start_time": "2024-11-03T15:12:37.648Z"
   },
   {
    "duration": 79,
    "start_time": "2024-11-03T15:12:38.253Z"
   },
   {
    "duration": 44,
    "start_time": "2024-11-03T15:12:38.334Z"
   },
   {
    "duration": 6,
    "start_time": "2024-11-03T15:12:38.380Z"
   },
   {
    "duration": 40,
    "start_time": "2024-11-03T15:12:38.387Z"
   },
   {
    "duration": 6,
    "start_time": "2024-11-03T15:12:38.429Z"
   },
   {
    "duration": 19,
    "start_time": "2024-11-03T15:12:38.437Z"
   },
   {
    "duration": 8,
    "start_time": "2024-11-03T15:12:38.458Z"
   },
   {
    "duration": 640,
    "start_time": "2024-11-03T15:15:31.140Z"
   },
   {
    "duration": 79,
    "start_time": "2024-11-03T15:15:31.782Z"
   },
   {
    "duration": 43,
    "start_time": "2024-11-03T15:15:31.862Z"
   },
   {
    "duration": 5,
    "start_time": "2024-11-03T15:15:31.907Z"
   },
   {
    "duration": 57,
    "start_time": "2024-11-03T15:15:31.914Z"
   },
   {
    "duration": 7,
    "start_time": "2024-11-03T15:15:31.972Z"
   },
   {
    "duration": 35,
    "start_time": "2024-11-03T15:15:31.980Z"
   },
   {
    "duration": 16,
    "start_time": "2024-11-03T15:15:32.017Z"
   },
   {
    "duration": 6,
    "start_time": "2024-11-03T15:15:57.117Z"
   },
   {
    "duration": 77,
    "start_time": "2024-11-03T16:18:58.552Z"
   },
   {
    "duration": 1036,
    "start_time": "2024-11-03T16:19:44.835Z"
   },
   {
    "duration": 647,
    "start_time": "2024-11-03T16:20:13.402Z"
   },
   {
    "duration": 79,
    "start_time": "2024-11-03T16:20:14.051Z"
   },
   {
    "duration": 50,
    "start_time": "2024-11-03T16:20:14.132Z"
   },
   {
    "duration": 6,
    "start_time": "2024-11-03T16:20:14.184Z"
   },
   {
    "duration": 51,
    "start_time": "2024-11-03T16:20:14.192Z"
   },
   {
    "duration": 7,
    "start_time": "2024-11-03T16:20:14.245Z"
   },
   {
    "duration": 10,
    "start_time": "2024-11-03T16:20:14.253Z"
   },
   {
    "duration": 37,
    "start_time": "2024-11-03T16:20:14.264Z"
   },
   {
    "duration": 1274,
    "start_time": "2024-11-03T16:20:14.303Z"
   },
   {
    "duration": 653,
    "start_time": "2024-11-03T16:22:36.291Z"
   },
   {
    "duration": 79,
    "start_time": "2024-11-03T16:22:36.946Z"
   },
   {
    "duration": 46,
    "start_time": "2024-11-03T16:22:37.027Z"
   },
   {
    "duration": 8,
    "start_time": "2024-11-03T16:22:37.075Z"
   },
   {
    "duration": 52,
    "start_time": "2024-11-03T16:22:37.085Z"
   },
   {
    "duration": 7,
    "start_time": "2024-11-03T16:22:37.139Z"
   },
   {
    "duration": 29,
    "start_time": "2024-11-03T16:22:37.147Z"
   },
   {
    "duration": 21,
    "start_time": "2024-11-03T16:22:37.178Z"
   },
   {
    "duration": 30,
    "start_time": "2024-11-03T16:22:37.201Z"
   },
   {
    "duration": 10,
    "start_time": "2024-11-03T16:24:45.610Z"
   },
   {
    "duration": 65,
    "start_time": "2024-11-03T16:26:07.435Z"
   },
   {
    "duration": 63,
    "start_time": "2024-11-03T16:26:30.491Z"
   },
   {
    "duration": 11,
    "start_time": "2024-11-03T16:28:03.021Z"
   },
   {
    "duration": 11,
    "start_time": "2024-11-03T16:29:31.487Z"
   },
   {
    "duration": 11,
    "start_time": "2024-11-03T16:29:49.911Z"
   },
   {
    "duration": 11,
    "start_time": "2024-11-03T16:44:09.831Z"
   },
   {
    "duration": 17,
    "start_time": "2024-11-03T16:47:46.360Z"
   },
   {
    "duration": 13,
    "start_time": "2024-11-03T16:48:14.783Z"
   },
   {
    "duration": 645,
    "start_time": "2024-11-03T16:48:40.050Z"
   },
   {
    "duration": 79,
    "start_time": "2024-11-03T16:48:40.697Z"
   },
   {
    "duration": 46,
    "start_time": "2024-11-03T16:48:40.777Z"
   },
   {
    "duration": 7,
    "start_time": "2024-11-03T16:48:40.825Z"
   },
   {
    "duration": 76,
    "start_time": "2024-11-03T16:48:40.833Z"
   },
   {
    "duration": 8,
    "start_time": "2024-11-03T16:48:40.911Z"
   },
   {
    "duration": 18,
    "start_time": "2024-11-03T16:48:40.920Z"
   },
   {
    "duration": 6,
    "start_time": "2024-11-03T16:48:40.940Z"
   },
   {
    "duration": 19,
    "start_time": "2024-11-03T16:48:40.948Z"
   },
   {
    "duration": 12,
    "start_time": "2024-11-03T16:48:40.969Z"
   },
   {
    "duration": 15,
    "start_time": "2024-11-03T16:48:41.000Z"
   },
   {
    "duration": 11,
    "start_time": "2024-11-03T17:01:03.717Z"
   },
   {
    "duration": 11,
    "start_time": "2024-11-03T17:07:12.297Z"
   },
   {
    "duration": 681,
    "start_time": "2024-11-03T17:09:03.672Z"
   },
   {
    "duration": 78,
    "start_time": "2024-11-03T17:09:04.355Z"
   },
   {
    "duration": 48,
    "start_time": "2024-11-03T17:09:04.435Z"
   },
   {
    "duration": 6,
    "start_time": "2024-11-03T17:09:04.486Z"
   },
   {
    "duration": 61,
    "start_time": "2024-11-03T17:09:04.493Z"
   },
   {
    "duration": 7,
    "start_time": "2024-11-03T17:09:04.556Z"
   },
   {
    "duration": 32,
    "start_time": "2024-11-03T17:09:04.564Z"
   },
   {
    "duration": 22,
    "start_time": "2024-11-03T17:09:04.598Z"
   },
   {
    "duration": 32,
    "start_time": "2024-11-03T17:09:04.621Z"
   },
   {
    "duration": 14,
    "start_time": "2024-11-03T17:09:04.655Z"
   },
   {
    "duration": 15,
    "start_time": "2024-11-03T17:09:04.670Z"
   },
   {
    "duration": 70,
    "start_time": "2024-11-03T18:00:24.633Z"
   },
   {
    "duration": 5,
    "start_time": "2024-11-03T18:00:35.119Z"
   },
   {
    "duration": 77,
    "start_time": "2024-11-03T18:07:55.772Z"
   },
   {
    "duration": 25,
    "start_time": "2024-11-03T18:08:53.793Z"
   },
   {
    "duration": 21,
    "start_time": "2024-11-03T18:09:28.009Z"
   },
   {
    "duration": 13,
    "start_time": "2024-11-03T18:09:59.640Z"
   },
   {
    "duration": 19,
    "start_time": "2024-11-03T18:11:36.139Z"
   },
   {
    "duration": 157,
    "start_time": "2024-11-03T18:13:45.432Z"
   },
   {
    "duration": 7,
    "start_time": "2024-11-03T18:14:37.798Z"
   },
   {
    "duration": 114,
    "start_time": "2024-11-03T18:18:17.190Z"
   },
   {
    "duration": 13,
    "start_time": "2024-11-03T18:19:30.387Z"
   },
   {
    "duration": 325,
    "start_time": "2024-11-03T18:21:28.566Z"
   },
   {
    "duration": 207,
    "start_time": "2024-11-03T18:22:48.073Z"
   },
   {
    "duration": 184,
    "start_time": "2024-11-03T18:27:08.706Z"
   },
   {
    "duration": 267,
    "start_time": "2024-11-03T18:27:28.899Z"
   },
   {
    "duration": 227,
    "start_time": "2024-11-03T18:28:06.699Z"
   },
   {
    "duration": 229,
    "start_time": "2024-11-03T18:29:27.632Z"
   },
   {
    "duration": 235,
    "start_time": "2024-11-03T18:29:37.997Z"
   },
   {
    "duration": 248,
    "start_time": "2024-11-03T18:35:25.578Z"
   },
   {
    "duration": 206,
    "start_time": "2024-11-03T18:41:54.449Z"
   },
   {
    "duration": 307,
    "start_time": "2024-11-03T18:42:23.899Z"
   },
   {
    "duration": 230,
    "start_time": "2024-11-03T18:43:16.319Z"
   },
   {
    "duration": 263,
    "start_time": "2024-11-03T18:45:24.375Z"
   },
   {
    "duration": 241,
    "start_time": "2024-11-03T18:45:43.476Z"
   },
   {
    "duration": 331,
    "start_time": "2024-11-03T18:55:34.485Z"
   },
   {
    "duration": 408,
    "start_time": "2024-11-03T18:56:28.406Z"
   },
   {
    "duration": 800,
    "start_time": "2024-11-04T13:32:45.306Z"
   },
   {
    "duration": 231,
    "start_time": "2024-11-04T13:32:46.108Z"
   },
   {
    "duration": 51,
    "start_time": "2024-11-04T13:32:46.340Z"
   },
   {
    "duration": 6,
    "start_time": "2024-11-04T13:32:46.393Z"
   },
   {
    "duration": 71,
    "start_time": "2024-11-04T13:32:46.400Z"
   },
   {
    "duration": 7,
    "start_time": "2024-11-04T13:32:46.472Z"
   },
   {
    "duration": 24,
    "start_time": "2024-11-04T13:32:46.481Z"
   },
   {
    "duration": 6,
    "start_time": "2024-11-04T13:32:46.507Z"
   },
   {
    "duration": 56,
    "start_time": "2024-11-04T13:32:46.514Z"
   },
   {
    "duration": 19,
    "start_time": "2024-11-04T13:32:46.573Z"
   },
   {
    "duration": 33,
    "start_time": "2024-11-04T13:32:46.594Z"
   },
   {
    "duration": 64,
    "start_time": "2024-11-04T13:32:46.629Z"
   },
   {
    "duration": 195,
    "start_time": "2024-11-04T13:32:46.695Z"
   },
   {
    "duration": 140,
    "start_time": "2024-11-04T13:32:46.892Z"
   },
   {
    "duration": 19,
    "start_time": "2024-11-04T13:32:47.034Z"
   },
   {
    "duration": 363,
    "start_time": "2024-11-04T13:32:47.054Z"
   },
   {
    "duration": 259,
    "start_time": "2024-11-04T13:32:47.419Z"
   },
   {
    "duration": 356,
    "start_time": "2024-11-04T13:32:47.680Z"
   },
   {
    "duration": 337,
    "start_time": "2024-11-04T13:32:48.042Z"
   },
   {
    "duration": 310,
    "start_time": "2024-11-04T13:35:46.600Z"
   },
   {
    "duration": 290,
    "start_time": "2024-11-04T13:36:09.186Z"
   },
   {
    "duration": 327,
    "start_time": "2024-11-04T13:47:18.365Z"
   },
   {
    "duration": 329,
    "start_time": "2024-11-04T13:51:23.900Z"
   },
   {
    "duration": 380,
    "start_time": "2024-11-04T13:51:35.109Z"
   },
   {
    "duration": 335,
    "start_time": "2024-11-04T13:53:43.663Z"
   },
   {
    "duration": 77,
    "start_time": "2024-11-04T14:02:49.686Z"
   },
   {
    "duration": 14,
    "start_time": "2024-11-04T14:03:15.875Z"
   },
   {
    "duration": 10,
    "start_time": "2024-11-04T14:04:11.230Z"
   },
   {
    "duration": 10,
    "start_time": "2024-11-04T14:04:43.479Z"
   },
   {
    "duration": 164,
    "start_time": "2024-11-04T14:08:15.588Z"
   },
   {
    "duration": 153,
    "start_time": "2024-11-04T14:08:59.579Z"
   },
   {
    "duration": 159,
    "start_time": "2024-11-04T14:11:46.430Z"
   },
   {
    "duration": 8,
    "start_time": "2024-11-04T14:18:58.552Z"
   },
   {
    "duration": 152,
    "start_time": "2024-11-04T14:34:11.371Z"
   },
   {
    "duration": 488,
    "start_time": "2024-11-04T14:40:00.872Z"
   },
   {
    "duration": 1180,
    "start_time": "2024-11-04T14:40:08.314Z"
   },
   {
    "duration": 77,
    "start_time": "2024-11-04T14:40:09.496Z"
   },
   {
    "duration": 44,
    "start_time": "2024-11-04T14:40:09.575Z"
   },
   {
    "duration": 5,
    "start_time": "2024-11-04T14:40:09.621Z"
   },
   {
    "duration": 59,
    "start_time": "2024-11-04T14:40:09.628Z"
   },
   {
    "duration": 8,
    "start_time": "2024-11-04T14:40:09.688Z"
   },
   {
    "duration": 32,
    "start_time": "2024-11-04T14:40:09.698Z"
   },
   {
    "duration": 13,
    "start_time": "2024-11-04T14:40:09.732Z"
   },
   {
    "duration": 19,
    "start_time": "2024-11-04T14:40:09.747Z"
   },
   {
    "duration": 18,
    "start_time": "2024-11-04T14:40:09.768Z"
   },
   {
    "duration": 106,
    "start_time": "2024-11-04T14:40:09.788Z"
   },
   {
    "duration": 41,
    "start_time": "2024-11-04T14:40:09.896Z"
   },
   {
    "duration": 190,
    "start_time": "2024-11-04T14:40:09.939Z"
   },
   {
    "duration": 116,
    "start_time": "2024-11-04T14:40:10.131Z"
   },
   {
    "duration": 12,
    "start_time": "2024-11-04T14:40:10.249Z"
   },
   {
    "duration": 350,
    "start_time": "2024-11-04T14:40:10.263Z"
   },
   {
    "duration": 290,
    "start_time": "2024-11-04T14:40:10.615Z"
   },
   {
    "duration": 359,
    "start_time": "2024-11-04T14:40:10.906Z"
   },
   {
    "duration": 247,
    "start_time": "2024-11-04T14:40:11.267Z"
   },
   {
    "duration": 351,
    "start_time": "2024-11-04T14:40:11.515Z"
   },
   {
    "duration": 12,
    "start_time": "2024-11-04T14:40:11.868Z"
   },
   {
    "duration": 166,
    "start_time": "2024-11-04T14:40:11.881Z"
   },
   {
    "duration": 6,
    "start_time": "2024-11-04T14:40:12.048Z"
   },
   {
    "duration": 175,
    "start_time": "2024-11-04T14:40:12.055Z"
   },
   {
    "duration": 155,
    "start_time": "2024-11-04T14:40:44.519Z"
   },
   {
    "duration": 225,
    "start_time": "2024-11-04T14:40:58.513Z"
   },
   {
    "duration": 5,
    "start_time": "2024-11-04T14:44:24.938Z"
   },
   {
    "duration": 5,
    "start_time": "2024-11-04T14:45:59.218Z"
   },
   {
    "duration": 102,
    "start_time": "2024-11-04T15:08:02.899Z"
   },
   {
    "duration": 278,
    "start_time": "2024-11-04T15:10:09.482Z"
   },
   {
    "duration": 255,
    "start_time": "2024-11-04T15:39:38.225Z"
   },
   {
    "duration": 1134,
    "start_time": "2024-11-04T15:39:53.662Z"
   },
   {
    "duration": 77,
    "start_time": "2024-11-04T15:39:54.798Z"
   },
   {
    "duration": 46,
    "start_time": "2024-11-04T15:39:54.876Z"
   },
   {
    "duration": 6,
    "start_time": "2024-11-04T15:39:54.924Z"
   },
   {
    "duration": 59,
    "start_time": "2024-11-04T15:39:54.931Z"
   },
   {
    "duration": 6,
    "start_time": "2024-11-04T15:39:54.991Z"
   },
   {
    "duration": 38,
    "start_time": "2024-11-04T15:39:54.999Z"
   },
   {
    "duration": 8,
    "start_time": "2024-11-04T15:39:55.038Z"
   },
   {
    "duration": 17,
    "start_time": "2024-11-04T15:39:55.048Z"
   },
   {
    "duration": 75,
    "start_time": "2024-11-04T15:39:55.069Z"
   },
   {
    "duration": 27,
    "start_time": "2024-11-04T15:39:55.145Z"
   },
   {
    "duration": 31,
    "start_time": "2024-11-04T15:39:55.174Z"
   },
   {
    "duration": 170,
    "start_time": "2024-11-04T15:39:55.207Z"
   },
   {
    "duration": 134,
    "start_time": "2024-11-04T15:39:55.379Z"
   },
   {
    "duration": 12,
    "start_time": "2024-11-04T15:39:55.515Z"
   },
   {
    "duration": 338,
    "start_time": "2024-11-04T15:39:55.529Z"
   },
   {
    "duration": 252,
    "start_time": "2024-11-04T15:39:55.869Z"
   },
   {
    "duration": 338,
    "start_time": "2024-11-04T15:39:56.123Z"
   },
   {
    "duration": 262,
    "start_time": "2024-11-04T15:39:56.463Z"
   },
   {
    "duration": 396,
    "start_time": "2024-11-04T15:39:56.726Z"
   },
   {
    "duration": 20,
    "start_time": "2024-11-04T15:39:57.124Z"
   },
   {
    "duration": 170,
    "start_time": "2024-11-04T15:39:57.145Z"
   },
   {
    "duration": 5,
    "start_time": "2024-11-04T15:39:57.316Z"
   },
   {
    "duration": 150,
    "start_time": "2024-11-04T15:39:57.322Z"
   },
   {
    "duration": 4,
    "start_time": "2024-11-04T15:39:57.474Z"
   },
   {
    "duration": 272,
    "start_time": "2024-11-04T15:39:57.480Z"
   },
   {
    "duration": 14,
    "start_time": "2024-11-04T15:50:02.568Z"
   },
   {
    "duration": 190,
    "start_time": "2024-11-04T15:58:07.344Z"
   },
   {
    "duration": 230,
    "start_time": "2024-11-04T15:59:09.494Z"
   },
   {
    "duration": 1192,
    "start_time": "2024-11-04T15:59:24.517Z"
   },
   {
    "duration": 76,
    "start_time": "2024-11-04T15:59:25.711Z"
   },
   {
    "duration": 45,
    "start_time": "2024-11-04T15:59:25.789Z"
   },
   {
    "duration": 6,
    "start_time": "2024-11-04T15:59:25.835Z"
   },
   {
    "duration": 45,
    "start_time": "2024-11-04T15:59:25.844Z"
   },
   {
    "duration": 7,
    "start_time": "2024-11-04T15:59:25.890Z"
   },
   {
    "duration": 35,
    "start_time": "2024-11-04T15:59:25.899Z"
   },
   {
    "duration": 36,
    "start_time": "2024-11-04T15:59:25.936Z"
   },
   {
    "duration": 25,
    "start_time": "2024-11-04T15:59:25.974Z"
   },
   {
    "duration": 20,
    "start_time": "2024-11-04T15:59:26.001Z"
   },
   {
    "duration": 16,
    "start_time": "2024-11-04T15:59:26.023Z"
   },
   {
    "duration": 11,
    "start_time": "2024-11-04T15:59:26.040Z"
   },
   {
    "duration": 158,
    "start_time": "2024-11-04T15:59:26.053Z"
   },
   {
    "duration": 148,
    "start_time": "2024-11-04T15:59:26.214Z"
   },
   {
    "duration": 12,
    "start_time": "2024-11-04T15:59:26.364Z"
   },
   {
    "duration": 364,
    "start_time": "2024-11-04T15:59:26.378Z"
   },
   {
    "duration": 268,
    "start_time": "2024-11-04T15:59:26.744Z"
   },
   {
    "duration": 368,
    "start_time": "2024-11-04T15:59:27.013Z"
   },
   {
    "duration": 251,
    "start_time": "2024-11-04T15:59:27.383Z"
   },
   {
    "duration": 363,
    "start_time": "2024-11-04T15:59:27.636Z"
   },
   {
    "duration": 14,
    "start_time": "2024-11-04T15:59:28.001Z"
   },
   {
    "duration": 191,
    "start_time": "2024-11-04T15:59:28.017Z"
   },
   {
    "duration": 6,
    "start_time": "2024-11-04T15:59:28.210Z"
   },
   {
    "duration": 186,
    "start_time": "2024-11-04T15:59:28.218Z"
   },
   {
    "duration": 5,
    "start_time": "2024-11-04T15:59:28.406Z"
   },
   {
    "duration": 236,
    "start_time": "2024-11-04T15:59:28.413Z"
   },
   {
    "duration": 276,
    "start_time": "2024-11-04T15:59:28.650Z"
   },
   {
    "duration": 19,
    "start_time": "2024-11-04T15:59:28.927Z"
   },
   {
    "duration": 326,
    "start_time": "2024-11-04T16:00:35.273Z"
   },
   {
    "duration": 230,
    "start_time": "2024-11-04T16:00:43.390Z"
   },
   {
    "duration": 299,
    "start_time": "2024-11-04T16:01:07.494Z"
   },
   {
    "duration": 1004,
    "start_time": "2024-11-04T16:13:27.437Z"
   },
   {
    "duration": 1098,
    "start_time": "2024-11-04T16:14:42.839Z"
   },
   {
    "duration": 77,
    "start_time": "2024-11-04T16:14:43.939Z"
   },
   {
    "duration": 66,
    "start_time": "2024-11-04T16:14:44.018Z"
   },
   {
    "duration": 8,
    "start_time": "2024-11-04T16:14:44.085Z"
   },
   {
    "duration": 73,
    "start_time": "2024-11-04T16:14:44.095Z"
   },
   {
    "duration": 9,
    "start_time": "2024-11-04T16:14:44.169Z"
   },
   {
    "duration": 43,
    "start_time": "2024-11-04T16:14:44.180Z"
   },
   {
    "duration": 33,
    "start_time": "2024-11-04T16:14:44.225Z"
   },
   {
    "duration": 69,
    "start_time": "2024-11-04T16:14:44.260Z"
   },
   {
    "duration": 48,
    "start_time": "2024-11-04T16:14:44.330Z"
   },
   {
    "duration": 22,
    "start_time": "2024-11-04T16:14:44.380Z"
   },
   {
    "duration": 41,
    "start_time": "2024-11-04T16:14:44.403Z"
   },
   {
    "duration": 167,
    "start_time": "2024-11-04T16:14:44.446Z"
   },
   {
    "duration": 127,
    "start_time": "2024-11-04T16:14:44.616Z"
   },
   {
    "duration": 17,
    "start_time": "2024-11-04T16:14:44.745Z"
   },
   {
    "duration": 352,
    "start_time": "2024-11-04T16:14:44.764Z"
   },
   {
    "duration": 265,
    "start_time": "2024-11-04T16:14:45.118Z"
   },
   {
    "duration": 316,
    "start_time": "2024-11-04T16:14:45.385Z"
   },
   {
    "duration": 259,
    "start_time": "2024-11-04T16:14:45.702Z"
   },
   {
    "duration": 318,
    "start_time": "2024-11-04T16:14:45.963Z"
   },
   {
    "duration": 11,
    "start_time": "2024-11-04T16:14:46.282Z"
   },
   {
    "duration": 166,
    "start_time": "2024-11-04T16:14:46.294Z"
   },
   {
    "duration": 6,
    "start_time": "2024-11-04T16:14:46.461Z"
   },
   {
    "duration": 165,
    "start_time": "2024-11-04T16:14:46.468Z"
   },
   {
    "duration": 11,
    "start_time": "2024-11-04T16:14:46.635Z"
   },
   {
    "duration": 243,
    "start_time": "2024-11-04T16:14:46.647Z"
   },
   {
    "duration": 279,
    "start_time": "2024-11-04T16:14:46.892Z"
   },
   {
    "duration": 11,
    "start_time": "2024-11-04T16:14:47.173Z"
   },
   {
    "duration": 1149,
    "start_time": "2024-11-04T16:14:47.186Z"
   },
   {
    "duration": 1278,
    "start_time": "2024-11-04T16:16:03.041Z"
   },
   {
    "duration": 1070,
    "start_time": "2024-11-04T16:18:09.376Z"
   },
   {
    "duration": 1115,
    "start_time": "2024-11-04T16:18:54.112Z"
   },
   {
    "duration": 77,
    "start_time": "2024-11-04T16:18:55.229Z"
   },
   {
    "duration": 47,
    "start_time": "2024-11-04T16:18:55.308Z"
   },
   {
    "duration": 6,
    "start_time": "2024-11-04T16:18:55.357Z"
   },
   {
    "duration": 79,
    "start_time": "2024-11-04T16:18:55.365Z"
   },
   {
    "duration": 8,
    "start_time": "2024-11-04T16:18:55.446Z"
   },
   {
    "duration": 16,
    "start_time": "2024-11-04T16:18:55.456Z"
   },
   {
    "duration": 12,
    "start_time": "2024-11-04T16:18:55.474Z"
   },
   {
    "duration": 28,
    "start_time": "2024-11-04T16:18:55.487Z"
   },
   {
    "duration": 28,
    "start_time": "2024-11-04T16:18:55.517Z"
   },
   {
    "duration": 24,
    "start_time": "2024-11-04T16:18:55.547Z"
   },
   {
    "duration": 19,
    "start_time": "2024-11-04T16:18:55.573Z"
   },
   {
    "duration": 179,
    "start_time": "2024-11-04T16:18:55.594Z"
   },
   {
    "duration": 128,
    "start_time": "2024-11-04T16:18:55.777Z"
   },
   {
    "duration": 12,
    "start_time": "2024-11-04T16:18:55.906Z"
   },
   {
    "duration": 343,
    "start_time": "2024-11-04T16:18:55.919Z"
   },
   {
    "duration": 265,
    "start_time": "2024-11-04T16:18:56.263Z"
   },
   {
    "duration": 348,
    "start_time": "2024-11-04T16:18:56.529Z"
   },
   {
    "duration": 267,
    "start_time": "2024-11-04T16:18:56.878Z"
   },
   {
    "duration": 358,
    "start_time": "2024-11-04T16:18:57.147Z"
   },
   {
    "duration": 11,
    "start_time": "2024-11-04T16:18:57.507Z"
   },
   {
    "duration": 172,
    "start_time": "2024-11-04T16:18:57.520Z"
   },
   {
    "duration": 5,
    "start_time": "2024-11-04T16:18:57.694Z"
   },
   {
    "duration": 159,
    "start_time": "2024-11-04T16:18:57.701Z"
   },
   {
    "duration": 6,
    "start_time": "2024-11-04T16:18:57.862Z"
   },
   {
    "duration": 225,
    "start_time": "2024-11-04T16:18:57.870Z"
   },
   {
    "duration": 265,
    "start_time": "2024-11-04T16:18:58.096Z"
   },
   {
    "duration": 11,
    "start_time": "2024-11-04T16:18:58.362Z"
   },
   {
    "duration": 1041,
    "start_time": "2024-11-04T16:18:58.374Z"
   },
   {
    "duration": 176,
    "start_time": "2024-11-04T16:25:28.101Z"
   },
   {
    "duration": 1144,
    "start_time": "2024-11-04T16:25:36.548Z"
   },
   {
    "duration": 75,
    "start_time": "2024-11-04T16:25:37.694Z"
   },
   {
    "duration": 44,
    "start_time": "2024-11-04T16:25:37.771Z"
   },
   {
    "duration": 6,
    "start_time": "2024-11-04T16:25:37.817Z"
   },
   {
    "duration": 67,
    "start_time": "2024-11-04T16:25:37.825Z"
   },
   {
    "duration": 7,
    "start_time": "2024-11-04T16:25:37.894Z"
   },
   {
    "duration": 13,
    "start_time": "2024-11-04T16:25:37.902Z"
   },
   {
    "duration": 19,
    "start_time": "2024-11-04T16:25:37.916Z"
   },
   {
    "duration": 13,
    "start_time": "2024-11-04T16:25:37.942Z"
   },
   {
    "duration": 10,
    "start_time": "2024-11-04T16:25:37.958Z"
   },
   {
    "duration": 11,
    "start_time": "2024-11-04T16:25:37.969Z"
   },
   {
    "duration": 6,
    "start_time": "2024-11-04T16:25:37.982Z"
   },
   {
    "duration": 186,
    "start_time": "2024-11-04T16:25:37.990Z"
   },
   {
    "duration": 116,
    "start_time": "2024-11-04T16:25:38.178Z"
   },
   {
    "duration": 13,
    "start_time": "2024-11-04T16:25:38.295Z"
   },
   {
    "duration": 389,
    "start_time": "2024-11-04T16:25:38.310Z"
   },
   {
    "duration": 285,
    "start_time": "2024-11-04T16:25:38.701Z"
   },
   {
    "duration": 328,
    "start_time": "2024-11-04T16:25:38.988Z"
   },
   {
    "duration": 258,
    "start_time": "2024-11-04T16:25:39.317Z"
   },
   {
    "duration": 317,
    "start_time": "2024-11-04T16:25:39.577Z"
   },
   {
    "duration": 12,
    "start_time": "2024-11-04T16:25:39.896Z"
   },
   {
    "duration": 184,
    "start_time": "2024-11-04T16:25:39.910Z"
   },
   {
    "duration": 4,
    "start_time": "2024-11-04T16:25:40.096Z"
   },
   {
    "duration": 166,
    "start_time": "2024-11-04T16:25:40.102Z"
   },
   {
    "duration": 5,
    "start_time": "2024-11-04T16:25:40.270Z"
   },
   {
    "duration": 242,
    "start_time": "2024-11-04T16:25:40.277Z"
   },
   {
    "duration": 185,
    "start_time": "2024-11-04T16:25:40.521Z"
   },
   {
    "duration": 10,
    "start_time": "2024-11-04T16:25:40.710Z"
   },
   {
    "duration": 27,
    "start_time": "2024-11-04T16:25:40.721Z"
   },
   {
    "duration": 767,
    "start_time": "2024-11-04T16:28:23.492Z"
   },
   {
    "duration": 10,
    "start_time": "2024-11-04T16:30:12.401Z"
   },
   {
    "duration": 9,
    "start_time": "2024-11-04T16:30:48.226Z"
   },
   {
    "duration": 9,
    "start_time": "2024-11-04T16:31:03.342Z"
   },
   {
    "duration": 32,
    "start_time": "2024-11-04T16:37:33.966Z"
   },
   {
    "duration": 38,
    "start_time": "2024-11-04T16:38:20.191Z"
   },
   {
    "duration": 12,
    "start_time": "2024-11-04T16:43:41.485Z"
   },
   {
    "duration": 15,
    "start_time": "2024-11-04T16:44:50.955Z"
   },
   {
    "duration": 19,
    "start_time": "2024-11-04T16:47:55.219Z"
   },
   {
    "duration": 1118,
    "start_time": "2024-11-04T18:12:46.004Z"
   },
   {
    "duration": 77,
    "start_time": "2024-11-04T18:12:47.123Z"
   },
   {
    "duration": 43,
    "start_time": "2024-11-04T18:12:47.202Z"
   },
   {
    "duration": 6,
    "start_time": "2024-11-04T18:12:47.247Z"
   },
   {
    "duration": 41,
    "start_time": "2024-11-04T18:12:47.254Z"
   },
   {
    "duration": 7,
    "start_time": "2024-11-04T18:12:47.296Z"
   },
   {
    "duration": 42,
    "start_time": "2024-11-04T18:12:47.304Z"
   },
   {
    "duration": 6,
    "start_time": "2024-11-04T18:12:47.348Z"
   },
   {
    "duration": 16,
    "start_time": "2024-11-04T18:12:47.355Z"
   },
   {
    "duration": 12,
    "start_time": "2024-11-04T18:12:47.374Z"
   },
   {
    "duration": 13,
    "start_time": "2024-11-04T18:12:47.387Z"
   },
   {
    "duration": 5,
    "start_time": "2024-11-04T18:12:47.402Z"
   },
   {
    "duration": 196,
    "start_time": "2024-11-04T18:12:47.408Z"
   },
   {
    "duration": 138,
    "start_time": "2024-11-04T18:12:47.606Z"
   },
   {
    "duration": 13,
    "start_time": "2024-11-04T18:12:47.745Z"
   },
   {
    "duration": 354,
    "start_time": "2024-11-04T18:12:47.759Z"
   },
   {
    "duration": 258,
    "start_time": "2024-11-04T18:12:48.114Z"
   },
   {
    "duration": 305,
    "start_time": "2024-11-04T18:12:48.373Z"
   },
   {
    "duration": 258,
    "start_time": "2024-11-04T18:12:48.680Z"
   },
   {
    "duration": 344,
    "start_time": "2024-11-04T18:12:48.942Z"
   },
   {
    "duration": 12,
    "start_time": "2024-11-04T18:12:49.287Z"
   },
   {
    "duration": 176,
    "start_time": "2024-11-04T18:12:49.300Z"
   },
   {
    "duration": 5,
    "start_time": "2024-11-04T18:12:49.478Z"
   },
   {
    "duration": 172,
    "start_time": "2024-11-04T18:12:49.485Z"
   },
   {
    "duration": 5,
    "start_time": "2024-11-04T18:12:49.659Z"
   },
   {
    "duration": 226,
    "start_time": "2024-11-04T18:12:49.666Z"
   },
   {
    "duration": 182,
    "start_time": "2024-11-04T18:12:49.894Z"
   },
   {
    "duration": 11,
    "start_time": "2024-11-04T18:12:50.079Z"
   },
   {
    "duration": 9,
    "start_time": "2024-11-04T18:12:50.092Z"
   },
   {
    "duration": 54,
    "start_time": "2024-11-04T18:12:50.102Z"
   },
   {
    "duration": 14,
    "start_time": "2024-11-04T18:12:50.158Z"
   },
   {
    "duration": 1111,
    "start_time": "2024-11-04T18:24:30.098Z"
   },
   {
    "duration": 78,
    "start_time": "2024-11-04T18:24:31.211Z"
   },
   {
    "duration": 45,
    "start_time": "2024-11-04T18:24:31.290Z"
   },
   {
    "duration": 6,
    "start_time": "2024-11-04T18:24:31.337Z"
   },
   {
    "duration": 37,
    "start_time": "2024-11-04T18:24:31.346Z"
   },
   {
    "duration": 7,
    "start_time": "2024-11-04T18:24:31.385Z"
   },
   {
    "duration": 12,
    "start_time": "2024-11-04T18:24:31.393Z"
   },
   {
    "duration": 7,
    "start_time": "2024-11-04T18:24:31.406Z"
   },
   {
    "duration": 15,
    "start_time": "2024-11-04T18:24:31.444Z"
   },
   {
    "duration": 20,
    "start_time": "2024-11-04T18:24:31.461Z"
   },
   {
    "duration": 23,
    "start_time": "2024-11-04T18:24:31.483Z"
   },
   {
    "duration": 10,
    "start_time": "2024-11-04T18:24:31.508Z"
   },
   {
    "duration": 162,
    "start_time": "2024-11-04T18:24:31.519Z"
   },
   {
    "duration": 114,
    "start_time": "2024-11-04T18:24:31.684Z"
   },
   {
    "duration": 11,
    "start_time": "2024-11-04T18:24:31.800Z"
   },
   {
    "duration": 353,
    "start_time": "2024-11-04T18:24:31.813Z"
   },
   {
    "duration": 277,
    "start_time": "2024-11-04T18:24:32.168Z"
   },
   {
    "duration": 321,
    "start_time": "2024-11-04T18:24:32.447Z"
   },
   {
    "duration": 265,
    "start_time": "2024-11-04T18:24:32.769Z"
   },
   {
    "duration": 357,
    "start_time": "2024-11-04T18:24:33.035Z"
   },
   {
    "duration": 19,
    "start_time": "2024-11-04T18:24:33.394Z"
   },
   {
    "duration": 171,
    "start_time": "2024-11-04T18:24:33.415Z"
   },
   {
    "duration": 4,
    "start_time": "2024-11-04T18:24:33.588Z"
   },
   {
    "duration": 165,
    "start_time": "2024-11-04T18:24:33.594Z"
   },
   {
    "duration": 6,
    "start_time": "2024-11-04T18:24:33.760Z"
   },
   {
    "duration": 233,
    "start_time": "2024-11-04T18:24:33.768Z"
   },
   {
    "duration": 157,
    "start_time": "2024-11-04T18:24:34.003Z"
   },
   {
    "duration": 10,
    "start_time": "2024-11-04T18:24:34.162Z"
   },
   {
    "duration": 18,
    "start_time": "2024-11-04T18:24:34.174Z"
   },
   {
    "duration": 29,
    "start_time": "2024-11-04T18:24:34.194Z"
   },
   {
    "duration": 27,
    "start_time": "2024-11-04T18:24:34.224Z"
   },
   {
    "duration": 1151,
    "start_time": "2024-11-04T18:36:15.388Z"
   },
   {
    "duration": 77,
    "start_time": "2024-11-04T18:36:16.541Z"
   },
   {
    "duration": 46,
    "start_time": "2024-11-04T18:36:16.619Z"
   },
   {
    "duration": 5,
    "start_time": "2024-11-04T18:36:16.667Z"
   },
   {
    "duration": 78,
    "start_time": "2024-11-04T18:36:16.674Z"
   },
   {
    "duration": 9,
    "start_time": "2024-11-04T18:36:16.753Z"
   },
   {
    "duration": 17,
    "start_time": "2024-11-04T18:36:16.763Z"
   },
   {
    "duration": 23,
    "start_time": "2024-11-04T18:36:16.781Z"
   },
   {
    "duration": 26,
    "start_time": "2024-11-04T18:36:16.805Z"
   },
   {
    "duration": 19,
    "start_time": "2024-11-04T18:36:16.834Z"
   },
   {
    "duration": 31,
    "start_time": "2024-11-04T18:36:16.855Z"
   },
   {
    "duration": 18,
    "start_time": "2024-11-04T18:36:16.888Z"
   },
   {
    "duration": 167,
    "start_time": "2024-11-04T18:36:16.908Z"
   },
   {
    "duration": 125,
    "start_time": "2024-11-04T18:36:17.076Z"
   },
   {
    "duration": 12,
    "start_time": "2024-11-04T18:36:17.203Z"
   },
   {
    "duration": 344,
    "start_time": "2024-11-04T18:36:17.216Z"
   },
   {
    "duration": 266,
    "start_time": "2024-11-04T18:36:17.562Z"
   },
   {
    "duration": 362,
    "start_time": "2024-11-04T18:36:17.830Z"
   },
   {
    "duration": 256,
    "start_time": "2024-11-04T18:36:18.193Z"
   },
   {
    "duration": 343,
    "start_time": "2024-11-04T18:36:18.450Z"
   },
   {
    "duration": 11,
    "start_time": "2024-11-04T18:36:18.794Z"
   },
   {
    "duration": 164,
    "start_time": "2024-11-04T18:36:18.807Z"
   },
   {
    "duration": 5,
    "start_time": "2024-11-04T18:36:18.973Z"
   },
   {
    "duration": 163,
    "start_time": "2024-11-04T18:36:18.979Z"
   },
   {
    "duration": 5,
    "start_time": "2024-11-04T18:36:19.144Z"
   },
   {
    "duration": 248,
    "start_time": "2024-11-04T18:36:19.151Z"
   },
   {
    "duration": 197,
    "start_time": "2024-11-04T18:36:19.401Z"
   },
   {
    "duration": 10,
    "start_time": "2024-11-04T18:36:19.601Z"
   },
   {
    "duration": 12,
    "start_time": "2024-11-04T18:36:19.612Z"
   },
   {
    "duration": 45,
    "start_time": "2024-11-04T18:36:19.625Z"
   },
   {
    "duration": 13,
    "start_time": "2024-11-04T18:36:19.672Z"
   },
   {
    "duration": 1142,
    "start_time": "2024-11-04T19:37:28.808Z"
   },
   {
    "duration": 79,
    "start_time": "2024-11-04T19:37:29.953Z"
   },
   {
    "duration": 50,
    "start_time": "2024-11-04T19:37:30.034Z"
   },
   {
    "duration": 18,
    "start_time": "2024-11-04T19:37:30.086Z"
   },
   {
    "duration": 55,
    "start_time": "2024-11-04T19:37:30.105Z"
   },
   {
    "duration": 7,
    "start_time": "2024-11-04T19:37:30.162Z"
   },
   {
    "duration": 31,
    "start_time": "2024-11-04T19:37:30.170Z"
   },
   {
    "duration": 29,
    "start_time": "2024-11-04T19:37:30.202Z"
   },
   {
    "duration": 43,
    "start_time": "2024-11-04T19:37:30.233Z"
   },
   {
    "duration": 40,
    "start_time": "2024-11-04T19:37:30.279Z"
   },
   {
    "duration": 20,
    "start_time": "2024-11-04T19:37:30.321Z"
   },
   {
    "duration": 31,
    "start_time": "2024-11-04T19:37:30.343Z"
   },
   {
    "duration": 174,
    "start_time": "2024-11-04T19:37:30.376Z"
   },
   {
    "duration": 119,
    "start_time": "2024-11-04T19:37:30.552Z"
   },
   {
    "duration": 11,
    "start_time": "2024-11-04T19:37:30.672Z"
   },
   {
    "duration": 340,
    "start_time": "2024-11-04T19:37:30.685Z"
   },
   {
    "duration": 251,
    "start_time": "2024-11-04T19:37:31.027Z"
   },
   {
    "duration": 332,
    "start_time": "2024-11-04T19:37:31.279Z"
   },
   {
    "duration": 263,
    "start_time": "2024-11-04T19:37:31.613Z"
   },
   {
    "duration": 309,
    "start_time": "2024-11-04T19:37:31.878Z"
   },
   {
    "duration": 10,
    "start_time": "2024-11-04T19:37:32.189Z"
   },
   {
    "duration": 164,
    "start_time": "2024-11-04T19:37:32.201Z"
   },
   {
    "duration": 5,
    "start_time": "2024-11-04T19:37:32.366Z"
   },
   {
    "duration": 162,
    "start_time": "2024-11-04T19:37:32.373Z"
   },
   {
    "duration": 8,
    "start_time": "2024-11-04T19:37:32.537Z"
   },
   {
    "duration": 233,
    "start_time": "2024-11-04T19:37:32.547Z"
   },
   {
    "duration": 172,
    "start_time": "2024-11-04T19:37:32.782Z"
   },
   {
    "duration": 11,
    "start_time": "2024-11-04T19:37:32.957Z"
   },
   {
    "duration": 28,
    "start_time": "2024-11-04T19:37:32.969Z"
   },
   {
    "duration": 34,
    "start_time": "2024-11-04T19:37:32.999Z"
   },
   {
    "duration": 16,
    "start_time": "2024-11-04T19:37:33.043Z"
   },
   {
    "duration": 991,
    "start_time": "2024-11-04T21:17:50.636Z"
   },
   {
    "duration": 220,
    "start_time": "2024-11-04T21:17:51.629Z"
   },
   {
    "duration": 43,
    "start_time": "2024-11-04T21:17:51.851Z"
   },
   {
    "duration": 6,
    "start_time": "2024-11-04T21:17:51.896Z"
   },
   {
    "duration": 60,
    "start_time": "2024-11-04T21:17:51.904Z"
   },
   {
    "duration": 7,
    "start_time": "2024-11-04T21:17:51.966Z"
   },
   {
    "duration": 22,
    "start_time": "2024-11-04T21:17:51.975Z"
   },
   {
    "duration": 20,
    "start_time": "2024-11-04T21:17:51.998Z"
   },
   {
    "duration": 29,
    "start_time": "2024-11-04T21:17:52.019Z"
   },
   {
    "duration": 16,
    "start_time": "2024-11-04T21:17:52.051Z"
   },
   {
    "duration": 13,
    "start_time": "2024-11-04T21:17:52.069Z"
   },
   {
    "duration": 17,
    "start_time": "2024-11-04T21:17:52.083Z"
   },
   {
    "duration": 143,
    "start_time": "2024-11-04T21:17:52.102Z"
   },
   {
    "duration": 106,
    "start_time": "2024-11-04T21:17:52.246Z"
   },
   {
    "duration": 11,
    "start_time": "2024-11-04T21:17:52.353Z"
   },
   {
    "duration": 334,
    "start_time": "2024-11-04T21:17:52.365Z"
   },
   {
    "duration": 237,
    "start_time": "2024-11-04T21:17:52.700Z"
   },
   {
    "duration": 294,
    "start_time": "2024-11-04T21:17:52.938Z"
   },
   {
    "duration": 247,
    "start_time": "2024-11-04T21:17:53.233Z"
   },
   {
    "duration": 356,
    "start_time": "2024-11-04T21:17:53.481Z"
   },
   {
    "duration": 15,
    "start_time": "2024-11-04T21:17:53.839Z"
   },
   {
    "duration": 169,
    "start_time": "2024-11-04T21:17:53.855Z"
   },
   {
    "duration": 4,
    "start_time": "2024-11-04T21:17:54.026Z"
   },
   {
    "duration": 151,
    "start_time": "2024-11-04T21:17:54.032Z"
   },
   {
    "duration": 4,
    "start_time": "2024-11-04T21:17:54.185Z"
   },
   {
    "duration": 233,
    "start_time": "2024-11-04T21:17:54.191Z"
   },
   {
    "duration": 157,
    "start_time": "2024-11-04T21:17:54.426Z"
   },
   {
    "duration": 21,
    "start_time": "2024-11-04T21:17:54.586Z"
   },
   {
    "duration": 9,
    "start_time": "2024-11-04T21:17:54.608Z"
   },
   {
    "duration": 25,
    "start_time": "2024-11-04T21:17:54.619Z"
   },
   {
    "duration": 12,
    "start_time": "2024-11-04T21:17:54.646Z"
   },
   {
    "duration": 1237,
    "start_time": "2024-11-05T09:21:52.347Z"
   },
   {
    "duration": 228,
    "start_time": "2024-11-05T09:21:53.586Z"
   },
   {
    "duration": 42,
    "start_time": "2024-11-05T09:21:53.816Z"
   },
   {
    "duration": 11,
    "start_time": "2024-11-05T09:21:53.860Z"
   },
   {
    "duration": 66,
    "start_time": "2024-11-05T09:21:53.873Z"
   },
   {
    "duration": 6,
    "start_time": "2024-11-05T09:21:53.940Z"
   },
   {
    "duration": 46,
    "start_time": "2024-11-05T09:21:53.947Z"
   },
   {
    "duration": 24,
    "start_time": "2024-11-05T09:21:53.995Z"
   },
   {
    "duration": 38,
    "start_time": "2024-11-05T09:21:54.020Z"
   },
   {
    "duration": 28,
    "start_time": "2024-11-05T09:21:54.060Z"
   },
   {
    "duration": 30,
    "start_time": "2024-11-05T09:21:54.089Z"
   },
   {
    "duration": 15,
    "start_time": "2024-11-05T09:21:54.120Z"
   },
   {
    "duration": 164,
    "start_time": "2024-11-05T09:21:54.136Z"
   },
   {
    "duration": 129,
    "start_time": "2024-11-05T09:21:54.302Z"
   },
   {
    "duration": 12,
    "start_time": "2024-11-05T09:21:54.433Z"
   },
   {
    "duration": 10,
    "start_time": "2024-11-05T09:21:54.447Z"
   },
   {
    "duration": 345,
    "start_time": "2024-11-05T09:21:54.458Z"
   },
   {
    "duration": 275,
    "start_time": "2024-11-05T09:21:54.805Z"
   },
   {
    "duration": 379,
    "start_time": "2024-11-05T09:21:55.081Z"
   },
   {
    "duration": 242,
    "start_time": "2024-11-05T09:21:55.462Z"
   },
   {
    "duration": 333,
    "start_time": "2024-11-05T09:21:55.706Z"
   },
   {
    "duration": 11,
    "start_time": "2024-11-05T09:21:56.041Z"
   },
   {
    "duration": 184,
    "start_time": "2024-11-05T09:21:56.054Z"
   },
   {
    "duration": 6,
    "start_time": "2024-11-05T09:21:56.240Z"
   },
   {
    "duration": 169,
    "start_time": "2024-11-05T09:21:56.247Z"
   },
   {
    "duration": 4,
    "start_time": "2024-11-05T09:21:56.418Z"
   },
   {
    "duration": 226,
    "start_time": "2024-11-05T09:21:56.424Z"
   },
   {
    "duration": 155,
    "start_time": "2024-11-05T09:21:56.653Z"
   },
   {
    "duration": 11,
    "start_time": "2024-11-05T09:21:56.809Z"
   },
   {
    "duration": 68,
    "start_time": "2024-11-05T09:21:56.821Z"
   },
   {
    "duration": 38,
    "start_time": "2024-11-05T09:21:56.891Z"
   },
   {
    "duration": 13,
    "start_time": "2024-11-05T09:21:56.930Z"
   },
   {
    "duration": 5,
    "start_time": "2024-11-05T09:31:32.087Z"
   },
   {
    "duration": 4,
    "start_time": "2024-11-05T09:32:31.408Z"
   },
   {
    "duration": 4,
    "start_time": "2024-11-05T09:36:27.346Z"
   },
   {
    "duration": 5,
    "start_time": "2024-11-05T09:40:11.200Z"
   },
   {
    "duration": 4,
    "start_time": "2024-11-05T09:41:29.646Z"
   },
   {
    "duration": 5,
    "start_time": "2024-11-05T09:42:27.296Z"
   },
   {
    "duration": 1099,
    "start_time": "2024-11-05T10:06:07.696Z"
   },
   {
    "duration": 1106,
    "start_time": "2024-11-05T10:06:50.015Z"
   },
   {
    "duration": 5,
    "start_time": "2024-11-05T10:07:16.170Z"
   },
   {
    "duration": 4,
    "start_time": "2024-11-05T10:08:18.060Z"
   },
   {
    "duration": 184,
    "start_time": "2024-11-05T10:26:50.280Z"
   },
   {
    "duration": 217,
    "start_time": "2024-11-05T10:29:55.526Z"
   },
   {
    "duration": 1046,
    "start_time": "2024-11-05T10:36:44.760Z"
   },
   {
    "duration": 53,
    "start_time": "2024-11-05T10:43:51.264Z"
   },
   {
    "duration": 19,
    "start_time": "2024-11-05T10:46:14.692Z"
   },
   {
    "duration": 16,
    "start_time": "2024-11-05T10:47:25.604Z"
   },
   {
    "duration": 1041,
    "start_time": "2024-11-05T10:52:15.621Z"
   },
   {
    "duration": 76,
    "start_time": "2024-11-05T10:52:16.664Z"
   },
   {
    "duration": 46,
    "start_time": "2024-11-05T10:52:16.742Z"
   },
   {
    "duration": 5,
    "start_time": "2024-11-05T10:52:16.790Z"
   },
   {
    "duration": 47,
    "start_time": "2024-11-05T10:52:16.797Z"
   },
   {
    "duration": 4,
    "start_time": "2024-11-05T10:52:16.846Z"
   },
   {
    "duration": 7,
    "start_time": "2024-11-05T10:52:16.851Z"
   },
   {
    "duration": 10,
    "start_time": "2024-11-05T10:52:16.859Z"
   },
   {
    "duration": 32,
    "start_time": "2024-11-05T10:52:16.871Z"
   },
   {
    "duration": 21,
    "start_time": "2024-11-05T10:52:16.905Z"
   },
   {
    "duration": 23,
    "start_time": "2024-11-05T10:52:16.928Z"
   },
   {
    "duration": 41,
    "start_time": "2024-11-05T10:52:16.953Z"
   },
   {
    "duration": 31,
    "start_time": "2024-11-05T10:52:16.995Z"
   },
   {
    "duration": 201,
    "start_time": "2024-11-05T10:52:17.028Z"
   },
   {
    "duration": 126,
    "start_time": "2024-11-05T10:52:17.231Z"
   },
   {
    "duration": 12,
    "start_time": "2024-11-05T10:52:17.358Z"
   },
   {
    "duration": 7,
    "start_time": "2024-11-05T10:52:17.371Z"
   },
   {
    "duration": 339,
    "start_time": "2024-11-05T10:52:17.380Z"
   },
   {
    "duration": 259,
    "start_time": "2024-11-05T10:52:17.720Z"
   },
   {
    "duration": 381,
    "start_time": "2024-11-05T10:52:17.980Z"
   },
   {
    "duration": 281,
    "start_time": "2024-11-05T10:52:18.363Z"
   },
   {
    "duration": 352,
    "start_time": "2024-11-05T10:52:18.646Z"
   },
   {
    "duration": 11,
    "start_time": "2024-11-05T10:52:19.000Z"
   },
   {
    "duration": 173,
    "start_time": "2024-11-05T10:52:19.012Z"
   },
   {
    "duration": 5,
    "start_time": "2024-11-05T10:52:19.186Z"
   },
   {
    "duration": 151,
    "start_time": "2024-11-05T10:52:19.200Z"
   },
   {
    "duration": 163,
    "start_time": "2024-11-05T10:52:19.352Z"
   },
   {
    "duration": 5,
    "start_time": "2024-11-05T10:52:19.517Z"
   },
   {
    "duration": 315,
    "start_time": "2024-11-05T10:52:19.523Z"
   },
   {
    "duration": 149,
    "start_time": "2024-11-05T10:52:19.839Z"
   },
   {
    "duration": 18,
    "start_time": "2024-11-05T10:52:19.989Z"
   },
   {
    "duration": 21,
    "start_time": "2024-11-05T10:52:20.009Z"
   },
   {
    "duration": 44,
    "start_time": "2024-11-05T10:52:20.031Z"
   },
   {
    "duration": 14,
    "start_time": "2024-11-05T10:52:20.077Z"
   },
   {
    "duration": 15,
    "start_time": "2024-11-05T11:07:42.182Z"
   },
   {
    "duration": 1126,
    "start_time": "2024-11-05T11:08:41.213Z"
   },
   {
    "duration": 76,
    "start_time": "2024-11-05T11:08:42.341Z"
   },
   {
    "duration": 43,
    "start_time": "2024-11-05T11:08:42.419Z"
   },
   {
    "duration": 5,
    "start_time": "2024-11-05T11:08:42.464Z"
   },
   {
    "duration": 54,
    "start_time": "2024-11-05T11:08:42.470Z"
   },
   {
    "duration": 4,
    "start_time": "2024-11-05T11:08:42.525Z"
   },
   {
    "duration": 13,
    "start_time": "2024-11-05T11:08:42.530Z"
   },
   {
    "duration": 36,
    "start_time": "2024-11-05T11:08:42.544Z"
   },
   {
    "duration": 6,
    "start_time": "2024-11-05T11:08:42.581Z"
   },
   {
    "duration": 16,
    "start_time": "2024-11-05T11:08:42.590Z"
   },
   {
    "duration": 11,
    "start_time": "2024-11-05T11:08:42.608Z"
   },
   {
    "duration": 9,
    "start_time": "2024-11-05T11:08:42.621Z"
   },
   {
    "duration": 9,
    "start_time": "2024-11-05T11:08:42.631Z"
   },
   {
    "duration": 179,
    "start_time": "2024-11-05T11:08:42.642Z"
   },
   {
    "duration": 124,
    "start_time": "2024-11-05T11:08:42.823Z"
   },
   {
    "duration": 12,
    "start_time": "2024-11-05T11:08:42.949Z"
   },
   {
    "duration": 18,
    "start_time": "2024-11-05T11:08:42.963Z"
   },
   {
    "duration": 358,
    "start_time": "2024-11-05T11:08:42.983Z"
   },
   {
    "duration": 256,
    "start_time": "2024-11-05T11:08:43.343Z"
   },
   {
    "duration": 328,
    "start_time": "2024-11-05T11:08:43.601Z"
   },
   {
    "duration": 257,
    "start_time": "2024-11-05T11:08:43.930Z"
   },
   {
    "duration": 355,
    "start_time": "2024-11-05T11:08:44.188Z"
   },
   {
    "duration": 12,
    "start_time": "2024-11-05T11:08:44.545Z"
   },
   {
    "duration": 169,
    "start_time": "2024-11-05T11:08:44.559Z"
   },
   {
    "duration": 6,
    "start_time": "2024-11-05T11:08:44.730Z"
   },
   {
    "duration": 169,
    "start_time": "2024-11-05T11:08:44.737Z"
   },
   {
    "duration": 155,
    "start_time": "2024-11-05T11:08:44.908Z"
   },
   {
    "duration": 5,
    "start_time": "2024-11-05T11:08:45.066Z"
   },
   {
    "duration": 317,
    "start_time": "2024-11-05T11:08:45.072Z"
   },
   {
    "duration": 152,
    "start_time": "2024-11-05T11:08:45.391Z"
   },
   {
    "duration": 10,
    "start_time": "2024-11-05T11:08:45.544Z"
   },
   {
    "duration": 14,
    "start_time": "2024-11-05T11:08:45.556Z"
   },
   {
    "duration": 48,
    "start_time": "2024-11-05T11:08:45.572Z"
   },
   {
    "duration": 12,
    "start_time": "2024-11-05T11:08:45.622Z"
   },
   {
    "duration": 1061,
    "start_time": "2024-11-05T11:09:53.609Z"
   },
   {
    "duration": 76,
    "start_time": "2024-11-05T11:09:54.672Z"
   },
   {
    "duration": 46,
    "start_time": "2024-11-05T11:09:54.750Z"
   },
   {
    "duration": 5,
    "start_time": "2024-11-05T11:09:54.799Z"
   },
   {
    "duration": 59,
    "start_time": "2024-11-05T11:09:54.806Z"
   },
   {
    "duration": 4,
    "start_time": "2024-11-05T11:09:54.867Z"
   },
   {
    "duration": 48,
    "start_time": "2024-11-05T11:09:54.873Z"
   },
   {
    "duration": 46,
    "start_time": "2024-11-05T11:09:54.922Z"
   },
   {
    "duration": 34,
    "start_time": "2024-11-05T11:09:54.971Z"
   },
   {
    "duration": 21,
    "start_time": "2024-11-05T11:09:55.008Z"
   },
   {
    "duration": 29,
    "start_time": "2024-11-05T11:09:55.031Z"
   },
   {
    "duration": 51,
    "start_time": "2024-11-05T11:09:55.062Z"
   },
   {
    "duration": 20,
    "start_time": "2024-11-05T11:09:55.114Z"
   },
   {
    "duration": 163,
    "start_time": "2024-11-05T11:09:55.136Z"
   },
   {
    "duration": 127,
    "start_time": "2024-11-05T11:09:55.301Z"
   },
   {
    "duration": 12,
    "start_time": "2024-11-05T11:09:55.430Z"
   },
   {
    "duration": 26,
    "start_time": "2024-11-05T11:09:55.443Z"
   },
   {
    "duration": 324,
    "start_time": "2024-11-05T11:09:55.470Z"
   },
   {
    "duration": 249,
    "start_time": "2024-11-05T11:09:55.795Z"
   },
   {
    "duration": 311,
    "start_time": "2024-11-05T11:09:56.045Z"
   },
   {
    "duration": 268,
    "start_time": "2024-11-05T11:09:56.358Z"
   },
   {
    "duration": 324,
    "start_time": "2024-11-05T11:09:56.628Z"
   },
   {
    "duration": 11,
    "start_time": "2024-11-05T11:09:56.954Z"
   },
   {
    "duration": 160,
    "start_time": "2024-11-05T11:09:56.966Z"
   },
   {
    "duration": 5,
    "start_time": "2024-11-05T11:09:57.128Z"
   },
   {
    "duration": 159,
    "start_time": "2024-11-05T11:09:57.135Z"
   },
   {
    "duration": 160,
    "start_time": "2024-11-05T11:09:57.299Z"
   },
   {
    "duration": 5,
    "start_time": "2024-11-05T11:09:57.462Z"
   },
   {
    "duration": 225,
    "start_time": "2024-11-05T11:09:57.469Z"
   },
   {
    "duration": 10,
    "start_time": "2024-11-05T11:09:57.696Z"
   },
   {
    "duration": 15,
    "start_time": "2024-11-05T11:09:57.708Z"
   },
   {
    "duration": 113,
    "start_time": "2024-11-05T11:09:57.725Z"
   },
   {
    "duration": 0,
    "start_time": "2024-11-05T11:09:57.839Z"
   },
   {
    "duration": 1191,
    "start_time": "2024-11-05T11:12:08.269Z"
   },
   {
    "duration": 77,
    "start_time": "2024-11-05T11:12:09.461Z"
   },
   {
    "duration": 44,
    "start_time": "2024-11-05T11:12:09.540Z"
   },
   {
    "duration": 5,
    "start_time": "2024-11-05T11:12:09.586Z"
   },
   {
    "duration": 36,
    "start_time": "2024-11-05T11:12:09.592Z"
   },
   {
    "duration": 5,
    "start_time": "2024-11-05T11:12:09.630Z"
   },
   {
    "duration": 12,
    "start_time": "2024-11-05T11:12:09.636Z"
   },
   {
    "duration": 9,
    "start_time": "2024-11-05T11:12:09.649Z"
   },
   {
    "duration": 5,
    "start_time": "2024-11-05T11:12:09.660Z"
   },
   {
    "duration": 37,
    "start_time": "2024-11-05T11:12:09.668Z"
   },
   {
    "duration": 13,
    "start_time": "2024-11-05T11:12:09.706Z"
   },
   {
    "duration": 10,
    "start_time": "2024-11-05T11:12:09.721Z"
   },
   {
    "duration": 13,
    "start_time": "2024-11-05T11:12:09.732Z"
   },
   {
    "duration": 181,
    "start_time": "2024-11-05T11:12:09.746Z"
   },
   {
    "duration": 118,
    "start_time": "2024-11-05T11:12:09.928Z"
   },
   {
    "duration": 12,
    "start_time": "2024-11-05T11:12:10.048Z"
   },
   {
    "duration": 20,
    "start_time": "2024-11-05T11:12:10.061Z"
   },
   {
    "duration": 342,
    "start_time": "2024-11-05T11:12:10.083Z"
   },
   {
    "duration": 257,
    "start_time": "2024-11-05T11:12:10.427Z"
   },
   {
    "duration": 379,
    "start_time": "2024-11-05T11:12:10.686Z"
   },
   {
    "duration": 257,
    "start_time": "2024-11-05T11:12:11.066Z"
   },
   {
    "duration": 319,
    "start_time": "2024-11-05T11:12:11.325Z"
   },
   {
    "duration": 11,
    "start_time": "2024-11-05T11:12:11.646Z"
   },
   {
    "duration": 164,
    "start_time": "2024-11-05T11:12:11.658Z"
   },
   {
    "duration": 5,
    "start_time": "2024-11-05T11:12:11.824Z"
   },
   {
    "duration": 166,
    "start_time": "2024-11-05T11:12:11.831Z"
   },
   {
    "duration": 163,
    "start_time": "2024-11-05T11:12:12.000Z"
   },
   {
    "duration": 8,
    "start_time": "2024-11-05T11:12:12.167Z"
   },
   {
    "duration": 357,
    "start_time": "2024-11-05T11:12:12.178Z"
   },
   {
    "duration": 170,
    "start_time": "2024-11-05T11:12:12.536Z"
   },
   {
    "duration": 9,
    "start_time": "2024-11-05T11:12:12.708Z"
   },
   {
    "duration": 17,
    "start_time": "2024-11-05T11:12:12.718Z"
   },
   {
    "duration": 28,
    "start_time": "2024-11-05T11:12:12.736Z"
   },
   {
    "duration": 38,
    "start_time": "2024-11-05T11:12:12.766Z"
   },
   {
    "duration": 1111,
    "start_time": "2024-11-05T11:22:08.254Z"
   },
   {
    "duration": 77,
    "start_time": "2024-11-05T11:22:09.367Z"
   },
   {
    "duration": 44,
    "start_time": "2024-11-05T11:22:09.445Z"
   },
   {
    "duration": 6,
    "start_time": "2024-11-05T11:22:09.491Z"
   },
   {
    "duration": 65,
    "start_time": "2024-11-05T11:22:09.498Z"
   },
   {
    "duration": 4,
    "start_time": "2024-11-05T11:22:09.565Z"
   },
   {
    "duration": 10,
    "start_time": "2024-11-05T11:22:09.570Z"
   },
   {
    "duration": 27,
    "start_time": "2024-11-05T11:22:09.582Z"
   },
   {
    "duration": 5,
    "start_time": "2024-11-05T11:22:09.611Z"
   },
   {
    "duration": 11,
    "start_time": "2024-11-05T11:22:09.619Z"
   },
   {
    "duration": 11,
    "start_time": "2024-11-05T11:22:09.631Z"
   },
   {
    "duration": 17,
    "start_time": "2024-11-05T11:22:09.643Z"
   },
   {
    "duration": 12,
    "start_time": "2024-11-05T11:22:09.661Z"
   },
   {
    "duration": 181,
    "start_time": "2024-11-05T11:22:09.674Z"
   },
   {
    "duration": 130,
    "start_time": "2024-11-05T11:22:09.857Z"
   },
   {
    "duration": 13,
    "start_time": "2024-11-05T11:22:09.999Z"
   },
   {
    "duration": 27,
    "start_time": "2024-11-05T11:22:10.014Z"
   },
   {
    "duration": 345,
    "start_time": "2024-11-05T11:22:10.043Z"
   },
   {
    "duration": 252,
    "start_time": "2024-11-05T11:22:10.390Z"
   },
   {
    "duration": 310,
    "start_time": "2024-11-05T11:22:10.644Z"
   },
   {
    "duration": 299,
    "start_time": "2024-11-05T11:22:10.955Z"
   },
   {
    "duration": 324,
    "start_time": "2024-11-05T11:22:11.256Z"
   },
   {
    "duration": 11,
    "start_time": "2024-11-05T11:22:11.582Z"
   },
   {
    "duration": 158,
    "start_time": "2024-11-05T11:22:11.600Z"
   },
   {
    "duration": 6,
    "start_time": "2024-11-05T11:22:11.760Z"
   },
   {
    "duration": 165,
    "start_time": "2024-11-05T11:22:11.767Z"
   },
   {
    "duration": 160,
    "start_time": "2024-11-05T11:22:11.933Z"
   },
   {
    "duration": 7,
    "start_time": "2024-11-05T11:22:12.096Z"
   },
   {
    "duration": 260,
    "start_time": "2024-11-05T11:22:12.105Z"
   },
   {
    "duration": 10,
    "start_time": "2024-11-05T11:22:12.367Z"
   },
   {
    "duration": 33,
    "start_time": "2024-11-05T11:22:12.379Z"
   },
   {
    "duration": 110,
    "start_time": "2024-11-05T11:22:12.413Z"
   },
   {
    "duration": 0,
    "start_time": "2024-11-05T11:22:12.525Z"
   },
   {
    "duration": 31,
    "start_time": "2024-11-05T11:26:40.066Z"
   },
   {
    "duration": 14,
    "start_time": "2024-11-05T11:26:45.534Z"
   },
   {
    "duration": 1068,
    "start_time": "2024-11-05T11:27:25.092Z"
   },
   {
    "duration": 79,
    "start_time": "2024-11-05T11:27:26.162Z"
   },
   {
    "duration": 52,
    "start_time": "2024-11-05T11:27:26.243Z"
   },
   {
    "duration": 6,
    "start_time": "2024-11-05T11:27:26.297Z"
   },
   {
    "duration": 39,
    "start_time": "2024-11-05T11:27:26.305Z"
   },
   {
    "duration": 9,
    "start_time": "2024-11-05T11:27:26.345Z"
   },
   {
    "duration": 18,
    "start_time": "2024-11-05T11:27:26.356Z"
   },
   {
    "duration": 11,
    "start_time": "2024-11-05T11:27:26.400Z"
   },
   {
    "duration": 9,
    "start_time": "2024-11-05T11:27:26.412Z"
   },
   {
    "duration": 18,
    "start_time": "2024-11-05T11:27:26.424Z"
   },
   {
    "duration": 23,
    "start_time": "2024-11-05T11:27:26.443Z"
   },
   {
    "duration": 10,
    "start_time": "2024-11-05T11:27:26.468Z"
   },
   {
    "duration": 9,
    "start_time": "2024-11-05T11:27:26.479Z"
   },
   {
    "duration": 176,
    "start_time": "2024-11-05T11:27:26.490Z"
   },
   {
    "duration": 122,
    "start_time": "2024-11-05T11:27:26.668Z"
   },
   {
    "duration": 18,
    "start_time": "2024-11-05T11:27:26.791Z"
   },
   {
    "duration": 16,
    "start_time": "2024-11-05T11:27:26.810Z"
   },
   {
    "duration": 327,
    "start_time": "2024-11-05T11:27:26.827Z"
   },
   {
    "duration": 253,
    "start_time": "2024-11-05T11:27:27.155Z"
   },
   {
    "duration": 341,
    "start_time": "2024-11-05T11:27:27.409Z"
   },
   {
    "duration": 294,
    "start_time": "2024-11-05T11:27:27.752Z"
   },
   {
    "duration": 313,
    "start_time": "2024-11-05T11:27:28.047Z"
   },
   {
    "duration": 12,
    "start_time": "2024-11-05T11:27:28.362Z"
   },
   {
    "duration": 167,
    "start_time": "2024-11-05T11:27:28.375Z"
   },
   {
    "duration": 5,
    "start_time": "2024-11-05T11:27:28.544Z"
   },
   {
    "duration": 186,
    "start_time": "2024-11-05T11:27:28.550Z"
   },
   {
    "duration": 157,
    "start_time": "2024-11-05T11:27:28.738Z"
   },
   {
    "duration": 4,
    "start_time": "2024-11-05T11:27:28.901Z"
   },
   {
    "duration": 242,
    "start_time": "2024-11-05T11:27:28.907Z"
   },
   {
    "duration": 12,
    "start_time": "2024-11-05T11:27:29.151Z"
   },
   {
    "duration": 34,
    "start_time": "2024-11-05T11:27:29.165Z"
   },
   {
    "duration": 30,
    "start_time": "2024-11-05T11:27:29.201Z"
   },
   {
    "duration": 37,
    "start_time": "2024-11-05T11:27:29.232Z"
   },
   {
    "duration": 1099,
    "start_time": "2024-11-05T11:33:52.763Z"
   },
   {
    "duration": 77,
    "start_time": "2024-11-05T11:33:53.864Z"
   },
   {
    "duration": 44,
    "start_time": "2024-11-05T11:33:53.942Z"
   },
   {
    "duration": 6,
    "start_time": "2024-11-05T11:33:53.987Z"
   },
   {
    "duration": 39,
    "start_time": "2024-11-05T11:33:53.994Z"
   },
   {
    "duration": 4,
    "start_time": "2024-11-05T11:33:54.035Z"
   },
   {
    "duration": 13,
    "start_time": "2024-11-05T11:33:54.041Z"
   },
   {
    "duration": 14,
    "start_time": "2024-11-05T11:33:54.056Z"
   },
   {
    "duration": 32,
    "start_time": "2024-11-05T11:33:54.071Z"
   },
   {
    "duration": 19,
    "start_time": "2024-11-05T11:33:54.105Z"
   },
   {
    "duration": 25,
    "start_time": "2024-11-05T11:33:54.126Z"
   },
   {
    "duration": 16,
    "start_time": "2024-11-05T11:33:54.152Z"
   },
   {
    "duration": 5,
    "start_time": "2024-11-05T11:33:54.170Z"
   },
   {
    "duration": 174,
    "start_time": "2024-11-05T11:33:54.178Z"
   },
   {
    "duration": 133,
    "start_time": "2024-11-05T11:33:54.354Z"
   },
   {
    "duration": 20,
    "start_time": "2024-11-05T11:33:54.489Z"
   },
   {
    "duration": 22,
    "start_time": "2024-11-05T11:33:54.511Z"
   },
   {
    "duration": 336,
    "start_time": "2024-11-05T11:33:54.535Z"
   },
   {
    "duration": 255,
    "start_time": "2024-11-05T11:33:54.872Z"
   },
   {
    "duration": 302,
    "start_time": "2024-11-05T11:33:55.129Z"
   },
   {
    "duration": 244,
    "start_time": "2024-11-05T11:33:55.432Z"
   },
   {
    "duration": 349,
    "start_time": "2024-11-05T11:33:55.677Z"
   },
   {
    "duration": 10,
    "start_time": "2024-11-05T11:33:56.028Z"
   },
   {
    "duration": 190,
    "start_time": "2024-11-05T11:33:56.040Z"
   },
   {
    "duration": 5,
    "start_time": "2024-11-05T11:33:56.232Z"
   },
   {
    "duration": 166,
    "start_time": "2024-11-05T11:33:56.238Z"
   },
   {
    "duration": 172,
    "start_time": "2024-11-05T11:33:56.406Z"
   },
   {
    "duration": 4,
    "start_time": "2024-11-05T11:33:56.580Z"
   },
   {
    "duration": 237,
    "start_time": "2024-11-05T11:33:56.586Z"
   },
   {
    "duration": 10,
    "start_time": "2024-11-05T11:33:56.825Z"
   },
   {
    "duration": 16,
    "start_time": "2024-11-05T11:33:56.836Z"
   },
   {
    "duration": 54,
    "start_time": "2024-11-05T11:33:56.853Z"
   },
   {
    "duration": 14,
    "start_time": "2024-11-05T11:33:56.909Z"
   },
   {
    "duration": 1176,
    "start_time": "2024-11-05T11:55:01.091Z"
   },
   {
    "duration": 78,
    "start_time": "2024-11-05T11:55:02.269Z"
   },
   {
    "duration": 45,
    "start_time": "2024-11-05T11:55:02.348Z"
   },
   {
    "duration": 5,
    "start_time": "2024-11-05T11:55:02.395Z"
   },
   {
    "duration": 48,
    "start_time": "2024-11-05T11:55:02.402Z"
   },
   {
    "duration": 4,
    "start_time": "2024-11-05T11:55:02.452Z"
   },
   {
    "duration": 21,
    "start_time": "2024-11-05T11:55:02.457Z"
   },
   {
    "duration": 30,
    "start_time": "2024-11-05T11:55:02.479Z"
   },
   {
    "duration": 5,
    "start_time": "2024-11-05T11:55:02.511Z"
   },
   {
    "duration": 43,
    "start_time": "2024-11-05T11:55:02.518Z"
   },
   {
    "duration": 22,
    "start_time": "2024-11-05T11:55:02.562Z"
   },
   {
    "duration": 51,
    "start_time": "2024-11-05T11:55:02.585Z"
   },
   {
    "duration": 31,
    "start_time": "2024-11-05T11:55:02.638Z"
   },
   {
    "duration": 175,
    "start_time": "2024-11-05T11:55:02.673Z"
   },
   {
    "duration": 142,
    "start_time": "2024-11-05T11:55:02.850Z"
   },
   {
    "duration": 14,
    "start_time": "2024-11-05T11:55:03.000Z"
   },
   {
    "duration": 29,
    "start_time": "2024-11-05T11:55:03.016Z"
   },
   {
    "duration": 338,
    "start_time": "2024-11-05T11:55:03.048Z"
   },
   {
    "duration": 270,
    "start_time": "2024-11-05T11:55:03.388Z"
   },
   {
    "duration": 311,
    "start_time": "2024-11-05T11:55:03.660Z"
   },
   {
    "duration": 266,
    "start_time": "2024-11-05T11:55:03.973Z"
   },
   {
    "duration": 334,
    "start_time": "2024-11-05T11:55:04.241Z"
   },
   {
    "duration": 12,
    "start_time": "2024-11-05T11:55:04.577Z"
   },
   {
    "duration": 175,
    "start_time": "2024-11-05T11:55:04.600Z"
   },
   {
    "duration": 4,
    "start_time": "2024-11-05T11:55:04.777Z"
   },
   {
    "duration": 160,
    "start_time": "2024-11-05T11:55:04.783Z"
   },
   {
    "duration": 164,
    "start_time": "2024-11-05T11:55:04.945Z"
   },
   {
    "duration": 5,
    "start_time": "2024-11-05T11:55:05.112Z"
   },
   {
    "duration": 320,
    "start_time": "2024-11-05T11:55:05.119Z"
   },
   {
    "duration": 143,
    "start_time": "2024-11-05T11:55:05.441Z"
   },
   {
    "duration": 15,
    "start_time": "2024-11-05T11:55:05.586Z"
   },
   {
    "duration": 56,
    "start_time": "2024-11-05T11:55:05.603Z"
   },
   {
    "duration": 30,
    "start_time": "2024-11-05T11:55:05.661Z"
   },
   {
    "duration": 19,
    "start_time": "2024-11-05T11:55:05.693Z"
   },
   {
    "duration": 31,
    "start_time": "2024-11-05T12:29:55.905Z"
   },
   {
    "duration": 1118,
    "start_time": "2024-11-05T12:30:35.086Z"
   },
   {
    "duration": 76,
    "start_time": "2024-11-05T12:30:36.206Z"
   },
   {
    "duration": 50,
    "start_time": "2024-11-05T12:30:36.284Z"
   },
   {
    "duration": 6,
    "start_time": "2024-11-05T12:30:36.336Z"
   },
   {
    "duration": 75,
    "start_time": "2024-11-05T12:30:36.345Z"
   },
   {
    "duration": 9,
    "start_time": "2024-11-05T12:30:36.422Z"
   },
   {
    "duration": 35,
    "start_time": "2024-11-05T12:30:36.432Z"
   },
   {
    "duration": 45,
    "start_time": "2024-11-05T12:30:36.468Z"
   },
   {
    "duration": 42,
    "start_time": "2024-11-05T12:30:36.515Z"
   },
   {
    "duration": 54,
    "start_time": "2024-11-05T12:30:36.558Z"
   },
   {
    "duration": 41,
    "start_time": "2024-11-05T12:30:36.614Z"
   },
   {
    "duration": 43,
    "start_time": "2024-11-05T12:30:36.657Z"
   },
   {
    "duration": 41,
    "start_time": "2024-11-05T12:30:36.702Z"
   },
   {
    "duration": 206,
    "start_time": "2024-11-05T12:30:36.745Z"
   },
   {
    "duration": 129,
    "start_time": "2024-11-05T12:30:36.953Z"
   },
   {
    "duration": 23,
    "start_time": "2024-11-05T12:30:37.084Z"
   },
   {
    "duration": 58,
    "start_time": "2024-11-05T12:30:37.109Z"
   },
   {
    "duration": 353,
    "start_time": "2024-11-05T12:30:37.169Z"
   },
   {
    "duration": 246,
    "start_time": "2024-11-05T12:30:37.523Z"
   },
   {
    "duration": 348,
    "start_time": "2024-11-05T12:30:37.770Z"
   },
   {
    "duration": 268,
    "start_time": "2024-11-05T12:30:38.120Z"
   },
   {
    "duration": 364,
    "start_time": "2024-11-05T12:30:38.390Z"
   },
   {
    "duration": 10,
    "start_time": "2024-11-05T12:30:38.756Z"
   },
   {
    "duration": 165,
    "start_time": "2024-11-05T12:30:38.768Z"
   },
   {
    "duration": 5,
    "start_time": "2024-11-05T12:30:38.934Z"
   },
   {
    "duration": 164,
    "start_time": "2024-11-05T12:30:38.941Z"
   },
   {
    "duration": 160,
    "start_time": "2024-11-05T12:30:39.106Z"
   },
   {
    "duration": 4,
    "start_time": "2024-11-05T12:30:39.268Z"
   },
   {
    "duration": 258,
    "start_time": "2024-11-05T12:30:39.274Z"
   },
   {
    "duration": 10,
    "start_time": "2024-11-05T12:30:39.534Z"
   },
   {
    "duration": 32,
    "start_time": "2024-11-05T12:30:39.545Z"
   },
   {
    "duration": 39,
    "start_time": "2024-11-05T12:30:39.579Z"
   },
   {
    "duration": 15,
    "start_time": "2024-11-05T12:30:39.620Z"
   },
   {
    "duration": 20,
    "start_time": "2024-11-05T12:39:37.409Z"
   },
   {
    "duration": 18,
    "start_time": "2024-11-05T12:40:23.144Z"
   },
   {
    "duration": 21,
    "start_time": "2024-11-05T12:40:38.889Z"
   },
   {
    "duration": 1100,
    "start_time": "2024-11-05T12:41:04.253Z"
   },
   {
    "duration": 77,
    "start_time": "2024-11-05T12:41:05.355Z"
   },
   {
    "duration": 47,
    "start_time": "2024-11-05T12:41:05.434Z"
   },
   {
    "duration": 6,
    "start_time": "2024-11-05T12:41:05.483Z"
   },
   {
    "duration": 92,
    "start_time": "2024-11-05T12:41:05.490Z"
   },
   {
    "duration": 4,
    "start_time": "2024-11-05T12:41:05.583Z"
   },
   {
    "duration": 26,
    "start_time": "2024-11-05T12:41:05.589Z"
   },
   {
    "duration": 10,
    "start_time": "2024-11-05T12:41:05.617Z"
   },
   {
    "duration": 18,
    "start_time": "2024-11-05T12:41:05.629Z"
   },
   {
    "duration": 33,
    "start_time": "2024-11-05T12:41:05.650Z"
   },
   {
    "duration": 31,
    "start_time": "2024-11-05T12:41:05.685Z"
   },
   {
    "duration": 35,
    "start_time": "2024-11-05T12:41:05.718Z"
   },
   {
    "duration": 10,
    "start_time": "2024-11-05T12:41:05.755Z"
   },
   {
    "duration": 180,
    "start_time": "2024-11-05T12:41:05.767Z"
   },
   {
    "duration": 119,
    "start_time": "2024-11-05T12:41:05.949Z"
   },
   {
    "duration": 12,
    "start_time": "2024-11-05T12:41:06.069Z"
   },
   {
    "duration": 34,
    "start_time": "2024-11-05T12:41:06.082Z"
   },
   {
    "duration": 355,
    "start_time": "2024-11-05T12:41:06.117Z"
   },
   {
    "duration": 285,
    "start_time": "2024-11-05T12:41:06.474Z"
   },
   {
    "duration": 324,
    "start_time": "2024-11-05T12:41:06.761Z"
   },
   {
    "duration": 276,
    "start_time": "2024-11-05T12:41:07.088Z"
   },
   {
    "duration": 358,
    "start_time": "2024-11-05T12:41:07.366Z"
   },
   {
    "duration": 12,
    "start_time": "2024-11-05T12:41:07.725Z"
   },
   {
    "duration": 173,
    "start_time": "2024-11-05T12:41:07.738Z"
   },
   {
    "duration": 4,
    "start_time": "2024-11-05T12:41:07.913Z"
   },
   {
    "duration": 157,
    "start_time": "2024-11-05T12:41:07.919Z"
   },
   {
    "duration": 170,
    "start_time": "2024-11-05T12:41:08.078Z"
   },
   {
    "duration": 5,
    "start_time": "2024-11-05T12:41:08.252Z"
   },
   {
    "duration": 262,
    "start_time": "2024-11-05T12:41:08.258Z"
   },
   {
    "duration": 10,
    "start_time": "2024-11-05T12:41:08.521Z"
   },
   {
    "duration": 26,
    "start_time": "2024-11-05T12:41:08.533Z"
   },
   {
    "duration": 56,
    "start_time": "2024-11-05T12:41:08.561Z"
   },
   {
    "duration": 17,
    "start_time": "2024-11-05T12:41:08.619Z"
   },
   {
    "duration": 1088,
    "start_time": "2024-11-05T12:52:21.290Z"
   },
   {
    "duration": 77,
    "start_time": "2024-11-05T12:52:22.380Z"
   },
   {
    "duration": 51,
    "start_time": "2024-11-05T12:52:22.459Z"
   },
   {
    "duration": 7,
    "start_time": "2024-11-05T12:52:22.511Z"
   },
   {
    "duration": 77,
    "start_time": "2024-11-05T12:52:22.520Z"
   },
   {
    "duration": 4,
    "start_time": "2024-11-05T12:52:22.599Z"
   },
   {
    "duration": 26,
    "start_time": "2024-11-05T12:52:22.604Z"
   },
   {
    "duration": 14,
    "start_time": "2024-11-05T12:52:22.632Z"
   },
   {
    "duration": 26,
    "start_time": "2024-11-05T12:52:22.647Z"
   },
   {
    "duration": 36,
    "start_time": "2024-11-05T12:52:22.674Z"
   },
   {
    "duration": 14,
    "start_time": "2024-11-05T12:52:22.711Z"
   },
   {
    "duration": 29,
    "start_time": "2024-11-05T12:52:22.727Z"
   },
   {
    "duration": 7,
    "start_time": "2024-11-05T12:52:22.758Z"
   },
   {
    "duration": 176,
    "start_time": "2024-11-05T12:52:22.769Z"
   },
   {
    "duration": 126,
    "start_time": "2024-11-05T12:52:22.946Z"
   },
   {
    "duration": 12,
    "start_time": "2024-11-05T12:52:23.074Z"
   },
   {
    "duration": 44,
    "start_time": "2024-11-05T12:52:23.087Z"
   },
   {
    "duration": 333,
    "start_time": "2024-11-05T12:52:23.132Z"
   },
   {
    "duration": 254,
    "start_time": "2024-11-05T12:52:23.467Z"
   },
   {
    "duration": 324,
    "start_time": "2024-11-05T12:52:23.722Z"
   },
   {
    "duration": 263,
    "start_time": "2024-11-05T12:52:24.048Z"
   },
   {
    "duration": 330,
    "start_time": "2024-11-05T12:52:24.313Z"
   },
   {
    "duration": 12,
    "start_time": "2024-11-05T12:52:24.644Z"
   },
   {
    "duration": 170,
    "start_time": "2024-11-05T12:52:24.657Z"
   },
   {
    "duration": 5,
    "start_time": "2024-11-05T12:52:24.829Z"
   },
   {
    "duration": 160,
    "start_time": "2024-11-05T12:52:24.835Z"
   },
   {
    "duration": 163,
    "start_time": "2024-11-05T12:52:24.999Z"
   },
   {
    "duration": 5,
    "start_time": "2024-11-05T12:52:25.163Z"
   },
   {
    "duration": 232,
    "start_time": "2024-11-05T12:52:25.169Z"
   },
   {
    "duration": 10,
    "start_time": "2024-11-05T12:52:25.402Z"
   },
   {
    "duration": 20,
    "start_time": "2024-11-05T12:52:25.414Z"
   },
   {
    "duration": 30,
    "start_time": "2024-11-05T12:52:25.436Z"
   },
   {
    "duration": 50,
    "start_time": "2024-11-05T12:52:25.468Z"
   },
   {
    "duration": 1095,
    "start_time": "2024-11-05T12:54:09.662Z"
   },
   {
    "duration": 77,
    "start_time": "2024-11-05T12:54:10.758Z"
   },
   {
    "duration": 43,
    "start_time": "2024-11-05T12:54:10.837Z"
   },
   {
    "duration": 6,
    "start_time": "2024-11-05T12:54:10.882Z"
   },
   {
    "duration": 36,
    "start_time": "2024-11-05T12:54:10.890Z"
   },
   {
    "duration": 4,
    "start_time": "2024-11-05T12:54:10.927Z"
   },
   {
    "duration": 6,
    "start_time": "2024-11-05T12:54:10.932Z"
   },
   {
    "duration": 24,
    "start_time": "2024-11-05T12:54:10.940Z"
   },
   {
    "duration": 5,
    "start_time": "2024-11-05T12:54:10.966Z"
   },
   {
    "duration": 39,
    "start_time": "2024-11-05T12:54:10.973Z"
   },
   {
    "duration": 16,
    "start_time": "2024-11-05T12:54:11.013Z"
   },
   {
    "duration": 16,
    "start_time": "2024-11-05T12:54:11.030Z"
   },
   {
    "duration": 9,
    "start_time": "2024-11-05T12:54:11.047Z"
   },
   {
    "duration": 162,
    "start_time": "2024-11-05T12:54:11.058Z"
   },
   {
    "duration": 122,
    "start_time": "2024-11-05T12:54:11.222Z"
   },
   {
    "duration": 11,
    "start_time": "2024-11-05T12:54:11.346Z"
   },
   {
    "duration": 13,
    "start_time": "2024-11-05T12:54:11.359Z"
   },
   {
    "duration": 347,
    "start_time": "2024-11-05T12:54:11.373Z"
   },
   {
    "duration": 284,
    "start_time": "2024-11-05T12:54:11.722Z"
   },
   {
    "duration": 329,
    "start_time": "2024-11-05T12:54:12.008Z"
   },
   {
    "duration": 256,
    "start_time": "2024-11-05T12:54:12.339Z"
   },
   {
    "duration": 338,
    "start_time": "2024-11-05T12:54:12.596Z"
   },
   {
    "duration": 11,
    "start_time": "2024-11-05T12:54:12.935Z"
   },
   {
    "duration": 165,
    "start_time": "2024-11-05T12:54:12.948Z"
   },
   {
    "duration": 5,
    "start_time": "2024-11-05T12:54:13.115Z"
   },
   {
    "duration": 168,
    "start_time": "2024-11-05T12:54:13.121Z"
   },
   {
    "duration": 169,
    "start_time": "2024-11-05T12:54:13.290Z"
   },
   {
    "duration": 6,
    "start_time": "2024-11-05T12:54:13.463Z"
   },
   {
    "duration": 247,
    "start_time": "2024-11-05T12:54:13.471Z"
   },
   {
    "duration": 10,
    "start_time": "2024-11-05T12:54:13.719Z"
   },
   {
    "duration": 21,
    "start_time": "2024-11-05T12:54:13.731Z"
   },
   {
    "duration": 50,
    "start_time": "2024-11-05T12:54:13.753Z"
   },
   {
    "duration": 14,
    "start_time": "2024-11-05T12:54:13.805Z"
   },
   {
    "duration": 1225,
    "start_time": "2024-11-05T15:07:28.126Z"
   },
   {
    "duration": 215,
    "start_time": "2024-11-05T15:07:29.353Z"
   },
   {
    "duration": 40,
    "start_time": "2024-11-05T15:07:29.570Z"
   },
   {
    "duration": 5,
    "start_time": "2024-11-05T15:07:29.612Z"
   },
   {
    "duration": 40,
    "start_time": "2024-11-05T15:07:29.618Z"
   },
   {
    "duration": 4,
    "start_time": "2024-11-05T15:07:29.659Z"
   },
   {
    "duration": 7,
    "start_time": "2024-11-05T15:07:29.664Z"
   },
   {
    "duration": 41,
    "start_time": "2024-11-05T15:07:29.672Z"
   },
   {
    "duration": 6,
    "start_time": "2024-11-05T15:07:29.715Z"
   },
   {
    "duration": 24,
    "start_time": "2024-11-05T15:07:29.723Z"
   },
   {
    "duration": 26,
    "start_time": "2024-11-05T15:07:29.748Z"
   },
   {
    "duration": 34,
    "start_time": "2024-11-05T15:07:29.776Z"
   },
   {
    "duration": 56,
    "start_time": "2024-11-05T15:07:29.811Z"
   },
   {
    "duration": 150,
    "start_time": "2024-11-05T15:07:29.869Z"
   },
   {
    "duration": 115,
    "start_time": "2024-11-05T15:07:30.020Z"
   },
   {
    "duration": 12,
    "start_time": "2024-11-05T15:07:30.136Z"
   },
   {
    "duration": 50,
    "start_time": "2024-11-05T15:07:30.149Z"
   },
   {
    "duration": 352,
    "start_time": "2024-11-05T15:07:30.200Z"
   },
   {
    "duration": 242,
    "start_time": "2024-11-05T15:07:30.554Z"
   },
   {
    "duration": 365,
    "start_time": "2024-11-05T15:07:30.806Z"
   },
   {
    "duration": 251,
    "start_time": "2024-11-05T15:07:31.172Z"
   },
   {
    "duration": 305,
    "start_time": "2024-11-05T15:07:31.424Z"
   },
   {
    "duration": 10,
    "start_time": "2024-11-05T15:07:31.730Z"
   },
   {
    "duration": 160,
    "start_time": "2024-11-05T15:07:31.741Z"
   },
   {
    "duration": 7,
    "start_time": "2024-11-05T15:07:31.902Z"
   },
   {
    "duration": 138,
    "start_time": "2024-11-05T15:07:31.910Z"
   },
   {
    "duration": 151,
    "start_time": "2024-11-05T15:07:32.049Z"
   },
   {
    "duration": 4,
    "start_time": "2024-11-05T15:07:32.206Z"
   },
   {
    "duration": 206,
    "start_time": "2024-11-05T15:07:32.212Z"
   },
   {
    "duration": 11,
    "start_time": "2024-11-05T15:07:32.419Z"
   },
   {
    "duration": 64,
    "start_time": "2024-11-05T15:07:32.431Z"
   },
   {
    "duration": 51,
    "start_time": "2024-11-05T15:07:32.497Z"
   },
   {
    "duration": 43,
    "start_time": "2024-11-05T15:07:32.549Z"
   },
   {
    "duration": 1400,
    "start_time": "2024-11-06T11:14:44.054Z"
   },
   {
    "duration": 1371,
    "start_time": "2025-02-09T12:14:43.127Z"
   },
   {
    "duration": 185,
    "start_time": "2025-02-09T12:14:44.500Z"
   },
   {
    "duration": 42,
    "start_time": "2025-02-09T12:14:44.686Z"
   },
   {
    "duration": 6,
    "start_time": "2025-02-09T12:14:44.730Z"
   },
   {
    "duration": 67,
    "start_time": "2025-02-09T12:14:44.737Z"
   },
   {
    "duration": 4,
    "start_time": "2025-02-09T12:14:44.805Z"
   },
   {
    "duration": 22,
    "start_time": "2025-02-09T12:14:44.811Z"
   },
   {
    "duration": 57,
    "start_time": "2025-02-09T12:14:44.835Z"
   },
   {
    "duration": 13,
    "start_time": "2025-02-09T12:14:44.893Z"
   },
   {
    "duration": 21,
    "start_time": "2025-02-09T12:14:44.910Z"
   },
   {
    "duration": 37,
    "start_time": "2025-02-09T12:14:44.933Z"
   },
   {
    "duration": 20,
    "start_time": "2025-02-09T12:14:44.972Z"
   },
   {
    "duration": 92,
    "start_time": "2025-02-09T12:14:44.994Z"
   },
   {
    "duration": 196,
    "start_time": "2025-02-09T12:14:45.088Z"
   },
   {
    "duration": 130,
    "start_time": "2025-02-09T12:14:45.286Z"
   },
   {
    "duration": 13,
    "start_time": "2025-02-09T12:14:45.417Z"
   },
   {
    "duration": 5,
    "start_time": "2025-02-09T12:14:45.431Z"
   },
   {
    "duration": 373,
    "start_time": "2025-02-09T12:14:45.438Z"
   },
   {
    "duration": 284,
    "start_time": "2025-02-09T12:14:45.813Z"
   },
   {
    "duration": 398,
    "start_time": "2025-02-09T12:14:46.098Z"
   },
   {
    "duration": 268,
    "start_time": "2025-02-09T12:14:46.498Z"
   },
   {
    "duration": 363,
    "start_time": "2025-02-09T12:14:46.769Z"
   },
   {
    "duration": 11,
    "start_time": "2025-02-09T12:14:47.133Z"
   },
   {
    "duration": 186,
    "start_time": "2025-02-09T12:14:47.146Z"
   },
   {
    "duration": 5,
    "start_time": "2025-02-09T12:14:47.333Z"
   },
   {
    "duration": 173,
    "start_time": "2025-02-09T12:14:47.339Z"
   },
   {
    "duration": 178,
    "start_time": "2025-02-09T12:14:47.514Z"
   },
   {
    "duration": 4,
    "start_time": "2025-02-09T12:14:47.695Z"
   },
   {
    "duration": 266,
    "start_time": "2025-02-09T12:14:47.701Z"
   },
   {
    "duration": 14,
    "start_time": "2025-02-09T12:14:47.969Z"
   },
   {
    "duration": 40,
    "start_time": "2025-02-09T12:14:47.985Z"
   },
   {
    "duration": 43,
    "start_time": "2025-02-09T12:14:48.027Z"
   },
   {
    "duration": 16,
    "start_time": "2025-02-09T12:14:48.074Z"
   }
  ],
  "kernelspec": {
   "display_name": "Python [conda env:base] *",
   "language": "python",
   "name": "conda-base-py"
  },
  "language_info": {
   "codemirror_mode": {
    "name": "ipython",
    "version": 3
   },
   "file_extension": ".py",
   "mimetype": "text/x-python",
   "name": "python",
   "nbconvert_exporter": "python",
   "pygments_lexer": "ipython3",
   "version": "3.11.7"
  },
  "toc": {
   "base_numbering": 1,
   "nav_menu": {},
   "number_sections": true,
   "sideBar": true,
   "skip_h1_title": true,
   "title_cell": "Table of Contents",
   "title_sidebar": "Contents",
   "toc_cell": false,
   "toc_position": {
    "height": "calc(100% - 180px)",
    "left": "10px",
    "top": "150px",
    "width": "165px"
   },
   "toc_section_display": true,
   "toc_window_display": true
  }
 },
 "nbformat": 4,
 "nbformat_minor": 4
}
